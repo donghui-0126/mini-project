{
  "cells": [
    {
      "cell_type": "code",
      "execution_count": null,
      "metadata": {
        "id": "LZ0IloZWzoYp"
      },
      "outputs": [],
      "source": [
        "import pandas as pd\n",
        "\n",
        "import warnings\n",
        "\n",
        "warnings.filterwarnings(action='ignore')"
      ]
    },
    {
      "cell_type": "code",
      "execution_count": null,
      "metadata": {
        "colab": {
          "base_uri": "https://localhost:8080/"
        },
        "id": "7WuQBak7sPnn",
        "outputId": "d8a82fa8-22a8-47be-a845-7bdd8229bf0c"
      },
      "outputs": [
        {
          "output_type": "stream",
          "name": "stdout",
          "text": [
            "Mounted at /content/drive\n"
          ]
        }
      ],
      "source": [
        "from google.colab import drive\n",
        "drive.mount('/content/drive')"
      ]
    },
    {
      "cell_type": "code",
      "execution_count": null,
      "metadata": {
        "id": "ZV9ojn440O9q"
      },
      "outputs": [],
      "source": [
        "dacon_df = pd.read_csv('/content/drive/MyDrive/khuda_team_project/dacon/train.csv')\n",
        "gpt_df = pd.read_csv('/content/drive/MyDrive/khuda_team_project/chat-gpt/chatgpt-reddit-comments.csv')\n",
        "result = pd.read_csv('/content/drive/MyDrive/khuda_team_project/dacon/EDA.csv')"
      ]
    },
    {
      "cell_type": "code",
      "source": [
        "result['Target'].value_counts()"
      ],
      "metadata": {
        "colab": {
          "base_uri": "https://localhost:8080/"
        },
        "id": "vIwymIByaicO",
        "outputId": "0336a98d-1627-48dc-e060-2df72d5f98a7"
      },
      "execution_count": null,
      "outputs": [
        {
          "output_type": "execute_result",
          "data": {
            "text/plain": [
              "worry       9299\n",
              "sadness     6779\n",
              "neutral     4710\n",
              "anger       4040\n",
              "fear        2880\n",
              "joy         2425\n",
              "surprise    2065\n",
              "Name: Target, dtype: int64"
            ]
          },
          "metadata": {},
          "execution_count": 4
        }
      ]
    },
    {
      "cell_type": "code",
      "source": [
        "result = result.dropna()"
      ],
      "metadata": {
        "id": "jJZjn6ngPTK9"
      },
      "execution_count": null,
      "outputs": []
    },
    {
      "cell_type": "code",
      "execution_count": null,
      "metadata": {
        "id": "Xv4WsvXrHDAv"
      },
      "outputs": [],
      "source": [
        "max_sequence = 64"
      ]
    },
    {
      "cell_type": "markdown",
      "metadata": {
        "id": "eIt7qIe2Mhey"
      },
      "source": [
        "-----------------"
      ]
    }
  ],
  "metadata": {
    "colab": {
      "provenance": []
    },
    "kernelspec": {
      "display_name": "Python 3",
      "name": "python3"
    },
    "language_info": {
      "name": "python"
    },
    "accelerator": "GPU",
    "gpuClass": "standard"
  },
  "nbformat": 4,
  "nbformat_minor": 0
}