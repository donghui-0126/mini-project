{
 "cells": [
  {
   "cell_type": "code",
   "execution_count": 2,
   "id": "5c958330",
   "metadata": {},
   "outputs": [],
   "source": [
    "import pandas as pd"
   ]
  },
  {
   "cell_type": "code",
   "execution_count": 3,
   "id": "fe697122",
   "metadata": {},
   "outputs": [],
   "source": [
    "class Environment:\n",
    "    \"\"\"\n",
    "    차트 데이터는 우선 간단하게 종가와 거래량만 제공한다.\n",
    "    \"\"\"\n",
    "    \n",
    "    PRICE_IDX = 0  # 종가의 위치\n",
    "    VOLUME_IDX = 1 # 거래량의 위치\n",
    "    \n",
    "    \n",
    "    def __init__(self, chart_data=None, balance=0, transaction=0.05):\n",
    "        self.chart_data = chart_data\n",
    "        self.idx = 0\n",
    "        self.state = chart_data.iloc[self.idx]\n",
    "        self.next_state = chart_data.iloc[self.idx+1]\n",
    "        self.balance = [0]\n",
    "        self.current_price = self.chart_data.iloc[self.idx, 0]\n",
    "        self.next_price = self.chart_data.iloc[self.idx+1, 0]\n",
    "        \n",
    "    def reset(self):\n",
    "        self.idx = 0\n",
    "        state = self.chart_data.iloc[self.idx]\n",
    "        return state\n",
    "    \n",
    "    def step(self, action):\n",
    "        if (self.chart_data).shape[0] > self.idx+1:\n",
    "            print(self.idx)\n",
    "            s_prime = self.chart_data.iloc[self.idx+1]\n",
    "            reward = self.get_reward(action)\n",
    "            done = False\n",
    "            self.idx += 1\n",
    "            return (s_prime, reward, done)\n",
    "        return (None,None,True)\n",
    "    \n",
    "    def get_reward(self, action):\n",
    "        \"\"\"\n",
    "        action은 다음 스텝의 행동을 의미한다. \n",
    "        왜냐하면, 현재까지의 데이터를 기반으로 action을 선택해야하기 때문이다. \n",
    "        (input data가 close price, volume인데 action을 하는 시점에서는 input data를 얻지 못함)\n",
    "        \"\"\"\n",
    "        \n",
    "        \"\"\"     \n",
    "        손실에 더 큰 penalty를 줌으로써, 손실 회피형 Agent를 구성\n",
    "        근데 이러면, 장기적인 보상에 대해서는 감지를 잘 못하지 않나...?\n",
    "        \n",
    "            => GAE가 이 의문을 해결해준다고 생각함. n-step TD를 통해서 미래의 보상을 고려할 수 있음. \n",
    "            \n",
    "        \"\"\"        \n",
    "        self.current_price = self.chart_data.iloc[self.idx, 0]\n",
    "        self.next_price = self.chart_data.iloc[self.idx+1, 0]\n",
    "        print(self.current_price, self.next_price)\n",
    "        \n",
    "        if action == 1:\n",
    "            if self.next_price >= self.current_price:\n",
    "                reward = 1 * (self.next_price - self.current_price)\n",
    "            else:\n",
    "                reward = 1.2 * (self.next_price - self.current_price)        \n",
    "        elif action == -1:\n",
    "            if self.next_price >= self.current_price:\n",
    "                reward = 1.2 * (self.next_price - self.current_price) \n",
    "            else:\n",
    "                reward = 1 * (self.next_price - self.current_price) \n",
    "        return reward\n",
    "        "
   ]
  },
  {
   "cell_type": "code",
   "execution_count": 4,
   "id": "3da7b507",
   "metadata": {},
   "outputs": [],
   "source": [
    "df = pd.read_csv('../upbit_data/202308_KRW-BTC_ohlcv.csv', index_col=0)\n",
    "df = df[['close', 'volume']]"
   ]
  },
  {
   "cell_type": "code",
   "execution_count": 5,
   "id": "bf869d6f",
   "metadata": {},
   "outputs": [],
   "source": [
    "env=  Environment(df)"
   ]
  },
  {
   "cell_type": "code",
   "execution_count": 6,
   "id": "9d0c8e4e",
   "metadata": {},
   "outputs": [],
   "source": [
    "s = env.reset()"
   ]
  },
  {
   "cell_type": "code",
   "execution_count": 170,
   "id": "94279f01",
   "metadata": {},
   "outputs": [
    {
     "name": "stdout",
     "output_type": "stream",
     "text": [
      "163\n",
      "37783000.0 37791000.0\n"
     ]
    },
    {
     "data": {
      "text/plain": [
       "(close     3.779100e+07\n",
       " volume    2.545718e+00\n",
       " Name: 2023-08-01 11:44:00, dtype: float64,\n",
       " 8000.0,\n",
       " False)"
      ]
     },
     "execution_count": 170,
     "metadata": {},
     "output_type": "execute_result"
    }
   ],
   "source": [
    "env.step(1)"
   ]
  },
  {
   "cell_type": "code",
   "execution_count": 372,
   "id": "b785cc37",
   "metadata": {},
   "outputs": [
    {
     "data": {
      "text/html": [
       "<div>\n",
       "<style scoped>\n",
       "    .dataframe tbody tr th:only-of-type {\n",
       "        vertical-align: middle;\n",
       "    }\n",
       "\n",
       "    .dataframe tbody tr th {\n",
       "        vertical-align: top;\n",
       "    }\n",
       "\n",
       "    .dataframe thead th {\n",
       "        text-align: right;\n",
       "    }\n",
       "</style>\n",
       "<table border=\"1\" class=\"dataframe\">\n",
       "  <thead>\n",
       "    <tr style=\"text-align: right;\">\n",
       "      <th></th>\n",
       "      <th>close</th>\n",
       "      <th>volume</th>\n",
       "    </tr>\n",
       "    <tr>\n",
       "      <th>index</th>\n",
       "      <th></th>\n",
       "      <th></th>\n",
       "    </tr>\n",
       "  </thead>\n",
       "  <tbody>\n",
       "    <tr>\n",
       "      <th>2023-08-01 09:00:00</th>\n",
       "      <td>37922000.0</td>\n",
       "      <td>5.338512</td>\n",
       "    </tr>\n",
       "    <tr>\n",
       "      <th>2023-08-01 09:01:00</th>\n",
       "      <td>37924000.0</td>\n",
       "      <td>2.175930</td>\n",
       "    </tr>\n",
       "    <tr>\n",
       "      <th>2023-08-01 09:02:00</th>\n",
       "      <td>37923000.0</td>\n",
       "      <td>0.893822</td>\n",
       "    </tr>\n",
       "    <tr>\n",
       "      <th>2023-08-01 09:03:00</th>\n",
       "      <td>37916000.0</td>\n",
       "      <td>2.212888</td>\n",
       "    </tr>\n",
       "    <tr>\n",
       "      <th>2023-08-01 09:04:00</th>\n",
       "      <td>37915000.0</td>\n",
       "      <td>1.822514</td>\n",
       "    </tr>\n",
       "    <tr>\n",
       "      <th>...</th>\n",
       "      <td>...</td>\n",
       "      <td>...</td>\n",
       "    </tr>\n",
       "    <tr>\n",
       "      <th>2023-08-31 23:55:00</th>\n",
       "      <td>36977000.0</td>\n",
       "      <td>2.138066</td>\n",
       "    </tr>\n",
       "    <tr>\n",
       "      <th>2023-08-31 23:56:00</th>\n",
       "      <td>36980000.0</td>\n",
       "      <td>1.803252</td>\n",
       "    </tr>\n",
       "    <tr>\n",
       "      <th>2023-08-31 23:57:00</th>\n",
       "      <td>36980000.0</td>\n",
       "      <td>2.107548</td>\n",
       "    </tr>\n",
       "    <tr>\n",
       "      <th>2023-08-31 23:58:00</th>\n",
       "      <td>36979000.0</td>\n",
       "      <td>1.431491</td>\n",
       "    </tr>\n",
       "    <tr>\n",
       "      <th>2023-08-31 23:59:00</th>\n",
       "      <td>36980000.0</td>\n",
       "      <td>1.837538</td>\n",
       "    </tr>\n",
       "  </tbody>\n",
       "</table>\n",
       "<p>43772 rows × 2 columns</p>\n",
       "</div>"
      ],
      "text/plain": [
       "                          close    volume\n",
       "index                                    \n",
       "2023-08-01 09:00:00  37922000.0  5.338512\n",
       "2023-08-01 09:01:00  37924000.0  2.175930\n",
       "2023-08-01 09:02:00  37923000.0  0.893822\n",
       "2023-08-01 09:03:00  37916000.0  2.212888\n",
       "2023-08-01 09:04:00  37915000.0  1.822514\n",
       "...                         ...       ...\n",
       "2023-08-31 23:55:00  36977000.0  2.138066\n",
       "2023-08-31 23:56:00  36980000.0  1.803252\n",
       "2023-08-31 23:57:00  36980000.0  2.107548\n",
       "2023-08-31 23:58:00  36979000.0  1.431491\n",
       "2023-08-31 23:59:00  36980000.0  1.837538\n",
       "\n",
       "[43772 rows x 2 columns]"
      ]
     },
     "execution_count": 372,
     "metadata": {},
     "output_type": "execute_result"
    }
   ],
   "source": [
    "df['mid_price']"
   ]
  }
 ],
 "metadata": {
  "kernelspec": {
   "display_name": "Python 3 (ipykernel)",
   "language": "python",
   "name": "python3"
  },
  "language_info": {
   "codemirror_mode": {
    "name": "ipython",
    "version": 3
   },
   "file_extension": ".py",
   "mimetype": "text/x-python",
   "name": "python",
   "nbconvert_exporter": "python",
   "pygments_lexer": "ipython3",
   "version": "3.11.3"
  }
 },
 "nbformat": 4,
 "nbformat_minor": 5
}
