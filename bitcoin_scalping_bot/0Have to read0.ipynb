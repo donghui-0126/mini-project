{
 "cells": [
  {
   "cell_type": "markdown",
   "id": "ab85e2ac",
   "metadata": {},
   "source": [
    "# 강화학습을 사용한 비트코인 스캘핑 봇\n"
   ]
  },
  {
   "cell_type": "markdown",
   "id": "3bcdde45",
   "metadata": {},
   "source": [
    "model: PPO-lstm\n",
    "\n",
    "dataset: 2023 upbit 1min OCHLV data \n",
    "\n",
    "how to make dataset?\n",
    "> bitcoin_scalping_bot/upbit_data/make_dataset.ipynb\n",
    "\n"
   ]
  },
  {
   "cell_type": "markdown",
   "id": "04a80dec",
   "metadata": {},
   "source": [
    "## 다음에 고쳐야하는 부분 \n",
    "\n",
    "### 11/3\n",
    "\n",
    "<b>보상함수 로직 수정</b>\n",
    "- 시간 or 거래량에 따라서 목표한 수익을 얻도록 reward function 수정해야함\n",
    "- 양의 보상이 너무 적게 나온다면 이 부분을 수정해야할 듯 "
   ]
  },
  {
   "cell_type": "code",
   "execution_count": 2,
   "id": "65aaf2f7",
   "metadata": {},
   "outputs": [
    {
     "data": {
      "text/html": [
       "<div>\n",
       "<style scoped>\n",
       "    .dataframe tbody tr th:only-of-type {\n",
       "        vertical-align: middle;\n",
       "    }\n",
       "\n",
       "    .dataframe tbody tr th {\n",
       "        vertical-align: top;\n",
       "    }\n",
       "\n",
       "    .dataframe thead th {\n",
       "        text-align: right;\n",
       "    }\n",
       "</style>\n",
       "<table border=\"1\" class=\"dataframe\">\n",
       "  <thead>\n",
       "    <tr style=\"text-align: right;\">\n",
       "      <th></th>\n",
       "      <th>0</th>\n",
       "      <th>1</th>\n",
       "      <th>2</th>\n",
       "    </tr>\n",
       "  </thead>\n",
       "  <tbody>\n",
       "    <tr>\n",
       "      <th>0</th>\n",
       "      <td>1</td>\n",
       "      <td>2</td>\n",
       "      <td>3</td>\n",
       "    </tr>\n",
       "    <tr>\n",
       "      <th>1</th>\n",
       "      <td>4</td>\n",
       "      <td>5</td>\n",
       "      <td>6</td>\n",
       "    </tr>\n",
       "  </tbody>\n",
       "</table>\n",
       "</div>"
      ],
      "text/plain": [
       "   0  1  2\n",
       "0  1  2  3\n",
       "1  4  5  6"
      ]
     },
     "execution_count": 2,
     "metadata": {},
     "output_type": "execute_result"
    }
   ],
   "source": [
    "import pandas as pd\n",
    "a = [1,2,3]\n",
    "b = [4,5,6]\n",
    "pd.DataFrame([a,b])"
   ]
  },
  {
   "cell_type": "code",
   "execution_count": 3,
   "id": "5a746b09",
   "metadata": {},
   "outputs": [
    {
     "ename": "AttributeError",
     "evalue": "'list' object has no attribute 'T'",
     "output_type": "error",
     "traceback": [
      "\u001b[1;31m---------------------------------------------------------------------------\u001b[0m",
      "\u001b[1;31mAttributeError\u001b[0m                            Traceback (most recent call last)",
      "Cell \u001b[1;32mIn[3], line 1\u001b[0m\n\u001b[1;32m----> 1\u001b[0m pd\u001b[38;5;241m.\u001b[39mDataFrame([a,b]\u001b[38;5;241m.\u001b[39mT)\n",
      "\u001b[1;31mAttributeError\u001b[0m: 'list' object has no attribute 'T'"
     ]
    }
   ],
   "source": [
    "pd.DataFrame([a,b])"
   ]
  }
 ],
 "metadata": {
  "kernelspec": {
   "display_name": "Python 3 (ipykernel)",
   "language": "python",
   "name": "python3"
  },
  "language_info": {
   "codemirror_mode": {
    "name": "ipython",
    "version": 3
   },
   "file_extension": ".py",
   "mimetype": "text/x-python",
   "name": "python",
   "nbconvert_exporter": "python",
   "pygments_lexer": "ipython3",
   "version": "3.11.3"
  }
 },
 "nbformat": 4,
 "nbformat_minor": 5
}
