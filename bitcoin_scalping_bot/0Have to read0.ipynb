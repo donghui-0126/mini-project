{
 "cells": [
  {
   "attachments": {},
   "cell_type": "markdown",
   "id": "ab85e2ac",
   "metadata": {},
   "source": [
    "# 강화학습을 사용한 비트코인 스캘핑 봇\n"
   ]
  },
  {
   "attachments": {},
   "cell_type": "markdown",
   "id": "3bcdde45",
   "metadata": {},
   "source": [
    "model: PPO-lstm\n",
    "\n",
    "dataset: 2023 upbit 1min OCHLV data \n",
    "\n",
    "how to make dataset?\n",
    "> bitcoin_scalping_bot/upbit_data/make_dataset.ipynb\n",
    "\n"
   ]
  },
  {
   "attachments": {},
   "cell_type": "markdown",
   "id": "04a80dec",
   "metadata": {},
   "source": [
    "## 다음에 고쳐야하는 부분 \n",
    "\n",
    "### 11/3\n",
    "\n",
    "<b>보상함수 로직 수정</b>\n",
    "- 시간 or 거래량에 따라서 목표한 수익을 얻도록 reward function 수정해야함\n",
    "- 양의 보상이 너무 적게 나온다면 이 부분을 수정해야할 듯 "
   ]
  },
  {
   "attachments": {},
   "cell_type": "markdown",
   "id": "4f1149a8",
   "metadata": {},
   "source": [
    "### 11/6\n",
    "\n",
    "- Agent의 행동을 살펴보니, 안정적으로 수수료 만큼 손실을 보고 있었다(?)\n",
    "- 이를 해결하기 위해서 변동성이 높은 시간에만 거래를 하거나, 변동성이 높은 코인을 학습해보자\n",
    "- 또한 CNN층을 첫번째층으로 사용하는 것이 더 좋을 듯 하다."
   ]
  },
  {
   "attachments": {},
   "cell_type": "markdown",
   "id": "681444ac",
   "metadata": {},
   "source": []
  }
 ],
 "metadata": {
  "kernelspec": {
   "display_name": "Python 3 (ipykernel)",
   "language": "python",
   "name": "python3"
  },
  "language_info": {
   "codemirror_mode": {
    "name": "ipython",
    "version": 3
   },
   "file_extension": ".py",
   "mimetype": "text/x-python",
   "name": "python",
   "nbconvert_exporter": "python",
   "pygments_lexer": "ipython3",
   "version": "3.11.3"
  }
 },
 "nbformat": 4,
 "nbformat_minor": 5
}
