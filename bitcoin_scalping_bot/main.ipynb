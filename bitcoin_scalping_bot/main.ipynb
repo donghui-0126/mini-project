{
 "cells": [
  {
   "cell_type": "code",
   "execution_count": 1,
   "id": "679aacbd",
   "metadata": {},
   "outputs": [
    {
     "ename": "NameError",
     "evalue": "name 'gym' is not defined",
     "output_type": "error",
     "traceback": [
      "\u001b[1;31m---------------------------------------------------------------------------\u001b[0m",
      "\u001b[1;31mNameError\u001b[0m                                 Traceback (most recent call last)",
      "Cell \u001b[1;32mIn[1], line 43\u001b[0m\n\u001b[0;32m     40\u001b[0m     env\u001b[38;5;241m.\u001b[39mclose()\n\u001b[0;32m     42\u001b[0m \u001b[38;5;28;01mif\u001b[39;00m \u001b[38;5;18m__name__\u001b[39m \u001b[38;5;241m==\u001b[39m \u001b[38;5;124m'\u001b[39m\u001b[38;5;124m__main__\u001b[39m\u001b[38;5;124m'\u001b[39m:\n\u001b[1;32m---> 43\u001b[0m     main()\n\u001b[0;32m     45\u001b[0m end \u001b[38;5;241m=\u001b[39m time\u001b[38;5;241m.\u001b[39mtime()\n\u001b[0;32m     47\u001b[0m \u001b[38;5;28mprint\u001b[39m(\u001b[38;5;124mf\u001b[39m\u001b[38;5;124m\"\u001b[39m\u001b[38;5;132;01m{\u001b[39;00mend\u001b[38;5;250m \u001b[39m\u001b[38;5;241m-\u001b[39m\u001b[38;5;250m \u001b[39mstart\u001b[38;5;132;01m:\u001b[39;00m\u001b[38;5;124m.5f\u001b[39m\u001b[38;5;132;01m}\u001b[39;00m\u001b[38;5;124m sec\u001b[39m\u001b[38;5;124m\"\u001b[39m)\n",
      "Cell \u001b[1;32mIn[1], line 2\u001b[0m, in \u001b[0;36mmain\u001b[1;34m()\u001b[0m\n\u001b[0;32m      1\u001b[0m \u001b[38;5;28;01mdef\u001b[39;00m \u001b[38;5;21mmain\u001b[39m():\n\u001b[1;32m----> 2\u001b[0m     env \u001b[38;5;241m=\u001b[39m gym\u001b[38;5;241m.\u001b[39mmake(\u001b[38;5;124m'\u001b[39m\u001b[38;5;124mCartPole-v1\u001b[39m\u001b[38;5;124m'\u001b[39m)\n\u001b[0;32m      3\u001b[0m     model \u001b[38;5;241m=\u001b[39m RECURRENT_PPO()\n\u001b[0;32m      4\u001b[0m     score \u001b[38;5;241m=\u001b[39m \u001b[38;5;241m0.0\u001b[39m\n",
      "\u001b[1;31mNameError\u001b[0m: name 'gym' is not defined"
     ]
    }
   ],
   "source": [
    "T_horizon = 60\n",
    "total_portfolio_value = []\n",
    "\n",
    "def main():\n",
    "    env = Environment(df)\n",
    "    model = RECURRENT_PPO()\n",
    "    score = 0.0\n",
    "    print_interval = 20\n",
    "\n",
    "    for n_epi in tqdm.tqdm(range(100)):\n",
    "        h_out = (torch.zeros([1, 1, 64], dtype=torch.float), torch.zeros([1, 1, 64], dtype=torch.float))\n",
    "        s = env.reset()\n",
    "        done = False\n",
    "        portfolio_value_list = []\n",
    "        while not done:    \n",
    "            for t in range(T_horizon):\n",
    "                h_in = h_out\n",
    "                \n",
    "                prob, h_out = model.pi(torch.from_numpy(s).float(), h_in)\n",
    "                \n",
    "                prob = prob.view(-1)\n",
    "                \n",
    "                m = Categorical(prob)\n",
    "                \n",
    "                a = m.sample().item()\n",
    "                s_prime, r, done, port_value = env.step(a)\n",
    "                \n",
    "                portfolio_value_list.append(port_value)\n",
    "                \n",
    "                prob_pre_action = torch.tensor(prob)\n",
    "\n",
    "                model.put_data(s, a, r, s_prime, prob[a].item(), h_in, h_out, done)\n",
    "\n",
    "                s = s_prime\n",
    "                \n",
    "                if done:\n",
    "                    break\n",
    "            \n",
    "            model.train_net()\n",
    "        \n",
    "        total_portfolio_value.append(portfolio_value_list)\n",
    "        \n",
    "        print(portfilio_value_list)\n",
    "        \n",
    "        print(\"# of episode :{}, end:{}\".format(n_epi, s.name))\n",
    "        \n",
    "    env.close()\n",
    "\n",
    "if __name__ == '__main__':\n",
    "    main()\n"
   ]
  },
  {
   "cell_type": "code",
   "execution_count": null,
   "id": "94f4a76e",
   "metadata": {},
   "outputs": [],
   "source": [
    "ㅁ"
   ]
  }
 ],
 "metadata": {
  "kernelspec": {
   "display_name": "Python 3 (ipykernel)",
   "language": "python",
   "name": "python3"
  },
  "language_info": {
   "codemirror_mode": {
    "name": "ipython",
    "version": 3
   },
   "file_extension": ".py",
   "mimetype": "text/x-python",
   "name": "python",
   "nbconvert_exporter": "python",
   "pygments_lexer": "ipython3",
   "version": "3.11.3"
  }
 },
 "nbformat": 4,
 "nbformat_minor": 5
}
