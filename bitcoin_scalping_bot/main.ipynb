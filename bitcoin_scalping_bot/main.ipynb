{
 "cells": [
  {
   "cell_type": "code",
   "execution_count": null,
   "id": "679aacbd",
   "metadata": {},
   "outputs": [],
   "source": [
    "def main():\n",
    "    env = gym.make('CartPole-v1')\n",
    "    model = RECURRENT_PPO()\n",
    "    score = 0.0\n",
    "    print_interval = 20\n",
    "\n",
    "    for n_epi in range(800):\n",
    "        h_out = (torch.zeros([1, 1, 32], dtype=torch.float), torch.zeros([1, 1, 32], dtype=torch.float))\n",
    "        s = env.reset()\n",
    "        done = False\n",
    "\n",
    "        prob_pre_action_0 = 0.5\n",
    "        prob_pre_action_1 = 0.5\n",
    "\n",
    "        while not done:\n",
    "            for t in range(T_horizon):\n",
    "                h_in = h_out\n",
    "                \n",
    "                prob, h_out = model.pi(torch.from_numpy(s).float(), h_in, prob_pre_action_0, prob_pre_action_1)\n",
    "                \n",
    "                prob = prob.view(-1)\n",
    "                \n",
    "                m = Categorical(prob)\n",
    "                \n",
    "                a = m.sample().item()\n",
    "                s_prime, r, done = env.step(a)\n",
    "\n",
    "                prob_pre_action = torch.tensor(prob)\n",
    "\n",
    "                model.put_data((s, a, r/100.0, s_prime, prob[a].item(), h_in, h_out, done, prob_pre_action_0, prob_pre_action_1))\n",
    "\n",
    "                s = s_prime\n",
    "                prob_pre_action_0 = prob[0]\n",
    "                prob_pre_action_1 = prob[1]\n",
    "\n",
    "\n",
    "                score += r\n",
    "                if done:\n",
    "                    break\n",
    "            model.train_net()\n",
    "\n",
    "        if n_epi%print_interval==0 and n_epi!=0:\n",
    "            print(\"# of episode :{}, avg score : {:.1f}\".format(n_epi, score/print_interval))\n",
    "            score = 0.0\n",
    "\n",
    "    env.close()\n",
    "\n",
    "if __name__ == '__main__':\n",
    "    main()\n",
    "\n",
    "end = time.time()\n",
    "\n",
    "print(f\"{end - start:.5f} sec\")"
   ]
  }
 ],
 "metadata": {
  "kernelspec": {
   "display_name": "Python 3 (ipykernel)",
   "language": "python",
   "name": "python3"
  },
  "language_info": {
   "codemirror_mode": {
    "name": "ipython",
    "version": 3
   },
   "file_extension": ".py",
   "mimetype": "text/x-python",
   "name": "python",
   "nbconvert_exporter": "python",
   "pygments_lexer": "ipython3",
   "version": "3.11.3"
  }
 },
 "nbformat": 4,
 "nbformat_minor": 5
}
