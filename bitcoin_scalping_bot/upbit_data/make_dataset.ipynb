{
 "cells": [
  {
   "cell_type": "code",
   "execution_count": 1,
   "id": "0c4e5302",
   "metadata": {},
   "outputs": [],
   "source": [
    "import pandas as pd\n",
    "import numpy as np\n",
    "import pickle"
   ]
  },
  {
   "cell_type": "code",
   "execution_count": 2,
   "id": "8b9dfabb",
   "metadata": {},
   "outputs": [],
   "source": [
    "df1 = pd.read_csv('202301_KRW-BTC_ohlcv.csv', index_col = 'index')\n",
    "df2 = pd.read_csv('202302_KRW-BTC_ohlcv.csv', index_col = 'index')\n",
    "df3 = pd.read_csv('202303_KRW-BTC_ohlcv.csv', index_col = 'index')\n",
    "df4 = pd.read_csv('202304_KRW-BTC_ohlcv.csv', index_col = 'index')\n",
    "df5 = pd.read_csv('202305_KRW-BTC_ohlcv.csv', index_col = 'index')\n",
    "df6 = pd.read_csv('202306_KRW-BTC_ohlcv.csv', index_col = 'index')\n",
    "df7 = pd.read_csv('202307_KRW-BTC_ohlcv.csv', index_col = 'index')\n",
    "df8 = pd.read_csv('202308_KRW-BTC_ohlcv.csv', index_col = 'index')"
   ]
  },
  {
   "cell_type": "code",
   "execution_count": 3,
   "id": "088749c7",
   "metadata": {},
   "outputs": [],
   "source": [
    "df_2023 = pd.concat([df1,df2,df3,df4,df5,df6,df7,df8])"
   ]
  },
  {
   "cell_type": "code",
   "execution_count": 4,
   "id": "c836fe7f",
   "metadata": {},
   "outputs": [],
   "source": [
    "df_2023.drop(['value'], axis=1, inplace=True)"
   ]
  },
  {
   "cell_type": "code",
   "execution_count": 5,
   "id": "64cf9791",
   "metadata": {},
   "outputs": [],
   "source": [
    "df_2023['mid_price'] = df_2023['high']/2 + df_2023['low']/2"
   ]
  },
  {
   "cell_type": "code",
   "execution_count": 6,
   "id": "ae1ed41a",
   "metadata": {
    "scrolled": true
   },
   "outputs": [
    {
     "data": {
      "text/html": [
       "<div>\n",
       "<style scoped>\n",
       "    .dataframe tbody tr th:only-of-type {\n",
       "        vertical-align: middle;\n",
       "    }\n",
       "\n",
       "    .dataframe tbody tr th {\n",
       "        vertical-align: top;\n",
       "    }\n",
       "\n",
       "    .dataframe thead th {\n",
       "        text-align: right;\n",
       "    }\n",
       "</style>\n",
       "<table border=\"1\" class=\"dataframe\">\n",
       "  <thead>\n",
       "    <tr style=\"text-align: right;\">\n",
       "      <th></th>\n",
       "      <th>open</th>\n",
       "      <th>high</th>\n",
       "      <th>low</th>\n",
       "      <th>close</th>\n",
       "      <th>volume</th>\n",
       "      <th>mid_price</th>\n",
       "    </tr>\n",
       "    <tr>\n",
       "      <th>index</th>\n",
       "      <th></th>\n",
       "      <th></th>\n",
       "      <th></th>\n",
       "      <th></th>\n",
       "      <th></th>\n",
       "      <th></th>\n",
       "    </tr>\n",
       "  </thead>\n",
       "  <tbody>\n",
       "    <tr>\n",
       "      <th>2023-01-01 09:00:00</th>\n",
       "      <td>21079000.0</td>\n",
       "      <td>21082000.0</td>\n",
       "      <td>21061000.0</td>\n",
       "      <td>21081000.0</td>\n",
       "      <td>4.852014</td>\n",
       "      <td>21071500.0</td>\n",
       "    </tr>\n",
       "    <tr>\n",
       "      <th>2023-01-01 09:01:00</th>\n",
       "      <td>21080000.0</td>\n",
       "      <td>21080000.0</td>\n",
       "      <td>21061000.0</td>\n",
       "      <td>21061000.0</td>\n",
       "      <td>2.099329</td>\n",
       "      <td>21070500.0</td>\n",
       "    </tr>\n",
       "    <tr>\n",
       "      <th>2023-01-01 09:02:00</th>\n",
       "      <td>21062000.0</td>\n",
       "      <td>21062000.0</td>\n",
       "      <td>21055000.0</td>\n",
       "      <td>21062000.0</td>\n",
       "      <td>2.486127</td>\n",
       "      <td>21058500.0</td>\n",
       "    </tr>\n",
       "    <tr>\n",
       "      <th>2023-01-01 09:03:00</th>\n",
       "      <td>21057000.0</td>\n",
       "      <td>21078000.0</td>\n",
       "      <td>21055000.0</td>\n",
       "      <td>21064000.0</td>\n",
       "      <td>1.744549</td>\n",
       "      <td>21066500.0</td>\n",
       "    </tr>\n",
       "    <tr>\n",
       "      <th>2023-01-01 09:04:00</th>\n",
       "      <td>21063000.0</td>\n",
       "      <td>21077000.0</td>\n",
       "      <td>21056000.0</td>\n",
       "      <td>21064000.0</td>\n",
       "      <td>1.433399</td>\n",
       "      <td>21066500.0</td>\n",
       "    </tr>\n",
       "  </tbody>\n",
       "</table>\n",
       "</div>"
      ],
      "text/plain": [
       "                           open        high         low       close    volume  \\\n",
       "index                                                                           \n",
       "2023-01-01 09:00:00  21079000.0  21082000.0  21061000.0  21081000.0  4.852014   \n",
       "2023-01-01 09:01:00  21080000.0  21080000.0  21061000.0  21061000.0  2.099329   \n",
       "2023-01-01 09:02:00  21062000.0  21062000.0  21055000.0  21062000.0  2.486127   \n",
       "2023-01-01 09:03:00  21057000.0  21078000.0  21055000.0  21064000.0  1.744549   \n",
       "2023-01-01 09:04:00  21063000.0  21077000.0  21056000.0  21064000.0  1.433399   \n",
       "\n",
       "                      mid_price  \n",
       "index                            \n",
       "2023-01-01 09:00:00  21071500.0  \n",
       "2023-01-01 09:01:00  21070500.0  \n",
       "2023-01-01 09:02:00  21058500.0  \n",
       "2023-01-01 09:03:00  21066500.0  \n",
       "2023-01-01 09:04:00  21066500.0  "
      ]
     },
     "execution_count": 6,
     "metadata": {},
     "output_type": "execute_result"
    }
   ],
   "source": [
    "df_2023.head()"
   ]
  },
  {
   "cell_type": "code",
   "execution_count": 7,
   "metadata": {},
   "outputs": [],
   "source": [
    "\n",
    "df_2023['7min_MA'] = df_2023['mid_price'].rolling(window=7).mean()\n",
    "df_2023['25min_MA'] = df_2023['mid_price'].rolling(window=25).mean()\n",
    "df_2023['99min_MA'] = df_2023['mid_price'].rolling(window=90).mean()\n",
    "\n",
    "df_2023['7_ema'] = df_2023['mid_price'].ewm(span=7, adjust=False).mean()\n",
    "df_2023['25_ema'] = df_2023['mid_price'].ewm(span=25, adjust=False).mean()\n",
    "df_2023['99_ema'] = df_2023['mid_price'].ewm(span=90,adjust=False).mean()"
   ]
  },
  {
   "cell_type": "code",
   "execution_count": 8,
   "id": "d7ce066a",
   "metadata": {},
   "outputs": [
    {
     "data": {
      "text/plain": [
       "Index(['open', 'high', 'low', 'close', 'volume', 'mid_price', '7min_MA',\n",
       "       '25min_MA', '99min_MA', '7_ema', '25_ema', '99_ema'],\n",
       "      dtype='object')"
      ]
     },
     "execution_count": 8,
     "metadata": {},
     "output_type": "execute_result"
    }
   ],
   "source": [
    "df_2023 = df_2023.fillna(0)\n",
    "df_2023.columns"
   ]
  },
  {
   "cell_type": "code",
   "execution_count": 9,
   "metadata": {},
   "outputs": [],
   "source": [
    "import pandas as pd\n",
    "import numpy as np\n",
    "\n",
    "\n",
    "# 변화율 계산 (pct_chg 사용)\n",
    "df_2023['open_pct_chg'] = df_2023['open'].pct_change()\n",
    "df_2023['high_pct_chg'] = df_2023['high'].pct_change()\n",
    "df_2023['low_pct_chg'] = df_2023['low'].pct_change()\n",
    "df_2023['close_pct_chg'] = df_2023['close'].pct_change()\n",
    "df_2023['volume_pct_chg'] = df_2023['volume'].pct_change()\n",
    "df_2023['mid_price_pct_chg'] = df_2023['mid_price'].pct_change()\n",
    "df_2023['7min_MA_pct_chg'] = df_2023['7min_MA'].pct_change()\n",
    "df_2023['25min_MA_pct_chg'] = df_2023['25min_MA'].pct_change()\n",
    "df_2023['99min_MA_pct_chg'] = df_2023['99min_MA'].pct_change()\n",
    "df_2023['7_ema_pct_chg'] = df_2023['7_ema'].pct_change()\n",
    "df_2023['25_ema_pct_chg'] = df_2023['25_ema'].pct_change()\n",
    "df_2023['99_ema_pct_chg'] = df_2023['99_ema'].pct_change()\n",
    "\n",
    "# 60분 동안의 데이터 추출\n",
    "df_60min = df_2023.rolling(window=60).mean()\n",
    "\n",
    "# 필요한 컬럼 선택\n",
    "selected_columns = df_2023.columns\n",
    "df_selected = df_60min[selected_columns]"
   ]
  },
  {
   "cell_type": "code",
   "execution_count": 10,
   "metadata": {},
   "outputs": [
    {
     "name": "stderr",
     "output_type": "stream",
     "text": [
      "100%|██████████| 344195/344195 [00:01<00:00, 255463.63it/s]"
     ]
    },
    {
     "name": "stdout",
     "output_type": "stream",
     "text": [
      "(344195, 24, 64)\n"
     ]
    },
    {
     "name": "stderr",
     "output_type": "stream",
     "text": [
      "\n"
     ]
    }
   ],
   "source": [
    "import numpy as np\n",
    "from tqdm import tqdm\n",
    "\n",
    "# 주어진 데이터프레임\n",
    "df = df_60min.iloc[180:]\n",
    "\n",
    "sequence_length = 64\n",
    "n_samples = len(df) - sequence_length + 1\n",
    "\n",
    "# Extract the data as a NumPy array\n",
    "data_array = df[selected_columns].to_numpy()\n",
    "\n",
    "# Create an empty array to store the input sequences\n",
    "input_sequences = np.empty((n_samples, len(selected_columns), sequence_length))\n",
    "\n",
    "for i in tqdm(range(n_samples)):\n",
    "    input_seq = data_array[i:i + sequence_length, :].T  # Transpose to have (24, 60) shape\n",
    "    input_sequences[i] = input_seq\n",
    "\n",
    "print(input_sequences.shape)\n"
   ]
  },
  {
   "cell_type": "code",
   "execution_count": 11,
   "metadata": {},
   "outputs": [
    {
     "data": {
      "text/plain": [
       "array([21118833.33333333, 21119391.66666667, 21119950.        ,\n",
       "       21120483.33333333, 21120850.        , 21121133.33333333,\n",
       "       21121316.66666667, 21121483.33333333, 21121550.        ,\n",
       "       21121541.66666667, 21121491.66666667, 21121450.        ,\n",
       "       21121275.        , 21121125.        , 21120908.33333333,\n",
       "       21120616.66666667, 21120241.66666667, 21119825.        ,\n",
       "       21119433.33333333, 21119041.66666667, 21118575.        ,\n",
       "       21117883.33333333, 21117250.        , 21116666.66666667,\n",
       "       21116166.66666667, 21115750.        , 21115108.33333333,\n",
       "       21114558.33333333, 21113983.33333333, 21113325.        ,\n",
       "       21112675.        , 21112108.33333333, 21111533.33333333,\n",
       "       21110975.        , 21110291.66666667, 21109533.33333333,\n",
       "       21108958.33333333, 21108400.        , 21107866.66666667,\n",
       "       21107316.66666667, 21106750.        , 21106241.66666667,\n",
       "       21105850.        , 21105508.33333333, 21105275.        ,\n",
       "       21104916.66666667, 21104633.33333333, 21104308.33333333,\n",
       "       21103900.        , 21103416.66666667, 21102966.66666667,\n",
       "       21102625.        , 21102250.        , 21101883.33333333,\n",
       "       21101550.        , 21101258.33333333, 21100966.66666667,\n",
       "       21100675.        , 21100391.66666667, 21100133.33333333,\n",
       "       21099966.66666667, 21099758.33333333, 21099541.66666667,\n",
       "       21099350.        ])"
      ]
     },
     "execution_count": 11,
     "metadata": {},
     "output_type": "execute_result"
    }
   ],
   "source": [
    "(input_sequences[1][5])"
   ]
  },
  {
   "cell_type": "code",
   "execution_count": 13,
   "metadata": {},
   "outputs": [],
   "source": [
    "(df_60min.iloc[180+sequence_length-1:].index).to_frame().to_csv(\"train_data_2023_3D_index.csv\")"
   ]
  },
  {
   "cell_type": "code",
   "execution_count": 14,
   "metadata": {},
   "outputs": [],
   "source": [
    "with open('train_data_2023_3D.pkl', 'wb') as f:\n",
    "    pickle.dump(input_sequences, f)\n"
   ]
  },
  {
   "cell_type": "code",
   "execution_count": 15,
   "metadata": {},
   "outputs": [],
   "source": [
    "with open('train_data_2023_3D.pkl', 'rb') as f:\n",
    "    df = pickle.load(f)"
   ]
  },
  {
   "cell_type": "code",
   "execution_count": 16,
   "metadata": {},
   "outputs": [
    {
     "data": {
      "text/plain": [
       "(344195, 24, 64)"
      ]
     },
     "execution_count": 16,
     "metadata": {},
     "output_type": "execute_result"
    }
   ],
   "source": [
    "df.shape"
   ]
  },
  {
   "cell_type": "code",
   "execution_count": null,
   "id": "41ba6a99",
   "metadata": {},
   "outputs": [],
   "source": []
  }
 ],
 "metadata": {
  "kernelspec": {
   "display_name": "Python 3 (ipykernel)",
   "language": "python",
   "name": "python3"
  },
  "language_info": {
   "codemirror_mode": {
    "name": "ipython",
    "version": 3
   },
   "file_extension": ".py",
   "mimetype": "text/x-python",
   "name": "python",
   "nbconvert_exporter": "python",
   "pygments_lexer": "ipython3",
   "version": "3.11.3"
  }
 },
 "nbformat": 4,
 "nbformat_minor": 5
}
