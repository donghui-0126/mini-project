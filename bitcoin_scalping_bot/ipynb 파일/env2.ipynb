{
 "cells": [
  {
   "cell_type": "code",
   "execution_count": 1,
   "metadata": {},
   "outputs": [],
   "source": [
    "from collections import deque\n",
    "from datetime import datetime\n",
    "\n",
    "\n",
    "class Environment2:\n",
    "    \"\"\"\n",
    "    action의 종류\n",
    "        - BUY: 가진 현금에서 [100%,50%,25%,10%,5%] 매수\n",
    "        - SELL: 가진 주식에서 [100%,50%,25%,10%,5%] 매도\n",
    "        - HOLD: DO NOTHING\n",
    "        \n",
    "    action = 6 => 5% 매수   \n",
    "    action = 7 => 10% 매수  \n",
    "    action = 8 => 25% 매수  \n",
    "    action = 9 => 50% 매수  \n",
    "    action = 10 => 100% 매수\n",
    "\n",
    "    action = 0 => 5% 매도  \n",
    "    action = 1 => 10% 매도 \n",
    "    action = 2 => 25% 매도 \n",
    "    action = 3 => 50% 매도 \n",
    "    action = 4 => 100% 매도\n",
    "    \n",
    "    action = 5 => Hoding  \n",
    "    \n",
    "    \"\"\"\n",
    "    # mid price = (high + low) / 2\n",
    "    # df[index][col][-1]\n",
    "    PCT_IDX = 17 # 1분전 MID price의 가격 변동 \n",
    "    MID_IDX = 5\n",
    "    \n",
    "    def __init__(self, chart_data=None, chart_index:list = None, risk_adverse= 1.3 ,stop_trade=0.9 ,balance=100000000, transaction=0.0005, max_leverage=3):\n",
    "        self.chart_data = chart_data # numpy array\n",
    "        self.chart_index = chart_index # python list\n",
    "        self.idx = 0\n",
    "\n",
    "        self.risk_adverse = risk_adverse # 손실에 주는 가중치 \n",
    "        self.stop_trade = stop_trade # 손절선\n",
    "        self.transaction = transaction # 거래수수료\n",
    "        self.max_leverage = max_leverage\n",
    "        \n",
    "        self.current_state = chart_data[self.idx]\n",
    "        self.next_state = chart_data[self.idx+1]\n",
    "                    \n",
    "        self.current_price = self.chart_data[self.idx][self.MID_IDX][-1]\n",
    "        self.next_price = self.chart_data[self.idx+1][self.MID_IDX][-1]\n",
    "        \n",
    "        self.balance = [balance]  # 포트폴리오가 보유한 현금\n",
    "        self.bitcoin = [0]  # 포트폴리오가 보유한 비트코인의 가치 (매 거래마다 바로 청산됨)\n",
    "        self.portfolio_value = []\n",
    "        \n",
    "        self.action_list = deque([5 for i in range(30)]) # 이전 30분을 저장함.\n",
    "        self.action_info = [-3, -2, -1, -0.5, -0.25 , 0 , 0.25, 0.5, 1, 2, 3]\n",
    "        self.position = 0 # 이전의 position 비율을 저장하는 변수. (+)는 long, (-)는 short\n",
    "        self.profit_queue = deque([0.0004 for i in range(60)]) # 이전 1시간의 변동성을 고려함\n",
    "        \n",
    "        \n",
    "    def reset(self):\n",
    "        self.idx = 0\n",
    "        state = self.chart_data[self.idx]\n",
    "        return state\n",
    "    \n",
    "    def get_profit_std(self, profit):\n",
    "        self.profit_queue.popleft()\n",
    "        self.profit_queue.append(profit)\n",
    "        std = (pow(sum(self.profit_queue),2)/len(self.profit_queue))**0.5\n",
    "        return abs(std)\n",
    "    \n",
    "    \n",
    "    def step(self, action):\n",
    "        self.current_state = self.chart_data[self.idx]\n",
    "        self.next_state = self.chart_data[self.idx+1]\n",
    "        self.current_price = self.chart_data[self.idx][self.MID_IDX][-1]\n",
    "        self.next_price = self.chart_data[self.idx+1][self.MID_IDX][-1]\n",
    "\n",
    "        current_value = self.balance[-1] + self.bitcoin[-1]*self.current_price \n",
    "        self.portfolio_value.append(current_value)\n",
    "        \n",
    "        s_prime = self.chart_data[self.idx+1]\n",
    "        \n",
    "        # action list에 새로운 action 추가해줌\n",
    "        self.action_list.append(action)\n",
    "        self.action_list.popleft()\n",
    "            \n",
    "        # reward 계산\n",
    "        profit = self.get_reward(action)\n",
    "        \n",
    "        # 얻은 수익률의 표준편차를 구해준다.\n",
    "        std = self.get_profit_std(profit)  \n",
    "            \n",
    "        # sharpe ratio를 maximize하는 형식\n",
    "        reward = profit/std \n",
    "\n",
    "        # 시간 index 갱신\n",
    "        self.idx += 1\n",
    "        \n",
    "        # risk adverse정도를 고려해서 reward 계산\n",
    "        if reward<0:\n",
    "            reward =  reward * self.risk_adverse\n",
    "        \n",
    "        current_time = datetime.strptime(self.chart_index[self.idx], '%Y-%m-%d %H:%M:%S')\n",
    "        current_day = datetime.strftime(current_time, '%Y-%m-%d')\n",
    "        next_time = datetime.strptime(self.chart_index[self.idx+1], '%Y-%m-%d %H:%M:%S')\n",
    "        next_day = datetime.strftime(next_time, '%Y-%m-%d')\n",
    "\n",
    "        if current_day == next_day:\n",
    "            return {\"state_time\":current_day, \n",
    "                    \"next_state\":s_prime, \n",
    "                    \"reward\":round(reward,8), \n",
    "                    \"done\":False, \n",
    "                    \"portfolio_value\":self.portfolio_value[-1], \n",
    "                    \"balance\":self.balance[-1], \n",
    "                    \"bitcoin\":self.bitcoin[-1], \n",
    "                    \"position\":self.position,\n",
    "                    \"action_list\":self.action_list}\n",
    "        else:\n",
    "            print(\"#########################################################################\")\n",
    "            print(f'{self.current_state.name}에서 {self.portfolio_value[-1]}으로 trading stop')\n",
    "\n",
    "            return {\"state_time\":current_day, \n",
    "                    \"next_state\":s_prime, \n",
    "                    \"reward\":round(reward,8), \n",
    "                    \"done\":True, \n",
    "                    \"portfolio_value\":self.portfolio_value[-1], \n",
    "                    \"balance\":self.balance[-1], \n",
    "                    \"bitcoin\":self.bitcoin[-1], \n",
    "                    \"position\":self.position,\n",
    "                    \"action_list\":self.action_list}\n",
    "      \n",
    "        \n",
    "    def position_calc(self, action): # max_leverage를 고려해서 position을 계산해주는 함수\n",
    "        action = self.action_info[action] # action의 실제 action\n",
    "        \n",
    "        if action * self.position > 0:\n",
    "            if  self.position + action > self.max_leverage:\n",
    "                ratio = 0\n",
    "                self.position = self.max_leverage\n",
    "                return self.position, ratio, False\n",
    "            \n",
    "            elif self.position + action < -self.max_leverage:\n",
    "                ratio  = 0 \n",
    "                self.position = -self.max_leverage\n",
    "                return self.position, ratio, False\n",
    "            else:\n",
    "                self.position += action\n",
    "                ratio = action\n",
    "                return self.position, ratio, False   \n",
    "                    \n",
    "        elif action * self.position < 0:\n",
    "            self.position = action \n",
    "            ratio = action \n",
    "            return self.position, ratio, True\n",
    "        \n",
    "        elif action*self.position==0:\n",
    "            if action==0:\n",
    "                self.position = action \n",
    "                return self.position, 0, False\n",
    "            \n",
    "            elif self.position==0:\n",
    "                self.position = action \n",
    "                return self.position, self.position, False\n",
    "            \n",
    "        \n",
    "    def get_reward(self, action):     \n",
    "        temp_position = self.position\n",
    "        # Short\n",
    "        if action <= 4:\n",
    "            position, ratio, execution = self.position_calc(action)\n",
    "            sell_budget = self.balance[0] * ratio\n",
    "            \n",
    "            if execution: # 직전 포지션이 long\n",
    "                clearing_budget = self.bitcoin[-1] * self.current_price\n",
    "                # 이전에 매수를 한 경우 => 현재 매도(long 청산)\n",
    "                self.balance.append(self.balance[-1] - sell_budget*(1-self.transaction) + clearing_budget*(1-self.transaction))\n",
    "                self.bitcoin.append(sell_budget/self.current_price)          \n",
    "            else: # 직전 포지션이 short\n",
    "                self.balance.append(self.balance[-1] - sell_budget*(1-self.transaction))\n",
    "                self.bitcoin.append(self.bitcoin[-1] + sell_budget/self.current_price)  \n",
    "        \n",
    "            current_value = self.portfolio_value[-1]\n",
    "            next_value = self.balance[-1] + self.bitcoin[-1]*(self.next_price)\n",
    "            reward = next_value/current_value - 1\n",
    "            return reward\n",
    "            \n",
    "        # Long\n",
    "        elif action >= 6:\n",
    "            position, ratio, execution = self.position_calc(action)\n",
    "            buy_budget = self.balance[0] * ratio\n",
    "            \n",
    "            if execution: # 직전 포지션 short\n",
    "                clearing_budget = self.bitcoin[-1] * self.current_price\n",
    "                self.balance.append(self.balance[-1] - buy_budget*(1+self.transaction) + clearing_budget*(1+self.transaction))    \n",
    "                self.bitcoin.append(buy_budget/self.current_price)              \n",
    "\n",
    "            else: # 직전 포지션 long\n",
    "                self.balance.append(self.balance[-1] - buy_budget*(1+self.transaction))\n",
    "                self.bitcoin.append(self.bitcoin[-1] + buy_budget/self.current_price)  \n",
    "            \n",
    "            current_value = self.portfolio_value[-1]\n",
    "            next_value = self.balance[-1] + self.bitcoin[-1]*(self.next_price)\n",
    "            reward = next_value/current_value-1   \n",
    "            return reward\n",
    "        \n",
    "        # HOLD\n",
    "        elif action == 5:\n",
    "    \n",
    "            reward = -abs(self.next_state[self.PCT_IDX][-1])/5 \n",
    "            return reward\n",
    "        "
   ]
  },
  {
   "cell_type": "code",
   "execution_count": 2,
   "metadata": {},
   "outputs": [
    {
     "data": {
      "text/plain": [
       "'c:\\\\Users\\\\user\\\\Documents\\\\GitHub\\\\mini-project\\\\bitcoin_scalping_bot\\\\ipynb 파일'"
      ]
     },
     "execution_count": 2,
     "metadata": {},
     "output_type": "execute_result"
    }
   ],
   "source": [
    "import os\n",
    "os.getcwd()"
   ]
  },
  {
   "cell_type": "code",
   "execution_count": 3,
   "metadata": {},
   "outputs": [],
   "source": [
    "import pandas as pd\n",
    "import numpy as np\n",
    "import pickle"
   ]
  },
  {
   "cell_type": "code",
   "execution_count": 4,
   "metadata": {},
   "outputs": [],
   "source": [
    "df_index = pd.read_csv('..\\\\upbit_data\\\\train_data_2023_3D_index.csv', index_col=0)\n",
    "\n",
    "with open('..\\\\upbit_data\\\\train_data_2023_3D.pkl', 'rb') as f:\n",
    "    df = pickle.load(f)"
   ]
  },
  {
   "cell_type": "markdown",
   "metadata": {},
   "source": [
    "\n",
    "0. df_2023['open']\n",
    "1. df_2023['high']\n",
    "2. df_2023['low']\n",
    "3. df_2023['close']\n",
    "4. df_2023['volume']\n",
    "5. df_2023['mid_price']\n",
    "6. df_2023['7min_MA']\n",
    "7. df_2023['25min_MA']\n",
    "8. df_2023['99min_MA']\n",
    "9. df_2023['7_ema']\n",
    "10. df_2023['25_ema']\n",
    "11. df_2023['99_ema']\n",
    "\n",
    "--------\n",
    "\n",
    "12. df_2023['open'].pct_change()\n",
    "13. df_2023['high'].pct_change()\n",
    "14. df_2023['low'].pct_change()\n",
    "15. df_2023['close'].pct_change()\n",
    "16. df_2023['volume'].pct_change()\n",
    "17. df_2023['mid_price'].pct_change()\n",
    "18. df_2023['7min_MA'].pct_change()\n",
    "19. df_2023['25min_MA'].pct_change()\n",
    "20. df_2023['99min_MA'].pct_change()\n",
    "21. df_2023['7_ema'].pct_change()\n",
    "22. df_2023['25_ema'].pct_change()\n",
    "23. df_2023['99_ema'].pct_change()\n"
   ]
  },
  {
   "cell_type": "code",
   "execution_count": 5,
   "metadata": {},
   "outputs": [
    {
     "data": {
      "text/plain": [
       "((344199, 1), (344199, 24, 60))"
      ]
     },
     "execution_count": 5,
     "metadata": {},
     "output_type": "execute_result"
    }
   ],
   "source": [
    "df_index.shape, df.shape"
   ]
  },
  {
   "cell_type": "code",
   "execution_count": 6,
   "metadata": {},
   "outputs": [
    {
     "name": "stdout",
     "output_type": "stream",
     "text": [
      "[[ 2.11188833e+07  2.11194333e+07  2.11198500e+07 ...  2.11000833e+07\n",
      "   2.10999667e+07  2.10997833e+07]\n",
      " [ 2.11252667e+07  2.11257667e+07  2.11263500e+07 ...  2.11058333e+07\n",
      "   2.11054333e+07  2.11050667e+07]\n",
      " [ 2.11113167e+07  2.11119000e+07  2.11124333e+07 ...  2.10961000e+07\n",
      "   2.10959167e+07  2.10957167e+07]\n",
      " ...\n",
      " [ 3.46149177e-05  3.23806301e-05  3.09018035e-05 ... -1.59345545e-05\n",
      "  -1.54041932e-05 -1.49078923e-05]\n",
      " [ 3.87875072e-05  3.77787926e-05  3.69082469e-05 ... -1.82220619e-05\n",
      "  -1.78829566e-05 -1.75396261e-05]\n",
      " [ 2.78610218e-05  2.78129375e-05  2.77832355e-05 ... -4.54834178e-06\n",
      "  -4.75208086e-06 -4.94266394e-06]]\n"
     ]
    }
   ],
   "source": [
    "print(df[0])"
   ]
  },
  {
   "cell_type": "code",
   "execution_count": 7,
   "metadata": {},
   "outputs": [
    {
     "data": {
      "text/plain": [
       "array([21118291.66666667, 21118833.33333333, 21119391.66666667,\n",
       "       21119950.        , 21120483.33333333, 21120850.        ,\n",
       "       21121133.33333333, 21121316.66666667, 21121483.33333333,\n",
       "       21121550.        , 21121541.66666667, 21121491.66666667,\n",
       "       21121450.        , 21121275.        , 21121125.        ,\n",
       "       21120908.33333333, 21120616.66666667, 21120241.66666667,\n",
       "       21119825.        , 21119433.33333333, 21119041.66666667,\n",
       "       21118575.        , 21117883.33333333, 21117250.        ,\n",
       "       21116666.66666667, 21116166.66666667, 21115750.        ,\n",
       "       21115108.33333333, 21114558.33333333, 21113983.33333333,\n",
       "       21113325.        , 21112675.        , 21112108.33333333,\n",
       "       21111533.33333333, 21110975.        , 21110291.66666667,\n",
       "       21109533.33333333, 21108958.33333333, 21108400.        ,\n",
       "       21107866.66666667, 21107316.66666667, 21106750.        ,\n",
       "       21106241.66666667, 21105850.        , 21105508.33333333,\n",
       "       21105275.        , 21104916.66666667, 21104633.33333333,\n",
       "       21104308.33333333, 21103900.        , 21103416.66666667,\n",
       "       21102966.66666667, 21102625.        , 21102250.        ,\n",
       "       21101883.33333333, 21101550.        , 21101258.33333333,\n",
       "       21100966.66666667, 21100675.        , 21100391.66666667])"
      ]
     },
     "execution_count": 7,
     "metadata": {},
     "output_type": "execute_result"
    }
   ],
   "source": [
    "# mid price\n",
    "df[0][5]"
   ]
  },
  {
   "cell_type": "code",
   "execution_count": 8,
   "metadata": {},
   "outputs": [
    {
     "data": {
      "text/plain": [
       "array([ 3.51791095e-05,  2.56975241e-05,  2.64856542e-05,  2.64856542e-05,\n",
       "        2.53017459e-05,  1.74030719e-05,  1.34504600e-05,  8.71252634e-06,\n",
       "        7.92183205e-06,  3.18305676e-06, -3.70912266e-07, -2.34546736e-06,\n",
       "       -1.95053201e-06, -8.26845896e-06, -7.08317603e-06, -1.02405639e-05,\n",
       "       -1.37917095e-05, -1.77400338e-05, -1.97125604e-05, -1.85291845e-05,\n",
       "       -1.85291845e-05, -2.20760497e-05, -3.27239516e-05, -2.99614126e-05,\n",
       "       -2.76002793e-05, -2.36587725e-05, -1.97195097e-05, -3.03732017e-05,\n",
       "       -2.60404240e-05, -2.72286805e-05, -3.11741924e-05, -3.07797898e-05,\n",
       "       -2.68327526e-05, -2.72272205e-05, -2.64350771e-05, -3.23527895e-05,\n",
       "       -3.59184353e-05, -2.72332998e-05, -2.64358038e-05, -2.52512029e-05,\n",
       "       -2.60401202e-05, -2.68283831e-05, -2.40598708e-05, -1.85398965e-05,\n",
       "       -1.61798389e-05, -1.10427213e-05, -1.69635061e-05, -1.34123697e-05,\n",
       "       -1.53872336e-05, -1.93370648e-05, -2.28888738e-05, -2.13057458e-05,\n",
       "       -1.61720058e-05, -1.77509432e-05, -1.73564192e-05, -1.57770517e-05,\n",
       "       -1.38028425e-05, -1.38025153e-05, -1.38025153e-05, -1.34082998e-05])"
      ]
     },
     "execution_count": 8,
     "metadata": {},
     "output_type": "execute_result"
    }
   ],
   "source": [
    "# mid_price pct_chg\n",
    "df[0][17]"
   ]
  },
  {
   "cell_type": "code",
   "execution_count": 9,
   "metadata": {},
   "outputs": [
    {
     "data": {
      "text/plain": [
       "['2023-01-01 12:59:00',\n",
       " '2023-01-01 13:00:00',\n",
       " '2023-01-01 13:01:00',\n",
       " '2023-01-01 13:02:00',\n",
       " '2023-01-01 13:03:00',\n",
       " '2023-01-01 13:04:00',\n",
       " '2023-01-01 13:05:00',\n",
       " '2023-01-01 13:06:00',\n",
       " '2023-01-01 13:07:00',\n",
       " '2023-01-01 13:08:00']"
      ]
     },
     "execution_count": 9,
     "metadata": {},
     "output_type": "execute_result"
    }
   ],
   "source": [
    "list(df_index.index)[:10]"
   ]
  },
  {
   "cell_type": "code",
   "execution_count": 10,
   "metadata": {},
   "outputs": [],
   "source": [
    "env = Environment2(df, list(df_index.index))"
   ]
  },
  {
   "cell_type": "code",
   "execution_count": 11,
   "metadata": {},
   "outputs": [
    {
     "data": {
      "text/plain": [
       "array([[ 2.11188833e+07,  2.11194333e+07,  2.11198500e+07, ...,\n",
       "         2.11000833e+07,  2.10999667e+07,  2.10997833e+07],\n",
       "       [ 2.11252667e+07,  2.11257667e+07,  2.11263500e+07, ...,\n",
       "         2.11058333e+07,  2.11054333e+07,  2.11050667e+07],\n",
       "       [ 2.11113167e+07,  2.11119000e+07,  2.11124333e+07, ...,\n",
       "         2.10961000e+07,  2.10959167e+07,  2.10957167e+07],\n",
       "       ...,\n",
       "       [ 3.46149177e-05,  3.23806301e-05,  3.09018035e-05, ...,\n",
       "        -1.59345545e-05, -1.54041932e-05, -1.49078923e-05],\n",
       "       [ 3.87875072e-05,  3.77787926e-05,  3.69082469e-05, ...,\n",
       "        -1.82220619e-05, -1.78829566e-05, -1.75396261e-05],\n",
       "       [ 2.78610218e-05,  2.78129375e-05,  2.77832355e-05, ...,\n",
       "        -4.54834178e-06, -4.75208086e-06, -4.94266394e-06]])"
      ]
     },
     "execution_count": 11,
     "metadata": {},
     "output_type": "execute_result"
    }
   ],
   "source": [
    "env.reset()"
   ]
  },
  {
   "cell_type": "code",
   "execution_count": 312,
   "metadata": {},
   "outputs": [
    {
     "data": {
      "text/plain": [
       "{'state_time': '2023-01-01',\n",
       " 'next_state': array([[ 2.10906500e+07,  2.10903833e+07,  2.10897833e+07, ...,\n",
       "          2.10891000e+07,  2.10889333e+07,  2.10888333e+07],\n",
       "        [ 2.10988500e+07,  2.10984167e+07,  2.10979833e+07, ...,\n",
       "          2.10942167e+07,  2.10940500e+07,  2.10939000e+07],\n",
       "        [ 2.10841833e+07,  2.10839000e+07,  2.10837333e+07, ...,\n",
       "          2.10850167e+07,  2.10849000e+07,  2.10848667e+07],\n",
       "        ...,\n",
       "        [-2.27995526e-05, -2.13427111e-05, -1.95581896e-05, ...,\n",
       "         -4.02081817e-06, -4.69497452e-06, -4.60785348e-06],\n",
       "        [-2.03461164e-05, -2.00868996e-05, -1.96347279e-05, ...,\n",
       "         -5.79735106e-06, -5.86822993e-06, -5.75130427e-06],\n",
       "        [-8.13369627e-06, -8.32812466e-06, -8.45748411e-06, ...,\n",
       "         -4.49442771e-06, -4.54330358e-06, -4.53901354e-06]]),\n",
       " 'reward': 0.2783838,\n",
       " 'done': False,\n",
       " 'portfolio_value': 97560471.17636532,\n",
       " 'balance': 397828260.5201608,\n",
       " 'bitcoin': -14.237802948807188,\n",
       " 'position': -3,\n",
       " 'action_list': deque([4,\n",
       "        4,\n",
       "        4,\n",
       "        4,\n",
       "        4,\n",
       "        4,\n",
       "        4,\n",
       "        4,\n",
       "        4,\n",
       "        4,\n",
       "        4,\n",
       "        4,\n",
       "        4,\n",
       "        4,\n",
       "        4,\n",
       "        4,\n",
       "        4,\n",
       "        4,\n",
       "        4,\n",
       "        4,\n",
       "        4,\n",
       "        4,\n",
       "        4,\n",
       "        4,\n",
       "        4,\n",
       "        4,\n",
       "        4,\n",
       "        4,\n",
       "        4,\n",
       "        4])}"
      ]
     },
     "execution_count": 312,
     "metadata": {},
     "output_type": "execute_result"
    }
   ],
   "source": [
    "env.step(4)"
   ]
  },
  {
   "cell_type": "code",
   "execution_count": null,
   "metadata": {},
   "outputs": [],
   "source": []
  }
 ],
 "metadata": {
  "kernelspec": {
   "display_name": "base",
   "language": "python",
   "name": "python3"
  },
  "language_info": {
   "codemirror_mode": {
    "name": "ipython",
    "version": 3
   },
   "file_extension": ".py",
   "mimetype": "text/x-python",
   "name": "python",
   "nbconvert_exporter": "python",
   "pygments_lexer": "ipython3",
   "version": "3.11.3"
  }
 },
 "nbformat": 4,
 "nbformat_minor": 2
}
