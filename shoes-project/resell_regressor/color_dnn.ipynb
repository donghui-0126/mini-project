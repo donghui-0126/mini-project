{
  "nbformat": 4,
  "nbformat_minor": 0,
  "metadata": {
    "colab": {
      "provenance": []
    },
    "kernelspec": {
      "name": "python3",
      "display_name": "Python 3"
    },
    "language_info": {
      "name": "python"
    }
  },
  "cells": [
    {
      "cell_type": "markdown",
      "metadata": {
        "id": "view-in-github"
      },
      "source": [
        "<a href=\"https://colab.research.google.com/github/donghui-0126/mini-project/blob/main/shoes-project/resell_regressor/color_dnn.ipynb\" target=\"_parent\"><img src=\"https://colab.research.google.com/assets/colab-badge.svg\" alt=\"Open In Colab\"/></a>"
      ]
    },
    {
      "cell_type": "code",
      "execution_count": 2,
      "metadata": {
        "id": "XZI9iwXXP8pI"
      },
      "outputs": [],
      "source": [
        "import numpy as np\n",
        "import pandas as pd\n",
        "import tensorflow as tf\n",
        "from tensorflow import keras\n",
        "from sklearn.linear_model import LinearRegression\n",
        "import warnings\n",
        "from sklearn.decomposition import PCA\n",
        "from sklearn.model_selection import KFold\n",
        "from sklearn.metrics import mean_squared_error\n",
        "\n",
        "warnings.filterwarnings('ignore')"
      ]
    },
    {
      "cell_type": "code",
      "source": [
        "from google.colab import drive\n",
        "drive.mount('/content/drive')"
      ],
      "metadata": {
        "id": "7BJG3hF3QCPq",
        "colab": {
          "base_uri": "https://localhost:8080/"
        },
        "outputId": "4379d369-3afe-4934-a873-4ebb8b715446"
      },
      "execution_count": 3,
      "outputs": [
        {
          "output_type": "stream",
          "name": "stdout",
          "text": [
            "Mounted at /content/drive\n"
          ]
        }
      ]
    },
    {
      "cell_type": "code",
      "source": [
        "df = pd.read_csv('/content/drive/MyDrive/kream_data/product_data_dpp.csv')\n",
        "df.head(3)"
      ],
      "metadata": {
        "colab": {
          "base_uri": "https://localhost:8080/",
          "height": 187
        },
        "id": "Ye8vahO3RjfV",
        "outputId": "fb9e56b3-b567-441a-9493-f1f212043cac"
      },
      "execution_count": 4,
      "outputs": [
        {
          "output_type": "execute_result",
          "data": {
            "text/plain": [
              "   Unnamed: 0 product_id                                   img_path brand  \\\n",
              "0           0      28029  crawling\\product_crawling\\image\\28029.jpg  Nike   \n",
              "1           1      12831  crawling\\product_crawling\\image\\12831.jpg  Nike   \n",
              "2           2      21935  crawling\\product_crawling\\image\\21935.jpg  Nike   \n",
              "\n",
              "                             name color1 color2  price_og  price_resell  \\\n",
              "0       Nike Dunk Low Retro Black  WHITE  BLACK    129000        152800   \n",
              "1  Nike Air Force 1 '07 Low White  WHITE  WHITE    139000        136200   \n",
              "2    Nike Air Force 1 '07 WB Flax   FLAX    GUM    169000        173200   \n",
              "\n",
              "    n_scrap  +price                              tokenized_color  \\\n",
              "0  123000.0   23800                [0 0 0 0 0 0 0 0 0 0 2 4 3 5]   \n",
              "1  151000.0   -2800                [0 0 0 0 0 0 0 0 0 0 2 4 3 4]   \n",
              "2   69000.0    4200  [ 0  0  0  0  0  0  0  0  0  0  2 82  3 51]   \n",
              "\n",
              "                                        tokenized_bn  \\\n",
              "0  [ 0  0  0  0  0  0  0  0  0  0  0  0  0  2  4 ...   \n",
              "1  [ 0  0  0  0  0  0  0  0  0  0  0  2  4  3  4 ...   \n",
              "2  [   0    0    0    0    0    0    0    0    0 ...   \n",
              "\n",
              "                                      drive_img_path  \\\n",
              "0  /content/drive/MyDrive/kream_data/image/28029.jpg   \n",
              "1  /content/drive/MyDrive/kream_data/image/12831.jpg   \n",
              "2  /content/drive/MyDrive/kream_data/image/21935.jpg   \n",
              "\n",
              "                                               pixel  \n",
              "0  [[0 0 0 ... 0 0 0]\\n [0 0 0 ... 0 0 0]\\n [0 0 ...  \n",
              "1  [[255 255 255 ... 255 255 255]\\n [255 255 255 ...  \n",
              "2  [[255 255 255 ... 255 255 255]\\n [255 255 255 ...  "
            ],
            "text/html": [
              "\n",
              "  <div id=\"df-9fcc16dd-7f63-4479-b0c7-7e9abc55f0da\">\n",
              "    <div class=\"colab-df-container\">\n",
              "      <div>\n",
              "<style scoped>\n",
              "    .dataframe tbody tr th:only-of-type {\n",
              "        vertical-align: middle;\n",
              "    }\n",
              "\n",
              "    .dataframe tbody tr th {\n",
              "        vertical-align: top;\n",
              "    }\n",
              "\n",
              "    .dataframe thead th {\n",
              "        text-align: right;\n",
              "    }\n",
              "</style>\n",
              "<table border=\"1\" class=\"dataframe\">\n",
              "  <thead>\n",
              "    <tr style=\"text-align: right;\">\n",
              "      <th></th>\n",
              "      <th>Unnamed: 0</th>\n",
              "      <th>product_id</th>\n",
              "      <th>img_path</th>\n",
              "      <th>brand</th>\n",
              "      <th>name</th>\n",
              "      <th>color1</th>\n",
              "      <th>color2</th>\n",
              "      <th>price_og</th>\n",
              "      <th>price_resell</th>\n",
              "      <th>n_scrap</th>\n",
              "      <th>+price</th>\n",
              "      <th>tokenized_color</th>\n",
              "      <th>tokenized_bn</th>\n",
              "      <th>drive_img_path</th>\n",
              "      <th>pixel</th>\n",
              "    </tr>\n",
              "  </thead>\n",
              "  <tbody>\n",
              "    <tr>\n",
              "      <th>0</th>\n",
              "      <td>0</td>\n",
              "      <td>28029</td>\n",
              "      <td>crawling\\product_crawling\\image\\28029.jpg</td>\n",
              "      <td>Nike</td>\n",
              "      <td>Nike Dunk Low Retro Black</td>\n",
              "      <td>WHITE</td>\n",
              "      <td>BLACK</td>\n",
              "      <td>129000</td>\n",
              "      <td>152800</td>\n",
              "      <td>123000.0</td>\n",
              "      <td>23800</td>\n",
              "      <td>[0 0 0 0 0 0 0 0 0 0 2 4 3 5]</td>\n",
              "      <td>[ 0  0  0  0  0  0  0  0  0  0  0  0  0  2  4 ...</td>\n",
              "      <td>/content/drive/MyDrive/kream_data/image/28029.jpg</td>\n",
              "      <td>[[0 0 0 ... 0 0 0]\\n [0 0 0 ... 0 0 0]\\n [0 0 ...</td>\n",
              "    </tr>\n",
              "    <tr>\n",
              "      <th>1</th>\n",
              "      <td>1</td>\n",
              "      <td>12831</td>\n",
              "      <td>crawling\\product_crawling\\image\\12831.jpg</td>\n",
              "      <td>Nike</td>\n",
              "      <td>Nike Air Force 1 '07 Low White</td>\n",
              "      <td>WHITE</td>\n",
              "      <td>WHITE</td>\n",
              "      <td>139000</td>\n",
              "      <td>136200</td>\n",
              "      <td>151000.0</td>\n",
              "      <td>-2800</td>\n",
              "      <td>[0 0 0 0 0 0 0 0 0 0 2 4 3 4]</td>\n",
              "      <td>[ 0  0  0  0  0  0  0  0  0  0  0  2  4  3  4 ...</td>\n",
              "      <td>/content/drive/MyDrive/kream_data/image/12831.jpg</td>\n",
              "      <td>[[255 255 255 ... 255 255 255]\\n [255 255 255 ...</td>\n",
              "    </tr>\n",
              "    <tr>\n",
              "      <th>2</th>\n",
              "      <td>2</td>\n",
              "      <td>21935</td>\n",
              "      <td>crawling\\product_crawling\\image\\21935.jpg</td>\n",
              "      <td>Nike</td>\n",
              "      <td>Nike Air Force 1 '07 WB Flax</td>\n",
              "      <td>FLAX</td>\n",
              "      <td>GUM</td>\n",
              "      <td>169000</td>\n",
              "      <td>173200</td>\n",
              "      <td>69000.0</td>\n",
              "      <td>4200</td>\n",
              "      <td>[ 0  0  0  0  0  0  0  0  0  0  2 82  3 51]</td>\n",
              "      <td>[   0    0    0    0    0    0    0    0    0 ...</td>\n",
              "      <td>/content/drive/MyDrive/kream_data/image/21935.jpg</td>\n",
              "      <td>[[255 255 255 ... 255 255 255]\\n [255 255 255 ...</td>\n",
              "    </tr>\n",
              "  </tbody>\n",
              "</table>\n",
              "</div>\n",
              "      <button class=\"colab-df-convert\" onclick=\"convertToInteractive('df-9fcc16dd-7f63-4479-b0c7-7e9abc55f0da')\"\n",
              "              title=\"Convert this dataframe to an interactive table.\"\n",
              "              style=\"display:none;\">\n",
              "        \n",
              "  <svg xmlns=\"http://www.w3.org/2000/svg\" height=\"24px\"viewBox=\"0 0 24 24\"\n",
              "       width=\"24px\">\n",
              "    <path d=\"M0 0h24v24H0V0z\" fill=\"none\"/>\n",
              "    <path d=\"M18.56 5.44l.94 2.06.94-2.06 2.06-.94-2.06-.94-.94-2.06-.94 2.06-2.06.94zm-11 1L8.5 8.5l.94-2.06 2.06-.94-2.06-.94L8.5 2.5l-.94 2.06-2.06.94zm10 10l.94 2.06.94-2.06 2.06-.94-2.06-.94-.94-2.06-.94 2.06-2.06.94z\"/><path d=\"M17.41 7.96l-1.37-1.37c-.4-.4-.92-.59-1.43-.59-.52 0-1.04.2-1.43.59L10.3 9.45l-7.72 7.72c-.78.78-.78 2.05 0 2.83L4 21.41c.39.39.9.59 1.41.59.51 0 1.02-.2 1.41-.59l7.78-7.78 2.81-2.81c.8-.78.8-2.07 0-2.86zM5.41 20L4 18.59l7.72-7.72 1.47 1.35L5.41 20z\"/>\n",
              "  </svg>\n",
              "      </button>\n",
              "      \n",
              "  <style>\n",
              "    .colab-df-container {\n",
              "      display:flex;\n",
              "      flex-wrap:wrap;\n",
              "      gap: 12px;\n",
              "    }\n",
              "\n",
              "    .colab-df-convert {\n",
              "      background-color: #E8F0FE;\n",
              "      border: none;\n",
              "      border-radius: 50%;\n",
              "      cursor: pointer;\n",
              "      display: none;\n",
              "      fill: #1967D2;\n",
              "      height: 32px;\n",
              "      padding: 0 0 0 0;\n",
              "      width: 32px;\n",
              "    }\n",
              "\n",
              "    .colab-df-convert:hover {\n",
              "      background-color: #E2EBFA;\n",
              "      box-shadow: 0px 1px 2px rgba(60, 64, 67, 0.3), 0px 1px 3px 1px rgba(60, 64, 67, 0.15);\n",
              "      fill: #174EA6;\n",
              "    }\n",
              "\n",
              "    [theme=dark] .colab-df-convert {\n",
              "      background-color: #3B4455;\n",
              "      fill: #D2E3FC;\n",
              "    }\n",
              "\n",
              "    [theme=dark] .colab-df-convert:hover {\n",
              "      background-color: #434B5C;\n",
              "      box-shadow: 0px 1px 3px 1px rgba(0, 0, 0, 0.15);\n",
              "      filter: drop-shadow(0px 1px 2px rgba(0, 0, 0, 0.3));\n",
              "      fill: #FFFFFF;\n",
              "    }\n",
              "  </style>\n",
              "\n",
              "      <script>\n",
              "        const buttonEl =\n",
              "          document.querySelector('#df-9fcc16dd-7f63-4479-b0c7-7e9abc55f0da button.colab-df-convert');\n",
              "        buttonEl.style.display =\n",
              "          google.colab.kernel.accessAllowed ? 'block' : 'none';\n",
              "\n",
              "        async function convertToInteractive(key) {\n",
              "          const element = document.querySelector('#df-9fcc16dd-7f63-4479-b0c7-7e9abc55f0da');\n",
              "          const dataTable =\n",
              "            await google.colab.kernel.invokeFunction('convertToInteractive',\n",
              "                                                     [key], {});\n",
              "          if (!dataTable) return;\n",
              "\n",
              "          const docLinkHtml = 'Like what you see? Visit the ' +\n",
              "            '<a target=\"_blank\" href=https://colab.research.google.com/notebooks/data_table.ipynb>data table notebook</a>'\n",
              "            + ' to learn more about interactive tables.';\n",
              "          element.innerHTML = '';\n",
              "          dataTable['output_type'] = 'display_data';\n",
              "          await google.colab.output.renderOutput(dataTable, element);\n",
              "          const docLink = document.createElement('div');\n",
              "          docLink.innerHTML = docLinkHtml;\n",
              "          element.appendChild(docLink);\n",
              "        }\n",
              "      </script>\n",
              "    </div>\n",
              "  </div>\n",
              "  "
            ]
          },
          "metadata": {},
          "execution_count": 4
        }
      ]
    },
    {
      "cell_type": "code",
      "source": [
        "df.shape"
      ],
      "metadata": {
        "colab": {
          "base_uri": "https://localhost:8080/"
        },
        "id": "Z7BKiN23gB2u",
        "outputId": "f673f3f4-4b70-45c6-d5d3-31da2794093b"
      },
      "execution_count": 5,
      "outputs": [
        {
          "output_type": "execute_result",
          "data": {
            "text/plain": [
              "(6103, 15)"
            ]
          },
          "metadata": {},
          "execution_count": 5
        }
      ]
    },
    {
      "cell_type": "code",
      "source": [
        "color_input_data = np.array([])\n",
        "\n",
        "for val in df['tokenized_color'].values:\n",
        "    val = [int(x) for x in val.strip('[]').split()]\n",
        "    color_input_data = np.append(color_input_data, val)\n",
        "\n",
        "color_input_data = color_input_data.reshape([6103, 14])\n",
        "color_input_data = color_input_data.astype(int)"
      ],
      "metadata": {
        "id": "QZcQryxWcXXJ"
      },
      "execution_count": 6,
      "outputs": []
    },
    {
      "cell_type": "code",
      "source": [
        "color_input_data.shape"
      ],
      "metadata": {
        "colab": {
          "base_uri": "https://localhost:8080/"
        },
        "id": "VqUG9IPVf43w",
        "outputId": "f752781a-f508-4f26-f23c-882f64f3603e"
      },
      "execution_count": 7,
      "outputs": [
        {
          "output_type": "execute_result",
          "data": {
            "text/plain": [
              "(6103, 14)"
            ]
          },
          "metadata": {},
          "execution_count": 7
        }
      ]
    },
    {
      "cell_type": "code",
      "source": [
        "color_input_data"
      ],
      "metadata": {
        "colab": {
          "base_uri": "https://localhost:8080/"
        },
        "id": "sYVlDgTIeXnE",
        "outputId": "625ba435-648f-454e-fa50-e2172b512656"
      },
      "execution_count": 8,
      "outputs": [
        {
          "output_type": "execute_result",
          "data": {
            "text/plain": [
              "array([[ 0,  0,  0, ...,  4,  3,  5],\n",
              "       [ 0,  0,  0, ...,  4,  3,  4],\n",
              "       [ 0,  0,  0, ..., 82,  3, 51],\n",
              "       ...,\n",
              "       [ 0,  0,  0, ...,  5,  3,  4],\n",
              "       [ 0,  0,  0, ...,  4,  3,  4],\n",
              "       [ 0,  0,  0, ...,  4,  3,  4]])"
            ]
          },
          "metadata": {},
          "execution_count": 8
        }
      ]
    },
    {
      "cell_type": "code",
      "source": [
        "columns = [x for x in range(1000)]\n",
        "index = [y for y in range(color_input_data.shape[0])]\n",
        "\n",
        "\n",
        "color_input_df = pd.DataFrame(index=index, columns=columns)\n",
        "color_input_df = color_input_df.fillna(0)\n",
        "\n",
        "for index, line in enumerate(color_input_data):\n",
        "    for elem in set(line):\n",
        "        if elem < 1000:\n",
        "            color_input_df.iloc[index,elem] = 1\n",
        "        else:\n",
        "            color_input_df.iloc[index,0] = 1"
      ],
      "metadata": {
        "id": "WW3rsSaAeNCs"
      },
      "execution_count": 9,
      "outputs": []
    },
    {
      "cell_type": "code",
      "source": [
        "color_input_df.head(3)"
      ],
      "metadata": {
        "colab": {
          "base_uri": "https://localhost:8080/",
          "height": 173
        },
        "id": "D9019ZnDet4k",
        "outputId": "e1e7d9b8-cc4e-4441-80ec-131e3fc85571"
      },
      "execution_count": 10,
      "outputs": [
        {
          "output_type": "execute_result",
          "data": {
            "text/plain": [
              "   0    1    2    3    4    5    6    7    8    9    ...  990  991  992  993  \\\n",
              "0    1    0    1    1    1    1    0    0    0    0  ...    0    0    0    0   \n",
              "1    1    0    1    1    1    0    0    0    0    0  ...    0    0    0    0   \n",
              "2    1    0    1    1    0    0    0    0    0    0  ...    0    0    0    0   \n",
              "\n",
              "   994  995  996  997  998  999  \n",
              "0    0    0    0    0    0    0  \n",
              "1    0    0    0    0    0    0  \n",
              "2    0    0    0    0    0    0  \n",
              "\n",
              "[3 rows x 1000 columns]"
            ],
            "text/html": [
              "\n",
              "  <div id=\"df-c07a915e-ae3b-4de7-af47-eb59471f2fbe\">\n",
              "    <div class=\"colab-df-container\">\n",
              "      <div>\n",
              "<style scoped>\n",
              "    .dataframe tbody tr th:only-of-type {\n",
              "        vertical-align: middle;\n",
              "    }\n",
              "\n",
              "    .dataframe tbody tr th {\n",
              "        vertical-align: top;\n",
              "    }\n",
              "\n",
              "    .dataframe thead th {\n",
              "        text-align: right;\n",
              "    }\n",
              "</style>\n",
              "<table border=\"1\" class=\"dataframe\">\n",
              "  <thead>\n",
              "    <tr style=\"text-align: right;\">\n",
              "      <th></th>\n",
              "      <th>0</th>\n",
              "      <th>1</th>\n",
              "      <th>2</th>\n",
              "      <th>3</th>\n",
              "      <th>4</th>\n",
              "      <th>5</th>\n",
              "      <th>6</th>\n",
              "      <th>7</th>\n",
              "      <th>8</th>\n",
              "      <th>9</th>\n",
              "      <th>...</th>\n",
              "      <th>990</th>\n",
              "      <th>991</th>\n",
              "      <th>992</th>\n",
              "      <th>993</th>\n",
              "      <th>994</th>\n",
              "      <th>995</th>\n",
              "      <th>996</th>\n",
              "      <th>997</th>\n",
              "      <th>998</th>\n",
              "      <th>999</th>\n",
              "    </tr>\n",
              "  </thead>\n",
              "  <tbody>\n",
              "    <tr>\n",
              "      <th>0</th>\n",
              "      <td>1</td>\n",
              "      <td>0</td>\n",
              "      <td>1</td>\n",
              "      <td>1</td>\n",
              "      <td>1</td>\n",
              "      <td>1</td>\n",
              "      <td>0</td>\n",
              "      <td>0</td>\n",
              "      <td>0</td>\n",
              "      <td>0</td>\n",
              "      <td>...</td>\n",
              "      <td>0</td>\n",
              "      <td>0</td>\n",
              "      <td>0</td>\n",
              "      <td>0</td>\n",
              "      <td>0</td>\n",
              "      <td>0</td>\n",
              "      <td>0</td>\n",
              "      <td>0</td>\n",
              "      <td>0</td>\n",
              "      <td>0</td>\n",
              "    </tr>\n",
              "    <tr>\n",
              "      <th>1</th>\n",
              "      <td>1</td>\n",
              "      <td>0</td>\n",
              "      <td>1</td>\n",
              "      <td>1</td>\n",
              "      <td>1</td>\n",
              "      <td>0</td>\n",
              "      <td>0</td>\n",
              "      <td>0</td>\n",
              "      <td>0</td>\n",
              "      <td>0</td>\n",
              "      <td>...</td>\n",
              "      <td>0</td>\n",
              "      <td>0</td>\n",
              "      <td>0</td>\n",
              "      <td>0</td>\n",
              "      <td>0</td>\n",
              "      <td>0</td>\n",
              "      <td>0</td>\n",
              "      <td>0</td>\n",
              "      <td>0</td>\n",
              "      <td>0</td>\n",
              "    </tr>\n",
              "    <tr>\n",
              "      <th>2</th>\n",
              "      <td>1</td>\n",
              "      <td>0</td>\n",
              "      <td>1</td>\n",
              "      <td>1</td>\n",
              "      <td>0</td>\n",
              "      <td>0</td>\n",
              "      <td>0</td>\n",
              "      <td>0</td>\n",
              "      <td>0</td>\n",
              "      <td>0</td>\n",
              "      <td>...</td>\n",
              "      <td>0</td>\n",
              "      <td>0</td>\n",
              "      <td>0</td>\n",
              "      <td>0</td>\n",
              "      <td>0</td>\n",
              "      <td>0</td>\n",
              "      <td>0</td>\n",
              "      <td>0</td>\n",
              "      <td>0</td>\n",
              "      <td>0</td>\n",
              "    </tr>\n",
              "  </tbody>\n",
              "</table>\n",
              "<p>3 rows × 1000 columns</p>\n",
              "</div>\n",
              "      <button class=\"colab-df-convert\" onclick=\"convertToInteractive('df-c07a915e-ae3b-4de7-af47-eb59471f2fbe')\"\n",
              "              title=\"Convert this dataframe to an interactive table.\"\n",
              "              style=\"display:none;\">\n",
              "        \n",
              "  <svg xmlns=\"http://www.w3.org/2000/svg\" height=\"24px\"viewBox=\"0 0 24 24\"\n",
              "       width=\"24px\">\n",
              "    <path d=\"M0 0h24v24H0V0z\" fill=\"none\"/>\n",
              "    <path d=\"M18.56 5.44l.94 2.06.94-2.06 2.06-.94-2.06-.94-.94-2.06-.94 2.06-2.06.94zm-11 1L8.5 8.5l.94-2.06 2.06-.94-2.06-.94L8.5 2.5l-.94 2.06-2.06.94zm10 10l.94 2.06.94-2.06 2.06-.94-2.06-.94-.94-2.06-.94 2.06-2.06.94z\"/><path d=\"M17.41 7.96l-1.37-1.37c-.4-.4-.92-.59-1.43-.59-.52 0-1.04.2-1.43.59L10.3 9.45l-7.72 7.72c-.78.78-.78 2.05 0 2.83L4 21.41c.39.39.9.59 1.41.59.51 0 1.02-.2 1.41-.59l7.78-7.78 2.81-2.81c.8-.78.8-2.07 0-2.86zM5.41 20L4 18.59l7.72-7.72 1.47 1.35L5.41 20z\"/>\n",
              "  </svg>\n",
              "      </button>\n",
              "      \n",
              "  <style>\n",
              "    .colab-df-container {\n",
              "      display:flex;\n",
              "      flex-wrap:wrap;\n",
              "      gap: 12px;\n",
              "    }\n",
              "\n",
              "    .colab-df-convert {\n",
              "      background-color: #E8F0FE;\n",
              "      border: none;\n",
              "      border-radius: 50%;\n",
              "      cursor: pointer;\n",
              "      display: none;\n",
              "      fill: #1967D2;\n",
              "      height: 32px;\n",
              "      padding: 0 0 0 0;\n",
              "      width: 32px;\n",
              "    }\n",
              "\n",
              "    .colab-df-convert:hover {\n",
              "      background-color: #E2EBFA;\n",
              "      box-shadow: 0px 1px 2px rgba(60, 64, 67, 0.3), 0px 1px 3px 1px rgba(60, 64, 67, 0.15);\n",
              "      fill: #174EA6;\n",
              "    }\n",
              "\n",
              "    [theme=dark] .colab-df-convert {\n",
              "      background-color: #3B4455;\n",
              "      fill: #D2E3FC;\n",
              "    }\n",
              "\n",
              "    [theme=dark] .colab-df-convert:hover {\n",
              "      background-color: #434B5C;\n",
              "      box-shadow: 0px 1px 3px 1px rgba(0, 0, 0, 0.15);\n",
              "      filter: drop-shadow(0px 1px 2px rgba(0, 0, 0, 0.3));\n",
              "      fill: #FFFFFF;\n",
              "    }\n",
              "  </style>\n",
              "\n",
              "      <script>\n",
              "        const buttonEl =\n",
              "          document.querySelector('#df-c07a915e-ae3b-4de7-af47-eb59471f2fbe button.colab-df-convert');\n",
              "        buttonEl.style.display =\n",
              "          google.colab.kernel.accessAllowed ? 'block' : 'none';\n",
              "\n",
              "        async function convertToInteractive(key) {\n",
              "          const element = document.querySelector('#df-c07a915e-ae3b-4de7-af47-eb59471f2fbe');\n",
              "          const dataTable =\n",
              "            await google.colab.kernel.invokeFunction('convertToInteractive',\n",
              "                                                     [key], {});\n",
              "          if (!dataTable) return;\n",
              "\n",
              "          const docLinkHtml = 'Like what you see? Visit the ' +\n",
              "            '<a target=\"_blank\" href=https://colab.research.google.com/notebooks/data_table.ipynb>data table notebook</a>'\n",
              "            + ' to learn more about interactive tables.';\n",
              "          element.innerHTML = '';\n",
              "          dataTable['output_type'] = 'display_data';\n",
              "          await google.colab.output.renderOutput(dataTable, element);\n",
              "          const docLink = document.createElement('div');\n",
              "          docLink.innerHTML = docLinkHtml;\n",
              "          element.appendChild(docLink);\n",
              "        }\n",
              "      </script>\n",
              "    </div>\n",
              "  </div>\n",
              "  "
            ]
          },
          "metadata": {},
          "execution_count": 10
        }
      ]
    },
    {
      "cell_type": "code",
      "source": [
        "# 정가를 피처에 추가해준다.\n",
        "\n",
        "color_input_df = pd.concat([color_input_df, df[\"price_og\"]], axis=1)"
      ],
      "metadata": {
        "id": "45bEursTXRvT"
      },
      "execution_count": 11,
      "outputs": []
    },
    {
      "cell_type": "code",
      "source": [
        "color_input_df.head(3)"
      ],
      "metadata": {
        "colab": {
          "base_uri": "https://localhost:8080/",
          "height": 173
        },
        "id": "_sn9B9b5XhHj",
        "outputId": "a0309088-bff3-4963-ec9b-6f7ebac055b3"
      },
      "execution_count": 12,
      "outputs": [
        {
          "output_type": "execute_result",
          "data": {
            "text/plain": [
              "   0  1  2  3  4  5  6  7  8  9  ...  991  992  993  994  995  996  997  998  \\\n",
              "0  1  0  1  1  1  1  0  0  0  0  ...    0    0    0    0    0    0    0    0   \n",
              "1  1  0  1  1  1  0  0  0  0  0  ...    0    0    0    0    0    0    0    0   \n",
              "2  1  0  1  1  0  0  0  0  0  0  ...    0    0    0    0    0    0    0    0   \n",
              "\n",
              "   999  price_og  \n",
              "0    0    129000  \n",
              "1    0    139000  \n",
              "2    0    169000  \n",
              "\n",
              "[3 rows x 1001 columns]"
            ],
            "text/html": [
              "\n",
              "  <div id=\"df-44a73782-0199-4a09-b9b1-9a86915a4109\">\n",
              "    <div class=\"colab-df-container\">\n",
              "      <div>\n",
              "<style scoped>\n",
              "    .dataframe tbody tr th:only-of-type {\n",
              "        vertical-align: middle;\n",
              "    }\n",
              "\n",
              "    .dataframe tbody tr th {\n",
              "        vertical-align: top;\n",
              "    }\n",
              "\n",
              "    .dataframe thead th {\n",
              "        text-align: right;\n",
              "    }\n",
              "</style>\n",
              "<table border=\"1\" class=\"dataframe\">\n",
              "  <thead>\n",
              "    <tr style=\"text-align: right;\">\n",
              "      <th></th>\n",
              "      <th>0</th>\n",
              "      <th>1</th>\n",
              "      <th>2</th>\n",
              "      <th>3</th>\n",
              "      <th>4</th>\n",
              "      <th>5</th>\n",
              "      <th>6</th>\n",
              "      <th>7</th>\n",
              "      <th>8</th>\n",
              "      <th>9</th>\n",
              "      <th>...</th>\n",
              "      <th>991</th>\n",
              "      <th>992</th>\n",
              "      <th>993</th>\n",
              "      <th>994</th>\n",
              "      <th>995</th>\n",
              "      <th>996</th>\n",
              "      <th>997</th>\n",
              "      <th>998</th>\n",
              "      <th>999</th>\n",
              "      <th>price_og</th>\n",
              "    </tr>\n",
              "  </thead>\n",
              "  <tbody>\n",
              "    <tr>\n",
              "      <th>0</th>\n",
              "      <td>1</td>\n",
              "      <td>0</td>\n",
              "      <td>1</td>\n",
              "      <td>1</td>\n",
              "      <td>1</td>\n",
              "      <td>1</td>\n",
              "      <td>0</td>\n",
              "      <td>0</td>\n",
              "      <td>0</td>\n",
              "      <td>0</td>\n",
              "      <td>...</td>\n",
              "      <td>0</td>\n",
              "      <td>0</td>\n",
              "      <td>0</td>\n",
              "      <td>0</td>\n",
              "      <td>0</td>\n",
              "      <td>0</td>\n",
              "      <td>0</td>\n",
              "      <td>0</td>\n",
              "      <td>0</td>\n",
              "      <td>129000</td>\n",
              "    </tr>\n",
              "    <tr>\n",
              "      <th>1</th>\n",
              "      <td>1</td>\n",
              "      <td>0</td>\n",
              "      <td>1</td>\n",
              "      <td>1</td>\n",
              "      <td>1</td>\n",
              "      <td>0</td>\n",
              "      <td>0</td>\n",
              "      <td>0</td>\n",
              "      <td>0</td>\n",
              "      <td>0</td>\n",
              "      <td>...</td>\n",
              "      <td>0</td>\n",
              "      <td>0</td>\n",
              "      <td>0</td>\n",
              "      <td>0</td>\n",
              "      <td>0</td>\n",
              "      <td>0</td>\n",
              "      <td>0</td>\n",
              "      <td>0</td>\n",
              "      <td>0</td>\n",
              "      <td>139000</td>\n",
              "    </tr>\n",
              "    <tr>\n",
              "      <th>2</th>\n",
              "      <td>1</td>\n",
              "      <td>0</td>\n",
              "      <td>1</td>\n",
              "      <td>1</td>\n",
              "      <td>0</td>\n",
              "      <td>0</td>\n",
              "      <td>0</td>\n",
              "      <td>0</td>\n",
              "      <td>0</td>\n",
              "      <td>0</td>\n",
              "      <td>...</td>\n",
              "      <td>0</td>\n",
              "      <td>0</td>\n",
              "      <td>0</td>\n",
              "      <td>0</td>\n",
              "      <td>0</td>\n",
              "      <td>0</td>\n",
              "      <td>0</td>\n",
              "      <td>0</td>\n",
              "      <td>0</td>\n",
              "      <td>169000</td>\n",
              "    </tr>\n",
              "  </tbody>\n",
              "</table>\n",
              "<p>3 rows × 1001 columns</p>\n",
              "</div>\n",
              "      <button class=\"colab-df-convert\" onclick=\"convertToInteractive('df-44a73782-0199-4a09-b9b1-9a86915a4109')\"\n",
              "              title=\"Convert this dataframe to an interactive table.\"\n",
              "              style=\"display:none;\">\n",
              "        \n",
              "  <svg xmlns=\"http://www.w3.org/2000/svg\" height=\"24px\"viewBox=\"0 0 24 24\"\n",
              "       width=\"24px\">\n",
              "    <path d=\"M0 0h24v24H0V0z\" fill=\"none\"/>\n",
              "    <path d=\"M18.56 5.44l.94 2.06.94-2.06 2.06-.94-2.06-.94-.94-2.06-.94 2.06-2.06.94zm-11 1L8.5 8.5l.94-2.06 2.06-.94-2.06-.94L8.5 2.5l-.94 2.06-2.06.94zm10 10l.94 2.06.94-2.06 2.06-.94-2.06-.94-.94-2.06-.94 2.06-2.06.94z\"/><path d=\"M17.41 7.96l-1.37-1.37c-.4-.4-.92-.59-1.43-.59-.52 0-1.04.2-1.43.59L10.3 9.45l-7.72 7.72c-.78.78-.78 2.05 0 2.83L4 21.41c.39.39.9.59 1.41.59.51 0 1.02-.2 1.41-.59l7.78-7.78 2.81-2.81c.8-.78.8-2.07 0-2.86zM5.41 20L4 18.59l7.72-7.72 1.47 1.35L5.41 20z\"/>\n",
              "  </svg>\n",
              "      </button>\n",
              "      \n",
              "  <style>\n",
              "    .colab-df-container {\n",
              "      display:flex;\n",
              "      flex-wrap:wrap;\n",
              "      gap: 12px;\n",
              "    }\n",
              "\n",
              "    .colab-df-convert {\n",
              "      background-color: #E8F0FE;\n",
              "      border: none;\n",
              "      border-radius: 50%;\n",
              "      cursor: pointer;\n",
              "      display: none;\n",
              "      fill: #1967D2;\n",
              "      height: 32px;\n",
              "      padding: 0 0 0 0;\n",
              "      width: 32px;\n",
              "    }\n",
              "\n",
              "    .colab-df-convert:hover {\n",
              "      background-color: #E2EBFA;\n",
              "      box-shadow: 0px 1px 2px rgba(60, 64, 67, 0.3), 0px 1px 3px 1px rgba(60, 64, 67, 0.15);\n",
              "      fill: #174EA6;\n",
              "    }\n",
              "\n",
              "    [theme=dark] .colab-df-convert {\n",
              "      background-color: #3B4455;\n",
              "      fill: #D2E3FC;\n",
              "    }\n",
              "\n",
              "    [theme=dark] .colab-df-convert:hover {\n",
              "      background-color: #434B5C;\n",
              "      box-shadow: 0px 1px 3px 1px rgba(0, 0, 0, 0.15);\n",
              "      filter: drop-shadow(0px 1px 2px rgba(0, 0, 0, 0.3));\n",
              "      fill: #FFFFFF;\n",
              "    }\n",
              "  </style>\n",
              "\n",
              "      <script>\n",
              "        const buttonEl =\n",
              "          document.querySelector('#df-44a73782-0199-4a09-b9b1-9a86915a4109 button.colab-df-convert');\n",
              "        buttonEl.style.display =\n",
              "          google.colab.kernel.accessAllowed ? 'block' : 'none';\n",
              "\n",
              "        async function convertToInteractive(key) {\n",
              "          const element = document.querySelector('#df-44a73782-0199-4a09-b9b1-9a86915a4109');\n",
              "          const dataTable =\n",
              "            await google.colab.kernel.invokeFunction('convertToInteractive',\n",
              "                                                     [key], {});\n",
              "          if (!dataTable) return;\n",
              "\n",
              "          const docLinkHtml = 'Like what you see? Visit the ' +\n",
              "            '<a target=\"_blank\" href=https://colab.research.google.com/notebooks/data_table.ipynb>data table notebook</a>'\n",
              "            + ' to learn more about interactive tables.';\n",
              "          element.innerHTML = '';\n",
              "          dataTable['output_type'] = 'display_data';\n",
              "          await google.colab.output.renderOutput(dataTable, element);\n",
              "          const docLink = document.createElement('div');\n",
              "          docLink.innerHTML = docLinkHtml;\n",
              "          element.appendChild(docLink);\n",
              "        }\n",
              "      </script>\n",
              "    </div>\n",
              "  </div>\n",
              "  "
            ]
          },
          "metadata": {},
          "execution_count": 12
        }
      ]
    },
    {
      "cell_type": "code",
      "source": [
        "color_input_df.shape"
      ],
      "metadata": {
        "colab": {
          "base_uri": "https://localhost:8080/"
        },
        "id": "qGfRWtw6liiB",
        "outputId": "a057c8dd-3430-48d6-c6fd-3608c6be0e24"
      },
      "execution_count": 13,
      "outputs": [
        {
          "output_type": "execute_result",
          "data": {
            "text/plain": [
              "(6103, 1001)"
            ]
          },
          "metadata": {},
          "execution_count": 13
        }
      ]
    },
    {
      "cell_type": "code",
      "source": [
        "# 신발의 브랜드와 이름은 리셀가격(신발의 본래 가치??)와 관련이 클 것 같아서 target데이터를 price_resell 로 설정함. \n",
        "\n",
        "target_data = np.array(df['price_resell'])\n",
        "print(target_data.shape)"
      ],
      "metadata": {
        "colab": {
          "base_uri": "https://localhost:8080/"
        },
        "id": "pD-bO2RWeG2y",
        "outputId": "c107b709-9fc2-430b-b4eb-cec46ede15a4"
      },
      "execution_count": 14,
      "outputs": [
        {
          "output_type": "stream",
          "name": "stdout",
          "text": [
            "(6103,)\n"
          ]
        }
      ]
    },
    {
      "cell_type": "code",
      "source": [
        "target_data.astype(int)"
      ],
      "metadata": {
        "colab": {
          "base_uri": "https://localhost:8080/"
        },
        "id": "JRKyTwC8e_A_",
        "outputId": "443e1a84-0d0f-42a7-82ee-7433f6dca0dd"
      },
      "execution_count": 15,
      "outputs": [
        {
          "output_type": "execute_result",
          "data": {
            "text/plain": [
              "array([152800, 136200, 173200, ..., 450000, 457500, 400000])"
            ]
          },
          "metadata": {},
          "execution_count": 15
        }
      ]
    },
    {
      "cell_type": "code",
      "source": [
        "for n in [10,30,50]:\n",
        "    pca = PCA(n_components=n)\n",
        "    color_pca = pca.fit_transform(color_input_df)\n",
        "    color_pca_df = pd.DataFrame(color_pca)\n",
        "    print(sum(pca.explained_variance_ratio_))"
      ],
      "metadata": {
        "colab": {
          "base_uri": "https://localhost:8080/"
        },
        "id": "K44goIVOnt7I",
        "outputId": "80c71593-a30f-4410-f59f-d5fa1b4f33e1"
      },
      "execution_count": 16,
      "outputs": [
        {
          "output_type": "stream",
          "name": "stdout",
          "text": [
            "0.9999999999350974\n",
            "0.9999999999581246\n",
            "0.9999999999669896\n"
          ]
        }
      ]
    },
    {
      "cell_type": "code",
      "source": [
        "# PCA의 차원을 늘리면서  K-fold를 사용해서 어떤 모델이 가장 효율적인지 살펴보겠다. \n",
        "\n",
        "for n in [30, 50]:\n",
        "    pca = PCA(n_components=n)\n",
        "    color_pca = pca.fit_transform(color_input_df)\n",
        "    color_pca_df = pd.DataFrame(color_pca)\n",
        "\n",
        "    kf = KFold(n_splits = 5, shuffle=True)\n",
        "    \n",
        "    rmse_list = []\n",
        "    for train_index, test_index in kf.split(target_data):\n",
        "        color_pca_df_train, color_pca_df_test = color_pca_df.loc[train_index], color_pca_df.loc[test_index]\n",
        "        target_data_train, target_data_test  = target_data[train_index], target_data[test_index]\n",
        "\n",
        "        reg = LinearRegression().fit(color_pca_df_train, target_data_train)\n",
        "\n",
        "        pred = reg.predict(color_pca_df_test)\n",
        "        rmse = mean_squared_error(pred, target_data_test, squared=False)\n",
        "        rmse_list.append(rmse)\n",
        "        # print(rmse)\n",
        "        \n",
        "    print(\"PCA:\", n, \"rmse:\", round(np.mean(rmse_list)))"
      ],
      "metadata": {
        "colab": {
          "base_uri": "https://localhost:8080/"
        },
        "id": "YV7sCLJpGh0X",
        "outputId": "5924e3fd-89d6-4255-c3cb-6a5657584007"
      },
      "execution_count": 17,
      "outputs": [
        {
          "output_type": "stream",
          "name": "stdout",
          "text": [
            "PCA: 30 rmse: 286546\n",
            "PCA: 50 rmse: 286504\n"
          ]
        }
      ]
    },
    {
      "cell_type": "code",
      "source": [
        "# PCA의 차원을 늘리면서  K-fold를 사용해서 어떤 모델이 가장 효율적인지 살펴보겠다. \n",
        "\n",
        "from lightgbm import LGBMRegressor\n",
        "\n",
        "# PCA의 차원을 늘리면서  K-fold를 사용해서 어떤 모델이 가장 효율적인지 살펴보겠다. \n",
        "\n",
        "for n in [10, 30, 50]:\n",
        "    pca = PCA(n_components=n)\n",
        "    color_pca = pca.fit_transform(color_input_df)\n",
        "    color_pca_df = pd.DataFrame(color_pca)\n",
        "\n",
        "    kf = KFold(n_splits = 5, shuffle=True)\n",
        "    \n",
        "    rmse_list = []\n",
        "    for train_index, test_index in kf.split(target_data):\n",
        "        color_pca_df_train, color_pca_df_test = color_pca_df.loc[train_index], color_pca_df.loc[test_index]\n",
        "        target_data_train, target_data_test  = target_data[train_index], target_data[test_index]\n",
        "\n",
        "        lgbm_reg = LGBMRegressor().fit(color_pca_df_train, target_data_train)\n",
        "\n",
        "        pred = lgbm_reg.predict(color_pca_df_test)\n",
        "        rmse = mean_squared_error(pred, target_data_test, squared=False)\n",
        "        rmse_list.append(rmse)\n",
        "        # print(rmse)\n",
        "        \n",
        "    print(\"PCA:\", n, \"rmse:\", round(np.mean(rmse_list)))"
      ],
      "metadata": {
        "colab": {
          "base_uri": "https://localhost:8080/"
        },
        "id": "CD8MGzJicNlS",
        "outputId": "03bd3746-c51f-4f81-8e62-5232ebd976fd"
      },
      "execution_count": 18,
      "outputs": [
        {
          "output_type": "stream",
          "name": "stdout",
          "text": [
            "PCA: 10 rmse: 276059\n",
            "PCA: 30 rmse: 274748\n",
            "PCA: 50 rmse: 272262\n"
          ]
        }
      ]
    },
    {
      "cell_type": "code",
      "source": [
        "for n in [32, 64]:\n",
        "    pca = PCA(n_components=n)\n",
        "    color_pca = pca.fit_transform(color_input_df)\n",
        "    color_pca_df = pd.DataFrame(color_pca)\n",
        "\n",
        "    kf = KFold(n_splits = 5, shuffle=True)\n",
        "    \n",
        "    rmse_list = []\n",
        "    for train_index, test_index in kf.split(target_data):\n",
        "        color_pca_df_train, color_pca_df_test = color_pca_df.loc[train_index], color_pca_df.loc[test_index]\n",
        "        target_data_train, target_data_test  = target_data[train_index], target_data[test_index]\n",
        "\n",
        "        model = keras.models.Sequential([\n",
        "                keras.layers.Dense(16),\n",
        "                keras.layers.Dense(8),\n",
        "                keras.layers.Dense(1)\n",
        "        ])\n",
        "\n",
        "        model.compile(loss=\"mse\")\n",
        "        model.fit(color_pca_df_train,target_data_train, epochs=20, verbose=0)\n",
        "        pred = model.predict(color_pca_df_test, verbose=0)\n",
        "        rmse = mean_squared_error(target_data_test,pred, squared= False)\n",
        "\n",
        "        rmse_list.append(rmse)\n",
        "    print(\"PCA:\", n, \"rmse:\", round(np.mean(rmse_list)))"
      ],
      "metadata": {
        "colab": {
          "base_uri": "https://localhost:8080/"
        },
        "id": "B--B4m8kj74F",
        "outputId": "0a738409-d3f8-4912-82d2-e5f723b001b3"
      },
      "execution_count": 19,
      "outputs": [
        {
          "output_type": "stream",
          "name": "stdout",
          "text": [
            "PCA: 32 rmse: 378961\n",
            "PCA: 64 rmse: 379309\n"
          ]
        }
      ]
    },
    {
      "cell_type": "markdown",
      "source": [
        "여러 가지를 실험해봤는데.... bn_dnn과 마찬가지로\n",
        "\n",
        "- 주성분을 30개~50개로 축소한 lgbm 모델이 적절할듯 하다."
      ],
      "metadata": {
        "id": "5HgVyhRkcHWd"
      }
    },
    {
      "cell_type": "markdown",
      "source": [
        "뭔가 rmse가 너무 큰데.... 잘 모르겠다.\n",
        "\n",
        "일단 이미지인식 CNN까지 진행하고 생각해 봐야겠다.\n"
      ],
      "metadata": {
        "id": "pu2Po5lUgFTp"
      }
    },
    {
      "cell_type": "code",
      "source": [
        "color_input_df.isna().sum().value_counts()"
      ],
      "metadata": {
        "colab": {
          "base_uri": "https://localhost:8080/"
        },
        "id": "wQxGvpUaqW2w",
        "outputId": "fa1549c4-6613-4fb1-ef1f-cd7d5fce1b1c"
      },
      "execution_count": 31,
      "outputs": [
        {
          "output_type": "execute_result",
          "data": {
            "text/plain": [
              "0    1001\n",
              "dtype: int64"
            ]
          },
          "metadata": {},
          "execution_count": 31
        }
      ]
    },
    {
      "cell_type": "code",
      "source": [
        "for i in np.isnan(target_data):\n",
        "    if i:\n",
        "        print(\"nan\")"
      ],
      "metadata": {
        "id": "ACZzIN9pqlld"
      },
      "execution_count": 36,
      "outputs": []
    },
    {
      "cell_type": "code",
      "source": [
        "df['price_resell'] /= 10000.0\n",
        "target_data = df['price_resell']"
      ],
      "metadata": {
        "id": "dvEXxsix201z"
      },
      "execution_count": 53,
      "outputs": []
    },
    {
      "cell_type": "code",
      "source": [
        "from keras.models import Sequential\n",
        "from tensorflow import keras\n",
        "\n",
        "model1 = Sequential([\n",
        "    keras.layers.Dense(64),\n",
        "    keras.layers.Dense(32),\n",
        "    keras.layers.Dense(16),\n",
        "    keras.layers.Dense(8),\n",
        "    keras.layers.Dense(4),\n",
        "    keras.layers.Dense(2),\n",
        "    keras.layers.Dense(1)\n",
        " ])\n",
        "\n",
        "model1.compile(optimizer=keras.optimizers.Adam(learning_rate=0.005), loss=tf.keras.losses.Huber(delta=3))\n",
        "checkpoint_cb = keras.callbacks.ModelCheckpoint(\"/content/drive/MyDrive/kream_data/model/color_dnn.h5\")\n",
        "\n",
        "model1.fit(color_input_df, target_data, epochs=100, callbacks=[checkpoint_cb])"
      ],
      "metadata": {
        "id": "dTLAYr75iF3p",
        "colab": {
          "base_uri": "https://localhost:8080/"
        },
        "outputId": "7f1e3413-2a3f-4343-ad46-7264d9c97515"
      },
      "execution_count": 63,
      "outputs": [
        {
          "output_type": "stream",
          "name": "stdout",
          "text": [
            "Epoch 1/100\n",
            "191/191 [==============================] - 57s 6ms/step - loss: 1530.4161\n",
            "Epoch 2/100\n",
            "191/191 [==============================] - 1s 4ms/step - loss: 57.1749\n",
            "Epoch 3/100\n",
            "191/191 [==============================] - 1s 4ms/step - loss: 36.4331\n",
            "Epoch 4/100\n",
            "191/191 [==============================] - 1s 3ms/step - loss: 33.4547\n",
            "Epoch 5/100\n",
            "191/191 [==============================] - 1s 3ms/step - loss: 34.2319\n",
            "Epoch 6/100\n",
            "191/191 [==============================] - 1s 4ms/step - loss: 31.3565\n",
            "Epoch 7/100\n",
            "191/191 [==============================] - 1s 4ms/step - loss: 30.4070\n",
            "Epoch 8/100\n",
            "191/191 [==============================] - 1s 4ms/step - loss: 30.3570\n",
            "Epoch 9/100\n",
            "191/191 [==============================] - 1s 5ms/step - loss: 35.8584\n",
            "Epoch 10/100\n",
            "191/191 [==============================] - 1s 5ms/step - loss: 283.0996\n",
            "Epoch 11/100\n",
            "191/191 [==============================] - 1s 5ms/step - loss: 29.7338\n",
            "Epoch 12/100\n",
            "191/191 [==============================] - 1s 4ms/step - loss: 29.7051\n",
            "Epoch 13/100\n",
            "191/191 [==============================] - 1s 4ms/step - loss: 29.4034\n",
            "Epoch 14/100\n",
            "191/191 [==============================] - 1s 4ms/step - loss: 29.5317\n",
            "Epoch 15/100\n",
            "191/191 [==============================] - 1s 4ms/step - loss: 29.6338\n",
            "Epoch 16/100\n",
            "191/191 [==============================] - 1s 4ms/step - loss: 29.6744\n",
            "Epoch 17/100\n",
            "191/191 [==============================] - 1s 4ms/step - loss: 29.8752\n",
            "Epoch 18/100\n",
            "191/191 [==============================] - 1s 4ms/step - loss: 29.5024\n",
            "Epoch 19/100\n",
            "191/191 [==============================] - 1s 4ms/step - loss: 30.2402\n",
            "Epoch 20/100\n",
            "191/191 [==============================] - 1s 4ms/step - loss: 29.9250\n",
            "Epoch 21/100\n",
            "191/191 [==============================] - 1s 3ms/step - loss: 29.5550\n",
            "Epoch 22/100\n",
            "191/191 [==============================] - 1s 4ms/step - loss: 31.1385\n",
            "Epoch 23/100\n",
            "191/191 [==============================] - 1s 4ms/step - loss: 30.1315\n",
            "Epoch 24/100\n",
            "191/191 [==============================] - 1s 5ms/step - loss: 29.7361\n",
            "Epoch 25/100\n",
            "191/191 [==============================] - 1s 4ms/step - loss: 30.3671\n",
            "Epoch 26/100\n",
            "191/191 [==============================] - 1s 5ms/step - loss: 29.8419\n",
            "Epoch 27/100\n",
            "191/191 [==============================] - 1s 5ms/step - loss: 30.2796\n",
            "Epoch 28/100\n",
            "191/191 [==============================] - 1s 5ms/step - loss: 31.0402\n",
            "Epoch 29/100\n",
            "191/191 [==============================] - 1s 4ms/step - loss: 31.2454\n",
            "Epoch 30/100\n",
            "191/191 [==============================] - 1s 3ms/step - loss: 30.5273\n",
            "Epoch 31/100\n",
            "191/191 [==============================] - 1s 3ms/step - loss: 30.8369\n",
            "Epoch 32/100\n",
            "191/191 [==============================] - 1s 4ms/step - loss: 31.9859\n",
            "Epoch 33/100\n",
            "191/191 [==============================] - 1s 3ms/step - loss: 29.6622\n",
            "Epoch 34/100\n",
            "191/191 [==============================] - 1s 4ms/step - loss: 30.1689\n",
            "Epoch 35/100\n",
            "191/191 [==============================] - 1s 4ms/step - loss: 29.7501\n",
            "Epoch 36/100\n",
            "191/191 [==============================] - 1s 4ms/step - loss: 30.5832\n",
            "Epoch 37/100\n",
            "191/191 [==============================] - 1s 4ms/step - loss: 30.7484\n",
            "Epoch 38/100\n",
            "191/191 [==============================] - 1s 4ms/step - loss: 29.5811\n",
            "Epoch 39/100\n",
            "191/191 [==============================] - 1s 3ms/step - loss: 29.7652\n",
            "Epoch 40/100\n",
            "191/191 [==============================] - 1s 3ms/step - loss: 30.4529\n",
            "Epoch 41/100\n",
            "191/191 [==============================] - 1s 3ms/step - loss: 29.9731\n",
            "Epoch 42/100\n",
            "191/191 [==============================] - 1s 4ms/step - loss: 29.6433\n",
            "Epoch 43/100\n",
            "191/191 [==============================] - 1s 4ms/step - loss: 34.7502\n",
            "Epoch 44/100\n",
            "191/191 [==============================] - 1s 5ms/step - loss: 29.9001\n",
            "Epoch 45/100\n",
            "191/191 [==============================] - 1s 5ms/step - loss: 29.8801\n",
            "Epoch 46/100\n",
            "191/191 [==============================] - 1s 4ms/step - loss: 30.1306\n",
            "Epoch 47/100\n",
            "191/191 [==============================] - 1s 4ms/step - loss: 30.0004\n",
            "Epoch 48/100\n",
            "191/191 [==============================] - 1s 4ms/step - loss: 30.1420\n",
            "Epoch 49/100\n",
            "191/191 [==============================] - 1s 3ms/step - loss: 31.5475\n",
            "Epoch 50/100\n",
            "191/191 [==============================] - 1s 4ms/step - loss: 29.9830\n",
            "Epoch 51/100\n",
            "191/191 [==============================] - 1s 3ms/step - loss: 30.7495\n",
            "Epoch 52/100\n",
            "191/191 [==============================] - 1s 4ms/step - loss: 29.9263\n",
            "Epoch 53/100\n",
            "191/191 [==============================] - 1s 5ms/step - loss: 29.7086\n",
            "Epoch 54/100\n",
            "191/191 [==============================] - 1s 5ms/step - loss: 30.6561\n",
            "Epoch 55/100\n",
            "191/191 [==============================] - 1s 5ms/step - loss: 30.2406\n",
            "Epoch 56/100\n",
            "191/191 [==============================] - 1s 4ms/step - loss: 29.8563\n",
            "Epoch 57/100\n",
            "191/191 [==============================] - 1s 3ms/step - loss: 31.4294\n",
            "Epoch 58/100\n",
            "191/191 [==============================] - 1s 4ms/step - loss: 29.8846\n",
            "Epoch 59/100\n",
            "191/191 [==============================] - 1s 4ms/step - loss: 31.1743\n",
            "Epoch 60/100\n",
            "191/191 [==============================] - 1s 5ms/step - loss: 30.2936\n",
            "Epoch 61/100\n",
            "191/191 [==============================] - 1s 5ms/step - loss: 30.3326\n",
            "Epoch 62/100\n",
            "191/191 [==============================] - 1s 5ms/step - loss: 33.4378\n",
            "Epoch 63/100\n",
            "191/191 [==============================] - 1s 3ms/step - loss: 30.1207\n",
            "Epoch 64/100\n",
            "191/191 [==============================] - 1s 4ms/step - loss: 29.6457\n",
            "Epoch 65/100\n",
            "191/191 [==============================] - 1s 3ms/step - loss: 30.4060\n",
            "Epoch 66/100\n",
            "191/191 [==============================] - 1s 3ms/step - loss: 29.8456\n",
            "Epoch 67/100\n",
            "191/191 [==============================] - 1s 4ms/step - loss: 29.9574\n",
            "Epoch 68/100\n",
            "191/191 [==============================] - 1s 3ms/step - loss: 30.1477\n",
            "Epoch 69/100\n",
            "191/191 [==============================] - 1s 3ms/step - loss: 30.3514\n",
            "Epoch 70/100\n",
            "191/191 [==============================] - 1s 3ms/step - loss: 30.0897\n",
            "Epoch 71/100\n",
            "191/191 [==============================] - 1s 4ms/step - loss: 29.9228\n",
            "Epoch 72/100\n",
            "191/191 [==============================] - 1s 4ms/step - loss: 29.8779\n",
            "Epoch 73/100\n",
            "191/191 [==============================] - 1s 4ms/step - loss: 30.0800\n",
            "Epoch 74/100\n",
            "191/191 [==============================] - 1s 4ms/step - loss: 30.1285\n",
            "Epoch 75/100\n",
            "191/191 [==============================] - 1s 4ms/step - loss: 30.0526\n",
            "Epoch 76/100\n",
            "191/191 [==============================] - 1s 4ms/step - loss: 30.5497\n",
            "Epoch 77/100\n",
            "191/191 [==============================] - 1s 4ms/step - loss: 31.6793\n",
            "Epoch 78/100\n",
            "191/191 [==============================] - 1s 5ms/step - loss: 30.8451\n",
            "Epoch 79/100\n",
            "191/191 [==============================] - 1s 4ms/step - loss: 29.8662\n",
            "Epoch 80/100\n",
            "191/191 [==============================] - 1s 5ms/step - loss: 30.0726\n",
            "Epoch 81/100\n",
            "191/191 [==============================] - 1s 4ms/step - loss: 30.1345\n",
            "Epoch 82/100\n",
            "191/191 [==============================] - 1s 4ms/step - loss: 29.8854\n",
            "Epoch 83/100\n",
            "191/191 [==============================] - 1s 4ms/step - loss: 29.9647\n",
            "Epoch 84/100\n",
            "191/191 [==============================] - 1s 4ms/step - loss: 30.4182\n",
            "Epoch 85/100\n",
            "191/191 [==============================] - 1s 3ms/step - loss: 32.1667\n",
            "Epoch 86/100\n",
            "191/191 [==============================] - 1s 4ms/step - loss: 29.8984\n",
            "Epoch 87/100\n",
            "191/191 [==============================] - 1s 3ms/step - loss: 29.9635\n",
            "Epoch 88/100\n",
            "191/191 [==============================] - 1s 4ms/step - loss: 30.0975\n",
            "Epoch 89/100\n",
            "191/191 [==============================] - 1s 3ms/step - loss: 29.6991\n",
            "Epoch 90/100\n",
            "191/191 [==============================] - 1s 4ms/step - loss: 29.6954\n",
            "Epoch 91/100\n",
            "191/191 [==============================] - 1s 4ms/step - loss: 29.8339\n",
            "Epoch 92/100\n",
            "191/191 [==============================] - 1s 4ms/step - loss: 30.3469\n",
            "Epoch 93/100\n",
            "191/191 [==============================] - 1s 3ms/step - loss: 34.4240\n",
            "Epoch 94/100\n",
            "191/191 [==============================] - 1s 4ms/step - loss: 30.6116\n",
            "Epoch 95/100\n",
            "191/191 [==============================] - 1s 5ms/step - loss: 29.5800\n",
            "Epoch 96/100\n",
            "191/191 [==============================] - 1s 5ms/step - loss: 29.8519\n",
            "Epoch 97/100\n",
            "191/191 [==============================] - 1s 4ms/step - loss: 29.9871\n",
            "Epoch 98/100\n",
            "191/191 [==============================] - 1s 4ms/step - loss: 30.0115\n",
            "Epoch 99/100\n",
            "191/191 [==============================] - 1s 3ms/step - loss: 29.6539\n",
            "Epoch 100/100\n",
            "191/191 [==============================] - 1s 3ms/step - loss: 29.5019\n"
          ]
        },
        {
          "output_type": "execute_result",
          "data": {
            "text/plain": [
              "<keras.callbacks.History at 0x7f3435059b20>"
            ]
          },
          "metadata": {},
          "execution_count": 63
        }
      ]
    },
    {
      "cell_type": "code",
      "source": [
        "pred1 = model1.predict(color_input_df)\n",
        "mse1 = mean_squared_error(pred1, target_data, squared=False) \n",
        "\n",
        "mse1"
      ],
      "metadata": {
        "colab": {
          "base_uri": "https://localhost:8080/"
        },
        "id": "ZaA8055t22cr",
        "outputId": "3a38115d-2128-4cdc-d804-77eed52769a4"
      },
      "execution_count": 64,
      "outputs": [
        {
          "output_type": "stream",
          "name": "stdout",
          "text": [
            "191/191 [==============================] - 0s 1ms/step\n"
          ]
        },
        {
          "output_type": "execute_result",
          "data": {
            "text/plain": [
              "30.04250335943222"
            ]
          },
          "metadata": {},
          "execution_count": 64
        }
      ]
    },
    {
      "cell_type": "code",
      "source": [
        "model = keras.models.load_model(\"/content/drive/MyDrive/kream_data/model/color_dnn.h5\") \n",
        "model.evaluate(color_input_df, df['price_resell'])"
      ],
      "metadata": {
        "colab": {
          "base_uri": "https://localhost:8080/"
        },
        "id": "SV00f7ek5C2e",
        "outputId": "e3f725d2-83da-496e-f7b9-01636c0c282e"
      },
      "execution_count": 65,
      "outputs": [
        {
          "output_type": "stream",
          "name": "stdout",
          "text": [
            "191/191 [==============================] - 1s 2ms/step - loss: 29.8949\n"
          ]
        },
        {
          "output_type": "execute_result",
          "data": {
            "text/plain": [
              "29.894895553588867"
            ]
          },
          "metadata": {},
          "execution_count": 65
        }
      ]
    },
    {
      "cell_type": "code",
      "source": [
        "model.predict(color_input_df.iloc[0])"
      ],
      "metadata": {
        "colab": {
          "base_uri": "https://localhost:8080/",
          "height": 1000
        },
        "id": "7q57vKLWCr_s",
        "outputId": "fe421afc-2509-4821-baa0-79dfa82b4d70"
      },
      "execution_count": 68,
      "outputs": [
        {
          "output_type": "error",
          "ename": "InvalidArgumentError",
          "evalue": "ignored",
          "traceback": [
            "\u001b[0;31m---------------------------------------------------------------------------\u001b[0m",
            "\u001b[0;31mInvalidArgumentError\u001b[0m                      Traceback (most recent call last)",
            "\u001b[0;32m<ipython-input-68-ab69e4d3746e>\u001b[0m in \u001b[0;36m<module>\u001b[0;34m\u001b[0m\n\u001b[0;32m----> 1\u001b[0;31m \u001b[0mmodel\u001b[0m\u001b[0;34m.\u001b[0m\u001b[0mpredict\u001b[0m\u001b[0;34m(\u001b[0m\u001b[0mcolor_input_df\u001b[0m\u001b[0;34m.\u001b[0m\u001b[0miloc\u001b[0m\u001b[0;34m[\u001b[0m\u001b[0;36m0\u001b[0m\u001b[0;34m]\u001b[0m\u001b[0;34m)\u001b[0m\u001b[0;34m\u001b[0m\u001b[0;34m\u001b[0m\u001b[0m\n\u001b[0m",
            "\u001b[0;32m/usr/local/lib/python3.8/dist-packages/keras/utils/traceback_utils.py\u001b[0m in \u001b[0;36merror_handler\u001b[0;34m(*args, **kwargs)\u001b[0m\n\u001b[1;32m     68\u001b[0m             \u001b[0;31m# To get the full stack trace, call:\u001b[0m\u001b[0;34m\u001b[0m\u001b[0;34m\u001b[0m\u001b[0;34m\u001b[0m\u001b[0m\n\u001b[1;32m     69\u001b[0m             \u001b[0;31m# `tf.debugging.disable_traceback_filtering()`\u001b[0m\u001b[0;34m\u001b[0m\u001b[0;34m\u001b[0m\u001b[0;34m\u001b[0m\u001b[0m\n\u001b[0;32m---> 70\u001b[0;31m             \u001b[0;32mraise\u001b[0m \u001b[0me\u001b[0m\u001b[0;34m.\u001b[0m\u001b[0mwith_traceback\u001b[0m\u001b[0;34m(\u001b[0m\u001b[0mfiltered_tb\u001b[0m\u001b[0;34m)\u001b[0m \u001b[0;32mfrom\u001b[0m \u001b[0;32mNone\u001b[0m\u001b[0;34m\u001b[0m\u001b[0;34m\u001b[0m\u001b[0m\n\u001b[0m\u001b[1;32m     71\u001b[0m         \u001b[0;32mfinally\u001b[0m\u001b[0;34m:\u001b[0m\u001b[0;34m\u001b[0m\u001b[0;34m\u001b[0m\u001b[0m\n\u001b[1;32m     72\u001b[0m             \u001b[0;32mdel\u001b[0m \u001b[0mfiltered_tb\u001b[0m\u001b[0;34m\u001b[0m\u001b[0;34m\u001b[0m\u001b[0m\n",
            "\u001b[0;32m/usr/local/lib/python3.8/dist-packages/tensorflow/python/eager/execute.py\u001b[0m in \u001b[0;36mquick_execute\u001b[0;34m(op_name, num_outputs, inputs, attrs, ctx, name)\u001b[0m\n\u001b[1;32m     50\u001b[0m   \u001b[0;32mtry\u001b[0m\u001b[0;34m:\u001b[0m\u001b[0;34m\u001b[0m\u001b[0;34m\u001b[0m\u001b[0m\n\u001b[1;32m     51\u001b[0m     \u001b[0mctx\u001b[0m\u001b[0;34m.\u001b[0m\u001b[0mensure_initialized\u001b[0m\u001b[0;34m(\u001b[0m\u001b[0;34m)\u001b[0m\u001b[0;34m\u001b[0m\u001b[0;34m\u001b[0m\u001b[0m\n\u001b[0;32m---> 52\u001b[0;31m     tensors = pywrap_tfe.TFE_Py_Execute(ctx._handle, device_name, op_name,\n\u001b[0m\u001b[1;32m     53\u001b[0m                                         inputs, attrs, num_outputs)\n\u001b[1;32m     54\u001b[0m   \u001b[0;32mexcept\u001b[0m \u001b[0mcore\u001b[0m\u001b[0;34m.\u001b[0m\u001b[0m_NotOkStatusException\u001b[0m \u001b[0;32mas\u001b[0m \u001b[0me\u001b[0m\u001b[0;34m:\u001b[0m\u001b[0;34m\u001b[0m\u001b[0;34m\u001b[0m\u001b[0m\n",
            "\u001b[0;31mInvalidArgumentError\u001b[0m: Graph execution error:\n\nDetected at node 'sequential_25/dense_145/BiasAdd' defined at (most recent call last):\n    File \"/usr/lib/python3.8/runpy.py\", line 194, in _run_module_as_main\n      return _run_code(code, main_globals, None,\n    File \"/usr/lib/python3.8/runpy.py\", line 87, in _run_code\n      exec(code, run_globals)\n    File \"/usr/local/lib/python3.8/dist-packages/ipykernel_launcher.py\", line 16, in <module>\n      app.launch_new_instance()\n    File \"/usr/local/lib/python3.8/dist-packages/traitlets/config/application.py\", line 992, in launch_instance\n      app.start()\n    File \"/usr/local/lib/python3.8/dist-packages/ipykernel/kernelapp.py\", line 612, in start\n      self.io_loop.start()\n    File \"/usr/local/lib/python3.8/dist-packages/tornado/platform/asyncio.py\", line 149, in start\n      self.asyncio_loop.run_forever()\n    File \"/usr/lib/python3.8/asyncio/base_events.py\", line 570, in run_forever\n      self._run_once()\n    File \"/usr/lib/python3.8/asyncio/base_events.py\", line 1859, in _run_once\n      handle._run()\n    File \"/usr/lib/python3.8/asyncio/events.py\", line 81, in _run\n      self._context.run(self._callback, *self._args)\n    File \"/usr/local/lib/python3.8/dist-packages/tornado/ioloop.py\", line 690, in <lambda>\n      lambda f: self._run_callback(functools.partial(callback, future))\n    File \"/usr/local/lib/python3.8/dist-packages/tornado/ioloop.py\", line 743, in _run_callback\n      ret = callback()\n    File \"/usr/local/lib/python3.8/dist-packages/tornado/gen.py\", line 787, in inner\n      self.run()\n    File \"/usr/local/lib/python3.8/dist-packages/tornado/gen.py\", line 748, in run\n      yielded = self.gen.send(value)\n    File \"/usr/local/lib/python3.8/dist-packages/ipykernel/kernelbase.py\", line 365, in process_one\n      yield gen.maybe_future(dispatch(*args))\n    File \"/usr/local/lib/python3.8/dist-packages/tornado/gen.py\", line 209, in wrapper\n      yielded = next(result)\n    File \"/usr/local/lib/python3.8/dist-packages/ipykernel/kernelbase.py\", line 268, in dispatch_shell\n      yield gen.maybe_future(handler(stream, idents, msg))\n    File \"/usr/local/lib/python3.8/dist-packages/tornado/gen.py\", line 209, in wrapper\n      yielded = next(result)\n    File \"/usr/local/lib/python3.8/dist-packages/ipykernel/kernelbase.py\", line 543, in execute_request\n      self.do_execute(\n    File \"/usr/local/lib/python3.8/dist-packages/tornado/gen.py\", line 209, in wrapper\n      yielded = next(result)\n    File \"/usr/local/lib/python3.8/dist-packages/ipykernel/ipkernel.py\", line 306, in do_execute\n      res = shell.run_cell(code, store_history=store_history, silent=silent)\n    File \"/usr/local/lib/python3.8/dist-packages/ipykernel/zmqshell.py\", line 536, in run_cell\n      return super(ZMQInteractiveShell, self).run_cell(*args, **kwargs)\n    File \"/usr/local/lib/python3.8/dist-packages/IPython/core/interactiveshell.py\", line 2854, in run_cell\n      result = self._run_cell(\n    File \"/usr/local/lib/python3.8/dist-packages/IPython/core/interactiveshell.py\", line 2881, in _run_cell\n      return runner(coro)\n    File \"/usr/local/lib/python3.8/dist-packages/IPython/core/async_helpers.py\", line 68, in _pseudo_sync_runner\n      coro.send(None)\n    File \"/usr/local/lib/python3.8/dist-packages/IPython/core/interactiveshell.py\", line 3057, in run_cell_async\n      has_raised = await self.run_ast_nodes(code_ast.body, cell_name,\n    File \"/usr/local/lib/python3.8/dist-packages/IPython/core/interactiveshell.py\", line 3249, in run_ast_nodes\n      if (await self.run_code(code, result,  async_=asy)):\n    File \"/usr/local/lib/python3.8/dist-packages/IPython/core/interactiveshell.py\", line 3326, in run_code\n      exec(code_obj, self.user_global_ns, self.user_ns)\n    File \"<ipython-input-68-ab69e4d3746e>\", line 1, in <module>\n      model.predict(color_input_df.iloc[0])\n    File \"/usr/local/lib/python3.8/dist-packages/keras/utils/traceback_utils.py\", line 65, in error_handler\n      return fn(*args, **kwargs)\n    File \"/usr/local/lib/python3.8/dist-packages/keras/engine/training.py\", line 2350, in predict\n      tmp_batch_outputs = self.predict_function(iterator)\n    File \"/usr/local/lib/python3.8/dist-packages/keras/engine/training.py\", line 2137, in predict_function\n      return step_function(self, iterator)\n    File \"/usr/local/lib/python3.8/dist-packages/keras/engine/training.py\", line 2123, in step_function\n      outputs = model.distribute_strategy.run(run_step, args=(data,))\n    File \"/usr/local/lib/python3.8/dist-packages/keras/engine/training.py\", line 2111, in run_step\n      outputs = model.predict_step(data)\n    File \"/usr/local/lib/python3.8/dist-packages/keras/engine/training.py\", line 2079, in predict_step\n      return self(x, training=False)\n    File \"/usr/local/lib/python3.8/dist-packages/keras/utils/traceback_utils.py\", line 65, in error_handler\n      return fn(*args, **kwargs)\n    File \"/usr/local/lib/python3.8/dist-packages/keras/engine/training.py\", line 561, in __call__\n      return super().__call__(*args, **kwargs)\n    File \"/usr/local/lib/python3.8/dist-packages/keras/utils/traceback_utils.py\", line 65, in error_handler\n      return fn(*args, **kwargs)\n    File \"/usr/local/lib/python3.8/dist-packages/keras/engine/base_layer.py\", line 1132, in __call__\n      outputs = call_fn(inputs, *args, **kwargs)\n    File \"/usr/local/lib/python3.8/dist-packages/keras/utils/traceback_utils.py\", line 96, in error_handler\n      return fn(*args, **kwargs)\n    File \"/usr/local/lib/python3.8/dist-packages/keras/engine/sequential.py\", line 413, in call\n      return super().call(inputs, training=training, mask=mask)\n    File \"/usr/local/lib/python3.8/dist-packages/keras/engine/functional.py\", line 511, in call\n      return self._run_internal_graph(inputs, training=training, mask=mask)\n    File \"/usr/local/lib/python3.8/dist-packages/keras/engine/functional.py\", line 668, in _run_internal_graph\n      outputs = node.layer(*args, **kwargs)\n    File \"/usr/local/lib/python3.8/dist-packages/keras/utils/traceback_utils.py\", line 65, in error_handler\n      return fn(*args, **kwargs)\n    File \"/usr/local/lib/python3.8/dist-packages/keras/engine/base_layer.py\", line 1132, in __call__\n      outputs = call_fn(inputs, *args, **kwargs)\n    File \"/usr/local/lib/python3.8/dist-packages/keras/utils/traceback_utils.py\", line 96, in error_handler\n      return fn(*args, **kwargs)\n    File \"/usr/local/lib/python3.8/dist-packages/keras/layers/core/dense.py\", line 252, in call\n      outputs = tf.nn.bias_add(outputs, self.bias)\nNode: 'sequential_25/dense_145/BiasAdd'\nMatrix size-incompatible: In[0]: [32,1], In[1]: [1001,64]\n\t [[{{node sequential_25/dense_145/BiasAdd}}]] [Op:__inference_predict_function_970625]"
          ]
        }
      ]
    },
    {
      "cell_type": "code",
      "source": [
        "color_input_df.iloc[0, :]"
      ],
      "metadata": {
        "colab": {
          "base_uri": "https://localhost:8080/"
        },
        "id": "EZZtujgeC68r",
        "outputId": "5b1e6435-830a-4384-f42c-87c33e104d07"
      },
      "execution_count": 71,
      "outputs": [
        {
          "output_type": "execute_result",
          "data": {
            "text/plain": [
              "0                1\n",
              "1                0\n",
              "2                1\n",
              "3                1\n",
              "4                1\n",
              "             ...  \n",
              "996              0\n",
              "997              0\n",
              "998              0\n",
              "999              0\n",
              "price_og    129000\n",
              "Name: 0, Length: 1001, dtype: int64"
            ]
          },
          "metadata": {},
          "execution_count": 71
        }
      ]
    }
  ]
}