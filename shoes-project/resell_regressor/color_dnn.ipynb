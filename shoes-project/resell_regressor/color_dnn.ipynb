{
  "nbformat": 4,
  "nbformat_minor": 0,
  "metadata": {
    "colab": {
      "provenance": [],
      "toc_visible": true,
      "authorship_tag": "ABX9TyNjNdWugGdmgWyprRtSY4BF",
      "include_colab_link": true
    },
    "kernelspec": {
      "name": "python3",
      "display_name": "Python 3"
    },
    "language_info": {
      "name": "python"
    }
  },
  "cells": [
    {
      "cell_type": "markdown",
      "metadata": {
        "id": "view-in-github",
        "colab_type": "text"
      },
      "source": [
        "<a href=\"https://colab.research.google.com/github/donghui-0126/mini-project/blob/main/shoes-project/resell_regressor/color_dnn.ipynb\" target=\"_parent\"><img src=\"https://colab.research.google.com/assets/colab-badge.svg\" alt=\"Open In Colab\"/></a>"
      ]
    },
    {
      "cell_type": "code",
      "execution_count": 1,
      "metadata": {
        "id": "XZI9iwXXP8pI"
      },
      "outputs": [],
      "source": [
        "import numpy as np\n",
        "import pandas as pd\n",
        "import tensorflow as tf\n",
        "from tensorflow import keras\n",
        "from sklearn.linear_model import LinearRegression\n",
        "import warnings\n",
        "from sklearn.decomposition import PCA\n",
        "from sklearn.model_selection import KFold\n",
        "from sklearn.metrics import mean_squared_error\n",
        "\n",
        "warnings.filterwarnings('ignore')"
      ]
    },
    {
      "cell_type": "code",
      "source": [
        "from google.colab import drive\n",
        "drive.mount('/content/drive')"
      ],
      "metadata": {
        "id": "7BJG3hF3QCPq",
        "colab": {
          "base_uri": "https://localhost:8080/"
        },
        "outputId": "1803bfb8-6b40-4c11-f13f-466998a3eb7a"
      },
      "execution_count": 2,
      "outputs": [
        {
          "output_type": "stream",
          "name": "stdout",
          "text": [
            "Mounted at /content/drive\n"
          ]
        }
      ]
    },
    {
      "cell_type": "code",
      "source": [
        "df = pd.read_csv('/content/drive/MyDrive/kream_data/product_data_dpp.csv')\n",
        "df.head(3)"
      ],
      "metadata": {
        "colab": {
          "base_uri": "https://localhost:8080/",
          "height": 450
        },
        "id": "Ye8vahO3RjfV",
        "outputId": "69540fc3-92ca-4abd-c124-a63443bd24c3"
      },
      "execution_count": 3,
      "outputs": [
        {
          "output_type": "execute_result",
          "data": {
            "text/plain": [
              "  product_id                                   img_path brand  \\\n",
              "0      28029  crawling\\product_crawling\\image\\28029.jpg  Nike   \n",
              "1      12831  crawling\\product_crawling\\image\\12831.jpg  Nike   \n",
              "2      21935  crawling\\product_crawling\\image\\21935.jpg  Nike   \n",
              "\n",
              "                             name color1 color2  price_og  price_resell  \\\n",
              "0       Nike Dunk Low Retro Black  WHITE  BLACK    129000        152800   \n",
              "1  Nike Air Force 1 '07 Low White  WHITE  WHITE    139000        136200   \n",
              "2    Nike Air Force 1 '07 WB Flax   FLAX    GUM    169000        173200   \n",
              "\n",
              "    n_scrap  +price                              tokenized_color  \\\n",
              "0  123000.0   23800                [0 0 0 0 0 0 0 0 0 0 2 4 3 5]   \n",
              "1  151000.0   -2800                [0 0 0 0 0 0 0 0 0 0 2 4 3 4]   \n",
              "2   69000.0    4200  [ 0  0  0  0  0  0  0  0  0  0  2 82  3 51]   \n",
              "\n",
              "                                        tokenized_bn  \n",
              "0  [ 0  0  0  0  0  0  0  0  0  0  0  0  0  2  4 ...  \n",
              "1  [ 0  0  0  0  0  0  0  0  0  0  0  2  4  3  4 ...  \n",
              "2  [   0    0    0    0    0    0    0    0    0 ...  "
            ],
            "text/html": [
              "\n",
              "  <div id=\"df-cc4f470f-a2f7-42c7-af50-631be24314ca\">\n",
              "    <div class=\"colab-df-container\">\n",
              "      <div>\n",
              "<style scoped>\n",
              "    .dataframe tbody tr th:only-of-type {\n",
              "        vertical-align: middle;\n",
              "    }\n",
              "\n",
              "    .dataframe tbody tr th {\n",
              "        vertical-align: top;\n",
              "    }\n",
              "\n",
              "    .dataframe thead th {\n",
              "        text-align: right;\n",
              "    }\n",
              "</style>\n",
              "<table border=\"1\" class=\"dataframe\">\n",
              "  <thead>\n",
              "    <tr style=\"text-align: right;\">\n",
              "      <th></th>\n",
              "      <th>product_id</th>\n",
              "      <th>img_path</th>\n",
              "      <th>brand</th>\n",
              "      <th>name</th>\n",
              "      <th>color1</th>\n",
              "      <th>color2</th>\n",
              "      <th>price_og</th>\n",
              "      <th>price_resell</th>\n",
              "      <th>n_scrap</th>\n",
              "      <th>+price</th>\n",
              "      <th>tokenized_color</th>\n",
              "      <th>tokenized_bn</th>\n",
              "    </tr>\n",
              "  </thead>\n",
              "  <tbody>\n",
              "    <tr>\n",
              "      <th>0</th>\n",
              "      <td>28029</td>\n",
              "      <td>crawling\\product_crawling\\image\\28029.jpg</td>\n",
              "      <td>Nike</td>\n",
              "      <td>Nike Dunk Low Retro Black</td>\n",
              "      <td>WHITE</td>\n",
              "      <td>BLACK</td>\n",
              "      <td>129000</td>\n",
              "      <td>152800</td>\n",
              "      <td>123000.0</td>\n",
              "      <td>23800</td>\n",
              "      <td>[0 0 0 0 0 0 0 0 0 0 2 4 3 5]</td>\n",
              "      <td>[ 0  0  0  0  0  0  0  0  0  0  0  0  0  2  4 ...</td>\n",
              "    </tr>\n",
              "    <tr>\n",
              "      <th>1</th>\n",
              "      <td>12831</td>\n",
              "      <td>crawling\\product_crawling\\image\\12831.jpg</td>\n",
              "      <td>Nike</td>\n",
              "      <td>Nike Air Force 1 '07 Low White</td>\n",
              "      <td>WHITE</td>\n",
              "      <td>WHITE</td>\n",
              "      <td>139000</td>\n",
              "      <td>136200</td>\n",
              "      <td>151000.0</td>\n",
              "      <td>-2800</td>\n",
              "      <td>[0 0 0 0 0 0 0 0 0 0 2 4 3 4]</td>\n",
              "      <td>[ 0  0  0  0  0  0  0  0  0  0  0  2  4  3  4 ...</td>\n",
              "    </tr>\n",
              "    <tr>\n",
              "      <th>2</th>\n",
              "      <td>21935</td>\n",
              "      <td>crawling\\product_crawling\\image\\21935.jpg</td>\n",
              "      <td>Nike</td>\n",
              "      <td>Nike Air Force 1 '07 WB Flax</td>\n",
              "      <td>FLAX</td>\n",
              "      <td>GUM</td>\n",
              "      <td>169000</td>\n",
              "      <td>173200</td>\n",
              "      <td>69000.0</td>\n",
              "      <td>4200</td>\n",
              "      <td>[ 0  0  0  0  0  0  0  0  0  0  2 82  3 51]</td>\n",
              "      <td>[   0    0    0    0    0    0    0    0    0 ...</td>\n",
              "    </tr>\n",
              "  </tbody>\n",
              "</table>\n",
              "</div>\n",
              "      <button class=\"colab-df-convert\" onclick=\"convertToInteractive('df-cc4f470f-a2f7-42c7-af50-631be24314ca')\"\n",
              "              title=\"Convert this dataframe to an interactive table.\"\n",
              "              style=\"display:none;\">\n",
              "        \n",
              "  <svg xmlns=\"http://www.w3.org/2000/svg\" height=\"24px\"viewBox=\"0 0 24 24\"\n",
              "       width=\"24px\">\n",
              "    <path d=\"M0 0h24v24H0V0z\" fill=\"none\"/>\n",
              "    <path d=\"M18.56 5.44l.94 2.06.94-2.06 2.06-.94-2.06-.94-.94-2.06-.94 2.06-2.06.94zm-11 1L8.5 8.5l.94-2.06 2.06-.94-2.06-.94L8.5 2.5l-.94 2.06-2.06.94zm10 10l.94 2.06.94-2.06 2.06-.94-2.06-.94-.94-2.06-.94 2.06-2.06.94z\"/><path d=\"M17.41 7.96l-1.37-1.37c-.4-.4-.92-.59-1.43-.59-.52 0-1.04.2-1.43.59L10.3 9.45l-7.72 7.72c-.78.78-.78 2.05 0 2.83L4 21.41c.39.39.9.59 1.41.59.51 0 1.02-.2 1.41-.59l7.78-7.78 2.81-2.81c.8-.78.8-2.07 0-2.86zM5.41 20L4 18.59l7.72-7.72 1.47 1.35L5.41 20z\"/>\n",
              "  </svg>\n",
              "      </button>\n",
              "      \n",
              "  <style>\n",
              "    .colab-df-container {\n",
              "      display:flex;\n",
              "      flex-wrap:wrap;\n",
              "      gap: 12px;\n",
              "    }\n",
              "\n",
              "    .colab-df-convert {\n",
              "      background-color: #E8F0FE;\n",
              "      border: none;\n",
              "      border-radius: 50%;\n",
              "      cursor: pointer;\n",
              "      display: none;\n",
              "      fill: #1967D2;\n",
              "      height: 32px;\n",
              "      padding: 0 0 0 0;\n",
              "      width: 32px;\n",
              "    }\n",
              "\n",
              "    .colab-df-convert:hover {\n",
              "      background-color: #E2EBFA;\n",
              "      box-shadow: 0px 1px 2px rgba(60, 64, 67, 0.3), 0px 1px 3px 1px rgba(60, 64, 67, 0.15);\n",
              "      fill: #174EA6;\n",
              "    }\n",
              "\n",
              "    [theme=dark] .colab-df-convert {\n",
              "      background-color: #3B4455;\n",
              "      fill: #D2E3FC;\n",
              "    }\n",
              "\n",
              "    [theme=dark] .colab-df-convert:hover {\n",
              "      background-color: #434B5C;\n",
              "      box-shadow: 0px 1px 3px 1px rgba(0, 0, 0, 0.15);\n",
              "      filter: drop-shadow(0px 1px 2px rgba(0, 0, 0, 0.3));\n",
              "      fill: #FFFFFF;\n",
              "    }\n",
              "  </style>\n",
              "\n",
              "      <script>\n",
              "        const buttonEl =\n",
              "          document.querySelector('#df-cc4f470f-a2f7-42c7-af50-631be24314ca button.colab-df-convert');\n",
              "        buttonEl.style.display =\n",
              "          google.colab.kernel.accessAllowed ? 'block' : 'none';\n",
              "\n",
              "        async function convertToInteractive(key) {\n",
              "          const element = document.querySelector('#df-cc4f470f-a2f7-42c7-af50-631be24314ca');\n",
              "          const dataTable =\n",
              "            await google.colab.kernel.invokeFunction('convertToInteractive',\n",
              "                                                     [key], {});\n",
              "          if (!dataTable) return;\n",
              "\n",
              "          const docLinkHtml = 'Like what you see? Visit the ' +\n",
              "            '<a target=\"_blank\" href=https://colab.research.google.com/notebooks/data_table.ipynb>data table notebook</a>'\n",
              "            + ' to learn more about interactive tables.';\n",
              "          element.innerHTML = '';\n",
              "          dataTable['output_type'] = 'display_data';\n",
              "          await google.colab.output.renderOutput(dataTable, element);\n",
              "          const docLink = document.createElement('div');\n",
              "          docLink.innerHTML = docLinkHtml;\n",
              "          element.appendChild(docLink);\n",
              "        }\n",
              "      </script>\n",
              "    </div>\n",
              "  </div>\n",
              "  "
            ]
          },
          "metadata": {},
          "execution_count": 3
        }
      ]
    },
    {
      "cell_type": "code",
      "source": [
        "df.shape"
      ],
      "metadata": {
        "colab": {
          "base_uri": "https://localhost:8080/"
        },
        "id": "Z7BKiN23gB2u",
        "outputId": "4690d75b-61f4-4fd2-8e66-e3ef3ced5b00"
      },
      "execution_count": 4,
      "outputs": [
        {
          "output_type": "execute_result",
          "data": {
            "text/plain": [
              "(6103, 12)"
            ]
          },
          "metadata": {},
          "execution_count": 4
        }
      ]
    },
    {
      "cell_type": "code",
      "source": [
        "color_input_data = np.array([])\n",
        "\n",
        "for val in df['tokenized_color'].values:\n",
        "    val = [int(x) for x in val.strip('[]').split()]\n",
        "    color_input_data = np.append(color_input_data, val)\n",
        "\n",
        "color_input_data = color_input_data.reshape([6103, 14])\n",
        "color_input_data = color_input_data.astype(int)"
      ],
      "metadata": {
        "id": "QZcQryxWcXXJ"
      },
      "execution_count": 10,
      "outputs": []
    },
    {
      "cell_type": "code",
      "source": [
        "color_input_data.shape"
      ],
      "metadata": {
        "colab": {
          "base_uri": "https://localhost:8080/"
        },
        "id": "VqUG9IPVf43w",
        "outputId": "28b8ea95-7282-4315-b22a-e4af47a523d9"
      },
      "execution_count": 11,
      "outputs": [
        {
          "output_type": "execute_result",
          "data": {
            "text/plain": [
              "(6103, 14)"
            ]
          },
          "metadata": {},
          "execution_count": 11
        }
      ]
    },
    {
      "cell_type": "code",
      "source": [
        "color_input_data"
      ],
      "metadata": {
        "colab": {
          "base_uri": "https://localhost:8080/"
        },
        "id": "sYVlDgTIeXnE",
        "outputId": "6722ee5c-88cc-4745-a4b6-cf414235b242"
      },
      "execution_count": 12,
      "outputs": [
        {
          "output_type": "execute_result",
          "data": {
            "text/plain": [
              "array([[ 0,  0,  0, ...,  4,  3,  5],\n",
              "       [ 0,  0,  0, ...,  4,  3,  4],\n",
              "       [ 0,  0,  0, ..., 82,  3, 51],\n",
              "       ...,\n",
              "       [ 0,  0,  0, ...,  5,  3,  4],\n",
              "       [ 0,  0,  0, ...,  4,  3,  4],\n",
              "       [ 0,  0,  0, ...,  4,  3,  4]])"
            ]
          },
          "metadata": {},
          "execution_count": 12
        }
      ]
    },
    {
      "cell_type": "code",
      "source": [
        "columns = [x for x in range(1000)]\n",
        "index = [y for y in range(color_input_data.shape[0])]\n",
        "\n",
        "\n",
        "color_input_df = pd.DataFrame(index=index, columns=columns)\n",
        "color_input_df = color_input_df.fillna(0)\n",
        "\n",
        "for index, line in enumerate(color_input_data):\n",
        "    for elem in set(line):\n",
        "        if elem < 1000:\n",
        "            color_input_df.iloc[index,elem] = 1\n",
        "        else:\n",
        "            color_input_df.iloc[index,0] = 1"
      ],
      "metadata": {
        "id": "WW3rsSaAeNCs"
      },
      "execution_count": 14,
      "outputs": []
    },
    {
      "cell_type": "code",
      "source": [
        "color_input_df.head(3)"
      ],
      "metadata": {
        "colab": {
          "base_uri": "https://localhost:8080/",
          "height": 173
        },
        "id": "D9019ZnDet4k",
        "outputId": "ed344490-b358-4cb6-b25a-a430041b5f56"
      },
      "execution_count": 18,
      "outputs": [
        {
          "output_type": "execute_result",
          "data": {
            "text/plain": [
              "   0  1  2  3  4  5  6  7  8  9  ...  991  992  993  994  995  996  997  998  \\\n",
              "0  1  0  1  1  1  1  0  0  0  0  ...    0    0    0    0    0    0    0    0   \n",
              "1  1  0  1  1  1  0  0  0  0  0  ...    0    0    0    0    0    0    0    0   \n",
              "2  1  0  1  1  0  0  0  0  0  0  ...    0    0    0    0    0    0    0    0   \n",
              "\n",
              "   999  price_og  \n",
              "0    0    129000  \n",
              "1    0    139000  \n",
              "2    0    169000  \n",
              "\n",
              "[3 rows x 1001 columns]"
            ],
            "text/html": [
              "\n",
              "  <div id=\"df-d5e44cdf-9c37-4fd4-84bf-5e60e58f2aa3\">\n",
              "    <div class=\"colab-df-container\">\n",
              "      <div>\n",
              "<style scoped>\n",
              "    .dataframe tbody tr th:only-of-type {\n",
              "        vertical-align: middle;\n",
              "    }\n",
              "\n",
              "    .dataframe tbody tr th {\n",
              "        vertical-align: top;\n",
              "    }\n",
              "\n",
              "    .dataframe thead th {\n",
              "        text-align: right;\n",
              "    }\n",
              "</style>\n",
              "<table border=\"1\" class=\"dataframe\">\n",
              "  <thead>\n",
              "    <tr style=\"text-align: right;\">\n",
              "      <th></th>\n",
              "      <th>0</th>\n",
              "      <th>1</th>\n",
              "      <th>2</th>\n",
              "      <th>3</th>\n",
              "      <th>4</th>\n",
              "      <th>5</th>\n",
              "      <th>6</th>\n",
              "      <th>7</th>\n",
              "      <th>8</th>\n",
              "      <th>9</th>\n",
              "      <th>...</th>\n",
              "      <th>991</th>\n",
              "      <th>992</th>\n",
              "      <th>993</th>\n",
              "      <th>994</th>\n",
              "      <th>995</th>\n",
              "      <th>996</th>\n",
              "      <th>997</th>\n",
              "      <th>998</th>\n",
              "      <th>999</th>\n",
              "      <th>price_og</th>\n",
              "    </tr>\n",
              "  </thead>\n",
              "  <tbody>\n",
              "    <tr>\n",
              "      <th>0</th>\n",
              "      <td>1</td>\n",
              "      <td>0</td>\n",
              "      <td>1</td>\n",
              "      <td>1</td>\n",
              "      <td>1</td>\n",
              "      <td>1</td>\n",
              "      <td>0</td>\n",
              "      <td>0</td>\n",
              "      <td>0</td>\n",
              "      <td>0</td>\n",
              "      <td>...</td>\n",
              "      <td>0</td>\n",
              "      <td>0</td>\n",
              "      <td>0</td>\n",
              "      <td>0</td>\n",
              "      <td>0</td>\n",
              "      <td>0</td>\n",
              "      <td>0</td>\n",
              "      <td>0</td>\n",
              "      <td>0</td>\n",
              "      <td>129000</td>\n",
              "    </tr>\n",
              "    <tr>\n",
              "      <th>1</th>\n",
              "      <td>1</td>\n",
              "      <td>0</td>\n",
              "      <td>1</td>\n",
              "      <td>1</td>\n",
              "      <td>1</td>\n",
              "      <td>0</td>\n",
              "      <td>0</td>\n",
              "      <td>0</td>\n",
              "      <td>0</td>\n",
              "      <td>0</td>\n",
              "      <td>...</td>\n",
              "      <td>0</td>\n",
              "      <td>0</td>\n",
              "      <td>0</td>\n",
              "      <td>0</td>\n",
              "      <td>0</td>\n",
              "      <td>0</td>\n",
              "      <td>0</td>\n",
              "      <td>0</td>\n",
              "      <td>0</td>\n",
              "      <td>139000</td>\n",
              "    </tr>\n",
              "    <tr>\n",
              "      <th>2</th>\n",
              "      <td>1</td>\n",
              "      <td>0</td>\n",
              "      <td>1</td>\n",
              "      <td>1</td>\n",
              "      <td>0</td>\n",
              "      <td>0</td>\n",
              "      <td>0</td>\n",
              "      <td>0</td>\n",
              "      <td>0</td>\n",
              "      <td>0</td>\n",
              "      <td>...</td>\n",
              "      <td>0</td>\n",
              "      <td>0</td>\n",
              "      <td>0</td>\n",
              "      <td>0</td>\n",
              "      <td>0</td>\n",
              "      <td>0</td>\n",
              "      <td>0</td>\n",
              "      <td>0</td>\n",
              "      <td>0</td>\n",
              "      <td>169000</td>\n",
              "    </tr>\n",
              "  </tbody>\n",
              "</table>\n",
              "<p>3 rows × 1001 columns</p>\n",
              "</div>\n",
              "      <button class=\"colab-df-convert\" onclick=\"convertToInteractive('df-d5e44cdf-9c37-4fd4-84bf-5e60e58f2aa3')\"\n",
              "              title=\"Convert this dataframe to an interactive table.\"\n",
              "              style=\"display:none;\">\n",
              "        \n",
              "  <svg xmlns=\"http://www.w3.org/2000/svg\" height=\"24px\"viewBox=\"0 0 24 24\"\n",
              "       width=\"24px\">\n",
              "    <path d=\"M0 0h24v24H0V0z\" fill=\"none\"/>\n",
              "    <path d=\"M18.56 5.44l.94 2.06.94-2.06 2.06-.94-2.06-.94-.94-2.06-.94 2.06-2.06.94zm-11 1L8.5 8.5l.94-2.06 2.06-.94-2.06-.94L8.5 2.5l-.94 2.06-2.06.94zm10 10l.94 2.06.94-2.06 2.06-.94-2.06-.94-.94-2.06-.94 2.06-2.06.94z\"/><path d=\"M17.41 7.96l-1.37-1.37c-.4-.4-.92-.59-1.43-.59-.52 0-1.04.2-1.43.59L10.3 9.45l-7.72 7.72c-.78.78-.78 2.05 0 2.83L4 21.41c.39.39.9.59 1.41.59.51 0 1.02-.2 1.41-.59l7.78-7.78 2.81-2.81c.8-.78.8-2.07 0-2.86zM5.41 20L4 18.59l7.72-7.72 1.47 1.35L5.41 20z\"/>\n",
              "  </svg>\n",
              "      </button>\n",
              "      \n",
              "  <style>\n",
              "    .colab-df-container {\n",
              "      display:flex;\n",
              "      flex-wrap:wrap;\n",
              "      gap: 12px;\n",
              "    }\n",
              "\n",
              "    .colab-df-convert {\n",
              "      background-color: #E8F0FE;\n",
              "      border: none;\n",
              "      border-radius: 50%;\n",
              "      cursor: pointer;\n",
              "      display: none;\n",
              "      fill: #1967D2;\n",
              "      height: 32px;\n",
              "      padding: 0 0 0 0;\n",
              "      width: 32px;\n",
              "    }\n",
              "\n",
              "    .colab-df-convert:hover {\n",
              "      background-color: #E2EBFA;\n",
              "      box-shadow: 0px 1px 2px rgba(60, 64, 67, 0.3), 0px 1px 3px 1px rgba(60, 64, 67, 0.15);\n",
              "      fill: #174EA6;\n",
              "    }\n",
              "\n",
              "    [theme=dark] .colab-df-convert {\n",
              "      background-color: #3B4455;\n",
              "      fill: #D2E3FC;\n",
              "    }\n",
              "\n",
              "    [theme=dark] .colab-df-convert:hover {\n",
              "      background-color: #434B5C;\n",
              "      box-shadow: 0px 1px 3px 1px rgba(0, 0, 0, 0.15);\n",
              "      filter: drop-shadow(0px 1px 2px rgba(0, 0, 0, 0.3));\n",
              "      fill: #FFFFFF;\n",
              "    }\n",
              "  </style>\n",
              "\n",
              "      <script>\n",
              "        const buttonEl =\n",
              "          document.querySelector('#df-d5e44cdf-9c37-4fd4-84bf-5e60e58f2aa3 button.colab-df-convert');\n",
              "        buttonEl.style.display =\n",
              "          google.colab.kernel.accessAllowed ? 'block' : 'none';\n",
              "\n",
              "        async function convertToInteractive(key) {\n",
              "          const element = document.querySelector('#df-d5e44cdf-9c37-4fd4-84bf-5e60e58f2aa3');\n",
              "          const dataTable =\n",
              "            await google.colab.kernel.invokeFunction('convertToInteractive',\n",
              "                                                     [key], {});\n",
              "          if (!dataTable) return;\n",
              "\n",
              "          const docLinkHtml = 'Like what you see? Visit the ' +\n",
              "            '<a target=\"_blank\" href=https://colab.research.google.com/notebooks/data_table.ipynb>data table notebook</a>'\n",
              "            + ' to learn more about interactive tables.';\n",
              "          element.innerHTML = '';\n",
              "          dataTable['output_type'] = 'display_data';\n",
              "          await google.colab.output.renderOutput(dataTable, element);\n",
              "          const docLink = document.createElement('div');\n",
              "          docLink.innerHTML = docLinkHtml;\n",
              "          element.appendChild(docLink);\n",
              "        }\n",
              "      </script>\n",
              "    </div>\n",
              "  </div>\n",
              "  "
            ]
          },
          "metadata": {},
          "execution_count": 18
        }
      ]
    },
    {
      "cell_type": "code",
      "source": [
        "# 정가를 피처에 추가해준다.\n",
        "\n",
        "color_input_df = pd.concat([color_input_df, df[\"price_og\"]], axis=1)"
      ],
      "metadata": {
        "id": "45bEursTXRvT"
      },
      "execution_count": 17,
      "outputs": []
    },
    {
      "cell_type": "code",
      "source": [
        "color_input_df.head(3)"
      ],
      "metadata": {
        "colab": {
          "base_uri": "https://localhost:8080/",
          "height": 173
        },
        "id": "_sn9B9b5XhHj",
        "outputId": "a533fa89-8126-47dc-c5b8-469dc0a08907"
      },
      "execution_count": 20,
      "outputs": [
        {
          "output_type": "execute_result",
          "data": {
            "text/plain": [
              "   0  1  2  3  4  5  6  7  8  9  ...  991  992  993  994  995  996  997  998  \\\n",
              "0  1  0  1  1  1  1  0  0  0  0  ...    0    0    0    0    0    0    0    0   \n",
              "1  1  0  1  1  1  0  0  0  0  0  ...    0    0    0    0    0    0    0    0   \n",
              "2  1  0  1  1  0  0  0  0  0  0  ...    0    0    0    0    0    0    0    0   \n",
              "\n",
              "   999  price_og  \n",
              "0    0    129000  \n",
              "1    0    139000  \n",
              "2    0    169000  \n",
              "\n",
              "[3 rows x 1001 columns]"
            ],
            "text/html": [
              "\n",
              "  <div id=\"df-102b3271-eec8-4abf-9bfa-7210922aea17\">\n",
              "    <div class=\"colab-df-container\">\n",
              "      <div>\n",
              "<style scoped>\n",
              "    .dataframe tbody tr th:only-of-type {\n",
              "        vertical-align: middle;\n",
              "    }\n",
              "\n",
              "    .dataframe tbody tr th {\n",
              "        vertical-align: top;\n",
              "    }\n",
              "\n",
              "    .dataframe thead th {\n",
              "        text-align: right;\n",
              "    }\n",
              "</style>\n",
              "<table border=\"1\" class=\"dataframe\">\n",
              "  <thead>\n",
              "    <tr style=\"text-align: right;\">\n",
              "      <th></th>\n",
              "      <th>0</th>\n",
              "      <th>1</th>\n",
              "      <th>2</th>\n",
              "      <th>3</th>\n",
              "      <th>4</th>\n",
              "      <th>5</th>\n",
              "      <th>6</th>\n",
              "      <th>7</th>\n",
              "      <th>8</th>\n",
              "      <th>9</th>\n",
              "      <th>...</th>\n",
              "      <th>991</th>\n",
              "      <th>992</th>\n",
              "      <th>993</th>\n",
              "      <th>994</th>\n",
              "      <th>995</th>\n",
              "      <th>996</th>\n",
              "      <th>997</th>\n",
              "      <th>998</th>\n",
              "      <th>999</th>\n",
              "      <th>price_og</th>\n",
              "    </tr>\n",
              "  </thead>\n",
              "  <tbody>\n",
              "    <tr>\n",
              "      <th>0</th>\n",
              "      <td>1</td>\n",
              "      <td>0</td>\n",
              "      <td>1</td>\n",
              "      <td>1</td>\n",
              "      <td>1</td>\n",
              "      <td>1</td>\n",
              "      <td>0</td>\n",
              "      <td>0</td>\n",
              "      <td>0</td>\n",
              "      <td>0</td>\n",
              "      <td>...</td>\n",
              "      <td>0</td>\n",
              "      <td>0</td>\n",
              "      <td>0</td>\n",
              "      <td>0</td>\n",
              "      <td>0</td>\n",
              "      <td>0</td>\n",
              "      <td>0</td>\n",
              "      <td>0</td>\n",
              "      <td>0</td>\n",
              "      <td>129000</td>\n",
              "    </tr>\n",
              "    <tr>\n",
              "      <th>1</th>\n",
              "      <td>1</td>\n",
              "      <td>0</td>\n",
              "      <td>1</td>\n",
              "      <td>1</td>\n",
              "      <td>1</td>\n",
              "      <td>0</td>\n",
              "      <td>0</td>\n",
              "      <td>0</td>\n",
              "      <td>0</td>\n",
              "      <td>0</td>\n",
              "      <td>...</td>\n",
              "      <td>0</td>\n",
              "      <td>0</td>\n",
              "      <td>0</td>\n",
              "      <td>0</td>\n",
              "      <td>0</td>\n",
              "      <td>0</td>\n",
              "      <td>0</td>\n",
              "      <td>0</td>\n",
              "      <td>0</td>\n",
              "      <td>139000</td>\n",
              "    </tr>\n",
              "    <tr>\n",
              "      <th>2</th>\n",
              "      <td>1</td>\n",
              "      <td>0</td>\n",
              "      <td>1</td>\n",
              "      <td>1</td>\n",
              "      <td>0</td>\n",
              "      <td>0</td>\n",
              "      <td>0</td>\n",
              "      <td>0</td>\n",
              "      <td>0</td>\n",
              "      <td>0</td>\n",
              "      <td>...</td>\n",
              "      <td>0</td>\n",
              "      <td>0</td>\n",
              "      <td>0</td>\n",
              "      <td>0</td>\n",
              "      <td>0</td>\n",
              "      <td>0</td>\n",
              "      <td>0</td>\n",
              "      <td>0</td>\n",
              "      <td>0</td>\n",
              "      <td>169000</td>\n",
              "    </tr>\n",
              "  </tbody>\n",
              "</table>\n",
              "<p>3 rows × 1001 columns</p>\n",
              "</div>\n",
              "      <button class=\"colab-df-convert\" onclick=\"convertToInteractive('df-102b3271-eec8-4abf-9bfa-7210922aea17')\"\n",
              "              title=\"Convert this dataframe to an interactive table.\"\n",
              "              style=\"display:none;\">\n",
              "        \n",
              "  <svg xmlns=\"http://www.w3.org/2000/svg\" height=\"24px\"viewBox=\"0 0 24 24\"\n",
              "       width=\"24px\">\n",
              "    <path d=\"M0 0h24v24H0V0z\" fill=\"none\"/>\n",
              "    <path d=\"M18.56 5.44l.94 2.06.94-2.06 2.06-.94-2.06-.94-.94-2.06-.94 2.06-2.06.94zm-11 1L8.5 8.5l.94-2.06 2.06-.94-2.06-.94L8.5 2.5l-.94 2.06-2.06.94zm10 10l.94 2.06.94-2.06 2.06-.94-2.06-.94-.94-2.06-.94 2.06-2.06.94z\"/><path d=\"M17.41 7.96l-1.37-1.37c-.4-.4-.92-.59-1.43-.59-.52 0-1.04.2-1.43.59L10.3 9.45l-7.72 7.72c-.78.78-.78 2.05 0 2.83L4 21.41c.39.39.9.59 1.41.59.51 0 1.02-.2 1.41-.59l7.78-7.78 2.81-2.81c.8-.78.8-2.07 0-2.86zM5.41 20L4 18.59l7.72-7.72 1.47 1.35L5.41 20z\"/>\n",
              "  </svg>\n",
              "      </button>\n",
              "      \n",
              "  <style>\n",
              "    .colab-df-container {\n",
              "      display:flex;\n",
              "      flex-wrap:wrap;\n",
              "      gap: 12px;\n",
              "    }\n",
              "\n",
              "    .colab-df-convert {\n",
              "      background-color: #E8F0FE;\n",
              "      border: none;\n",
              "      border-radius: 50%;\n",
              "      cursor: pointer;\n",
              "      display: none;\n",
              "      fill: #1967D2;\n",
              "      height: 32px;\n",
              "      padding: 0 0 0 0;\n",
              "      width: 32px;\n",
              "    }\n",
              "\n",
              "    .colab-df-convert:hover {\n",
              "      background-color: #E2EBFA;\n",
              "      box-shadow: 0px 1px 2px rgba(60, 64, 67, 0.3), 0px 1px 3px 1px rgba(60, 64, 67, 0.15);\n",
              "      fill: #174EA6;\n",
              "    }\n",
              "\n",
              "    [theme=dark] .colab-df-convert {\n",
              "      background-color: #3B4455;\n",
              "      fill: #D2E3FC;\n",
              "    }\n",
              "\n",
              "    [theme=dark] .colab-df-convert:hover {\n",
              "      background-color: #434B5C;\n",
              "      box-shadow: 0px 1px 3px 1px rgba(0, 0, 0, 0.15);\n",
              "      filter: drop-shadow(0px 1px 2px rgba(0, 0, 0, 0.3));\n",
              "      fill: #FFFFFF;\n",
              "    }\n",
              "  </style>\n",
              "\n",
              "      <script>\n",
              "        const buttonEl =\n",
              "          document.querySelector('#df-102b3271-eec8-4abf-9bfa-7210922aea17 button.colab-df-convert');\n",
              "        buttonEl.style.display =\n",
              "          google.colab.kernel.accessAllowed ? 'block' : 'none';\n",
              "\n",
              "        async function convertToInteractive(key) {\n",
              "          const element = document.querySelector('#df-102b3271-eec8-4abf-9bfa-7210922aea17');\n",
              "          const dataTable =\n",
              "            await google.colab.kernel.invokeFunction('convertToInteractive',\n",
              "                                                     [key], {});\n",
              "          if (!dataTable) return;\n",
              "\n",
              "          const docLinkHtml = 'Like what you see? Visit the ' +\n",
              "            '<a target=\"_blank\" href=https://colab.research.google.com/notebooks/data_table.ipynb>data table notebook</a>'\n",
              "            + ' to learn more about interactive tables.';\n",
              "          element.innerHTML = '';\n",
              "          dataTable['output_type'] = 'display_data';\n",
              "          await google.colab.output.renderOutput(dataTable, element);\n",
              "          const docLink = document.createElement('div');\n",
              "          docLink.innerHTML = docLinkHtml;\n",
              "          element.appendChild(docLink);\n",
              "        }\n",
              "      </script>\n",
              "    </div>\n",
              "  </div>\n",
              "  "
            ]
          },
          "metadata": {},
          "execution_count": 20
        }
      ]
    },
    {
      "cell_type": "code",
      "source": [
        "color_input_df.shape"
      ],
      "metadata": {
        "colab": {
          "base_uri": "https://localhost:8080/"
        },
        "id": "qGfRWtw6liiB",
        "outputId": "f6c4810a-d6f1-442e-8a91-b6829126570c"
      },
      "execution_count": 21,
      "outputs": [
        {
          "output_type": "execute_result",
          "data": {
            "text/plain": [
              "(6103, 1001)"
            ]
          },
          "metadata": {},
          "execution_count": 21
        }
      ]
    },
    {
      "cell_type": "code",
      "source": [
        "# 신발의 브랜드와 이름은 리셀가격(신발의 본래 가치??)와 관련이 클 것 같아서 target데이터를 price_resell 로 설정함. \n",
        "\n",
        "target_data = np.array(df['price_resell'])\n",
        "print(target_data.shape)"
      ],
      "metadata": {
        "colab": {
          "base_uri": "https://localhost:8080/"
        },
        "id": "pD-bO2RWeG2y",
        "outputId": "f53e1d4c-713c-4c88-f3c8-8d7a980b03c9"
      },
      "execution_count": 36,
      "outputs": [
        {
          "output_type": "stream",
          "name": "stdout",
          "text": [
            "(6103,)\n"
          ]
        }
      ]
    },
    {
      "cell_type": "code",
      "source": [
        "target_data.astype(int)"
      ],
      "metadata": {
        "colab": {
          "base_uri": "https://localhost:8080/"
        },
        "id": "JRKyTwC8e_A_",
        "outputId": "d999bd29-6a2d-497c-c16d-2453233a8a5c"
      },
      "execution_count": 37,
      "outputs": [
        {
          "output_type": "execute_result",
          "data": {
            "text/plain": [
              "array([152800, 136200, 173200, ..., 450000, 457500, 400000])"
            ]
          },
          "metadata": {},
          "execution_count": 37
        }
      ]
    },
    {
      "cell_type": "code",
      "source": [
        "for n in [10,30,50]:\n",
        "    pca = PCA(n_components=n)\n",
        "    color_pca = pca.fit_transform(color_input_df)\n",
        "    color_pca_df = pd.DataFrame(color_pca)\n",
        "    print(sum(pca.explained_variance_ratio_))"
      ],
      "metadata": {
        "colab": {
          "base_uri": "https://localhost:8080/"
        },
        "id": "K44goIVOnt7I",
        "outputId": "81f10d54-ae3c-410d-8ac1-4ff7b4e664b2"
      },
      "execution_count": 38,
      "outputs": [
        {
          "output_type": "stream",
          "name": "stdout",
          "text": [
            "0.9999999999350974\n",
            "0.9999999999581247\n",
            "0.9999999999669893\n"
          ]
        }
      ]
    },
    {
      "cell_type": "code",
      "source": [
        "# PCA의 차원을 늘리면서  K-fold를 사용해서 어떤 모델이 가장 효율적인지 살펴보겠다. \n",
        "\n",
        "for n in [30, 50]:\n",
        "    pca = PCA(n_components=n)\n",
        "    color_pca = pca.fit_transform(color_input_df)\n",
        "    color_pca_df = pd.DataFrame(color_pca)\n",
        "\n",
        "    kf = KFold(n_splits = 5)\n",
        "    \n",
        "    rmse_list = []\n",
        "    for train_index, test_index in kf.split(target_data):\n",
        "        color_pca_df_train, color_pca_df_test = color_pca_df.loc[train_index], color_pca_df.loc[test_index]\n",
        "        target_data_train, target_data_test  = target_data[train_index], target_data[test_index]\n",
        "\n",
        "        reg = LinearRegression().fit(color_pca_df_train, target_data_train)\n",
        "\n",
        "        pred = reg.predict(color_pca_df_test)\n",
        "        rmse = mean_squared_error(pred, target_data_test, squared=False)\n",
        "        rmse_list.append(rmse)\n",
        "        # print(rmse)\n",
        "        \n",
        "    print(\"PCA:\", n, \"rmse:\", round(np.mean(rmse_list)))"
      ],
      "metadata": {
        "colab": {
          "base_uri": "https://localhost:8080/"
        },
        "id": "YV7sCLJpGh0X",
        "outputId": "10d8e683-4a9b-4b16-c07f-dae75e3ac79c"
      },
      "execution_count": 39,
      "outputs": [
        {
          "output_type": "stream",
          "name": "stdout",
          "text": [
            "PCA: 30 rmse: 286529\n",
            "PCA: 50 rmse: 286441\n"
          ]
        }
      ]
    },
    {
      "cell_type": "code",
      "source": [
        "# PCA의 차원을 늘리면서  K-fold를 사용해서 어떤 모델이 가장 효율적인지 살펴보겠다. \n",
        "\n",
        "from lightgbm import LGBMRegressor\n",
        "\n",
        "# PCA의 차원을 늘리면서  K-fold를 사용해서 어떤 모델이 가장 효율적인지 살펴보겠다. \n",
        "\n",
        "for n in [10, 30, 50]:\n",
        "    pca = PCA(n_components=n)\n",
        "    color_pca = pca.fit_transform(color_input_df)\n",
        "    color_pca_df = pd.DataFrame(color_pca)\n",
        "\n",
        "    kf = KFold(n_splits = 5)\n",
        "    \n",
        "    rmse_list = []\n",
        "    for train_index, test_index in kf.split(target_data):\n",
        "        color_pca_df_train, color_pca_df_test = color_pca_df.loc[train_index], color_pca_df.loc[test_index]\n",
        "        target_data_train, target_data_test  = target_data[train_index], target_data[test_index]\n",
        "\n",
        "        lgbm_reg = LGBMRegressor().fit(color_pca_df_train, target_data_train)\n",
        "\n",
        "        pred = lgbm_reg.predict(color_pca_df_test)\n",
        "        rmse = mean_squared_error(pred, target_data_test, squared=False)\n",
        "        rmse_list.append(rmse)\n",
        "        # print(rmse)\n",
        "        \n",
        "    print(\"PCA:\", n, \"rmse:\", round(np.mean(rmse_list)))"
      ],
      "metadata": {
        "colab": {
          "base_uri": "https://localhost:8080/"
        },
        "id": "CD8MGzJicNlS",
        "outputId": "295e6ac1-e989-43e6-885e-40c8ef21fce0"
      },
      "execution_count": 41,
      "outputs": [
        {
          "output_type": "stream",
          "name": "stdout",
          "text": [
            "PCA: 10 rmse: 276825\n",
            "PCA: 30 rmse: 273401\n",
            "PCA: 50 rmse: 272546\n"
          ]
        }
      ]
    },
    {
      "cell_type": "code",
      "source": [
        "for n in [32, 64]:\n",
        "    pca = PCA(n_components=n)\n",
        "    color_pca = pca.fit_transform(color_input_df)\n",
        "    color_pca_df = pd.DataFrame(color_pca)\n",
        "\n",
        "    kf = KFold(n_splits = 5)\n",
        "    \n",
        "    rmse_list = []\n",
        "    for train_index, test_index in kf.split(target_data):\n",
        "        color_pca_df_train, color_pca_df_test = color_pca_df.loc[train_index], color_pca_df.loc[test_index]\n",
        "        target_data_train, target_data_test  = target_data[train_index], target_data[test_index]\n",
        "\n",
        "        model = keras.models.Sequential([\n",
        "                keras.layers.Dense(16),\n",
        "                keras.layers.Dense(8),\n",
        "                keras.layers.Dense(1)\n",
        "        ])\n",
        "\n",
        "        model.compile(loss=\"mse\")\n",
        "        model.fit(color_pca_df_train,target_data_train, epochs=20, verbose=0)\n",
        "        pred = model.predict(color_pca_df_test, verbose=0)\n",
        "        rmse = mean_squared_error(target_data_test,pred, squared= False)\n",
        "\n",
        "        rmse_list.append(rmse)\n",
        "    print(\"PCA:\", n, \"rmse:\", round(np.mean(rmse_list)))"
      ],
      "metadata": {
        "colab": {
          "base_uri": "https://localhost:8080/"
        },
        "id": "B--B4m8kj74F",
        "outputId": "44b201cb-73ad-4c89-8a91-d12f19016349"
      },
      "execution_count": 30,
      "outputs": [
        {
          "output_type": "stream",
          "name": "stdout",
          "text": [
            "PCA: 32 rmse: 378717\n",
            "PCA: 64 rmse: 380063\n"
          ]
        }
      ]
    },
    {
      "cell_type": "markdown",
      "source": [
        "여러 가지를 실험해봤는데.... bn_dnn과 마찬가지로\n",
        "\n",
        "- 주성분을 30개~50개로 축소한 lgbm 모델이 적절할듯 하다."
      ],
      "metadata": {
        "id": "5HgVyhRkcHWd"
      }
    },
    {
      "cell_type": "markdown",
      "source": [
        "뭔가 rmse가 너무 큰데.... 잘 모르겠다.\n",
        "\n",
        "일단 이미지인식 CNN까지 진행하고 생각해 봐야겠다.\n"
      ],
      "metadata": {
        "id": "pu2Po5lUgFTp"
      }
    },
    {
      "cell_type": "code",
      "source": [],
      "metadata": {
        "id": "dTLAYr75iF3p"
      },
      "execution_count": null,
      "outputs": []
    }
  ]
}