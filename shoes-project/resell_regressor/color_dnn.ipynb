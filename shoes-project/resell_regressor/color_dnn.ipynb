{
  "nbformat": 4,
  "nbformat_minor": 0,
  "metadata": {
    "colab": {
      "provenance": [],
      "gpuType": "T4"
    },
    "kernelspec": {
      "name": "python3",
      "display_name": "Python 3"
    },
    "language_info": {
      "name": "python"
    },
    "accelerator": "GPU"
  },
  "cells": [
    {
      "cell_type": "markdown",
      "metadata": {
        "id": "view-in-github"
      },
      "source": [
        "<a href=\"https://colab.research.google.com/github/donghui-0126/mini-project/blob/main/shoes-project/resell_regressor/bn_dnn.ipynb\" target=\"_parent\"><img src=\"https://colab.research.google.com/assets/colab-badge.svg\" alt=\"Open In Colab\"/></a>"
      ]
    },
    {
      "cell_type": "code",
      "execution_count": null,
      "metadata": {
        "id": "XZI9iwXXP8pI"
      },
      "outputs": [],
      "source": [
        "import numpy as np\n",
        "import pandas as pd\n",
        "import tensorflow as tf\n",
        "from tensorflow import keras\n",
        "from sklearn.linear_model import LinearRegression\n",
        "import warnings\n",
        "from sklearn.decomposition import PCA\n",
        "from sklearn.model_selection import KFold\n",
        "from sklearn.metrics import mean_squared_error\n",
        "from tensorflow.keras.preprocessing.text import Tokenizer\n",
        "from tensorflow.keras.preprocessing.sequence import pad_sequences\n",
        "\n",
        "\n",
        "\n",
        "warnings.filterwarnings('ignore')"
      ]
    },
    {
      "cell_type": "code",
      "source": [
        "from google.colab import drive\n",
        "drive.mount('/content/drive')"
      ],
      "metadata": {
        "id": "7BJG3hF3QCPq",
        "colab": {
          "base_uri": "https://localhost:8080/"
        },
        "outputId": "4897f46e-a432-44fe-f602-ae4acc5b6659"
      },
      "execution_count": null,
      "outputs": [
        {
          "output_type": "stream",
          "name": "stdout",
          "text": [
            "Mounted at /content/drive\n"
          ]
        }
      ]
    },
    {
      "cell_type": "code",
      "source": [
        "df = pd.read_csv('/content/drive/MyDrive/kream_data/product_data_dpp.csv')"
      ],
      "metadata": {
        "id": "Ye8vahO3RjfV"
      },
      "execution_count": null,
      "outputs": []
    },
    {
      "cell_type": "code",
      "source": [
        "df.shape"
      ],
      "metadata": {
        "colab": {
          "base_uri": "https://localhost:8080/"
        },
        "id": "Z7BKiN23gB2u",
        "outputId": "97a0777d-d3d8-4669-fbd6-5cb854d47d9f"
      },
      "execution_count": null,
      "outputs": [
        {
          "output_type": "execute_result",
          "data": {
            "text/plain": [
              "(6103, 15)"
            ]
          },
          "metadata": {},
          "execution_count": 4
        }
      ]
    },
    {
      "cell_type": "code",
      "source": [
        "df_nike = df[df['brand']=='Nike'][['brand', 'color1', 'color2', 'price_og', 'price_resell']]\n",
        "df_jordan = df[df['brand']=='Jordan'][['brand', 'color1', 'color2', 'price_og', 'price_resell']]\n",
        "df_adidas = df[df['brand']=='Adidas'][['brand', 'color1', 'color2', 'price_og', 'price_resell']]"
      ],
      "metadata": {
        "id": "_9QiqVbixMvv"
      },
      "execution_count": null,
      "outputs": []
    },
    {
      "cell_type": "code",
      "source": [
        "print(df_nike.shape)\n",
        "df_nike.head()"
      ],
      "metadata": {
        "colab": {
          "base_uri": "https://localhost:8080/",
          "height": 224
        },
        "id": "xCr2RJYyxNFW",
        "outputId": "3d902abd-1863-4fe8-bc67-da86c3b61332"
      },
      "execution_count": null,
      "outputs": [
        {
          "output_type": "stream",
          "name": "stdout",
          "text": [
            "(1455, 5)\n"
          ]
        },
        {
          "output_type": "execute_result",
          "data": {
            "text/plain": [
              "  brand           color1                color2  price_og  price_resell\n",
              "0  Nike            WHITE                 BLACK    129000        152800\n",
              "1  Nike            WHITE                 WHITE    139000        136200\n",
              "2  Nike             FLAX                   GUM    169000        173200\n",
              "3  Nike             FLAX  FLAX-GUM LIGHT BROWN    184600        281400\n",
              "4  Nike  LIGHTT IRON ORE       METALLIC SILVER    209000        258000"
            ],
            "text/html": [
              "\n",
              "  <div id=\"df-c2ea359e-9a32-4c90-921d-a00dd3a2d31b\">\n",
              "    <div class=\"colab-df-container\">\n",
              "      <div>\n",
              "<style scoped>\n",
              "    .dataframe tbody tr th:only-of-type {\n",
              "        vertical-align: middle;\n",
              "    }\n",
              "\n",
              "    .dataframe tbody tr th {\n",
              "        vertical-align: top;\n",
              "    }\n",
              "\n",
              "    .dataframe thead th {\n",
              "        text-align: right;\n",
              "    }\n",
              "</style>\n",
              "<table border=\"1\" class=\"dataframe\">\n",
              "  <thead>\n",
              "    <tr style=\"text-align: right;\">\n",
              "      <th></th>\n",
              "      <th>brand</th>\n",
              "      <th>color1</th>\n",
              "      <th>color2</th>\n",
              "      <th>price_og</th>\n",
              "      <th>price_resell</th>\n",
              "    </tr>\n",
              "  </thead>\n",
              "  <tbody>\n",
              "    <tr>\n",
              "      <th>0</th>\n",
              "      <td>Nike</td>\n",
              "      <td>WHITE</td>\n",
              "      <td>BLACK</td>\n",
              "      <td>129000</td>\n",
              "      <td>152800</td>\n",
              "    </tr>\n",
              "    <tr>\n",
              "      <th>1</th>\n",
              "      <td>Nike</td>\n",
              "      <td>WHITE</td>\n",
              "      <td>WHITE</td>\n",
              "      <td>139000</td>\n",
              "      <td>136200</td>\n",
              "    </tr>\n",
              "    <tr>\n",
              "      <th>2</th>\n",
              "      <td>Nike</td>\n",
              "      <td>FLAX</td>\n",
              "      <td>GUM</td>\n",
              "      <td>169000</td>\n",
              "      <td>173200</td>\n",
              "    </tr>\n",
              "    <tr>\n",
              "      <th>3</th>\n",
              "      <td>Nike</td>\n",
              "      <td>FLAX</td>\n",
              "      <td>FLAX-GUM LIGHT BROWN</td>\n",
              "      <td>184600</td>\n",
              "      <td>281400</td>\n",
              "    </tr>\n",
              "    <tr>\n",
              "      <th>4</th>\n",
              "      <td>Nike</td>\n",
              "      <td>LIGHTT IRON ORE</td>\n",
              "      <td>METALLIC SILVER</td>\n",
              "      <td>209000</td>\n",
              "      <td>258000</td>\n",
              "    </tr>\n",
              "  </tbody>\n",
              "</table>\n",
              "</div>\n",
              "      <button class=\"colab-df-convert\" onclick=\"convertToInteractive('df-c2ea359e-9a32-4c90-921d-a00dd3a2d31b')\"\n",
              "              title=\"Convert this dataframe to an interactive table.\"\n",
              "              style=\"display:none;\">\n",
              "        \n",
              "  <svg xmlns=\"http://www.w3.org/2000/svg\" height=\"24px\"viewBox=\"0 0 24 24\"\n",
              "       width=\"24px\">\n",
              "    <path d=\"M0 0h24v24H0V0z\" fill=\"none\"/>\n",
              "    <path d=\"M18.56 5.44l.94 2.06.94-2.06 2.06-.94-2.06-.94-.94-2.06-.94 2.06-2.06.94zm-11 1L8.5 8.5l.94-2.06 2.06-.94-2.06-.94L8.5 2.5l-.94 2.06-2.06.94zm10 10l.94 2.06.94-2.06 2.06-.94-2.06-.94-.94-2.06-.94 2.06-2.06.94z\"/><path d=\"M17.41 7.96l-1.37-1.37c-.4-.4-.92-.59-1.43-.59-.52 0-1.04.2-1.43.59L10.3 9.45l-7.72 7.72c-.78.78-.78 2.05 0 2.83L4 21.41c.39.39.9.59 1.41.59.51 0 1.02-.2 1.41-.59l7.78-7.78 2.81-2.81c.8-.78.8-2.07 0-2.86zM5.41 20L4 18.59l7.72-7.72 1.47 1.35L5.41 20z\"/>\n",
              "  </svg>\n",
              "      </button>\n",
              "      \n",
              "  <style>\n",
              "    .colab-df-container {\n",
              "      display:flex;\n",
              "      flex-wrap:wrap;\n",
              "      gap: 12px;\n",
              "    }\n",
              "\n",
              "    .colab-df-convert {\n",
              "      background-color: #E8F0FE;\n",
              "      border: none;\n",
              "      border-radius: 50%;\n",
              "      cursor: pointer;\n",
              "      display: none;\n",
              "      fill: #1967D2;\n",
              "      height: 32px;\n",
              "      padding: 0 0 0 0;\n",
              "      width: 32px;\n",
              "    }\n",
              "\n",
              "    .colab-df-convert:hover {\n",
              "      background-color: #E2EBFA;\n",
              "      box-shadow: 0px 1px 2px rgba(60, 64, 67, 0.3), 0px 1px 3px 1px rgba(60, 64, 67, 0.15);\n",
              "      fill: #174EA6;\n",
              "    }\n",
              "\n",
              "    [theme=dark] .colab-df-convert {\n",
              "      background-color: #3B4455;\n",
              "      fill: #D2E3FC;\n",
              "    }\n",
              "\n",
              "    [theme=dark] .colab-df-convert:hover {\n",
              "      background-color: #434B5C;\n",
              "      box-shadow: 0px 1px 3px 1px rgba(0, 0, 0, 0.15);\n",
              "      filter: drop-shadow(0px 1px 2px rgba(0, 0, 0, 0.3));\n",
              "      fill: #FFFFFF;\n",
              "    }\n",
              "  </style>\n",
              "\n",
              "      <script>\n",
              "        const buttonEl =\n",
              "          document.querySelector('#df-c2ea359e-9a32-4c90-921d-a00dd3a2d31b button.colab-df-convert');\n",
              "        buttonEl.style.display =\n",
              "          google.colab.kernel.accessAllowed ? 'block' : 'none';\n",
              "\n",
              "        async function convertToInteractive(key) {\n",
              "          const element = document.querySelector('#df-c2ea359e-9a32-4c90-921d-a00dd3a2d31b');\n",
              "          const dataTable =\n",
              "            await google.colab.kernel.invokeFunction('convertToInteractive',\n",
              "                                                     [key], {});\n",
              "          if (!dataTable) return;\n",
              "\n",
              "          const docLinkHtml = 'Like what you see? Visit the ' +\n",
              "            '<a target=\"_blank\" href=https://colab.research.google.com/notebooks/data_table.ipynb>data table notebook</a>'\n",
              "            + ' to learn more about interactive tables.';\n",
              "          element.innerHTML = '';\n",
              "          dataTable['output_type'] = 'display_data';\n",
              "          await google.colab.output.renderOutput(dataTable, element);\n",
              "          const docLink = document.createElement('div');\n",
              "          docLink.innerHTML = docLinkHtml;\n",
              "          element.appendChild(docLink);\n",
              "        }\n",
              "      </script>\n",
              "    </div>\n",
              "  </div>\n",
              "  "
            ]
          },
          "metadata": {},
          "execution_count": 117
        }
      ]
    },
    {
      "cell_type": "code",
      "source": [
        "print(df_jordan.shape)\n",
        "df_jordan.head()"
      ],
      "metadata": {
        "colab": {
          "base_uri": "https://localhost:8080/",
          "height": 224
        },
        "id": "-Z2FZJxQxNIw",
        "outputId": "66f147a6-b8c6-45a5-da54-c2095a035eb0"
      },
      "execution_count": null,
      "outputs": [
        {
          "output_type": "stream",
          "name": "stdout",
          "text": [
            "(1376, 5)\n"
          ]
        },
        {
          "output_type": "execute_result",
          "data": {
            "text/plain": [
              "       brand       color1                    color2  price_og  price_resell\n",
              "1455  Jordan  VARSITY RED                     BLACK    209000        480800\n",
              "1456  Jordan        WHITE                     BLACK    139000        163600\n",
              "1457  Jordan        WHITE                     BLACK    249000        254400\n",
              "1458  Jordan        BLACK                   PHANTOM    189000        698000\n",
              "1459  Jordan         SAIL  UNIVERSITY RED-RIDGEROCK    189000       1417800"
            ],
            "text/html": [
              "\n",
              "  <div id=\"df-f79f559d-a04f-451f-ac35-1bc259313877\">\n",
              "    <div class=\"colab-df-container\">\n",
              "      <div>\n",
              "<style scoped>\n",
              "    .dataframe tbody tr th:only-of-type {\n",
              "        vertical-align: middle;\n",
              "    }\n",
              "\n",
              "    .dataframe tbody tr th {\n",
              "        vertical-align: top;\n",
              "    }\n",
              "\n",
              "    .dataframe thead th {\n",
              "        text-align: right;\n",
              "    }\n",
              "</style>\n",
              "<table border=\"1\" class=\"dataframe\">\n",
              "  <thead>\n",
              "    <tr style=\"text-align: right;\">\n",
              "      <th></th>\n",
              "      <th>brand</th>\n",
              "      <th>color1</th>\n",
              "      <th>color2</th>\n",
              "      <th>price_og</th>\n",
              "      <th>price_resell</th>\n",
              "    </tr>\n",
              "  </thead>\n",
              "  <tbody>\n",
              "    <tr>\n",
              "      <th>1455</th>\n",
              "      <td>Jordan</td>\n",
              "      <td>VARSITY RED</td>\n",
              "      <td>BLACK</td>\n",
              "      <td>209000</td>\n",
              "      <td>480800</td>\n",
              "    </tr>\n",
              "    <tr>\n",
              "      <th>1456</th>\n",
              "      <td>Jordan</td>\n",
              "      <td>WHITE</td>\n",
              "      <td>BLACK</td>\n",
              "      <td>139000</td>\n",
              "      <td>163600</td>\n",
              "    </tr>\n",
              "    <tr>\n",
              "      <th>1457</th>\n",
              "      <td>Jordan</td>\n",
              "      <td>WHITE</td>\n",
              "      <td>BLACK</td>\n",
              "      <td>249000</td>\n",
              "      <td>254400</td>\n",
              "    </tr>\n",
              "    <tr>\n",
              "      <th>1458</th>\n",
              "      <td>Jordan</td>\n",
              "      <td>BLACK</td>\n",
              "      <td>PHANTOM</td>\n",
              "      <td>189000</td>\n",
              "      <td>698000</td>\n",
              "    </tr>\n",
              "    <tr>\n",
              "      <th>1459</th>\n",
              "      <td>Jordan</td>\n",
              "      <td>SAIL</td>\n",
              "      <td>UNIVERSITY RED-RIDGEROCK</td>\n",
              "      <td>189000</td>\n",
              "      <td>1417800</td>\n",
              "    </tr>\n",
              "  </tbody>\n",
              "</table>\n",
              "</div>\n",
              "      <button class=\"colab-df-convert\" onclick=\"convertToInteractive('df-f79f559d-a04f-451f-ac35-1bc259313877')\"\n",
              "              title=\"Convert this dataframe to an interactive table.\"\n",
              "              style=\"display:none;\">\n",
              "        \n",
              "  <svg xmlns=\"http://www.w3.org/2000/svg\" height=\"24px\"viewBox=\"0 0 24 24\"\n",
              "       width=\"24px\">\n",
              "    <path d=\"M0 0h24v24H0V0z\" fill=\"none\"/>\n",
              "    <path d=\"M18.56 5.44l.94 2.06.94-2.06 2.06-.94-2.06-.94-.94-2.06-.94 2.06-2.06.94zm-11 1L8.5 8.5l.94-2.06 2.06-.94-2.06-.94L8.5 2.5l-.94 2.06-2.06.94zm10 10l.94 2.06.94-2.06 2.06-.94-2.06-.94-.94-2.06-.94 2.06-2.06.94z\"/><path d=\"M17.41 7.96l-1.37-1.37c-.4-.4-.92-.59-1.43-.59-.52 0-1.04.2-1.43.59L10.3 9.45l-7.72 7.72c-.78.78-.78 2.05 0 2.83L4 21.41c.39.39.9.59 1.41.59.51 0 1.02-.2 1.41-.59l7.78-7.78 2.81-2.81c.8-.78.8-2.07 0-2.86zM5.41 20L4 18.59l7.72-7.72 1.47 1.35L5.41 20z\"/>\n",
              "  </svg>\n",
              "      </button>\n",
              "      \n",
              "  <style>\n",
              "    .colab-df-container {\n",
              "      display:flex;\n",
              "      flex-wrap:wrap;\n",
              "      gap: 12px;\n",
              "    }\n",
              "\n",
              "    .colab-df-convert {\n",
              "      background-color: #E8F0FE;\n",
              "      border: none;\n",
              "      border-radius: 50%;\n",
              "      cursor: pointer;\n",
              "      display: none;\n",
              "      fill: #1967D2;\n",
              "      height: 32px;\n",
              "      padding: 0 0 0 0;\n",
              "      width: 32px;\n",
              "    }\n",
              "\n",
              "    .colab-df-convert:hover {\n",
              "      background-color: #E2EBFA;\n",
              "      box-shadow: 0px 1px 2px rgba(60, 64, 67, 0.3), 0px 1px 3px 1px rgba(60, 64, 67, 0.15);\n",
              "      fill: #174EA6;\n",
              "    }\n",
              "\n",
              "    [theme=dark] .colab-df-convert {\n",
              "      background-color: #3B4455;\n",
              "      fill: #D2E3FC;\n",
              "    }\n",
              "\n",
              "    [theme=dark] .colab-df-convert:hover {\n",
              "      background-color: #434B5C;\n",
              "      box-shadow: 0px 1px 3px 1px rgba(0, 0, 0, 0.15);\n",
              "      filter: drop-shadow(0px 1px 2px rgba(0, 0, 0, 0.3));\n",
              "      fill: #FFFFFF;\n",
              "    }\n",
              "  </style>\n",
              "\n",
              "      <script>\n",
              "        const buttonEl =\n",
              "          document.querySelector('#df-f79f559d-a04f-451f-ac35-1bc259313877 button.colab-df-convert');\n",
              "        buttonEl.style.display =\n",
              "          google.colab.kernel.accessAllowed ? 'block' : 'none';\n",
              "\n",
              "        async function convertToInteractive(key) {\n",
              "          const element = document.querySelector('#df-f79f559d-a04f-451f-ac35-1bc259313877');\n",
              "          const dataTable =\n",
              "            await google.colab.kernel.invokeFunction('convertToInteractive',\n",
              "                                                     [key], {});\n",
              "          if (!dataTable) return;\n",
              "\n",
              "          const docLinkHtml = 'Like what you see? Visit the ' +\n",
              "            '<a target=\"_blank\" href=https://colab.research.google.com/notebooks/data_table.ipynb>data table notebook</a>'\n",
              "            + ' to learn more about interactive tables.';\n",
              "          element.innerHTML = '';\n",
              "          dataTable['output_type'] = 'display_data';\n",
              "          await google.colab.output.renderOutput(dataTable, element);\n",
              "          const docLink = document.createElement('div');\n",
              "          docLink.innerHTML = docLinkHtml;\n",
              "          element.appendChild(docLink);\n",
              "        }\n",
              "      </script>\n",
              "    </div>\n",
              "  </div>\n",
              "  "
            ]
          },
          "metadata": {},
          "execution_count": 118
        }
      ]
    },
    {
      "cell_type": "code",
      "source": [
        "df_nike['price_resell'].describe()"
      ],
      "metadata": {
        "colab": {
          "base_uri": "https://localhost:8080/"
        },
        "id": "DRfBvpufTFZ3",
        "outputId": "2b53bc27-8d4e-4aa9-ded6-04aeb00ce525"
      },
      "execution_count": null,
      "outputs": [
        {
          "output_type": "execute_result",
          "data": {
            "text/plain": [
              "count    1.454000e+03\n",
              "mean     2.509836e+05\n",
              "std      2.129401e+05\n",
              "min      4.560000e+04\n",
              "25%      1.388500e+05\n",
              "50%      1.900000e+05\n",
              "75%      2.814000e+05\n",
              "max      2.531000e+06\n",
              "Name: price_resell, dtype: float64"
            ]
          },
          "metadata": {},
          "execution_count": 121
        }
      ]
    },
    {
      "cell_type": "code",
      "source": [
        "df_jordan['price_resell'].describe()"
      ],
      "metadata": {
        "colab": {
          "base_uri": "https://localhost:8080/"
        },
        "id": "0ZDCdC7yT-x9",
        "outputId": "3f59362a-c7bf-452c-8080-6c0bfbf005b0"
      },
      "execution_count": null,
      "outputs": [
        {
          "output_type": "execute_result",
          "data": {
            "text/plain": [
              "count    1.376000e+03\n",
              "mean     3.379037e+05\n",
              "std      5.207507e+05\n",
              "min      5.000000e+04\n",
              "25%      1.740500e+05\n",
              "50%      2.399000e+05\n",
              "75%      3.340500e+05\n",
              "max      9.676000e+06\n",
              "Name: price_resell, dtype: float64"
            ]
          },
          "metadata": {},
          "execution_count": 122
        }
      ]
    },
    {
      "cell_type": "code",
      "source": [
        "(df_nike['price_resell']//100000).value_counts()"
      ],
      "metadata": {
        "colab": {
          "base_uri": "https://localhost:8080/"
        },
        "id": "RXGvWOJfTXPo",
        "outputId": "92d3abf8-640c-43d6-df1b-3936299b7993"
      },
      "execution_count": null,
      "outputs": [
        {
          "output_type": "execute_result",
          "data": {
            "text/plain": [
              "1     668\n",
              "2     367\n",
              "3     137\n",
              "0     111\n",
              "4      62\n",
              "5      27\n",
              "6      25\n",
              "9      15\n",
              "8      12\n",
              "7      11\n",
              "11      5\n",
              "10      4\n",
              "14      2\n",
              "13      2\n",
              "22      2\n",
              "20      1\n",
              "25      1\n",
              "17      1\n",
              "12      1\n",
              "Name: price_resell, dtype: int64"
            ]
          },
          "metadata": {},
          "execution_count": 123
        }
      ]
    },
    {
      "cell_type": "code",
      "source": [
        "df_nike = df_nike.drop(df_nike[df_nike['price_resell']>8000000].index)"
      ],
      "metadata": {
        "id": "YVSTQGvEeRth"
      },
      "execution_count": null,
      "outputs": []
    },
    {
      "cell_type": "code",
      "source": [
        "df_nike['price_class'] = np.where(df_nike['price_resell'] <1000000,\\\n",
        "                                  df_nike['price_resell']//100000,\\\n",
        "                                  10)"
      ],
      "metadata": {
        "id": "_0v9InrWZQ4O"
      },
      "execution_count": null,
      "outputs": []
    },
    {
      "cell_type": "markdown",
      "source": [
        "-----"
      ],
      "metadata": {
        "id": "8nk3V6_Lpid6"
      }
    },
    {
      "cell_type": "code",
      "source": [
        "((df_jordan['price_resell'])//100000).value_counts()"
      ],
      "metadata": {
        "colab": {
          "base_uri": "https://localhost:8080/"
        },
        "id": "imB2trTLnNFu",
        "outputId": "73e539aa-3a78-421c-ac8b-23a363f028b7"
      },
      "execution_count": null,
      "outputs": [
        {
          "output_type": "execute_result",
          "data": {
            "text/plain": [
              "2     468\n",
              "1     428\n",
              "3     199\n",
              "4      78\n",
              "5      52\n",
              "0      51\n",
              "6      27\n",
              "7      13\n",
              "8      12\n",
              "10      6\n",
              "9       5\n",
              "19      5\n",
              "13      4\n",
              "15      2\n",
              "24      2\n",
              "30      2\n",
              "17      2\n",
              "14      2\n",
              "20      2\n",
              "12      2\n",
              "33      1\n",
              "22      1\n",
              "64      1\n",
              "41      1\n",
              "18      1\n",
              "65      1\n",
              "32      1\n",
              "31      1\n",
              "16      1\n",
              "79      1\n",
              "21      1\n",
              "96      1\n",
              "11      1\n",
              "28      1\n",
              "Name: price_resell, dtype: int64"
            ]
          },
          "metadata": {},
          "execution_count": 129
        }
      ]
    },
    {
      "cell_type": "code",
      "source": [
        "df_jordan = df_jordan.drop(df_nike[df_nike['price_resell']>5000000].index)"
      ],
      "metadata": {
        "id": "9pe0b-IMplEq"
      },
      "execution_count": null,
      "outputs": []
    },
    {
      "cell_type": "code",
      "source": [
        "df_jordan['price_class'] = np.where(df_jordan['price_resell'] <1100000,\\\n",
        "                                  df_jordan['price_resell']//100000,\\\n",
        "                                  13)"
      ],
      "metadata": {
        "id": "S9bUA_rOoDlg"
      },
      "execution_count": null,
      "outputs": []
    },
    {
      "cell_type": "markdown",
      "source": [
        "---------"
      ],
      "metadata": {
        "id": "Lx1F-olhq8j3"
      }
    },
    {
      "cell_type": "code",
      "source": [
        "def make_input_col(df_list):\n",
        "    for df in df_list:\n",
        "        df['input'] = df['brand'] + \" | \" + df['color1'] + \" | \" + df['color2']\n",
        "        df['target'] = df['price_resell']/10000.0\n",
        "\n",
        "make_input_col([df_nike, df_jordan, df_adidas])"
      ],
      "metadata": {
        "id": "uDhpmJoXx96o"
      },
      "execution_count": null,
      "outputs": []
    },
    {
      "cell_type": "code",
      "source": [
        "def tokenize_input(df_list, pd_list):\n",
        "    return_list = []\n",
        "\n",
        "    for df, pd in zip(df_list, pd_list):\n",
        "        tokenizer = Tokenizer()\n",
        "        tokenizer.fit_on_texts(df['input'])\n",
        "        word_index = tokenizer.word_index\n",
        "\n",
        "        print(f\"word_index의 크기: {len(word_index)}\")\n",
        "            \n",
        "        # 문장을 토큰화 한다.\n",
        "        tokenized_name = tokenizer.texts_to_sequences(df['input'])\n",
        "        padded_name = pad_sequences(tokenized_name)\n",
        "\n",
        "        return_list.append((padded_name))\n",
        "    return return_list\n",
        "\n",
        "df_nike_input_ = pd.DataFrame()\n",
        "df_jordan_input_ = pd.DataFrame()\n",
        "df_adidas_input_ = pd.DataFrame()\n",
        "\n",
        "[df_nike_input, df_jordan_input, df_adidas_input] = tokenize_input([df_nike, df_jordan, df_adidas], [df_nike_input_, df_jordan_input_, df_adidas_input_])"
      ],
      "metadata": {
        "colab": {
          "base_uri": "https://localhost:8080/"
        },
        "id": "ju9d8Odz1Jqc",
        "outputId": "c6c3c678-6136-41eb-be62-085aafa5b2c3"
      },
      "execution_count": null,
      "outputs": [
        {
          "output_type": "stream",
          "name": "stdout",
          "text": [
            "word_index의 크기: 515\n",
            "word_index의 크기: 389\n",
            "word_index의 크기: 319\n"
          ]
        }
      ]
    },
    {
      "cell_type": "code",
      "source": [
        "# tokenizer 저장\n",
        "# python 변수(객체)를 pickle 파일로 저장\n",
        "with open('color_tokenizer.pickle', 'wb') as f:\n",
        "    pickle.dump(tokenizer, f)\n",
        "\n",
        "# tokenizer load 하기\n",
        "with open('color_tokenizer.pickle', 'rb') as f:\n",
        "    tokenizer = pickle.load(f)"
      ],
      "metadata": {
        "id": "ogPawQpDM30a"
      },
      "execution_count": null,
      "outputs": []
    },
    {
      "cell_type": "code",
      "source": [
        "from sklearn.model_selection import train_test_split"
      ],
      "metadata": {
        "id": "aN5JjGCA0mka"
      },
      "execution_count": null,
      "outputs": []
    },
    {
      "cell_type": "code",
      "source": [
        "nike_train_X, nike_test_X, nike_train_y, nike_test_y = train_test_split(df_nike_input, df_nike['target'], test_size=0.3, shuffle=True, stratify=df_nike['price_class'])\n",
        "nike_valid_X, nike_test_X, nike_valid_y, nike_test_y = train_test_split(nike_test_X, nike_test_y, test_size=0.5)\n",
        "\n",
        "jordan_train_X, jordan_test_X, jordan_train_y, jordan_test_y = train_test_split(df_jordan_input, df_jordan['target'], test_size=0.3, shuffle=True, stratify=df_jordan['price_class'])\n",
        "jordan_valid_X, jordan_test_X, jordan_valid_y, jordan_test_y = train_test_split(jordan_test_X, jordan_test_y, test_size=0.5)\n",
        "\n",
        "adidas_train_X, adidas_test_X, adidas_train_y, adidas_test_y = train_test_split(df_adidas_input, df_adidas['target'], test_size=0.3, shuffle=True)\n",
        "adidas_valid_X, adidas_test_X, adidas_valid_y, adidas_test_y = train_test_split(adidas_test_X, adidas_test_y, test_size=0.5)"
      ],
      "metadata": {
        "id": "7ngp18rnDJtJ"
      },
      "execution_count": null,
      "outputs": []
    },
    {
      "cell_type": "code",
      "source": [
        "%cd /content/drive/MyDrive/kream_data/model"
      ],
      "metadata": {
        "colab": {
          "base_uri": "https://localhost:8080/"
        },
        "id": "SoOEbvyxfR48",
        "outputId": "e93cf79a-6991-4bfd-b763-b97a03681b33"
      },
      "execution_count": null,
      "outputs": [
        {
          "output_type": "stream",
          "name": "stdout",
          "text": [
            "/content/drive/MyDrive/kream_data/model\n"
          ]
        }
      ]
    },
    {
      "cell_type": "code",
      "source": [
        "from tensorflow.keras.callbacks import EarlyStopping, ModelCheckpoint\n",
        "\n",
        "es=EarlyStopping(monitor='val_loss', mode='min', verbose=1, patience=30)\n",
        "mc_nike=ModelCheckpoint('nike_color_best_model.h5', monitor='val_loss', verbose=1, save_best_only=True)\n",
        "mc_jordan=ModelCheckpoint('jordan_color_best_model.h5', monitor='val_loss', verbose=1, save_best_only=True)"
      ],
      "metadata": {
        "id": "51uAFnXGfFDU"
      },
      "execution_count": null,
      "outputs": []
    },
    {
      "cell_type": "code",
      "source": [
        "# 임베딩 층에 입력될 단어의 수를 지정한다.\n",
        "word_size = 1216 + 1\n",
        "\n",
        "\n",
        "nike_bn_model = keras.models.Sequential([\n",
        "    # 임베딩층\n",
        "    keras.layers.Embedding(word_size, word_size, input_length=13),\n",
        "    # 회귀를 위해 임베딩층의 output값을 1차원의 array로 바꾸어준다. \n",
        "    keras.layers.Flatten(),\n",
        "    keras.layers.Dense(64),\n",
        "    keras.layers.Dropout(0.5),\n",
        "    keras.layers.Dense(32),\n",
        "    keras.layers.Dropout(0.5),\n",
        "    keras.layers.Dense(16),\n",
        "    keras.layers.Dropout(0.5),\n",
        "    keras.layers.Dense(8),\n",
        "    keras.layers.Dropout(0.5),\n",
        "    keras.layers.Dense(4),\n",
        "    keras.layers.Dropout(0.5),\n",
        "\n",
        "    keras.layers.Dense(2),\n",
        "    keras.layers.Dense(1)\n",
        " ])\n",
        "\n",
        "nike_bn_model.compile(optimizer=keras.optimizers.Adam(learning_rate=0.005), loss=tf.keras.losses.Huber(delta=3), metrics= [\"mean_absolute_percentage_error\"])\n",
        "\n",
        "nike_bn_model.fit(nike_train_X, nike_train_y, batch_size=16, epochs=300, validation_data = (nike_valid_X,nike_valid_y),  callbacks=[es, mc_nike])"
      ],
      "metadata": {
        "id": "pu2Po5lUgFTp",
        "colab": {
          "base_uri": "https://localhost:8080/"
        },
        "outputId": "717c2938-60ea-41fc-d72e-b6c6449d9df4"
      },
      "execution_count": null,
      "outputs": [
        {
          "output_type": "stream",
          "name": "stdout",
          "text": [
            "Epoch 1/300\n",
            "64/64 [==============================] - ETA: 0s - loss: 61.4742 - mean_absolute_percentage_error: 94.5809\n",
            "Epoch 1: val_loss improved from inf to 49.50441, saving model to nike_color_best_model.h5\n",
            "64/64 [==============================] - 9s 93ms/step - loss: 61.4742 - mean_absolute_percentage_error: 94.5809 - val_loss: 49.5044 - val_mean_absolute_percentage_error: 60.4169\n",
            "Epoch 2/300\n",
            "62/64 [============================>.] - ETA: 0s - loss: 53.1907 - mean_absolute_percentage_error: 76.7769\n",
            "Epoch 2: val_loss improved from 49.50441 to 36.68742, saving model to nike_color_best_model.h5\n",
            "64/64 [==============================] - 1s 18ms/step - loss: 53.0874 - mean_absolute_percentage_error: 77.1908 - val_loss: 36.6874 - val_mean_absolute_percentage_error: 42.8515\n",
            "Epoch 3/300\n",
            "64/64 [==============================] - ETA: 0s - loss: 49.4357 - mean_absolute_percentage_error: 69.8788\n",
            "Epoch 3: val_loss improved from 36.68742 to 34.82493, saving model to nike_color_best_model.h5\n",
            "64/64 [==============================] - 1s 11ms/step - loss: 49.4357 - mean_absolute_percentage_error: 69.8788 - val_loss: 34.8249 - val_mean_absolute_percentage_error: 40.3560\n",
            "Epoch 4/300\n",
            "64/64 [==============================] - ETA: 0s - loss: 45.0552 - mean_absolute_percentage_error: 63.1029\n",
            "Epoch 4: val_loss improved from 34.82493 to 30.80205, saving model to nike_color_best_model.h5\n",
            "64/64 [==============================] - 1s 14ms/step - loss: 45.0552 - mean_absolute_percentage_error: 63.1029 - val_loss: 30.8021 - val_mean_absolute_percentage_error: 40.3625\n",
            "Epoch 5/300\n",
            "64/64 [==============================] - ETA: 0s - loss: 42.7259 - mean_absolute_percentage_error: 59.3389\n",
            "Epoch 5: val_loss did not improve from 30.80205\n",
            "64/64 [==============================] - 1s 10ms/step - loss: 42.7259 - mean_absolute_percentage_error: 59.3389 - val_loss: 35.4968 - val_mean_absolute_percentage_error: 42.4764\n",
            "Epoch 6/300\n",
            "57/64 [=========================>....] - ETA: 0s - loss: 41.2869 - mean_absolute_percentage_error: 57.2400\n",
            "Epoch 6: val_loss did not improve from 30.80205\n",
            "64/64 [==============================] - 0s 7ms/step - loss: 40.9798 - mean_absolute_percentage_error: 56.7750 - val_loss: 36.0291 - val_mean_absolute_percentage_error: 40.5145\n",
            "Epoch 7/300\n",
            "63/64 [============================>.] - ETA: 0s - loss: 39.5787 - mean_absolute_percentage_error: 52.5994\n",
            "Epoch 7: val_loss did not improve from 30.80205\n",
            "64/64 [==============================] - 1s 12ms/step - loss: 39.5610 - mean_absolute_percentage_error: 52.6662 - val_loss: 34.6495 - val_mean_absolute_percentage_error: 39.3295\n",
            "Epoch 8/300\n",
            "61/64 [===========================>..] - ETA: 0s - loss: 38.0819 - mean_absolute_percentage_error: 51.5623\n",
            "Epoch 8: val_loss did not improve from 30.80205\n",
            "64/64 [==============================] - 1s 9ms/step - loss: 37.9630 - mean_absolute_percentage_error: 51.5947 - val_loss: 31.5511 - val_mean_absolute_percentage_error: 39.7870\n",
            "Epoch 9/300\n",
            "64/64 [==============================] - ETA: 0s - loss: 36.5821 - mean_absolute_percentage_error: 48.7487\n",
            "Epoch 9: val_loss did not improve from 30.80205\n",
            "64/64 [==============================] - 1s 11ms/step - loss: 36.5821 - mean_absolute_percentage_error: 48.7487 - val_loss: 32.1096 - val_mean_absolute_percentage_error: 38.2057\n",
            "Epoch 10/300\n",
            "62/64 [============================>.] - ETA: 0s - loss: 34.4940 - mean_absolute_percentage_error: 45.4863\n",
            "Epoch 10: val_loss did not improve from 30.80205\n",
            "64/64 [==============================] - 1s 9ms/step - loss: 34.5638 - mean_absolute_percentage_error: 45.3060 - val_loss: 34.4499 - val_mean_absolute_percentage_error: 40.5137\n",
            "Epoch 11/300\n",
            "58/64 [==========================>...] - ETA: 0s - loss: 32.4304 - mean_absolute_percentage_error: 42.5035\n",
            "Epoch 11: val_loss did not improve from 30.80205\n",
            "64/64 [==============================] - 1s 9ms/step - loss: 32.4304 - mean_absolute_percentage_error: 42.1137 - val_loss: 31.1130 - val_mean_absolute_percentage_error: 42.5326\n",
            "Epoch 12/300\n",
            "63/64 [============================>.] - ETA: 0s - loss: 31.4841 - mean_absolute_percentage_error: 40.0411\n",
            "Epoch 12: val_loss did not improve from 30.80205\n",
            "64/64 [==============================] - 1s 9ms/step - loss: 31.5618 - mean_absolute_percentage_error: 40.0652 - val_loss: 31.0412 - val_mean_absolute_percentage_error: 40.4450\n",
            "Epoch 13/300\n",
            "62/64 [============================>.] - ETA: 0s - loss: 30.7508 - mean_absolute_percentage_error: 38.8908\n",
            "Epoch 13: val_loss did not improve from 30.80205\n",
            "64/64 [==============================] - 1s 9ms/step - loss: 30.3387 - mean_absolute_percentage_error: 38.6150 - val_loss: 31.3159 - val_mean_absolute_percentage_error: 39.1524\n",
            "Epoch 14/300\n",
            "64/64 [==============================] - ETA: 0s - loss: 28.7055 - mean_absolute_percentage_error: 37.2107\n",
            "Epoch 14: val_loss did not improve from 30.80205\n",
            "64/64 [==============================] - 1s 9ms/step - loss: 28.7055 - mean_absolute_percentage_error: 37.2107 - val_loss: 30.9596 - val_mean_absolute_percentage_error: 42.0850\n",
            "Epoch 15/300\n",
            "59/64 [==========================>...] - ETA: 0s - loss: 28.6310 - mean_absolute_percentage_error: 35.9080\n",
            "Epoch 15: val_loss did not improve from 30.80205\n",
            "64/64 [==============================] - 1s 9ms/step - loss: 28.8102 - mean_absolute_percentage_error: 36.1606 - val_loss: 31.1420 - val_mean_absolute_percentage_error: 44.9061\n",
            "Epoch 16/300\n",
            "58/64 [==========================>...] - ETA: 0s - loss: 28.4440 - mean_absolute_percentage_error: 37.2301\n",
            "Epoch 16: val_loss did not improve from 30.80205\n",
            "64/64 [==============================] - 1s 10ms/step - loss: 28.4628 - mean_absolute_percentage_error: 37.7049 - val_loss: 31.2324 - val_mean_absolute_percentage_error: 46.3382\n",
            "Epoch 17/300\n",
            "59/64 [==========================>...] - ETA: 0s - loss: 28.6909 - mean_absolute_percentage_error: 37.4927\n",
            "Epoch 17: val_loss improved from 30.80205 to 30.61102, saving model to nike_color_best_model.h5\n",
            "64/64 [==============================] - 1s 12ms/step - loss: 27.8947 - mean_absolute_percentage_error: 37.1970 - val_loss: 30.6110 - val_mean_absolute_percentage_error: 42.6175\n",
            "Epoch 18/300\n",
            "60/64 [===========================>..] - ETA: 0s - loss: 27.1350 - mean_absolute_percentage_error: 33.3634\n",
            "Epoch 18: val_loss improved from 30.61102 to 30.30137, saving model to nike_color_best_model.h5\n",
            "64/64 [==============================] - 1s 9ms/step - loss: 26.7328 - mean_absolute_percentage_error: 33.6509 - val_loss: 30.3014 - val_mean_absolute_percentage_error: 42.6010\n",
            "Epoch 19/300\n",
            "61/64 [===========================>..] - ETA: 0s - loss: 27.5156 - mean_absolute_percentage_error: 35.3930\n",
            "Epoch 19: val_loss improved from 30.30137 to 30.05082, saving model to nike_color_best_model.h5\n",
            "64/64 [==============================] - 1s 8ms/step - loss: 26.8654 - mean_absolute_percentage_error: 35.2751 - val_loss: 30.0508 - val_mean_absolute_percentage_error: 42.7983\n",
            "Epoch 20/300\n",
            "60/64 [===========================>..] - ETA: 0s - loss: 27.3114 - mean_absolute_percentage_error: 35.7080\n",
            "Epoch 20: val_loss improved from 30.05082 to 30.00433, saving model to nike_color_best_model.h5\n",
            "64/64 [==============================] - 1s 9ms/step - loss: 26.9229 - mean_absolute_percentage_error: 35.4385 - val_loss: 30.0043 - val_mean_absolute_percentage_error: 42.2169\n",
            "Epoch 21/300\n",
            "60/64 [===========================>..] - ETA: 0s - loss: 27.7868 - mean_absolute_percentage_error: 36.4489\n",
            "Epoch 21: val_loss improved from 30.00433 to 29.97945, saving model to nike_color_best_model.h5\n",
            "64/64 [==============================] - 1s 9ms/step - loss: 27.0754 - mean_absolute_percentage_error: 36.3560 - val_loss: 29.9795 - val_mean_absolute_percentage_error: 43.0464\n",
            "Epoch 22/300\n",
            "60/64 [===========================>..] - ETA: 0s - loss: 26.8243 - mean_absolute_percentage_error: 36.6282\n",
            "Epoch 22: val_loss improved from 29.97945 to 29.74922, saving model to nike_color_best_model.h5\n",
            "64/64 [==============================] - 1s 8ms/step - loss: 26.7488 - mean_absolute_percentage_error: 36.4477 - val_loss: 29.7492 - val_mean_absolute_percentage_error: 42.9237\n",
            "Epoch 23/300\n",
            "64/64 [==============================] - ETA: 0s - loss: 26.8888 - mean_absolute_percentage_error: 37.2792\n",
            "Epoch 23: val_loss did not improve from 29.74922\n",
            "64/64 [==============================] - 0s 6ms/step - loss: 26.8888 - mean_absolute_percentage_error: 37.2792 - val_loss: 29.8173 - val_mean_absolute_percentage_error: 43.6526\n",
            "Epoch 24/300\n",
            "61/64 [===========================>..] - ETA: 0s - loss: 26.2159 - mean_absolute_percentage_error: 36.9809\n",
            "Epoch 24: val_loss did not improve from 29.74922\n",
            "64/64 [==============================] - 0s 6ms/step - loss: 26.3568 - mean_absolute_percentage_error: 37.0756 - val_loss: 31.1724 - val_mean_absolute_percentage_error: 49.6517\n",
            "Epoch 25/300\n",
            "55/64 [========================>.....] - ETA: 0s - loss: 26.1429 - mean_absolute_percentage_error: 36.8641\n",
            "Epoch 25: val_loss improved from 29.74922 to 29.68202, saving model to nike_color_best_model.h5\n",
            "64/64 [==============================] - 0s 8ms/step - loss: 25.6719 - mean_absolute_percentage_error: 36.6851 - val_loss: 29.6820 - val_mean_absolute_percentage_error: 41.6117\n",
            "Epoch 26/300\n",
            "61/64 [===========================>..] - ETA: 0s - loss: 25.9510 - mean_absolute_percentage_error: 35.8257\n",
            "Epoch 26: val_loss did not improve from 29.68202\n",
            "64/64 [==============================] - 0s 7ms/step - loss: 25.5402 - mean_absolute_percentage_error: 35.5006 - val_loss: 31.2284 - val_mean_absolute_percentage_error: 49.7462\n",
            "Epoch 27/300\n",
            "62/64 [============================>.] - ETA: 0s - loss: 26.2918 - mean_absolute_percentage_error: 37.2580\n",
            "Epoch 27: val_loss did not improve from 29.68202\n",
            "64/64 [==============================] - 0s 7ms/step - loss: 26.5710 - mean_absolute_percentage_error: 37.5160 - val_loss: 32.8086 - val_mean_absolute_percentage_error: 53.9923\n",
            "Epoch 28/300\n",
            "64/64 [==============================] - ETA: 0s - loss: 25.4994 - mean_absolute_percentage_error: 37.4547\n",
            "Epoch 28: val_loss did not improve from 29.68202\n",
            "64/64 [==============================] - 0s 6ms/step - loss: 25.4994 - mean_absolute_percentage_error: 37.4547 - val_loss: 30.1208 - val_mean_absolute_percentage_error: 45.5808\n",
            "Epoch 29/300\n",
            "64/64 [==============================] - ETA: 0s - loss: 25.8727 - mean_absolute_percentage_error: 36.8131\n",
            "Epoch 29: val_loss did not improve from 29.68202\n",
            "64/64 [==============================] - 1s 10ms/step - loss: 25.8727 - mean_absolute_percentage_error: 36.8131 - val_loss: 31.1716 - val_mean_absolute_percentage_error: 48.7007\n",
            "Epoch 30/300\n",
            "58/64 [==========================>...] - ETA: 0s - loss: 25.7613 - mean_absolute_percentage_error: 37.5206\n",
            "Epoch 30: val_loss did not improve from 29.68202\n",
            "64/64 [==============================] - 0s 7ms/step - loss: 25.5048 - mean_absolute_percentage_error: 36.9340 - val_loss: 33.7473 - val_mean_absolute_percentage_error: 54.4804\n",
            "Epoch 31/300\n",
            "60/64 [===========================>..] - ETA: 0s - loss: 25.9266 - mean_absolute_percentage_error: 38.3408\n",
            "Epoch 31: val_loss did not improve from 29.68202\n",
            "64/64 [==============================] - 0s 6ms/step - loss: 26.0331 - mean_absolute_percentage_error: 38.1148 - val_loss: 30.9612 - val_mean_absolute_percentage_error: 47.1038\n",
            "Epoch 32/300\n",
            "62/64 [============================>.] - ETA: 0s - loss: 25.8430 - mean_absolute_percentage_error: 37.0046\n",
            "Epoch 32: val_loss did not improve from 29.68202\n",
            "64/64 [==============================] - 0s 6ms/step - loss: 26.0114 - mean_absolute_percentage_error: 37.0321 - val_loss: 29.8535 - val_mean_absolute_percentage_error: 43.2247\n",
            "Epoch 33/300\n",
            "60/64 [===========================>..] - ETA: 0s - loss: 26.1687 - mean_absolute_percentage_error: 38.0558\n",
            "Epoch 33: val_loss did not improve from 29.68202\n",
            "64/64 [==============================] - 0s 6ms/step - loss: 26.3773 - mean_absolute_percentage_error: 37.9848 - val_loss: 30.2812 - val_mean_absolute_percentage_error: 45.7368\n",
            "Epoch 34/300\n",
            "57/64 [=========================>....] - ETA: 0s - loss: 26.6183 - mean_absolute_percentage_error: 38.5095\n",
            "Epoch 34: val_loss did not improve from 29.68202\n",
            "64/64 [==============================] - 0s 7ms/step - loss: 26.0269 - mean_absolute_percentage_error: 38.8007 - val_loss: 31.0326 - val_mean_absolute_percentage_error: 47.1636\n",
            "Epoch 35/300\n",
            "60/64 [===========================>..] - ETA: 0s - loss: 25.2276 - mean_absolute_percentage_error: 37.7304\n",
            "Epoch 35: val_loss did not improve from 29.68202\n",
            "64/64 [==============================] - 0s 7ms/step - loss: 25.7796 - mean_absolute_percentage_error: 37.9947 - val_loss: 30.8228 - val_mean_absolute_percentage_error: 47.5741\n",
            "Epoch 36/300\n",
            "58/64 [==========================>...] - ETA: 0s - loss: 25.9649 - mean_absolute_percentage_error: 36.5757\n",
            "Epoch 36: val_loss did not improve from 29.68202\n",
            "64/64 [==============================] - 0s 7ms/step - loss: 25.7651 - mean_absolute_percentage_error: 36.8729 - val_loss: 30.9834 - val_mean_absolute_percentage_error: 47.1432\n",
            "Epoch 37/300\n",
            "64/64 [==============================] - ETA: 0s - loss: 25.6349 - mean_absolute_percentage_error: 37.0488\n",
            "Epoch 37: val_loss did not improve from 29.68202\n",
            "64/64 [==============================] - 0s 7ms/step - loss: 25.6349 - mean_absolute_percentage_error: 37.0488 - val_loss: 31.4124 - val_mean_absolute_percentage_error: 49.7393\n",
            "Epoch 38/300\n",
            "62/64 [============================>.] - ETA: 0s - loss: 24.8450 - mean_absolute_percentage_error: 36.1831\n",
            "Epoch 38: val_loss did not improve from 29.68202\n",
            "64/64 [==============================] - 0s 6ms/step - loss: 25.1467 - mean_absolute_percentage_error: 36.2258 - val_loss: 30.5224 - val_mean_absolute_percentage_error: 45.5507\n",
            "Epoch 39/300\n",
            "58/64 [==========================>...] - ETA: 0s - loss: 26.1367 - mean_absolute_percentage_error: 36.1878\n",
            "Epoch 39: val_loss did not improve from 29.68202\n",
            "64/64 [==============================] - 1s 8ms/step - loss: 26.0529 - mean_absolute_percentage_error: 36.3046 - val_loss: 30.5325 - val_mean_absolute_percentage_error: 46.5166\n",
            "Epoch 40/300\n",
            "62/64 [============================>.] - ETA: 0s - loss: 25.8047 - mean_absolute_percentage_error: 36.7494\n",
            "Epoch 40: val_loss did not improve from 29.68202\n",
            "64/64 [==============================] - 1s 9ms/step - loss: 25.5223 - mean_absolute_percentage_error: 36.2759 - val_loss: 30.5539 - val_mean_absolute_percentage_error: 45.7396\n",
            "Epoch 41/300\n",
            "61/64 [===========================>..] - ETA: 0s - loss: 25.3338 - mean_absolute_percentage_error: 36.1207\n",
            "Epoch 41: val_loss did not improve from 29.68202\n",
            "64/64 [==============================] - 1s 9ms/step - loss: 25.5140 - mean_absolute_percentage_error: 36.3848 - val_loss: 30.5262 - val_mean_absolute_percentage_error: 45.3003\n",
            "Epoch 42/300\n",
            "63/64 [============================>.] - ETA: 0s - loss: 24.4724 - mean_absolute_percentage_error: 36.4027\n",
            "Epoch 42: val_loss did not improve from 29.68202\n",
            "64/64 [==============================] - 1s 10ms/step - loss: 24.5341 - mean_absolute_percentage_error: 36.4720 - val_loss: 32.0552 - val_mean_absolute_percentage_error: 51.6410\n",
            "Epoch 43/300\n",
            "61/64 [===========================>..] - ETA: 0s - loss: 26.2098 - mean_absolute_percentage_error: 37.5247\n",
            "Epoch 43: val_loss did not improve from 29.68202\n",
            "64/64 [==============================] - 1s 10ms/step - loss: 25.9836 - mean_absolute_percentage_error: 37.2436 - val_loss: 35.4590 - val_mean_absolute_percentage_error: 56.9090\n",
            "Epoch 44/300\n",
            "63/64 [============================>.] - ETA: 0s - loss: 25.3927 - mean_absolute_percentage_error: 38.1599\n",
            "Epoch 44: val_loss did not improve from 29.68202\n",
            "64/64 [==============================] - 1s 9ms/step - loss: 25.3404 - mean_absolute_percentage_error: 38.1004 - val_loss: 30.2747 - val_mean_absolute_percentage_error: 44.1239\n",
            "Epoch 45/300\n",
            "62/64 [============================>.] - ETA: 0s - loss: 24.7460 - mean_absolute_percentage_error: 37.9549\n",
            "Epoch 45: val_loss did not improve from 29.68202\n",
            "64/64 [==============================] - 1s 12ms/step - loss: 24.8155 - mean_absolute_percentage_error: 37.9662 - val_loss: 30.8588 - val_mean_absolute_percentage_error: 46.5608\n",
            "Epoch 46/300\n",
            "57/64 [=========================>....] - ETA: 0s - loss: 25.6051 - mean_absolute_percentage_error: 37.0418\n",
            "Epoch 46: val_loss did not improve from 29.68202\n",
            "64/64 [==============================] - 1s 11ms/step - loss: 25.9157 - mean_absolute_percentage_error: 37.4377 - val_loss: 30.5965 - val_mean_absolute_percentage_error: 45.5847\n",
            "Epoch 47/300\n",
            "60/64 [===========================>..] - ETA: 0s - loss: 27.2433 - mean_absolute_percentage_error: 37.7187\n",
            "Epoch 47: val_loss did not improve from 29.68202\n",
            "64/64 [==============================] - 0s 6ms/step - loss: 26.4865 - mean_absolute_percentage_error: 37.3446 - val_loss: 30.6686 - val_mean_absolute_percentage_error: 46.5263\n",
            "Epoch 48/300\n",
            "63/64 [============================>.] - ETA: 0s - loss: 24.7306 - mean_absolute_percentage_error: 35.9105\n",
            "Epoch 48: val_loss did not improve from 29.68202\n",
            "64/64 [==============================] - 1s 9ms/step - loss: 24.6854 - mean_absolute_percentage_error: 35.7987 - val_loss: 31.3154 - val_mean_absolute_percentage_error: 47.6068\n",
            "Epoch 49/300\n",
            "62/64 [============================>.] - ETA: 0s - loss: 24.9040 - mean_absolute_percentage_error: 37.9472\n",
            "Epoch 49: val_loss did not improve from 29.68202\n",
            "64/64 [==============================] - 1s 9ms/step - loss: 25.3212 - mean_absolute_percentage_error: 38.0108 - val_loss: 31.9760 - val_mean_absolute_percentage_error: 51.5089\n",
            "Epoch 50/300\n",
            "62/64 [============================>.] - ETA: 0s - loss: 25.5582 - mean_absolute_percentage_error: 37.3887\n",
            "Epoch 50: val_loss did not improve from 29.68202\n",
            "64/64 [==============================] - 1s 8ms/step - loss: 25.3865 - mean_absolute_percentage_error: 37.3115 - val_loss: 32.7325 - val_mean_absolute_percentage_error: 53.4532\n",
            "Epoch 51/300\n",
            "60/64 [===========================>..] - ETA: 0s - loss: 25.3032 - mean_absolute_percentage_error: 37.8470\n",
            "Epoch 51: val_loss did not improve from 29.68202\n",
            "64/64 [==============================] - 0s 7ms/step - loss: 25.8497 - mean_absolute_percentage_error: 37.9308 - val_loss: 30.9869 - val_mean_absolute_percentage_error: 47.7710\n",
            "Epoch 52/300\n",
            "57/64 [=========================>....] - ETA: 0s - loss: 25.1727 - mean_absolute_percentage_error: 36.1894\n",
            "Epoch 52: val_loss did not improve from 29.68202\n",
            "64/64 [==============================] - 0s 7ms/step - loss: 25.7552 - mean_absolute_percentage_error: 36.9159 - val_loss: 32.1112 - val_mean_absolute_percentage_error: 50.2602\n",
            "Epoch 53/300\n",
            "64/64 [==============================] - ETA: 0s - loss: 26.2199 - mean_absolute_percentage_error: 37.3664\n",
            "Epoch 53: val_loss did not improve from 29.68202\n",
            "64/64 [==============================] - 0s 7ms/step - loss: 26.2199 - mean_absolute_percentage_error: 37.3664 - val_loss: 30.0533 - val_mean_absolute_percentage_error: 43.9642\n",
            "Epoch 54/300\n",
            "64/64 [==============================] - ETA: 0s - loss: 25.2752 - mean_absolute_percentage_error: 37.5337\n",
            "Epoch 54: val_loss did not improve from 29.68202\n",
            "64/64 [==============================] - 0s 6ms/step - loss: 25.2752 - mean_absolute_percentage_error: 37.5337 - val_loss: 31.4111 - val_mean_absolute_percentage_error: 49.8428\n",
            "Epoch 55/300\n",
            "61/64 [===========================>..] - ETA: 0s - loss: 25.7141 - mean_absolute_percentage_error: 38.1262\n",
            "Epoch 55: val_loss did not improve from 29.68202\n",
            "64/64 [==============================] - 0s 7ms/step - loss: 25.8453 - mean_absolute_percentage_error: 38.1169 - val_loss: 30.3295 - val_mean_absolute_percentage_error: 45.0380\n",
            "Epoch 55: early stopping\n"
          ]
        },
        {
          "output_type": "execute_result",
          "data": {
            "text/plain": [
              "<keras.callbacks.History at 0x7f0abc592080>"
            ]
          },
          "metadata": {},
          "execution_count": 143
        }
      ]
    },
    {
      "cell_type": "code",
      "source": [
        "model = keras.models.load_model('nike_color_best_model.h5', custom_objects=None, compile=True)\n",
        "\n",
        "model.evaluate(nike_test_X, nike_test_y)"
      ],
      "metadata": {
        "colab": {
          "base_uri": "https://localhost:8080/"
        },
        "id": "Hyp8fCC4VZpI",
        "outputId": "126ea0de-ccb5-47ea-9714-3a0e3e4c0532"
      },
      "execution_count": null,
      "outputs": [
        {
          "output_type": "stream",
          "name": "stdout",
          "text": [
            "7/7 [==============================] - 0s 5ms/step - loss: 28.7249 - mean_absolute_percentage_error: 38.6542\n"
          ]
        },
        {
          "output_type": "execute_result",
          "data": {
            "text/plain": [
              "[28.724876403808594, 38.65422439575195]"
            ]
          },
          "metadata": {},
          "execution_count": 145
        }
      ]
    },
    {
      "cell_type": "code",
      "source": [
        "# 임베딩 층에 입력될 단어의 수를 지정한다.\n",
        "word_size = 967 + 1\n",
        "\n",
        "\n",
        "nike_bn_model = keras.models.Sequential([\n",
        "    # 임베딩층\n",
        "    keras.layers.Embedding(word_size, word_size, input_length=13),\n",
        "    # 회귀를 위해 임베딩층의 output값을 1차원의 array로 바꾸어준다. \n",
        "    keras.layers.Flatten(),\n",
        "    keras.layers.Dense(64),\n",
        "    keras.layers.Dropout(0.5),\n",
        "    keras.layers.Dense(32),\n",
        "    keras.layers.Dropout(0.5),\n",
        "    keras.layers.Dense(16),\n",
        "    keras.layers.Dropout(0.5),\n",
        "    keras.layers.Dense(8),\n",
        "    keras.layers.Dropout(0.5),\n",
        "    keras.layers.Dense(4),\n",
        "    keras.layers.Dropout(0.5),\n",
        "\n",
        "    keras.layers.Dense(2),\n",
        "    keras.layers.Dense(1)\n",
        " ])\n",
        "\n",
        "nike_bn_model.compile(optimizer=keras.optimizers.Adam(learning_rate=0.005), loss=tf.keras.losses.Huber(delta=3), metrics= [\"mean_absolute_percentage_error\"])\n",
        "\n",
        "nike_bn_model.fit(jordan_train_X, jordan_train_y, batch_size=16, epochs=300, validation_data = (jordan_valid_X,jordan_valid_y),  callbacks=[es, mc_jordan])"
      ],
      "metadata": {
        "colab": {
          "base_uri": "https://localhost:8080/"
        },
        "id": "G7d1YFvRVxF_",
        "outputId": "46a7d8c0-2b12-4b46-9547-16dbfab88b21"
      },
      "execution_count": null,
      "outputs": [
        {
          "output_type": "stream",
          "name": "stdout",
          "text": [
            "Epoch 1/300\n",
            "61/61 [==============================] - ETA: 0s - loss: 83.2468 - mean_absolute_percentage_error: 88.0328\n",
            "Epoch 1: val_loss improved from inf to 59.66909, saving model to jordan_color_best_model.h5\n",
            "61/61 [==============================] - 9s 83ms/step - loss: 83.2468 - mean_absolute_percentage_error: 88.0328 - val_loss: 59.6691 - val_mean_absolute_percentage_error: 43.0780\n",
            "Epoch 2/300\n",
            "61/61 [==============================] - ETA: 0s - loss: 74.4961 - mean_absolute_percentage_error: 77.5466\n",
            "Epoch 2: val_loss improved from 59.66909 to 50.24213, saving model to jordan_color_best_model.h5\n",
            "61/61 [==============================] - 1s 18ms/step - loss: 74.4961 - mean_absolute_percentage_error: 77.5466 - val_loss: 50.2421 - val_mean_absolute_percentage_error: 40.3302\n",
            "Epoch 3/300\n",
            "61/61 [==============================] - ETA: 0s - loss: 71.8068 - mean_absolute_percentage_error: 73.6763\n",
            "Epoch 3: val_loss did not improve from 50.24213\n",
            "61/61 [==============================] - 1s 9ms/step - loss: 71.8068 - mean_absolute_percentage_error: 73.6763 - val_loss: 60.2533 - val_mean_absolute_percentage_error: 45.1709\n",
            "Epoch 4/300\n",
            "56/61 [==========================>...] - ETA: 0s - loss: 70.4523 - mean_absolute_percentage_error: 70.9385\n",
            "Epoch 4: val_loss did not improve from 50.24213\n",
            "61/61 [==============================] - 0s 6ms/step - loss: 68.7745 - mean_absolute_percentage_error: 70.5660 - val_loss: 63.9170 - val_mean_absolute_percentage_error: 48.3010\n",
            "Epoch 5/300\n",
            "61/61 [==============================] - ETA: 0s - loss: 67.4311 - mean_absolute_percentage_error: 66.1992\n",
            "Epoch 5: val_loss did not improve from 50.24213\n",
            "61/61 [==============================] - 1s 13ms/step - loss: 67.4311 - mean_absolute_percentage_error: 66.1992 - val_loss: 52.9045 - val_mean_absolute_percentage_error: 39.1997\n",
            "Epoch 6/300\n",
            "61/61 [==============================] - ETA: 0s - loss: 65.3682 - mean_absolute_percentage_error: 66.4687\n",
            "Epoch 6: val_loss did not improve from 50.24213\n",
            "61/61 [==============================] - 1s 12ms/step - loss: 65.3682 - mean_absolute_percentage_error: 66.4687 - val_loss: 64.9281 - val_mean_absolute_percentage_error: 49.3677\n",
            "Epoch 7/300\n",
            "61/61 [==============================] - ETA: 0s - loss: 63.2550 - mean_absolute_percentage_error: 62.4281\n",
            "Epoch 7: val_loss did not improve from 50.24213\n",
            "61/61 [==============================] - 1s 9ms/step - loss: 63.2550 - mean_absolute_percentage_error: 62.4281 - val_loss: 53.8540 - val_mean_absolute_percentage_error: 41.4989\n",
            "Epoch 8/300\n",
            "55/61 [==========================>...] - ETA: 0s - loss: 62.5468 - mean_absolute_percentage_error: 60.2852\n",
            "Epoch 8: val_loss did not improve from 50.24213\n",
            "61/61 [==============================] - 1s 9ms/step - loss: 60.9554 - mean_absolute_percentage_error: 60.4111 - val_loss: 61.9735 - val_mean_absolute_percentage_error: 47.2555\n",
            "Epoch 9/300\n",
            "61/61 [==============================] - ETA: 0s - loss: 62.1661 - mean_absolute_percentage_error: 60.1642\n",
            "Epoch 9: val_loss did not improve from 50.24213\n",
            "61/61 [==============================] - 1s 13ms/step - loss: 62.1661 - mean_absolute_percentage_error: 60.1642 - val_loss: 64.9599 - val_mean_absolute_percentage_error: 49.9482\n",
            "Epoch 10/300\n",
            "61/61 [==============================] - ETA: 0s - loss: 58.6223 - mean_absolute_percentage_error: 54.2693\n",
            "Epoch 10: val_loss did not improve from 50.24213\n",
            "61/61 [==============================] - 1s 15ms/step - loss: 58.6223 - mean_absolute_percentage_error: 54.2693 - val_loss: 52.7392 - val_mean_absolute_percentage_error: 40.0472\n",
            "Epoch 11/300\n",
            "58/61 [===========================>..] - ETA: 0s - loss: 56.1780 - mean_absolute_percentage_error: 52.5608\n",
            "Epoch 11: val_loss did not improve from 50.24213\n",
            "61/61 [==============================] - 1s 10ms/step - loss: 58.0477 - mean_absolute_percentage_error: 52.9842 - val_loss: 53.4962 - val_mean_absolute_percentage_error: 40.2014\n",
            "Epoch 12/300\n",
            "57/61 [===========================>..] - ETA: 0s - loss: 55.5476 - mean_absolute_percentage_error: 53.9244\n",
            "Epoch 12: val_loss did not improve from 50.24213\n",
            "61/61 [==============================] - 1s 10ms/step - loss: 57.8050 - mean_absolute_percentage_error: 54.0297 - val_loss: 52.2010 - val_mean_absolute_percentage_error: 39.6071\n",
            "Epoch 13/300\n",
            "53/61 [=========================>....] - ETA: 0s - loss: 55.6440 - mean_absolute_percentage_error: 49.5319\n",
            "Epoch 13: val_loss did not improve from 50.24213\n",
            "61/61 [==============================] - 1s 8ms/step - loss: 55.4922 - mean_absolute_percentage_error: 50.2353 - val_loss: 60.5115 - val_mean_absolute_percentage_error: 44.5598\n",
            "Epoch 14/300\n",
            "58/61 [===========================>..] - ETA: 0s - loss: 54.3476 - mean_absolute_percentage_error: 49.1787\n",
            "Epoch 14: val_loss did not improve from 50.24213\n",
            "61/61 [==============================] - 1s 10ms/step - loss: 53.3202 - mean_absolute_percentage_error: 48.8427 - val_loss: 57.0237 - val_mean_absolute_percentage_error: 42.4894\n",
            "Epoch 15/300\n",
            "60/61 [============================>.] - ETA: 0s - loss: 51.9073 - mean_absolute_percentage_error: 44.9819\n",
            "Epoch 15: val_loss did not improve from 50.24213\n",
            "61/61 [==============================] - 1s 10ms/step - loss: 51.8705 - mean_absolute_percentage_error: 44.9996 - val_loss: 51.9398 - val_mean_absolute_percentage_error: 43.5724\n",
            "Epoch 16/300\n",
            "61/61 [==============================] - ETA: 0s - loss: 51.9113 - mean_absolute_percentage_error: 46.4261\n",
            "Epoch 16: val_loss did not improve from 50.24213\n",
            "61/61 [==============================] - 1s 11ms/step - loss: 51.9113 - mean_absolute_percentage_error: 46.4261 - val_loss: 52.8169 - val_mean_absolute_percentage_error: 40.8851\n",
            "Epoch 17/300\n",
            "55/61 [==========================>...] - ETA: 0s - loss: 46.3614 - mean_absolute_percentage_error: 42.4669\n",
            "Epoch 17: val_loss did not improve from 50.24213\n",
            "61/61 [==============================] - 1s 10ms/step - loss: 48.5663 - mean_absolute_percentage_error: 42.0527 - val_loss: 55.0930 - val_mean_absolute_percentage_error: 40.3593\n",
            "Epoch 18/300\n",
            "52/61 [========================>.....] - ETA: 0s - loss: 50.9549 - mean_absolute_percentage_error: 42.0737\n",
            "Epoch 18: val_loss did not improve from 50.24213\n",
            "61/61 [==============================] - 0s 6ms/step - loss: 49.3547 - mean_absolute_percentage_error: 41.7447 - val_loss: 50.8489 - val_mean_absolute_percentage_error: 39.9268\n",
            "Epoch 19/300\n",
            "51/61 [========================>.....] - ETA: 0s - loss: 46.7913 - mean_absolute_percentage_error: 39.9489\n",
            "Epoch 19: val_loss did not improve from 50.24213\n",
            "61/61 [==============================] - 0s 6ms/step - loss: 47.6631 - mean_absolute_percentage_error: 39.7523 - val_loss: 54.2704 - val_mean_absolute_percentage_error: 39.6085\n",
            "Epoch 20/300\n",
            "54/61 [=========================>....] - ETA: 0s - loss: 46.6564 - mean_absolute_percentage_error: 39.0592\n",
            "Epoch 20: val_loss did not improve from 50.24213\n",
            "61/61 [==============================] - 0s 6ms/step - loss: 46.9378 - mean_absolute_percentage_error: 38.7790 - val_loss: 52.2883 - val_mean_absolute_percentage_error: 40.0050\n",
            "Epoch 21/300\n",
            "61/61 [==============================] - ETA: 0s - loss: 44.7787 - mean_absolute_percentage_error: 38.4766\n",
            "Epoch 21: val_loss did not improve from 50.24213\n",
            "61/61 [==============================] - 1s 10ms/step - loss: 44.7787 - mean_absolute_percentage_error: 38.4766 - val_loss: 51.5566 - val_mean_absolute_percentage_error: 41.1514\n",
            "Epoch 22/300\n",
            "54/61 [=========================>....] - ETA: 0s - loss: 42.0527 - mean_absolute_percentage_error: 35.9521\n",
            "Epoch 22: val_loss did not improve from 50.24213\n",
            "61/61 [==============================] - 0s 6ms/step - loss: 43.4174 - mean_absolute_percentage_error: 36.1123 - val_loss: 50.3590 - val_mean_absolute_percentage_error: 40.0049\n",
            "Epoch 23/300\n",
            "55/61 [==========================>...] - ETA: 0s - loss: 43.9204 - mean_absolute_percentage_error: 37.5936\n",
            "Epoch 23: val_loss improved from 50.24213 to 49.71790, saving model to jordan_color_best_model.h5\n",
            "61/61 [==============================] - 1s 20ms/step - loss: 43.2848 - mean_absolute_percentage_error: 37.4247 - val_loss: 49.7179 - val_mean_absolute_percentage_error: 41.4819\n",
            "Epoch 24/300\n",
            "55/61 [==========================>...] - ETA: 0s - loss: 43.8180 - mean_absolute_percentage_error: 35.4814\n",
            "Epoch 24: val_loss did not improve from 49.71790\n",
            "61/61 [==============================] - 0s 6ms/step - loss: 42.5069 - mean_absolute_percentage_error: 35.3170 - val_loss: 50.0052 - val_mean_absolute_percentage_error: 40.0145\n",
            "Epoch 25/300\n",
            "60/61 [============================>.] - ETA: 0s - loss: 43.2524 - mean_absolute_percentage_error: 36.5553\n",
            "Epoch 25: val_loss improved from 49.71790 to 48.97871, saving model to jordan_color_best_model.h5\n",
            "61/61 [==============================] - 0s 8ms/step - loss: 43.2522 - mean_absolute_percentage_error: 36.5915 - val_loss: 48.9787 - val_mean_absolute_percentage_error: 39.1544\n",
            "Epoch 26/300\n",
            "54/61 [=========================>....] - ETA: 0s - loss: 41.4247 - mean_absolute_percentage_error: 36.2624\n",
            "Epoch 26: val_loss did not improve from 48.97871\n",
            "61/61 [==============================] - 1s 9ms/step - loss: 41.2381 - mean_absolute_percentage_error: 35.6880 - val_loss: 49.0414 - val_mean_absolute_percentage_error: 39.3730\n",
            "Epoch 27/300\n",
            "55/61 [==========================>...] - ETA: 0s - loss: 40.4934 - mean_absolute_percentage_error: 35.3395\n",
            "Epoch 27: val_loss did not improve from 48.97871\n",
            "61/61 [==============================] - 0s 6ms/step - loss: 41.4744 - mean_absolute_percentage_error: 35.5791 - val_loss: 49.0945 - val_mean_absolute_percentage_error: 41.9889\n",
            "Epoch 28/300\n",
            "53/61 [=========================>....] - ETA: 0s - loss: 42.2532 - mean_absolute_percentage_error: 35.3085\n",
            "Epoch 28: val_loss improved from 48.97871 to 48.88756, saving model to jordan_color_best_model.h5\n",
            "61/61 [==============================] - 1s 11ms/step - loss: 40.7191 - mean_absolute_percentage_error: 35.4214 - val_loss: 48.8876 - val_mean_absolute_percentage_error: 41.1886\n",
            "Epoch 29/300\n",
            "53/61 [=========================>....] - ETA: 0s - loss: 42.2091 - mean_absolute_percentage_error: 37.5906\n",
            "Epoch 29: val_loss did not improve from 48.88756\n",
            "61/61 [==============================] - 0s 6ms/step - loss: 40.9142 - mean_absolute_percentage_error: 37.1087 - val_loss: 49.3536 - val_mean_absolute_percentage_error: 44.2342\n",
            "Epoch 30/300\n",
            "55/61 [==========================>...] - ETA: 0s - loss: 41.3261 - mean_absolute_percentage_error: 37.9684\n",
            "Epoch 30: val_loss did not improve from 48.88756\n",
            "61/61 [==============================] - 0s 6ms/step - loss: 41.7074 - mean_absolute_percentage_error: 37.8790 - val_loss: 49.4664 - val_mean_absolute_percentage_error: 38.8960\n",
            "Epoch 31/300\n",
            "54/61 [=========================>....] - ETA: 0s - loss: 40.9091 - mean_absolute_percentage_error: 36.1768\n",
            "Epoch 31: val_loss did not improve from 48.88756\n",
            "61/61 [==============================] - 0s 6ms/step - loss: 40.6805 - mean_absolute_percentage_error: 35.6745 - val_loss: 49.8662 - val_mean_absolute_percentage_error: 48.2116\n",
            "Epoch 32/300\n",
            "61/61 [==============================] - ETA: 0s - loss: 41.8159 - mean_absolute_percentage_error: 37.9367\n",
            "Epoch 32: val_loss improved from 48.88756 to 48.67033, saving model to jordan_color_best_model.h5\n",
            "61/61 [==============================] - 1s 9ms/step - loss: 41.8159 - mean_absolute_percentage_error: 37.9367 - val_loss: 48.6703 - val_mean_absolute_percentage_error: 41.8977\n",
            "Epoch 33/300\n",
            "61/61 [==============================] - ETA: 0s - loss: 40.6036 - mean_absolute_percentage_error: 36.5691\n",
            "Epoch 33: val_loss did not improve from 48.67033\n",
            "61/61 [==============================] - 1s 10ms/step - loss: 40.6036 - mean_absolute_percentage_error: 36.5691 - val_loss: 49.2193 - val_mean_absolute_percentage_error: 42.2832\n",
            "Epoch 34/300\n",
            "55/61 [==========================>...] - ETA: 0s - loss: 40.1753 - mean_absolute_percentage_error: 36.2698\n",
            "Epoch 34: val_loss did not improve from 48.67033\n",
            "61/61 [==============================] - 1s 9ms/step - loss: 40.2464 - mean_absolute_percentage_error: 37.1098 - val_loss: 50.3261 - val_mean_absolute_percentage_error: 45.5464\n",
            "Epoch 35/300\n",
            "61/61 [==============================] - ETA: 0s - loss: 41.7168 - mean_absolute_percentage_error: 37.5248\n",
            "Epoch 35: val_loss did not improve from 48.67033\n",
            "61/61 [==============================] - 1s 10ms/step - loss: 41.7168 - mean_absolute_percentage_error: 37.5248 - val_loss: 48.9205 - val_mean_absolute_percentage_error: 41.6433\n",
            "Epoch 36/300\n",
            "58/61 [===========================>..] - ETA: 0s - loss: 41.0393 - mean_absolute_percentage_error: 38.2094\n",
            "Epoch 36: val_loss did not improve from 48.67033\n",
            "61/61 [==============================] - 1s 9ms/step - loss: 40.5401 - mean_absolute_percentage_error: 38.2908 - val_loss: 49.3123 - val_mean_absolute_percentage_error: 44.9943\n",
            "Epoch 37/300\n",
            "61/61 [==============================] - ETA: 0s - loss: 40.2487 - mean_absolute_percentage_error: 36.9936\n",
            "Epoch 37: val_loss did not improve from 48.67033\n",
            "61/61 [==============================] - 1s 9ms/step - loss: 40.2487 - mean_absolute_percentage_error: 36.9936 - val_loss: 49.0891 - val_mean_absolute_percentage_error: 43.1167\n",
            "Epoch 38/300\n",
            "61/61 [==============================] - ETA: 0s - loss: 40.4039 - mean_absolute_percentage_error: 37.2150\n",
            "Epoch 38: val_loss did not improve from 48.67033\n",
            "61/61 [==============================] - 1s 17ms/step - loss: 40.4039 - mean_absolute_percentage_error: 37.2150 - val_loss: 50.5394 - val_mean_absolute_percentage_error: 48.7294\n",
            "Epoch 39/300\n",
            "60/61 [============================>.] - ETA: 0s - loss: 40.3900 - mean_absolute_percentage_error: 37.4535\n",
            "Epoch 39: val_loss did not improve from 48.67033\n",
            "61/61 [==============================] - 0s 6ms/step - loss: 40.3019 - mean_absolute_percentage_error: 37.4990 - val_loss: 49.1650 - val_mean_absolute_percentage_error: 43.5188\n",
            "Epoch 40/300\n",
            "58/61 [===========================>..] - ETA: 0s - loss: 40.0499 - mean_absolute_percentage_error: 36.8383\n",
            "Epoch 40: val_loss did not improve from 48.67033\n",
            "61/61 [==============================] - 1s 10ms/step - loss: 39.7483 - mean_absolute_percentage_error: 36.7800 - val_loss: 49.7462 - val_mean_absolute_percentage_error: 45.4487\n",
            "Epoch 41/300\n",
            "54/61 [=========================>....] - ETA: 0s - loss: 42.1503 - mean_absolute_percentage_error: 38.8900\n",
            "Epoch 41: val_loss did not improve from 48.67033\n",
            "61/61 [==============================] - 0s 6ms/step - loss: 41.4152 - mean_absolute_percentage_error: 38.6241 - val_loss: 49.1315 - val_mean_absolute_percentage_error: 44.5796\n",
            "Epoch 42/300\n",
            "53/61 [=========================>....] - ETA: 0s - loss: 38.2333 - mean_absolute_percentage_error: 36.9871\n",
            "Epoch 42: val_loss did not improve from 48.67033\n",
            "61/61 [==============================] - 0s 6ms/step - loss: 40.3994 - mean_absolute_percentage_error: 37.1815 - val_loss: 49.7401 - val_mean_absolute_percentage_error: 47.1353\n",
            "Epoch 43/300\n",
            "61/61 [==============================] - ETA: 0s - loss: 40.4487 - mean_absolute_percentage_error: 38.2689\n",
            "Epoch 43: val_loss did not improve from 48.67033\n",
            "61/61 [==============================] - 0s 8ms/step - loss: 40.4487 - mean_absolute_percentage_error: 38.2689 - val_loss: 49.1646 - val_mean_absolute_percentage_error: 41.9486\n",
            "Epoch 44/300\n",
            "58/61 [===========================>..] - ETA: 0s - loss: 41.0618 - mean_absolute_percentage_error: 35.9264\n",
            "Epoch 44: val_loss did not improve from 48.67033\n",
            "61/61 [==============================] - 0s 6ms/step - loss: 40.5539 - mean_absolute_percentage_error: 36.2407 - val_loss: 49.2064 - val_mean_absolute_percentage_error: 44.4309\n",
            "Epoch 45/300\n",
            "54/61 [=========================>....] - ETA: 0s - loss: 40.5439 - mean_absolute_percentage_error: 37.5242\n",
            "Epoch 45: val_loss did not improve from 48.67033\n",
            "61/61 [==============================] - 0s 6ms/step - loss: 40.2239 - mean_absolute_percentage_error: 37.6675 - val_loss: 48.9471 - val_mean_absolute_percentage_error: 43.2303\n",
            "Epoch 46/300\n",
            "55/61 [==========================>...] - ETA: 0s - loss: 40.9387 - mean_absolute_percentage_error: 37.5170\n",
            "Epoch 46: val_loss did not improve from 48.67033\n",
            "61/61 [==============================] - 0s 6ms/step - loss: 40.1764 - mean_absolute_percentage_error: 37.3783 - val_loss: 49.4953 - val_mean_absolute_percentage_error: 45.1170\n",
            "Epoch 47/300\n",
            "51/61 [========================>.....] - ETA: 0s - loss: 37.0468 - mean_absolute_percentage_error: 35.7515\n",
            "Epoch 47: val_loss did not improve from 48.67033\n",
            "61/61 [==============================] - 0s 6ms/step - loss: 40.5645 - mean_absolute_percentage_error: 36.8242 - val_loss: 49.6320 - val_mean_absolute_percentage_error: 44.0310\n",
            "Epoch 48/300\n",
            "61/61 [==============================] - ETA: 0s - loss: 40.4244 - mean_absolute_percentage_error: 37.2680\n",
            "Epoch 48: val_loss did not improve from 48.67033\n",
            "61/61 [==============================] - 0s 7ms/step - loss: 40.4244 - mean_absolute_percentage_error: 37.2680 - val_loss: 48.8805 - val_mean_absolute_percentage_error: 42.8602\n",
            "Epoch 49/300\n",
            "60/61 [============================>.] - ETA: 0s - loss: 39.8734 - mean_absolute_percentage_error: 36.3953\n",
            "Epoch 49: val_loss improved from 48.67033 to 48.66715, saving model to jordan_color_best_model.h5\n",
            "61/61 [==============================] - 1s 19ms/step - loss: 40.3487 - mean_absolute_percentage_error: 36.4066 - val_loss: 48.6671 - val_mean_absolute_percentage_error: 41.5437\n",
            "Epoch 50/300\n",
            "52/61 [========================>.....] - ETA: 0s - loss: 38.0062 - mean_absolute_percentage_error: 38.5493\n",
            "Epoch 50: val_loss did not improve from 48.66715\n",
            "61/61 [==============================] - 1s 9ms/step - loss: 40.3788 - mean_absolute_percentage_error: 38.5040 - val_loss: 48.8965 - val_mean_absolute_percentage_error: 41.8454\n",
            "Epoch 51/300\n",
            "56/61 [==========================>...] - ETA: 0s - loss: 40.3626 - mean_absolute_percentage_error: 37.4404\n",
            "Epoch 51: val_loss did not improve from 48.66715\n",
            "61/61 [==============================] - 0s 6ms/step - loss: 40.8655 - mean_absolute_percentage_error: 38.2719 - val_loss: 48.8735 - val_mean_absolute_percentage_error: 42.8494\n",
            "Epoch 52/300\n",
            "54/61 [=========================>....] - ETA: 0s - loss: 41.4003 - mean_absolute_percentage_error: 38.6822\n",
            "Epoch 52: val_loss did not improve from 48.66715\n",
            "61/61 [==============================] - 0s 6ms/step - loss: 40.2415 - mean_absolute_percentage_error: 38.9322 - val_loss: 50.5154 - val_mean_absolute_percentage_error: 47.3941\n",
            "Epoch 53/300\n",
            "50/61 [=======================>......] - ETA: 0s - loss: 41.9403 - mean_absolute_percentage_error: 38.8869\n",
            "Epoch 53: val_loss did not improve from 48.66715\n",
            "61/61 [==============================] - 0s 6ms/step - loss: 40.9832 - mean_absolute_percentage_error: 38.8501 - val_loss: 51.4510 - val_mean_absolute_percentage_error: 49.3868\n",
            "Epoch 54/300\n",
            "55/61 [==========================>...] - ETA: 0s - loss: 41.2104 - mean_absolute_percentage_error: 37.3345\n",
            "Epoch 54: val_loss did not improve from 48.66715\n",
            "61/61 [==============================] - 0s 6ms/step - loss: 39.6050 - mean_absolute_percentage_error: 37.2823 - val_loss: 49.3976 - val_mean_absolute_percentage_error: 43.7141\n",
            "Epoch 55/300\n",
            "53/61 [=========================>....] - ETA: 0s - loss: 38.7125 - mean_absolute_percentage_error: 35.7992\n",
            "Epoch 55: val_loss did not improve from 48.66715\n",
            "61/61 [==============================] - 0s 7ms/step - loss: 39.1383 - mean_absolute_percentage_error: 37.0340 - val_loss: 53.9022 - val_mean_absolute_percentage_error: 56.9805\n",
            "Epoch 56/300\n",
            "56/61 [==========================>...] - ETA: 0s - loss: 38.6125 - mean_absolute_percentage_error: 38.6396\n",
            "Epoch 56: val_loss did not improve from 48.66715\n",
            "61/61 [==============================] - 0s 6ms/step - loss: 40.8009 - mean_absolute_percentage_error: 38.5894 - val_loss: 51.2442 - val_mean_absolute_percentage_error: 47.9205\n",
            "Epoch 57/300\n",
            "54/61 [=========================>....] - ETA: 0s - loss: 41.4291 - mean_absolute_percentage_error: 38.4297\n",
            "Epoch 57: val_loss did not improve from 48.66715\n",
            "61/61 [==============================] - 0s 6ms/step - loss: 40.8746 - mean_absolute_percentage_error: 37.9181 - val_loss: 50.8380 - val_mean_absolute_percentage_error: 49.1663\n",
            "Epoch 58/300\n",
            "60/61 [============================>.] - ETA: 0s - loss: 40.3502 - mean_absolute_percentage_error: 38.8731\n",
            "Epoch 58: val_loss did not improve from 48.66715\n",
            "61/61 [==============================] - 0s 6ms/step - loss: 40.2814 - mean_absolute_percentage_error: 38.9382 - val_loss: 49.9651 - val_mean_absolute_percentage_error: 43.5660\n",
            "Epoch 59/300\n",
            "61/61 [==============================] - ETA: 0s - loss: 40.7354 - mean_absolute_percentage_error: 37.2959\n",
            "Epoch 59: val_loss did not improve from 48.66715\n",
            "61/61 [==============================] - 0s 6ms/step - loss: 40.7354 - mean_absolute_percentage_error: 37.2959 - val_loss: 53.2481 - val_mean_absolute_percentage_error: 52.9453\n",
            "Epoch 60/300\n",
            "61/61 [==============================] - ETA: 0s - loss: 41.5392 - mean_absolute_percentage_error: 38.9722\n",
            "Epoch 60: val_loss did not improve from 48.66715\n",
            "61/61 [==============================] - 0s 6ms/step - loss: 41.5392 - mean_absolute_percentage_error: 38.9722 - val_loss: 49.5815 - val_mean_absolute_percentage_error: 42.5356\n",
            "Epoch 61/300\n",
            "55/61 [==========================>...] - ETA: 0s - loss: 40.8502 - mean_absolute_percentage_error: 37.8792\n",
            "Epoch 61: val_loss did not improve from 48.66715\n",
            "61/61 [==============================] - 1s 11ms/step - loss: 40.6923 - mean_absolute_percentage_error: 37.7911 - val_loss: 50.4834 - val_mean_absolute_percentage_error: 47.0150\n",
            "Epoch 62/300\n",
            "60/61 [============================>.] - ETA: 0s - loss: 40.7434 - mean_absolute_percentage_error: 38.3146\n",
            "Epoch 62: val_loss did not improve from 48.66715\n",
            "61/61 [==============================] - 1s 14ms/step - loss: 40.6440 - mean_absolute_percentage_error: 38.2339 - val_loss: 48.7462 - val_mean_absolute_percentage_error: 42.9750\n",
            "Epoch 63/300\n",
            "56/61 [==========================>...] - ETA: 0s - loss: 41.7630 - mean_absolute_percentage_error: 37.7284\n",
            "Epoch 63: val_loss did not improve from 48.66715\n",
            "61/61 [==============================] - 1s 10ms/step - loss: 40.2408 - mean_absolute_percentage_error: 37.4984 - val_loss: 49.2840 - val_mean_absolute_percentage_error: 43.4270\n",
            "Epoch 64/300\n",
            "57/61 [===========================>..] - ETA: 0s - loss: 39.0969 - mean_absolute_percentage_error: 38.4706\n",
            "Epoch 64: val_loss did not improve from 48.66715\n",
            "61/61 [==============================] - 1s 9ms/step - loss: 39.9933 - mean_absolute_percentage_error: 38.4849 - val_loss: 49.4071 - val_mean_absolute_percentage_error: 44.4133\n",
            "Epoch 65/300\n",
            "56/61 [==========================>...] - ETA: 0s - loss: 39.0340 - mean_absolute_percentage_error: 37.0252\n",
            "Epoch 65: val_loss did not improve from 48.66715\n",
            "61/61 [==============================] - 1s 9ms/step - loss: 40.0244 - mean_absolute_percentage_error: 37.6848 - val_loss: 50.6560 - val_mean_absolute_percentage_error: 47.0921\n",
            "Epoch 66/300\n",
            "57/61 [===========================>..] - ETA: 0s - loss: 39.9676 - mean_absolute_percentage_error: 38.0977\n",
            "Epoch 66: val_loss did not improve from 48.66715\n",
            "61/61 [==============================] - 1s 9ms/step - loss: 39.8562 - mean_absolute_percentage_error: 37.8836 - val_loss: 49.6329 - val_mean_absolute_percentage_error: 44.4154\n",
            "Epoch 67/300\n",
            "61/61 [==============================] - ETA: 0s - loss: 39.7308 - mean_absolute_percentage_error: 37.0401\n",
            "Epoch 67: val_loss did not improve from 48.66715\n",
            "61/61 [==============================] - 1s 10ms/step - loss: 39.7308 - mean_absolute_percentage_error: 37.0401 - val_loss: 49.2726 - val_mean_absolute_percentage_error: 41.8580\n",
            "Epoch 68/300\n",
            "53/61 [=========================>....] - ETA: 0s - loss: 40.0716 - mean_absolute_percentage_error: 37.1643\n",
            "Epoch 68: val_loss did not improve from 48.66715\n",
            "61/61 [==============================] - 0s 6ms/step - loss: 39.5157 - mean_absolute_percentage_error: 37.5554 - val_loss: 50.4163 - val_mean_absolute_percentage_error: 47.6413\n",
            "Epoch 69/300\n",
            "61/61 [==============================] - ETA: 0s - loss: 40.1636 - mean_absolute_percentage_error: 37.4276\n",
            "Epoch 69: val_loss did not improve from 48.66715\n",
            "61/61 [==============================] - 0s 8ms/step - loss: 40.1636 - mean_absolute_percentage_error: 37.4276 - val_loss: 49.1650 - val_mean_absolute_percentage_error: 42.1696\n",
            "Epoch 70/300\n",
            "56/61 [==========================>...] - ETA: 0s - loss: 40.5229 - mean_absolute_percentage_error: 37.3786\n",
            "Epoch 70: val_loss did not improve from 48.66715\n",
            "61/61 [==============================] - 0s 7ms/step - loss: 39.8202 - mean_absolute_percentage_error: 37.4725 - val_loss: 49.1736 - val_mean_absolute_percentage_error: 42.6207\n",
            "Epoch 71/300\n",
            "56/61 [==========================>...] - ETA: 0s - loss: 39.7701 - mean_absolute_percentage_error: 36.9075\n",
            "Epoch 71: val_loss did not improve from 48.66715\n",
            "61/61 [==============================] - 0s 7ms/step - loss: 39.5090 - mean_absolute_percentage_error: 36.4804 - val_loss: 50.5276 - val_mean_absolute_percentage_error: 46.2110\n",
            "Epoch 72/300\n",
            "55/61 [==========================>...] - ETA: 0s - loss: 38.2842 - mean_absolute_percentage_error: 37.0393\n",
            "Epoch 72: val_loss did not improve from 48.66715\n",
            "61/61 [==============================] - 0s 7ms/step - loss: 39.7165 - mean_absolute_percentage_error: 37.0056 - val_loss: 51.3902 - val_mean_absolute_percentage_error: 49.8915\n",
            "Epoch 73/300\n",
            "57/61 [===========================>..] - ETA: 0s - loss: 39.3883 - mean_absolute_percentage_error: 38.7223\n",
            "Epoch 73: val_loss did not improve from 48.66715\n",
            "61/61 [==============================] - 0s 6ms/step - loss: 40.0749 - mean_absolute_percentage_error: 39.2509 - val_loss: 49.8201 - val_mean_absolute_percentage_error: 46.4259\n",
            "Epoch 74/300\n",
            "60/61 [============================>.] - ETA: 0s - loss: 39.8988 - mean_absolute_percentage_error: 37.5526\n",
            "Epoch 74: val_loss did not improve from 48.66715\n",
            "61/61 [==============================] - 0s 7ms/step - loss: 39.9525 - mean_absolute_percentage_error: 37.5337 - val_loss: 49.7129 - val_mean_absolute_percentage_error: 45.7999\n",
            "Epoch 75/300\n",
            "61/61 [==============================] - ETA: 0s - loss: 39.8584 - mean_absolute_percentage_error: 37.9033\n",
            "Epoch 75: val_loss did not improve from 48.66715\n",
            "61/61 [==============================] - 1s 9ms/step - loss: 39.8584 - mean_absolute_percentage_error: 37.9033 - val_loss: 49.0130 - val_mean_absolute_percentage_error: 42.1345\n",
            "Epoch 76/300\n",
            "53/61 [=========================>....] - ETA: 0s - loss: 39.3209 - mean_absolute_percentage_error: 38.2349\n",
            "Epoch 76: val_loss did not improve from 48.66715\n",
            "61/61 [==============================] - 0s 6ms/step - loss: 40.5288 - mean_absolute_percentage_error: 38.9682 - val_loss: 49.5285 - val_mean_absolute_percentage_error: 44.7324\n",
            "Epoch 77/300\n",
            "61/61 [==============================] - ETA: 0s - loss: 40.5872 - mean_absolute_percentage_error: 36.9902\n",
            "Epoch 77: val_loss did not improve from 48.66715\n",
            "61/61 [==============================] - 0s 6ms/step - loss: 40.5872 - mean_absolute_percentage_error: 36.9902 - val_loss: 48.8008 - val_mean_absolute_percentage_error: 42.0857\n",
            "Epoch 78/300\n",
            "54/61 [=========================>....] - ETA: 0s - loss: 37.0087 - mean_absolute_percentage_error: 38.5097\n",
            "Epoch 78: val_loss did not improve from 48.66715\n",
            "61/61 [==============================] - 0s 6ms/step - loss: 40.4486 - mean_absolute_percentage_error: 38.3996 - val_loss: 50.4523 - val_mean_absolute_percentage_error: 47.3068\n",
            "Epoch 79/300\n",
            "59/61 [============================>.] - ETA: 0s - loss: 40.5110 - mean_absolute_percentage_error: 38.7894\n",
            "Epoch 79: val_loss did not improve from 48.66715\n",
            "61/61 [==============================] - 0s 6ms/step - loss: 41.1079 - mean_absolute_percentage_error: 39.4418 - val_loss: 49.0356 - val_mean_absolute_percentage_error: 43.3738\n",
            "Epoch 79: early stopping\n"
          ]
        },
        {
          "output_type": "execute_result",
          "data": {
            "text/plain": [
              "<keras.callbacks.History at 0x7f0aef2ee500>"
            ]
          },
          "metadata": {},
          "execution_count": 148
        }
      ]
    },
    {
      "cell_type": "code",
      "source": [
        "model = keras.models.load_model('jordan_color_best_model.h5', custom_objects=None, compile=True)\n",
        "\n",
        "model.evaluate(jordan_test_X, jordan_test_y)"
      ],
      "metadata": {
        "colab": {
          "base_uri": "https://localhost:8080/"
        },
        "id": "_5ieI0YqrgmX",
        "outputId": "3bf0ab14-8166-4240-af4a-c6c15b35d359"
      },
      "execution_count": null,
      "outputs": [
        {
          "output_type": "stream",
          "name": "stdout",
          "text": [
            "7/7 [==============================] - 0s 3ms/step - loss: 44.3213 - mean_absolute_percentage_error: 39.7203\n"
          ]
        },
        {
          "output_type": "execute_result",
          "data": {
            "text/plain": [
              "[44.321311950683594, 39.72031784057617]"
            ]
          },
          "metadata": {},
          "execution_count": 149
        }
      ]
    },
    {
      "cell_type": "code",
      "source": [],
      "metadata": {
        "id": "hJhJC0Lyszn9"
      },
      "execution_count": null,
      "outputs": []
    }
  ]
}