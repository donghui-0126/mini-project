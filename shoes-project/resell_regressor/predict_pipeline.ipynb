{
  "nbformat": 4,
  "nbformat_minor": 0,
  "metadata": {
    "colab": {
      "provenance": []
    },
    "kernelspec": {
      "name": "python3",
      "display_name": "Python 3"
    },
    "language_info": {
      "name": "python"
    }
  },
  "cells": [
    {
      "cell_type": "code",
      "source": [
        "def predict_pipeline(bn:str, color:str):\n",
        "    import pickle\n",
        "    %cd /content/drive/MyDrive/kream_data\n",
        "    if 'jordan' in bn:\n",
        "        with open('tokenizer/bn_jordan_tokenizer.pickle', 'rb') as f:\n",
        "            bn_tokenizer = pickle.load(f)\n",
        "\n",
        "        with open('tokenizer/color_jordan_tokenizer.pickle', 'rb') as f:\n",
        "            color_tokenizer = pickle.load(f)\n",
        "\n",
        "        final_model = keras.models.load_model('model/jordan_final_best_model.h5')\n",
        "        bn_model = keras.models.load_model('model/jordan_bn_best_model.h5')\n",
        "        color_model = keras.models.load_model('model/jordan_color_best_model.h5')\n",
        "\n",
        "        bn_tokenized_name = bn_tokenizer.texts_to_sequences(pd.Series(bn))\n",
        "        bn_padded_name = pd.DataFrame(pad_sequences(bn_tokenized_name, maxlen=16))\n",
        "\n",
        "        color_tokenized_name = bn_tokenizer.texts_to_sequences(pd.Series(color))\n",
        "        color_padded_name = pd.DataFrame(pad_sequences(color_tokenized_name, maxlen=13))\n",
        "\n",
        "        bn_pred = pd.DataFrame(bn_model.predict(bn_padded_name))\n",
        "        color_pred = pd.DataFrame(color_model.predict(color_padded_name))\n",
        "\n",
        "        input = pd.DataFrame(pd.concat([bn_pred,color_pred], axis=1))\n",
        "\n",
        "        pred = final_model.predict(input)\n",
        "\n",
        "        return input, pred\n",
        "    else:\n",
        "        with open('tokenizer/bn_nike_tokenizer.pickle', 'rb') as f:\n",
        "            bn_tokenizer = pickle.load(f)\n",
        "\n",
        "        with open('tokenizer/color_nike_tokenizer.pickle', 'rb') as f:\n",
        "            color_tokenizer = pickle.load(f)\n",
        "\n",
        "        final_model = keras.models.load_model('model/nike_final_best_model.h5')\n",
        "        bn_model = keras.models.load_model('model/nike_bn_best_model.h5')\n",
        "        color_model = keras.models.load_model('model/nike_color_best_model.h5')\n",
        "\n",
        "        bn_tokenized_name = bn_tokenizer.texts_to_sequences(pd.Series(bn))\n",
        "        bn_padded_name = pd.DataFrame(pad_sequences(bn_tokenized_name, maxlen=18))\n",
        "\n",
        "        color_tokenized_name = bn_tokenizer.texts_to_sequences(pd.Series(color))\n",
        "        color_padded_name = pd.DataFrame(pad_sequences(color_tokenized_name, maxlen=13))\n",
        "\n",
        "        bn_pred = pd.DataFrame(bn_model.predict(bn_padded_name))\n",
        "        color_pred = pd.DataFrame(color_model.predict(color_padded_name))\n",
        "\n",
        "        input = pd.DataFrame(pd.concat([bn_pred,color_pred], axis=1))\n",
        "\n",
        "        pred = final_model.predict(input)\n",
        "\n",
        "        return input, pred"
      ],
      "metadata": {
        "id": "NB2RhVrE8stv"
      },
      "execution_count": null,
      "outputs": []
    },
    {
      "cell_type": "code",
      "source": [
        "predict_pipeline('jordan trvis scott 1 spuream X X offwhite', \"white white\")"
      ],
      "metadata": {
        "colab": {
          "base_uri": "https://localhost:8080/"
        },
        "id": "b0sJVr9y8tBH",
        "outputId": "54ea4cb2-138a-4f7e-ad62-7609dcfc549f"
      },
      "execution_count": null,
      "outputs": [
        {
          "output_type": "stream",
          "name": "stdout",
          "text": [
            "/content/drive/MyDrive/kream_data\n",
            "1/1 [==============================] - 0s 106ms/step\n",
            "1/1 [==============================] - 0s 77ms/step\n",
            "1/1 [==============================] - 0s 58ms/step\n"
          ]
        },
        {
          "output_type": "execute_result",
          "data": {
            "text/plain": [
              "(           0          0\n",
              " 0  22.591106  19.024658,\n",
              " array([[22.933882]], dtype=float32))"
            ]
          },
          "metadata": {},
          "execution_count": 30
        }
      ]
    }
  ]
}