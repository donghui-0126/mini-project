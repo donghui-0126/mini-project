{
  "nbformat": 4,
  "nbformat_minor": 0,
  "metadata": {
    "colab": {
      "provenance": [],
      "authorship_tag": "ABX9TyOQzmLQPfIq5G3EzygBpAtq",
      "include_colab_link": true
    },
    "kernelspec": {
      "name": "python3",
      "display_name": "Python 3"
    },
    "language_info": {
      "name": "python"
    }
  },
  "cells": [
    {
      "cell_type": "markdown",
      "metadata": {
        "id": "view-in-github",
        "colab_type": "text"
      },
      "source": [
        "<a href=\"https://colab.research.google.com/github/donghui-0126/mini-project/blob/main/shoes-project/resell_regressor/bn_dnn.ipynb\" target=\"_parent\"><img src=\"https://colab.research.google.com/assets/colab-badge.svg\" alt=\"Open In Colab\"/></a>"
      ]
    },
    {
      "cell_type": "code",
      "execution_count": 14,
      "metadata": {
        "id": "XZI9iwXXP8pI"
      },
      "outputs": [],
      "source": [
        "import numpy as np\n",
        "import pandas as pd\n",
        "import tensorflow as tf\n",
        "from tensorflow import keras\n",
        "from sklearn.linear_model import LinearRegression\n",
        "import warnings\n",
        "\n",
        "\n",
        "warnings.filterwarnings('ignore')"
      ]
    },
    {
      "cell_type": "code",
      "source": [
        "from google.colab import drive\n",
        "drive.mount('/content/drive')"
      ],
      "metadata": {
        "id": "7BJG3hF3QCPq",
        "colab": {
          "base_uri": "https://localhost:8080/"
        },
        "outputId": "d5249882-2e3d-42d1-a05d-e25f00d98c6c"
      },
      "execution_count": 2,
      "outputs": [
        {
          "output_type": "stream",
          "name": "stdout",
          "text": [
            "Mounted at /content/drive\n"
          ]
        }
      ]
    },
    {
      "cell_type": "code",
      "source": [
        "df = pd.read_csv('/content/drive/MyDrive/kream_data/product_data_dpp.csv')\n",
        "df.head(3)"
      ],
      "metadata": {
        "colab": {
          "base_uri": "https://localhost:8080/",
          "height": 450
        },
        "id": "Ye8vahO3RjfV",
        "outputId": "40279a7a-2eca-4fe8-e1ad-b8707800015e"
      },
      "execution_count": 15,
      "outputs": [
        {
          "output_type": "execute_result",
          "data": {
            "text/plain": [
              "  product_id                                   img_path brand  \\\n",
              "0      28029  crawling\\product_crawling\\image\\28029.jpg  Nike   \n",
              "1      12831  crawling\\product_crawling\\image\\12831.jpg  Nike   \n",
              "2      21935  crawling\\product_crawling\\image\\21935.jpg  Nike   \n",
              "\n",
              "                             name color1 color2  price_og  price_resell  \\\n",
              "0       Nike Dunk Low Retro Black  WHITE  BLACK    129000        152800   \n",
              "1  Nike Air Force 1 '07 Low White  WHITE  WHITE    139000        136200   \n",
              "2    Nike Air Force 1 '07 WB Flax   FLAX    GUM    169000        173200   \n",
              "\n",
              "    n_scrap  +price                              tokenized_color  \\\n",
              "0  123000.0   23800                [0 0 0 0 0 0 0 0 0 0 2 4 3 5]   \n",
              "1  151000.0   -2800                [0 0 0 0 0 0 0 0 0 0 2 4 3 4]   \n",
              "2   69000.0    4200  [ 0  0  0  0  0  0  0  0  0  0  2 82  3 51]   \n",
              "\n",
              "                                        tokenized_bn  \n",
              "0  [ 0  0  0  0  0  0  0  0  0  0  0  0  0  2  4 ...  \n",
              "1  [ 0  0  0  0  0  0  0  0  0  0  0  2  4  3  4 ...  \n",
              "2  [  0   0   0   0   0   0   0   0   0   0   0  ...  "
            ],
            "text/html": [
              "\n",
              "  <div id=\"df-28481010-e508-4e7c-a1b0-958cb3e59fcd\">\n",
              "    <div class=\"colab-df-container\">\n",
              "      <div>\n",
              "<style scoped>\n",
              "    .dataframe tbody tr th:only-of-type {\n",
              "        vertical-align: middle;\n",
              "    }\n",
              "\n",
              "    .dataframe tbody tr th {\n",
              "        vertical-align: top;\n",
              "    }\n",
              "\n",
              "    .dataframe thead th {\n",
              "        text-align: right;\n",
              "    }\n",
              "</style>\n",
              "<table border=\"1\" class=\"dataframe\">\n",
              "  <thead>\n",
              "    <tr style=\"text-align: right;\">\n",
              "      <th></th>\n",
              "      <th>product_id</th>\n",
              "      <th>img_path</th>\n",
              "      <th>brand</th>\n",
              "      <th>name</th>\n",
              "      <th>color1</th>\n",
              "      <th>color2</th>\n",
              "      <th>price_og</th>\n",
              "      <th>price_resell</th>\n",
              "      <th>n_scrap</th>\n",
              "      <th>+price</th>\n",
              "      <th>tokenized_color</th>\n",
              "      <th>tokenized_bn</th>\n",
              "    </tr>\n",
              "  </thead>\n",
              "  <tbody>\n",
              "    <tr>\n",
              "      <th>0</th>\n",
              "      <td>28029</td>\n",
              "      <td>crawling\\product_crawling\\image\\28029.jpg</td>\n",
              "      <td>Nike</td>\n",
              "      <td>Nike Dunk Low Retro Black</td>\n",
              "      <td>WHITE</td>\n",
              "      <td>BLACK</td>\n",
              "      <td>129000</td>\n",
              "      <td>152800</td>\n",
              "      <td>123000.0</td>\n",
              "      <td>23800</td>\n",
              "      <td>[0 0 0 0 0 0 0 0 0 0 2 4 3 5]</td>\n",
              "      <td>[ 0  0  0  0  0  0  0  0  0  0  0  0  0  2  4 ...</td>\n",
              "    </tr>\n",
              "    <tr>\n",
              "      <th>1</th>\n",
              "      <td>12831</td>\n",
              "      <td>crawling\\product_crawling\\image\\12831.jpg</td>\n",
              "      <td>Nike</td>\n",
              "      <td>Nike Air Force 1 '07 Low White</td>\n",
              "      <td>WHITE</td>\n",
              "      <td>WHITE</td>\n",
              "      <td>139000</td>\n",
              "      <td>136200</td>\n",
              "      <td>151000.0</td>\n",
              "      <td>-2800</td>\n",
              "      <td>[0 0 0 0 0 0 0 0 0 0 2 4 3 4]</td>\n",
              "      <td>[ 0  0  0  0  0  0  0  0  0  0  0  2  4  3  4 ...</td>\n",
              "    </tr>\n",
              "    <tr>\n",
              "      <th>2</th>\n",
              "      <td>21935</td>\n",
              "      <td>crawling\\product_crawling\\image\\21935.jpg</td>\n",
              "      <td>Nike</td>\n",
              "      <td>Nike Air Force 1 '07 WB Flax</td>\n",
              "      <td>FLAX</td>\n",
              "      <td>GUM</td>\n",
              "      <td>169000</td>\n",
              "      <td>173200</td>\n",
              "      <td>69000.0</td>\n",
              "      <td>4200</td>\n",
              "      <td>[ 0  0  0  0  0  0  0  0  0  0  2 82  3 51]</td>\n",
              "      <td>[  0   0   0   0   0   0   0   0   0   0   0  ...</td>\n",
              "    </tr>\n",
              "  </tbody>\n",
              "</table>\n",
              "</div>\n",
              "      <button class=\"colab-df-convert\" onclick=\"convertToInteractive('df-28481010-e508-4e7c-a1b0-958cb3e59fcd')\"\n",
              "              title=\"Convert this dataframe to an interactive table.\"\n",
              "              style=\"display:none;\">\n",
              "        \n",
              "  <svg xmlns=\"http://www.w3.org/2000/svg\" height=\"24px\"viewBox=\"0 0 24 24\"\n",
              "       width=\"24px\">\n",
              "    <path d=\"M0 0h24v24H0V0z\" fill=\"none\"/>\n",
              "    <path d=\"M18.56 5.44l.94 2.06.94-2.06 2.06-.94-2.06-.94-.94-2.06-.94 2.06-2.06.94zm-11 1L8.5 8.5l.94-2.06 2.06-.94-2.06-.94L8.5 2.5l-.94 2.06-2.06.94zm10 10l.94 2.06.94-2.06 2.06-.94-2.06-.94-.94-2.06-.94 2.06-2.06.94z\"/><path d=\"M17.41 7.96l-1.37-1.37c-.4-.4-.92-.59-1.43-.59-.52 0-1.04.2-1.43.59L10.3 9.45l-7.72 7.72c-.78.78-.78 2.05 0 2.83L4 21.41c.39.39.9.59 1.41.59.51 0 1.02-.2 1.41-.59l7.78-7.78 2.81-2.81c.8-.78.8-2.07 0-2.86zM5.41 20L4 18.59l7.72-7.72 1.47 1.35L5.41 20z\"/>\n",
              "  </svg>\n",
              "      </button>\n",
              "      \n",
              "  <style>\n",
              "    .colab-df-container {\n",
              "      display:flex;\n",
              "      flex-wrap:wrap;\n",
              "      gap: 12px;\n",
              "    }\n",
              "\n",
              "    .colab-df-convert {\n",
              "      background-color: #E8F0FE;\n",
              "      border: none;\n",
              "      border-radius: 50%;\n",
              "      cursor: pointer;\n",
              "      display: none;\n",
              "      fill: #1967D2;\n",
              "      height: 32px;\n",
              "      padding: 0 0 0 0;\n",
              "      width: 32px;\n",
              "    }\n",
              "\n",
              "    .colab-df-convert:hover {\n",
              "      background-color: #E2EBFA;\n",
              "      box-shadow: 0px 1px 2px rgba(60, 64, 67, 0.3), 0px 1px 3px 1px rgba(60, 64, 67, 0.15);\n",
              "      fill: #174EA6;\n",
              "    }\n",
              "\n",
              "    [theme=dark] .colab-df-convert {\n",
              "      background-color: #3B4455;\n",
              "      fill: #D2E3FC;\n",
              "    }\n",
              "\n",
              "    [theme=dark] .colab-df-convert:hover {\n",
              "      background-color: #434B5C;\n",
              "      box-shadow: 0px 1px 3px 1px rgba(0, 0, 0, 0.15);\n",
              "      filter: drop-shadow(0px 1px 2px rgba(0, 0, 0, 0.3));\n",
              "      fill: #FFFFFF;\n",
              "    }\n",
              "  </style>\n",
              "\n",
              "      <script>\n",
              "        const buttonEl =\n",
              "          document.querySelector('#df-28481010-e508-4e7c-a1b0-958cb3e59fcd button.colab-df-convert');\n",
              "        buttonEl.style.display =\n",
              "          google.colab.kernel.accessAllowed ? 'block' : 'none';\n",
              "\n",
              "        async function convertToInteractive(key) {\n",
              "          const element = document.querySelector('#df-28481010-e508-4e7c-a1b0-958cb3e59fcd');\n",
              "          const dataTable =\n",
              "            await google.colab.kernel.invokeFunction('convertToInteractive',\n",
              "                                                     [key], {});\n",
              "          if (!dataTable) return;\n",
              "\n",
              "          const docLinkHtml = 'Like what you see? Visit the ' +\n",
              "            '<a target=\"_blank\" href=https://colab.research.google.com/notebooks/data_table.ipynb>data table notebook</a>'\n",
              "            + ' to learn more about interactive tables.';\n",
              "          element.innerHTML = '';\n",
              "          dataTable['output_type'] = 'display_data';\n",
              "          await google.colab.output.renderOutput(dataTable, element);\n",
              "          const docLink = document.createElement('div');\n",
              "          docLink.innerHTML = docLinkHtml;\n",
              "          element.appendChild(docLink);\n",
              "        }\n",
              "      </script>\n",
              "    </div>\n",
              "  </div>\n",
              "  "
            ]
          },
          "metadata": {},
          "execution_count": 15
        }
      ]
    },
    {
      "cell_type": "code",
      "source": [
        "df.shape"
      ],
      "metadata": {
        "colab": {
          "base_uri": "https://localhost:8080/"
        },
        "id": "Z7BKiN23gB2u",
        "outputId": "4577e448-209f-4157-c1cf-501a74116834"
      },
      "execution_count": 16,
      "outputs": [
        {
          "output_type": "execute_result",
          "data": {
            "text/plain": [
              "(6103, 12)"
            ]
          },
          "metadata": {},
          "execution_count": 16
        }
      ]
    },
    {
      "cell_type": "code",
      "source": [
        "bn_input_data = np.array([])\n",
        "\n",
        "for val in df['tokenized_bn'].values:\n",
        "    val = [int(x) for x in val.strip('[]').split()]\n",
        "    bn_input_data = np.append(bn_input_data, val)\n",
        "\n",
        "bn_input_data = bn_input_data.reshape([6103, 21])\n",
        "bn_input_data = bn_input_data.astype(int)"
      ],
      "metadata": {
        "id": "QZcQryxWcXXJ"
      },
      "execution_count": 17,
      "outputs": []
    },
    {
      "cell_type": "code",
      "source": [
        "bn_input_data.shape"
      ],
      "metadata": {
        "colab": {
          "base_uri": "https://localhost:8080/"
        },
        "id": "VqUG9IPVf43w",
        "outputId": "430f49da-8695-4250-ee36-b24d69f040cf"
      },
      "execution_count": 26,
      "outputs": [
        {
          "output_type": "execute_result",
          "data": {
            "text/plain": [
              "(6103, 21)"
            ]
          },
          "metadata": {},
          "execution_count": 26
        }
      ]
    },
    {
      "cell_type": "code",
      "source": [
        "columns = [x for x in range(100)]\n",
        "index = [y for y in range(bn_input_data.shape[0])]\n",
        "\n",
        "\n",
        "bn_input_df = pd.DataFrame(index=index, columns=columns)\n",
        "bn_input_df = bn_input_df.fillna(0)\n",
        "\n",
        "for index, line in enumerate(bn_input_data):\n",
        "    for elem in set(line):\n",
        "        if elem < 100:\n",
        "            bn_input_df.iloc[index,elem] = 1\n",
        "        else:\n",
        "            bn_input_df.iloc[index,0] = 1"
      ],
      "metadata": {
        "id": "WW3rsSaAeNCs"
      },
      "execution_count": 38,
      "outputs": []
    },
    {
      "cell_type": "code",
      "source": [
        "# 신발의 브랜드와 이름은 리셀가격(신발의 본래 가치??)와 관련이 클 것 같아서 target데이터를 price_resell 로 설정함. \n",
        "\n",
        "target_data = np.array(df['price_resell'])\n",
        "print(target_data.shape)"
      ],
      "metadata": {
        "colab": {
          "base_uri": "https://localhost:8080/"
        },
        "id": "pD-bO2RWeG2y",
        "outputId": "3bd06aff-20d7-49af-806e-8c02645a8399"
      },
      "execution_count": 54,
      "outputs": [
        {
          "output_type": "stream",
          "name": "stdout",
          "text": [
            "(6103,)\n"
          ]
        }
      ]
    },
    {
      "cell_type": "code",
      "source": [
        "target_data.astype(int)"
      ],
      "metadata": {
        "colab": {
          "base_uri": "https://localhost:8080/"
        },
        "id": "JRKyTwC8e_A_",
        "outputId": "bf81b2b3-fc2f-466c-c0cf-8d596f03f8a0"
      },
      "execution_count": 57,
      "outputs": [
        {
          "output_type": "execute_result",
          "data": {
            "text/plain": [
              "array([152800, 136200, 173200, ..., 450000, 457500, 400000])"
            ]
          },
          "metadata": {},
          "execution_count": 57
        }
      ]
    },
    {
      "cell_type": "code",
      "source": [
        "# PCA의 차원을 늘리면서  K-fold를 사용해서 어떤 모델이 가장 효율적인지 살펴보겠다. \n",
        "from sklearn.decomposition import PCA\n",
        "from sklearn.model_selection import KFold\n",
        "from sklearn.metrics import mean_squared_error\n",
        "\n",
        "for n in [20]:\n",
        "    pca = PCA(n_components=n)\n",
        "    bn_pca = pca.fit_transform(bn_input_df)\n",
        "    bn_pca_df = pd.DataFrame(bn_pca)\n",
        "\n",
        "    kf = KFold(n_splits = 5)\n",
        "    \n",
        "    rmse_list = []\n",
        "    for train_index, test_index in kf.split(target_data):\n",
        "        bn_pca_df_train, bn_pca_df_test = bn_pca_df.loc[train_index], bn_pca_df.loc[test_index]\n",
        "        target_data_train, target_data_test  = target_data[train_index], target_data[test_index]\n",
        "\n",
        "        reg = LinearRegression().fit(bn_pca_df_train, target_data_train)\n",
        "\n",
        "        pred = reg.predict(bn_pca_df_test)\n",
        "        rmse = mean_squared_error(pred, target_data_test, squared=False)\n",
        "        rmse_list.append(rmse)\n",
        "        # print(rmse)\n",
        "        \n",
        "    print(\"PCA:\", n, \"rmse:\", round(np.mean(rmse_list)))"
      ],
      "metadata": {
        "colab": {
          "base_uri": "https://localhost:8080/"
        },
        "id": "YV7sCLJpGh0X",
        "outputId": "62e0dd9b-fd58-4cfc-dfae-f7ef8e36dc9d"
      },
      "execution_count": 132,
      "outputs": [
        {
          "output_type": "stream",
          "name": "stdout",
          "text": [
            "PCA: 20 rmse: 285222\n"
          ]
        }
      ]
    },
    {
      "cell_type": "code",
      "source": [
        "# PCA의 차원을 늘리면서  K-fold를 사용해서 어떤 모델이 가장 효율적인지 살펴보겠다. \n",
        "from sklearn.decomposition import PCA\n",
        "from sklearn.model_selection import KFold\n",
        "from sklearn.metrics import mean_squared_error\n",
        "from lightgbm import LGBMRegressor\n",
        "\n",
        "for n in (80, 90, 100):\n",
        "    pca = PCA(n_components=n)\n",
        "    bn_pca = pca.fit_transform(bn_input_df)\n",
        "    bn_pca_df = pd.DataFrame(bn_pca)\n",
        "\n",
        "    kf = KFold(n_splits = 5)\n",
        "    \n",
        "    rmse_list = []\n",
        "    for train_index, test_index in kf.split(target_data):\n",
        "        bn_pca_df_train, bn_pca_df_test = bn_pca_df.loc[train_index], bn_pca_df.loc[test_index]\n",
        "        target_data_train, target_data_test  = target_data[train_index], target_data[test_index]\n",
        "        \n",
        "        lgbm_reg = LGBMRegressor().fit(bn_pca_df_train, target_data_train)\n",
        "\n",
        "        pred = lgbm_reg.predict(bn_pca_df_test)\n",
        "        rmse = mean_squared_error(pred, target_data_test, squared=False)\n",
        "        rmse_list.append(rmse)\n",
        "        # print(rmse)\n",
        "        \n",
        "    print(\"PCA:\", n, \"rmse:\", round(np.mean(rmse_list)))"
      ],
      "metadata": {
        "colab": {
          "base_uri": "https://localhost:8080/"
        },
        "id": "CD8MGzJicNlS",
        "outputId": "e68fc3f1-62ce-423c-fec4-c0dcf76672c2"
      },
      "execution_count": 108,
      "outputs": [
        {
          "output_type": "stream",
          "name": "stdout",
          "text": [
            "PCA: 80 rmse: 284168\n",
            "PCA: 90 rmse: 283963\n",
            "PCA: 100 rmse: 279354\n"
          ]
        }
      ]
    },
    {
      "cell_type": "code",
      "source": [
        "kf = KFold(n_splits = 5)\n",
        "\n",
        "rmse_list = []\n",
        "for train_index, test_index in kf.split(target_data):\n",
        "    bn_pca_df_train, bn_pca_df_test = bn_input_df.loc[train_index], bn_input_df.loc[test_index]\n",
        "    target_data_train, target_data_test  = target_data[train_index], target_data[test_index]\n",
        "\n",
        "    model = keras.models.Sequential([\n",
        "            keras.layers.Dense(32),\n",
        "            keras.layers.Dense(8),\n",
        "            keras.layers.Dense(1)\n",
        "    ])\n",
        "\n",
        "    model.compile(loss=\"mse\")\n",
        "    model.fit(bn_pca_df_train,target_data_train, epochs=20, verbose=0)\n",
        "    pred = model.predict(bn_pca_df_test, verbose=0)\n",
        "    rmse = mean_squared_error(target_data_test,pred, squared= False)\n",
        "\n",
        "    rmse_list.append(rmse)\n",
        "print(\"PCA:\", n, \"rmse:\", round(np.mean(rmse_list)))"
      ],
      "metadata": {
        "colab": {
          "base_uri": "https://localhost:8080/"
        },
        "id": "B--B4m8kj74F",
        "outputId": "e20eb118-8583-44f4-977e-4741b7b1ddab"
      },
      "execution_count": 104,
      "outputs": [
        {
          "output_type": "stream",
          "name": "stdout",
          "text": [
            "PCA: 100 rmse: 345963\n"
          ]
        }
      ]
    },
    {
      "cell_type": "markdown",
      "source": [
        "여러 가지를 실험해봤는데....\n",
        "\n",
        "- 주성분을 20으로 축소한 선형회귀 모델 \n",
        "- 주성분을 아주 조금 축소하거나 원본데이터 그대로인 lgbm 모델이 적절할듯 하다."
      ],
      "metadata": {
        "id": "5HgVyhRkcHWd"
      }
    },
    {
      "cell_type": "code",
      "source": [
        "# 차라리 이모델이 좋긴한데... 마지막 3개가 너무 가격이 비정상적이다.\n",
        "# 이거 word_num 처리할때 날라간것 같다. 다시 수정해보자.\n",
        "\n",
        "reg.predict(bn_pca)"
      ],
      "metadata": {
        "colab": {
          "base_uri": "https://localhost:8080/"
        },
        "id": "t_gMNL_Kdcke",
        "outputId": "d6421684-b5de-4db4-cdc9-0a5f3622d172"
      },
      "execution_count": 134,
      "outputs": [
        {
          "output_type": "execute_result",
          "data": {
            "text/plain": [
              "array([296435.81089691, 262560.70950202, 218667.21338149, ...,\n",
              "       643871.98779304, 714860.89851604, 908089.25514142])"
            ]
          },
          "metadata": {},
          "execution_count": 134
        }
      ]
    },
    {
      "cell_type": "code",
      "source": [
        "lgbm_reg.predict(bn_input_df)"
      ],
      "metadata": {
        "colab": {
          "base_uri": "https://localhost:8080/"
        },
        "id": "Noja6KZUf8Pa",
        "outputId": "2c8527d1-e095-4104-bea1-18fb44a5cd12"
      },
      "execution_count": 136,
      "outputs": [
        {
          "output_type": "execute_result",
          "data": {
            "text/plain": [
              "array([373269.39229005, 440063.13102925, 440063.13102925, ...,\n",
              "       154663.72864104, 203405.41830329, 156426.99033297])"
            ]
          },
          "metadata": {},
          "execution_count": 136
        }
      ]
    },
    {
      "cell_type": "code",
      "source": [],
      "metadata": {
        "id": "pu2Po5lUgFTp"
      },
      "execution_count": null,
      "outputs": []
    }
  ]
}