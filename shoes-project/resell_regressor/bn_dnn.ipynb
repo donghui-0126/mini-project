{
  "nbformat": 4,
  "nbformat_minor": 0,
  "metadata": {
    "colab": {
      "provenance": [],
      "gpuType": "T4"
    },
    "kernelspec": {
      "name": "python3",
      "display_name": "Python 3"
    },
    "language_info": {
      "name": "python"
    },
    "accelerator": "GPU"
  },
  "cells": [
    {
      "cell_type": "markdown",
      "metadata": {
        "id": "view-in-github"
      },
      "source": [
        "<a href=\"https://colab.research.google.com/github/donghui-0126/mini-project/blob/main/shoes-project/resell_regressor/bn_dnn.ipynb\" target=\"_parent\"><img src=\"https://colab.research.google.com/assets/colab-badge.svg\" alt=\"Open In Colab\"/></a>"
      ]
    },
    {
      "cell_type": "code",
      "execution_count": null,
      "metadata": {
        "id": "XZI9iwXXP8pI"
      },
      "outputs": [],
      "source": [
        "import numpy as np\n",
        "import pandas as pd\n",
        "import tensorflow as tf\n",
        "from tensorflow import keras\n",
        "from sklearn.linear_model import LinearRegression\n",
        "import warnings\n",
        "from sklearn.decomposition import PCA\n",
        "from sklearn.model_selection import KFold\n",
        "from sklearn.metrics import mean_squared_error\n",
        "from tensorflow.keras.preprocessing.text import Tokenizer\n",
        "from tensorflow.keras.preprocessing.sequence import pad_sequences\n",
        "\n",
        "\n",
        "\n",
        "warnings.filterwarnings('ignore')"
      ]
    },
    {
      "cell_type": "code",
      "source": [
        "from google.colab import drive\n",
        "drive.mount('/content/drive')"
      ],
      "metadata": {
        "id": "7BJG3hF3QCPq",
        "colab": {
          "base_uri": "https://localhost:8080/"
        },
        "outputId": "4897f46e-a432-44fe-f602-ae4acc5b6659"
      },
      "execution_count": null,
      "outputs": [
        {
          "output_type": "stream",
          "name": "stdout",
          "text": [
            "Mounted at /content/drive\n"
          ]
        }
      ]
    },
    {
      "cell_type": "code",
      "source": [
        "df = pd.read_csv('/content/drive/MyDrive/kream_data/product_data_dpp.csv')"
      ],
      "metadata": {
        "id": "Ye8vahO3RjfV"
      },
      "execution_count": null,
      "outputs": []
    },
    {
      "cell_type": "code",
      "source": [
        "df.shape"
      ],
      "metadata": {
        "colab": {
          "base_uri": "https://localhost:8080/"
        },
        "id": "Z7BKiN23gB2u",
        "outputId": "97a0777d-d3d8-4669-fbd6-5cb854d47d9f"
      },
      "execution_count": null,
      "outputs": [
        {
          "output_type": "execute_result",
          "data": {
            "text/plain": [
              "(6103, 15)"
            ]
          },
          "metadata": {},
          "execution_count": 4
        }
      ]
    },
    {
      "cell_type": "code",
      "source": [
        "df_nike = df[df['brand']=='Nike'][['brand', 'name', 'price_og', 'price_resell']]\n",
        "df_jordan = df[df['brand']=='Jordan'][['brand', 'name', 'price_og', 'price_resell']]\n",
        "df_adidas = df[df['brand']=='Adidas'][['brand', 'name', 'price_og', 'price_resell']]"
      ],
      "metadata": {
        "id": "_9QiqVbixMvv"
      },
      "execution_count": null,
      "outputs": []
    },
    {
      "cell_type": "code",
      "source": [
        "print(df_nike.shape)\n",
        "df_nike.head()"
      ],
      "metadata": {
        "colab": {
          "base_uri": "https://localhost:8080/",
          "height": 224
        },
        "id": "xCr2RJYyxNFW",
        "outputId": "729f45c1-c9d9-4b25-ae07-0c92bb7a9c60"
      },
      "execution_count": null,
      "outputs": [
        {
          "output_type": "stream",
          "name": "stdout",
          "text": [
            "(1455, 4)\n"
          ]
        },
        {
          "output_type": "execute_result",
          "data": {
            "text/plain": [
              "  brand                                               name  price_og  \\\n",
              "0  Nike                          Nike Dunk Low Retro Black    129000   \n",
              "1  Nike                     Nike Air Force 1 '07 Low White    139000   \n",
              "2  Nike                       Nike Air Force 1 '07 WB Flax    169000   \n",
              "3  Nike                Nike x Supreme Air Force 1 Low Flax    184600   \n",
              "4  Nike  Nike Zoom Vomero 5 PRM Light Iron Ore and Flat...    209000   \n",
              "\n",
              "   price_resell  \n",
              "0        152800  \n",
              "1        136200  \n",
              "2        173200  \n",
              "3        281400  \n",
              "4        258000  "
            ],
            "text/html": [
              "\n",
              "  <div id=\"df-7cc438d4-418b-410e-833a-cc249941983c\">\n",
              "    <div class=\"colab-df-container\">\n",
              "      <div>\n",
              "<style scoped>\n",
              "    .dataframe tbody tr th:only-of-type {\n",
              "        vertical-align: middle;\n",
              "    }\n",
              "\n",
              "    .dataframe tbody tr th {\n",
              "        vertical-align: top;\n",
              "    }\n",
              "\n",
              "    .dataframe thead th {\n",
              "        text-align: right;\n",
              "    }\n",
              "</style>\n",
              "<table border=\"1\" class=\"dataframe\">\n",
              "  <thead>\n",
              "    <tr style=\"text-align: right;\">\n",
              "      <th></th>\n",
              "      <th>brand</th>\n",
              "      <th>name</th>\n",
              "      <th>price_og</th>\n",
              "      <th>price_resell</th>\n",
              "    </tr>\n",
              "  </thead>\n",
              "  <tbody>\n",
              "    <tr>\n",
              "      <th>0</th>\n",
              "      <td>Nike</td>\n",
              "      <td>Nike Dunk Low Retro Black</td>\n",
              "      <td>129000</td>\n",
              "      <td>152800</td>\n",
              "    </tr>\n",
              "    <tr>\n",
              "      <th>1</th>\n",
              "      <td>Nike</td>\n",
              "      <td>Nike Air Force 1 '07 Low White</td>\n",
              "      <td>139000</td>\n",
              "      <td>136200</td>\n",
              "    </tr>\n",
              "    <tr>\n",
              "      <th>2</th>\n",
              "      <td>Nike</td>\n",
              "      <td>Nike Air Force 1 '07 WB Flax</td>\n",
              "      <td>169000</td>\n",
              "      <td>173200</td>\n",
              "    </tr>\n",
              "    <tr>\n",
              "      <th>3</th>\n",
              "      <td>Nike</td>\n",
              "      <td>Nike x Supreme Air Force 1 Low Flax</td>\n",
              "      <td>184600</td>\n",
              "      <td>281400</td>\n",
              "    </tr>\n",
              "    <tr>\n",
              "      <th>4</th>\n",
              "      <td>Nike</td>\n",
              "      <td>Nike Zoom Vomero 5 PRM Light Iron Ore and Flat...</td>\n",
              "      <td>209000</td>\n",
              "      <td>258000</td>\n",
              "    </tr>\n",
              "  </tbody>\n",
              "</table>\n",
              "</div>\n",
              "      <button class=\"colab-df-convert\" onclick=\"convertToInteractive('df-7cc438d4-418b-410e-833a-cc249941983c')\"\n",
              "              title=\"Convert this dataframe to an interactive table.\"\n",
              "              style=\"display:none;\">\n",
              "        \n",
              "  <svg xmlns=\"http://www.w3.org/2000/svg\" height=\"24px\"viewBox=\"0 0 24 24\"\n",
              "       width=\"24px\">\n",
              "    <path d=\"M0 0h24v24H0V0z\" fill=\"none\"/>\n",
              "    <path d=\"M18.56 5.44l.94 2.06.94-2.06 2.06-.94-2.06-.94-.94-2.06-.94 2.06-2.06.94zm-11 1L8.5 8.5l.94-2.06 2.06-.94-2.06-.94L8.5 2.5l-.94 2.06-2.06.94zm10 10l.94 2.06.94-2.06 2.06-.94-2.06-.94-.94-2.06-.94 2.06-2.06.94z\"/><path d=\"M17.41 7.96l-1.37-1.37c-.4-.4-.92-.59-1.43-.59-.52 0-1.04.2-1.43.59L10.3 9.45l-7.72 7.72c-.78.78-.78 2.05 0 2.83L4 21.41c.39.39.9.59 1.41.59.51 0 1.02-.2 1.41-.59l7.78-7.78 2.81-2.81c.8-.78.8-2.07 0-2.86zM5.41 20L4 18.59l7.72-7.72 1.47 1.35L5.41 20z\"/>\n",
              "  </svg>\n",
              "      </button>\n",
              "      \n",
              "  <style>\n",
              "    .colab-df-container {\n",
              "      display:flex;\n",
              "      flex-wrap:wrap;\n",
              "      gap: 12px;\n",
              "    }\n",
              "\n",
              "    .colab-df-convert {\n",
              "      background-color: #E8F0FE;\n",
              "      border: none;\n",
              "      border-radius: 50%;\n",
              "      cursor: pointer;\n",
              "      display: none;\n",
              "      fill: #1967D2;\n",
              "      height: 32px;\n",
              "      padding: 0 0 0 0;\n",
              "      width: 32px;\n",
              "    }\n",
              "\n",
              "    .colab-df-convert:hover {\n",
              "      background-color: #E2EBFA;\n",
              "      box-shadow: 0px 1px 2px rgba(60, 64, 67, 0.3), 0px 1px 3px 1px rgba(60, 64, 67, 0.15);\n",
              "      fill: #174EA6;\n",
              "    }\n",
              "\n",
              "    [theme=dark] .colab-df-convert {\n",
              "      background-color: #3B4455;\n",
              "      fill: #D2E3FC;\n",
              "    }\n",
              "\n",
              "    [theme=dark] .colab-df-convert:hover {\n",
              "      background-color: #434B5C;\n",
              "      box-shadow: 0px 1px 3px 1px rgba(0, 0, 0, 0.15);\n",
              "      filter: drop-shadow(0px 1px 2px rgba(0, 0, 0, 0.3));\n",
              "      fill: #FFFFFF;\n",
              "    }\n",
              "  </style>\n",
              "\n",
              "      <script>\n",
              "        const buttonEl =\n",
              "          document.querySelector('#df-7cc438d4-418b-410e-833a-cc249941983c button.colab-df-convert');\n",
              "        buttonEl.style.display =\n",
              "          google.colab.kernel.accessAllowed ? 'block' : 'none';\n",
              "\n",
              "        async function convertToInteractive(key) {\n",
              "          const element = document.querySelector('#df-7cc438d4-418b-410e-833a-cc249941983c');\n",
              "          const dataTable =\n",
              "            await google.colab.kernel.invokeFunction('convertToInteractive',\n",
              "                                                     [key], {});\n",
              "          if (!dataTable) return;\n",
              "\n",
              "          const docLinkHtml = 'Like what you see? Visit the ' +\n",
              "            '<a target=\"_blank\" href=https://colab.research.google.com/notebooks/data_table.ipynb>data table notebook</a>'\n",
              "            + ' to learn more about interactive tables.';\n",
              "          element.innerHTML = '';\n",
              "          dataTable['output_type'] = 'display_data';\n",
              "          await google.colab.output.renderOutput(dataTable, element);\n",
              "          const docLink = document.createElement('div');\n",
              "          docLink.innerHTML = docLinkHtml;\n",
              "          element.appendChild(docLink);\n",
              "        }\n",
              "      </script>\n",
              "    </div>\n",
              "  </div>\n",
              "  "
            ]
          },
          "metadata": {},
          "execution_count": 6
        }
      ]
    },
    {
      "cell_type": "code",
      "source": [
        "print(df_jordan.shape)\n",
        "df_jordan.head()"
      ],
      "metadata": {
        "colab": {
          "base_uri": "https://localhost:8080/",
          "height": 224
        },
        "id": "-Z2FZJxQxNIw",
        "outputId": "da9660d1-36aa-45f2-961f-41c814ef5b59"
      },
      "execution_count": null,
      "outputs": [
        {
          "output_type": "stream",
          "name": "stdout",
          "text": [
            "(1376, 4)\n"
          ]
        },
        {
          "output_type": "execute_result",
          "data": {
            "text/plain": [
              "       brand                                               name  price_og  \\\n",
              "1455  Jordan                Jordan 1 Retro High OG Chicago 2022    209000   \n",
              "1456  Jordan                               Jordan 1 Low Concord    139000   \n",
              "1457  Jordan                     Jordan 1 High Golf White Black    249000   \n",
              "1458  Jordan  Jordan 1 x Travis Scott Retro Low OG SP Black ...    189000   \n",
              "1459  Jordan  Jordan 1 x Travis Scott Retro Low OG SP Sail a...    189000   \n",
              "\n",
              "      price_resell  \n",
              "1455        480800  \n",
              "1456        163600  \n",
              "1457        254400  \n",
              "1458        698000  \n",
              "1459       1417800  "
            ],
            "text/html": [
              "\n",
              "  <div id=\"df-5d9d18be-4832-472f-bbd9-dc3c71e0a832\">\n",
              "    <div class=\"colab-df-container\">\n",
              "      <div>\n",
              "<style scoped>\n",
              "    .dataframe tbody tr th:only-of-type {\n",
              "        vertical-align: middle;\n",
              "    }\n",
              "\n",
              "    .dataframe tbody tr th {\n",
              "        vertical-align: top;\n",
              "    }\n",
              "\n",
              "    .dataframe thead th {\n",
              "        text-align: right;\n",
              "    }\n",
              "</style>\n",
              "<table border=\"1\" class=\"dataframe\">\n",
              "  <thead>\n",
              "    <tr style=\"text-align: right;\">\n",
              "      <th></th>\n",
              "      <th>brand</th>\n",
              "      <th>name</th>\n",
              "      <th>price_og</th>\n",
              "      <th>price_resell</th>\n",
              "    </tr>\n",
              "  </thead>\n",
              "  <tbody>\n",
              "    <tr>\n",
              "      <th>1455</th>\n",
              "      <td>Jordan</td>\n",
              "      <td>Jordan 1 Retro High OG Chicago 2022</td>\n",
              "      <td>209000</td>\n",
              "      <td>480800</td>\n",
              "    </tr>\n",
              "    <tr>\n",
              "      <th>1456</th>\n",
              "      <td>Jordan</td>\n",
              "      <td>Jordan 1 Low Concord</td>\n",
              "      <td>139000</td>\n",
              "      <td>163600</td>\n",
              "    </tr>\n",
              "    <tr>\n",
              "      <th>1457</th>\n",
              "      <td>Jordan</td>\n",
              "      <td>Jordan 1 High Golf White Black</td>\n",
              "      <td>249000</td>\n",
              "      <td>254400</td>\n",
              "    </tr>\n",
              "    <tr>\n",
              "      <th>1458</th>\n",
              "      <td>Jordan</td>\n",
              "      <td>Jordan 1 x Travis Scott Retro Low OG SP Black ...</td>\n",
              "      <td>189000</td>\n",
              "      <td>698000</td>\n",
              "    </tr>\n",
              "    <tr>\n",
              "      <th>1459</th>\n",
              "      <td>Jordan</td>\n",
              "      <td>Jordan 1 x Travis Scott Retro Low OG SP Sail a...</td>\n",
              "      <td>189000</td>\n",
              "      <td>1417800</td>\n",
              "    </tr>\n",
              "  </tbody>\n",
              "</table>\n",
              "</div>\n",
              "      <button class=\"colab-df-convert\" onclick=\"convertToInteractive('df-5d9d18be-4832-472f-bbd9-dc3c71e0a832')\"\n",
              "              title=\"Convert this dataframe to an interactive table.\"\n",
              "              style=\"display:none;\">\n",
              "        \n",
              "  <svg xmlns=\"http://www.w3.org/2000/svg\" height=\"24px\"viewBox=\"0 0 24 24\"\n",
              "       width=\"24px\">\n",
              "    <path d=\"M0 0h24v24H0V0z\" fill=\"none\"/>\n",
              "    <path d=\"M18.56 5.44l.94 2.06.94-2.06 2.06-.94-2.06-.94-.94-2.06-.94 2.06-2.06.94zm-11 1L8.5 8.5l.94-2.06 2.06-.94-2.06-.94L8.5 2.5l-.94 2.06-2.06.94zm10 10l.94 2.06.94-2.06 2.06-.94-2.06-.94-.94-2.06-.94 2.06-2.06.94z\"/><path d=\"M17.41 7.96l-1.37-1.37c-.4-.4-.92-.59-1.43-.59-.52 0-1.04.2-1.43.59L10.3 9.45l-7.72 7.72c-.78.78-.78 2.05 0 2.83L4 21.41c.39.39.9.59 1.41.59.51 0 1.02-.2 1.41-.59l7.78-7.78 2.81-2.81c.8-.78.8-2.07 0-2.86zM5.41 20L4 18.59l7.72-7.72 1.47 1.35L5.41 20z\"/>\n",
              "  </svg>\n",
              "      </button>\n",
              "      \n",
              "  <style>\n",
              "    .colab-df-container {\n",
              "      display:flex;\n",
              "      flex-wrap:wrap;\n",
              "      gap: 12px;\n",
              "    }\n",
              "\n",
              "    .colab-df-convert {\n",
              "      background-color: #E8F0FE;\n",
              "      border: none;\n",
              "      border-radius: 50%;\n",
              "      cursor: pointer;\n",
              "      display: none;\n",
              "      fill: #1967D2;\n",
              "      height: 32px;\n",
              "      padding: 0 0 0 0;\n",
              "      width: 32px;\n",
              "    }\n",
              "\n",
              "    .colab-df-convert:hover {\n",
              "      background-color: #E2EBFA;\n",
              "      box-shadow: 0px 1px 2px rgba(60, 64, 67, 0.3), 0px 1px 3px 1px rgba(60, 64, 67, 0.15);\n",
              "      fill: #174EA6;\n",
              "    }\n",
              "\n",
              "    [theme=dark] .colab-df-convert {\n",
              "      background-color: #3B4455;\n",
              "      fill: #D2E3FC;\n",
              "    }\n",
              "\n",
              "    [theme=dark] .colab-df-convert:hover {\n",
              "      background-color: #434B5C;\n",
              "      box-shadow: 0px 1px 3px 1px rgba(0, 0, 0, 0.15);\n",
              "      filter: drop-shadow(0px 1px 2px rgba(0, 0, 0, 0.3));\n",
              "      fill: #FFFFFF;\n",
              "    }\n",
              "  </style>\n",
              "\n",
              "      <script>\n",
              "        const buttonEl =\n",
              "          document.querySelector('#df-5d9d18be-4832-472f-bbd9-dc3c71e0a832 button.colab-df-convert');\n",
              "        buttonEl.style.display =\n",
              "          google.colab.kernel.accessAllowed ? 'block' : 'none';\n",
              "\n",
              "        async function convertToInteractive(key) {\n",
              "          const element = document.querySelector('#df-5d9d18be-4832-472f-bbd9-dc3c71e0a832');\n",
              "          const dataTable =\n",
              "            await google.colab.kernel.invokeFunction('convertToInteractive',\n",
              "                                                     [key], {});\n",
              "          if (!dataTable) return;\n",
              "\n",
              "          const docLinkHtml = 'Like what you see? Visit the ' +\n",
              "            '<a target=\"_blank\" href=https://colab.research.google.com/notebooks/data_table.ipynb>data table notebook</a>'\n",
              "            + ' to learn more about interactive tables.';\n",
              "          element.innerHTML = '';\n",
              "          dataTable['output_type'] = 'display_data';\n",
              "          await google.colab.output.renderOutput(dataTable, element);\n",
              "          const docLink = document.createElement('div');\n",
              "          docLink.innerHTML = docLinkHtml;\n",
              "          element.appendChild(docLink);\n",
              "        }\n",
              "      </script>\n",
              "    </div>\n",
              "  </div>\n",
              "  "
            ]
          },
          "metadata": {},
          "execution_count": 7
        }
      ]
    },
    {
      "cell_type": "code",
      "source": [
        "print(df_adidas.shape)\n",
        "df_adidas.head()"
      ],
      "metadata": {
        "colab": {
          "base_uri": "https://localhost:8080/",
          "height": 224
        },
        "id": "osNT_dR8xo1u",
        "outputId": "39db6a71-2ab9-478f-e548-f9bf20e7d0c1"
      },
      "execution_count": null,
      "outputs": [
        {
          "output_type": "stream",
          "name": "stdout",
          "text": [
            "(1168, 4)\n"
          ]
        },
        {
          "output_type": "execute_result",
          "data": {
            "text/plain": [
              "       brand                                              name  price_og  \\\n",
              "2831  Adidas                            Adidas Samba ADV Black    109000   \n",
              "2832  Adidas                    Adidas Samba Vegan White Black    109000   \n",
              "2833  Adidas                   Adidas Superstar 82 Black White    152000   \n",
              "2834  Adidas        Adidas Yeezy Boost 350 V2 Slate Core Black    319000   \n",
              "2835  Adidas  Adidas x BAPE Superstar 80s Core Black Off White    199000   \n",
              "\n",
              "      price_resell  \n",
              "2831        197600  \n",
              "2832        232800  \n",
              "2833        158600  \n",
              "2834        354800  \n",
              "2835        249400  "
            ],
            "text/html": [
              "\n",
              "  <div id=\"df-91a90850-e478-4fe3-85d3-d52f77d199b1\">\n",
              "    <div class=\"colab-df-container\">\n",
              "      <div>\n",
              "<style scoped>\n",
              "    .dataframe tbody tr th:only-of-type {\n",
              "        vertical-align: middle;\n",
              "    }\n",
              "\n",
              "    .dataframe tbody tr th {\n",
              "        vertical-align: top;\n",
              "    }\n",
              "\n",
              "    .dataframe thead th {\n",
              "        text-align: right;\n",
              "    }\n",
              "</style>\n",
              "<table border=\"1\" class=\"dataframe\">\n",
              "  <thead>\n",
              "    <tr style=\"text-align: right;\">\n",
              "      <th></th>\n",
              "      <th>brand</th>\n",
              "      <th>name</th>\n",
              "      <th>price_og</th>\n",
              "      <th>price_resell</th>\n",
              "    </tr>\n",
              "  </thead>\n",
              "  <tbody>\n",
              "    <tr>\n",
              "      <th>2831</th>\n",
              "      <td>Adidas</td>\n",
              "      <td>Adidas Samba ADV Black</td>\n",
              "      <td>109000</td>\n",
              "      <td>197600</td>\n",
              "    </tr>\n",
              "    <tr>\n",
              "      <th>2832</th>\n",
              "      <td>Adidas</td>\n",
              "      <td>Adidas Samba Vegan White Black</td>\n",
              "      <td>109000</td>\n",
              "      <td>232800</td>\n",
              "    </tr>\n",
              "    <tr>\n",
              "      <th>2833</th>\n",
              "      <td>Adidas</td>\n",
              "      <td>Adidas Superstar 82 Black White</td>\n",
              "      <td>152000</td>\n",
              "      <td>158600</td>\n",
              "    </tr>\n",
              "    <tr>\n",
              "      <th>2834</th>\n",
              "      <td>Adidas</td>\n",
              "      <td>Adidas Yeezy Boost 350 V2 Slate Core Black</td>\n",
              "      <td>319000</td>\n",
              "      <td>354800</td>\n",
              "    </tr>\n",
              "    <tr>\n",
              "      <th>2835</th>\n",
              "      <td>Adidas</td>\n",
              "      <td>Adidas x BAPE Superstar 80s Core Black Off White</td>\n",
              "      <td>199000</td>\n",
              "      <td>249400</td>\n",
              "    </tr>\n",
              "  </tbody>\n",
              "</table>\n",
              "</div>\n",
              "      <button class=\"colab-df-convert\" onclick=\"convertToInteractive('df-91a90850-e478-4fe3-85d3-d52f77d199b1')\"\n",
              "              title=\"Convert this dataframe to an interactive table.\"\n",
              "              style=\"display:none;\">\n",
              "        \n",
              "  <svg xmlns=\"http://www.w3.org/2000/svg\" height=\"24px\"viewBox=\"0 0 24 24\"\n",
              "       width=\"24px\">\n",
              "    <path d=\"M0 0h24v24H0V0z\" fill=\"none\"/>\n",
              "    <path d=\"M18.56 5.44l.94 2.06.94-2.06 2.06-.94-2.06-.94-.94-2.06-.94 2.06-2.06.94zm-11 1L8.5 8.5l.94-2.06 2.06-.94-2.06-.94L8.5 2.5l-.94 2.06-2.06.94zm10 10l.94 2.06.94-2.06 2.06-.94-2.06-.94-.94-2.06-.94 2.06-2.06.94z\"/><path d=\"M17.41 7.96l-1.37-1.37c-.4-.4-.92-.59-1.43-.59-.52 0-1.04.2-1.43.59L10.3 9.45l-7.72 7.72c-.78.78-.78 2.05 0 2.83L4 21.41c.39.39.9.59 1.41.59.51 0 1.02-.2 1.41-.59l7.78-7.78 2.81-2.81c.8-.78.8-2.07 0-2.86zM5.41 20L4 18.59l7.72-7.72 1.47 1.35L5.41 20z\"/>\n",
              "  </svg>\n",
              "      </button>\n",
              "      \n",
              "  <style>\n",
              "    .colab-df-container {\n",
              "      display:flex;\n",
              "      flex-wrap:wrap;\n",
              "      gap: 12px;\n",
              "    }\n",
              "\n",
              "    .colab-df-convert {\n",
              "      background-color: #E8F0FE;\n",
              "      border: none;\n",
              "      border-radius: 50%;\n",
              "      cursor: pointer;\n",
              "      display: none;\n",
              "      fill: #1967D2;\n",
              "      height: 32px;\n",
              "      padding: 0 0 0 0;\n",
              "      width: 32px;\n",
              "    }\n",
              "\n",
              "    .colab-df-convert:hover {\n",
              "      background-color: #E2EBFA;\n",
              "      box-shadow: 0px 1px 2px rgba(60, 64, 67, 0.3), 0px 1px 3px 1px rgba(60, 64, 67, 0.15);\n",
              "      fill: #174EA6;\n",
              "    }\n",
              "\n",
              "    [theme=dark] .colab-df-convert {\n",
              "      background-color: #3B4455;\n",
              "      fill: #D2E3FC;\n",
              "    }\n",
              "\n",
              "    [theme=dark] .colab-df-convert:hover {\n",
              "      background-color: #434B5C;\n",
              "      box-shadow: 0px 1px 3px 1px rgba(0, 0, 0, 0.15);\n",
              "      filter: drop-shadow(0px 1px 2px rgba(0, 0, 0, 0.3));\n",
              "      fill: #FFFFFF;\n",
              "    }\n",
              "  </style>\n",
              "\n",
              "      <script>\n",
              "        const buttonEl =\n",
              "          document.querySelector('#df-91a90850-e478-4fe3-85d3-d52f77d199b1 button.colab-df-convert');\n",
              "        buttonEl.style.display =\n",
              "          google.colab.kernel.accessAllowed ? 'block' : 'none';\n",
              "\n",
              "        async function convertToInteractive(key) {\n",
              "          const element = document.querySelector('#df-91a90850-e478-4fe3-85d3-d52f77d199b1');\n",
              "          const dataTable =\n",
              "            await google.colab.kernel.invokeFunction('convertToInteractive',\n",
              "                                                     [key], {});\n",
              "          if (!dataTable) return;\n",
              "\n",
              "          const docLinkHtml = 'Like what you see? Visit the ' +\n",
              "            '<a target=\"_blank\" href=https://colab.research.google.com/notebooks/data_table.ipynb>data table notebook</a>'\n",
              "            + ' to learn more about interactive tables.';\n",
              "          element.innerHTML = '';\n",
              "          dataTable['output_type'] = 'display_data';\n",
              "          await google.colab.output.renderOutput(dataTable, element);\n",
              "          const docLink = document.createElement('div');\n",
              "          docLink.innerHTML = docLinkHtml;\n",
              "          element.appendChild(docLink);\n",
              "        }\n",
              "      </script>\n",
              "    </div>\n",
              "  </div>\n",
              "  "
            ]
          },
          "metadata": {},
          "execution_count": 8
        }
      ]
    },
    {
      "cell_type": "code",
      "source": [
        "df_nike['price_resell'].describe()"
      ],
      "metadata": {
        "colab": {
          "base_uri": "https://localhost:8080/"
        },
        "id": "DRfBvpufTFZ3",
        "outputId": "684c226f-ef19-4765-da36-345dc2af1403"
      },
      "execution_count": null,
      "outputs": [
        {
          "output_type": "execute_result",
          "data": {
            "text/plain": [
              "count    1.455000e+03\n",
              "mean     2.563218e+05\n",
              "std      2.945740e+05\n",
              "min      4.560000e+04\n",
              "25%      1.389000e+05\n",
              "50%      1.900000e+05\n",
              "75%      2.816000e+05\n",
              "max      8.018000e+06\n",
              "Name: price_resell, dtype: float64"
            ]
          },
          "metadata": {},
          "execution_count": 9
        }
      ]
    },
    {
      "cell_type": "code",
      "source": [
        "df_jordan['price_resell'].describe()"
      ],
      "metadata": {
        "colab": {
          "base_uri": "https://localhost:8080/"
        },
        "id": "0ZDCdC7yT-x9",
        "outputId": "89c2fa8a-0043-4f63-d03f-2576d3fa4eb1"
      },
      "execution_count": null,
      "outputs": [
        {
          "output_type": "execute_result",
          "data": {
            "text/plain": [
              "count    1.376000e+03\n",
              "mean     3.379037e+05\n",
              "std      5.207507e+05\n",
              "min      5.000000e+04\n",
              "25%      1.740500e+05\n",
              "50%      2.399000e+05\n",
              "75%      3.340500e+05\n",
              "max      9.676000e+06\n",
              "Name: price_resell, dtype: float64"
            ]
          },
          "metadata": {},
          "execution_count": 13
        }
      ]
    },
    {
      "cell_type": "code",
      "source": [
        "(df_nike['price_resell']//100000).value_counts()"
      ],
      "metadata": {
        "colab": {
          "base_uri": "https://localhost:8080/"
        },
        "id": "RXGvWOJfTXPo",
        "outputId": "2adbd37c-1c7f-48b9-9245-b0a3b69d1513"
      },
      "execution_count": null,
      "outputs": [
        {
          "output_type": "execute_result",
          "data": {
            "text/plain": [
              "1     668\n",
              "2     367\n",
              "3     137\n",
              "0     111\n",
              "4      62\n",
              "5      27\n",
              "6      25\n",
              "9      15\n",
              "8      12\n",
              "7      11\n",
              "11      5\n",
              "10      4\n",
              "14      2\n",
              "13      2\n",
              "22      2\n",
              "17      1\n",
              "12      1\n",
              "20      1\n",
              "25      1\n",
              "80      1\n",
              "Name: price_resell, dtype: int64"
            ]
          },
          "metadata": {},
          "execution_count": 29
        }
      ]
    },
    {
      "cell_type": "code",
      "source": [
        "df_nike = df_nike.drop(df_nike[df_nike['price_resell']>8000000].index)"
      ],
      "metadata": {
        "id": "YVSTQGvEeRth"
      },
      "execution_count": null,
      "outputs": []
    },
    {
      "cell_type": "code",
      "source": [
        "df_nike['price_class'] = np.where(df_nike['price_resell'] <1000000,\\\n",
        "                                  df_nike['price_resell']//100000,\\\n",
        "                                  10)"
      ],
      "metadata": {
        "id": "_0v9InrWZQ4O"
      },
      "execution_count": null,
      "outputs": []
    },
    {
      "cell_type": "markdown",
      "source": [
        "-----"
      ],
      "metadata": {
        "id": "8nk3V6_Lpid6"
      }
    },
    {
      "cell_type": "code",
      "source": [
        "(df_jordan['price_class']).value_counts()"
      ],
      "metadata": {
        "colab": {
          "base_uri": "https://localhost:8080/"
        },
        "id": "imB2trTLnNFu",
        "outputId": "8d44ec2c-60cf-44f9-e7b7-7959741e6d5f"
      },
      "execution_count": null,
      "outputs": [
        {
          "output_type": "execute_result",
          "data": {
            "text/plain": [
              "2     468\n",
              "1     428\n",
              "3     199\n",
              "4      78\n",
              "5      52\n",
              "0      51\n",
              "13     37\n",
              "6      27\n",
              "7      13\n",
              "8      12\n",
              "10      6\n",
              "9       5\n",
              "Name: price_class, dtype: int64"
            ]
          },
          "metadata": {},
          "execution_count": 101
        }
      ]
    },
    {
      "cell_type": "code",
      "source": [
        "df_jordan = df_jordan.drop(df_nike[df_nike['price_resell']>5000000].index)"
      ],
      "metadata": {
        "id": "9pe0b-IMplEq"
      },
      "execution_count": null,
      "outputs": []
    },
    {
      "cell_type": "code",
      "source": [
        "df_jordan['price_class'] = np.where(df_jordan['price_resell'] <1100000,\\\n",
        "                                  df_jordan['price_resell']//100000,\\\n",
        "                                  13)"
      ],
      "metadata": {
        "id": "S9bUA_rOoDlg"
      },
      "execution_count": null,
      "outputs": []
    },
    {
      "cell_type": "markdown",
      "source": [
        "---------"
      ],
      "metadata": {
        "id": "Lx1F-olhq8j3"
      }
    },
    {
      "cell_type": "code",
      "source": [
        "def make_input_col(df_list):\n",
        "    for df in df_list:\n",
        "        df['input'] = df['brand'] + \" | \" + df['name'] + \" | \" + (df['price_og']/10000.0).astype(str)\n",
        "        df['target'] = df['price_resell']/10000.0\n",
        "\n",
        "make_input_col([df_nike, df_jordan, df_adidas])"
      ],
      "metadata": {
        "id": "uDhpmJoXx96o"
      },
      "execution_count": null,
      "outputs": []
    },
    {
      "cell_type": "code",
      "source": [
        "def tokenize_input(df_list, pd_list):\n",
        "    return_list = []\n",
        "\n",
        "    for df, pd in zip(df_list, pd_list):\n",
        "        tokenizer = Tokenizer()\n",
        "        tokenizer.fit_on_texts(df['input'])\n",
        "        word_index = tokenizer.word_index\n",
        "\n",
        "        print(f\"word_index의 크기: {len(word_index)}\")\n",
        "            \n",
        "        # 문장을 토큰화 한다.\n",
        "        tokenized_name = tokenizer.texts_to_sequences(df['input'])\n",
        "        padded_name = pad_sequences(tokenized_name)\n",
        "\n",
        "        return_list.append((padded_name))\n",
        "    return return_list\n",
        "\n",
        "df_nike_input_ = pd.DataFrame()\n",
        "df_jordan_input_ = pd.DataFrame()\n",
        "df_adidas_input_ = pd.DataFrame()\n",
        "\n",
        "[df_nike_input, df_jordan_input, df_adidas_input] = tokenize_input([df_nike, df_jordan, df_adidas], [df_nike_input_, df_jordan_input_, df_adidas_input_])"
      ],
      "metadata": {
        "colab": {
          "base_uri": "https://localhost:8080/"
        },
        "id": "ju9d8Odz1Jqc",
        "outputId": "1334d626-d7db-4029-f09b-2f2a2d7c1d23"
      },
      "execution_count": null,
      "outputs": [
        {
          "output_type": "stream",
          "name": "stdout",
          "text": [
            "word_index의 크기: 1215\n",
            "word_index의 크기: 967\n",
            "word_index의 크기: 1046\n"
          ]
        }
      ]
    },
    {
      "cell_type": "code",
      "source": [
        "# tokenizer 저장\n",
        "# python 변수(객체)를 pickle 파일로 저장\n",
        "with open('bn_tokenizer.pickle', 'wb') as f:\n",
        "    pickle.dump(tokenizer, f)\n",
        "\n",
        "# tokenizer load 하기\n",
        "with open('bn_tokenizer.pickle', 'rb') as f:\n",
        "    tokenizer = pickle.load(f)"
      ],
      "metadata": {
        "id": "8_qBXG-QMiZ1"
      },
      "execution_count": null,
      "outputs": []
    },
    {
      "cell_type": "code",
      "source": [
        "from sklearn.model_selection import train_test_split"
      ],
      "metadata": {
        "id": "aN5JjGCA0mka"
      },
      "execution_count": null,
      "outputs": []
    },
    {
      "cell_type": "code",
      "source": [
        "nike_train_X, nike_test_X, nike_train_y, nike_test_y = train_test_split(df_nike_input, df_nike['target'], test_size=0.3, shuffle=True, stratify=df_nike['price_class'])\n",
        "nike_valid_X, nike_test_X, nike_valid_y, nike_test_y = train_test_split(nike_test_X, nike_test_y, test_size=0.5)\n",
        "\n",
        "jordan_train_X, jordan_test_X, jordan_train_y, jordan_test_y = train_test_split(df_jordan_input, df_jordan['target'], test_size=0.3, shuffle=True, stratify=df_jordan['price_class'])\n",
        "jordan_valid_X, jordan_test_X, jordan_valid_y, jordan_test_y = train_test_split(jordan_test_X, jordan_test_y, test_size=0.5)"
      ],
      "metadata": {
        "id": "7ngp18rnDJtJ"
      },
      "execution_count": null,
      "outputs": []
    },
    {
      "cell_type": "code",
      "source": [
        "%cd /content/drive/MyDrive/Kream_data/dataset"
      ],
      "metadata": {
        "id": "6DJr3e7oK7Wp"
      },
      "execution_count": null,
      "outputs": []
    },
    {
      "cell_type": "code",
      "source": [
        "# python 변수(객체)를 pickle 파일로 저장\n",
        "with open('nike_train_X.pickle', 'wb') as f:\n",
        "    pickle.dump(nike_train_X, f)\n",
        " \n",
        "with open('nike_test_X.pickle', 'wb') as f:\n",
        "    pickle.dump(nike_test_X, f)\n",
        "\n",
        "with open('nike_vaild_X.pickle', 'wb') as f:\n",
        "    pickle.dump(nike_vaild_X, f)\n",
        "\n",
        "with open('nike_train_y.pickle', 'wb') as f:\n",
        "    pickle.dump(nike_train_y, f)\n",
        "\n",
        "with open('nike_test_y.pickle', 'wb') as f:\n",
        "    pickle.dump(nike_test_y, f)\n",
        "\n",
        "with open('nike_valid_y.pickle', 'wb') as f:\n",
        "    pickle.dump(nike_valid_y, f)\n",
        "\n",
        "with open('jordan_train_X.pickle', 'wb') as f:\n",
        "    pickle.dump(jordan_train_X, f) \n",
        "\n",
        "with open('jordan_test_X.pickle', 'wb') as f:\n",
        "    pickle.dump(jordan_test_X, f)\n",
        "    \n",
        "with open('jordan_vaild_X.pickle', 'wb') as f:\n",
        "    pickle.dump(jordan_vaild_X, f)\n",
        "    \n",
        "with open('jordan_train_y.pickle', 'wb') as f:\n",
        "    pickle.dump(jordan_train_y, f)\n",
        "    \n",
        "with open('jordan_test_y.pickle', 'wb') as f:\n",
        "    pickle.dump(jordan_test_y, f)\n",
        "\n",
        "with open('jordan_valid_y.pickle', 'wb') as f:\n",
        "    pickle.dump(jordan_valid_y, f)\n"
      ],
      "metadata": {
        "id": "GaGtHjRGKvUn"
      },
      "execution_count": null,
      "outputs": []
    },
    {
      "cell_type": "code",
      "source": [
        "# pickle 불러오기\n",
        "with open('nike_train_X.pickle', 'rb') as f:\n",
        "    nike_train_X_var = pickle.load(f)\n",
        " \n",
        "with open('nike_test_X.pickle', 'rb') as f:\n",
        "    nike_test_X_var = pickle.load(f)\n",
        "\n",
        "with open('nike_vaild_X.pickle', 'rb') as f:\n",
        "    nike_valid_X_var = pickle.load(f)\n",
        "\n",
        "with open('nike_train_y.pickle', 'rb') as f:\n",
        "    nike_train_y_var = pickle.load(f)\n",
        "\n",
        "with open('nike_test_y.pickle', 'rb') as f:\n",
        "    nike_test_y_var = pickle.load(f)\n",
        "\n",
        "with open('nike_valid_y.pickle', 'rb') as f:\n",
        "    nike_valid_y_var = pickle.load(f)\n",
        "\n",
        "with open('jordan_train_X.pickle', 'rb') as f:\n",
        "    jordan_train_X_var = pickle.load(f) \n",
        "\n",
        "with open('jordan_test_X.pickle', 'rb') as f:\n",
        "    jordan_test_X_var = pickle.load(f)\n",
        "    \n",
        "with open('jordan_valid_X.pickle', 'rb') as f:\n",
        "    jordan_valid_X_var = pickle.load(f)\n",
        "    \n",
        "with open('jordan_train_y.pickle', 'rb') as f:\n",
        "    jordan_train_y_var = pickle.load(f)\n",
        "    \n",
        "with open('jordan_test_y.pickle', 'rb') as f:\n",
        "    jordan_test_y_var = pickle.load(f)\n",
        "\n",
        "with open('jordan_valid_y.pickle', 'rb') as f:\n",
        "    jordan_valid_y_var = pickle.load(f)\n"
      ],
      "metadata": {
        "id": "DA6hxaVYMbz8"
      },
      "execution_count": null,
      "outputs": []
    },
    {
      "cell_type": "code",
      "source": [
        "%cd /content/drive/MyDrive/kream_data/model"
      ],
      "metadata": {
        "colab": {
          "base_uri": "https://localhost:8080/"
        },
        "id": "SoOEbvyxfR48",
        "outputId": "f9d4b2da-6c96-4033-f297-d28c599b1b21"
      },
      "execution_count": null,
      "outputs": [
        {
          "output_type": "stream",
          "name": "stdout",
          "text": [
            "/content/drive/MyDrive/kream_data/model\n"
          ]
        }
      ]
    },
    {
      "cell_type": "code",
      "source": [
        "from tensorflow.keras.callbacks import EarlyStopping, ModelCheckpoint\n",
        "\n",
        "es=EarlyStopping(monitor='val_loss', mode='min', verbose=1, patience=30)\n",
        "mc_nike=ModelCheckpoint('nike_bn_best_model.h5', monitor='val_loss', verbose=1, save_best_only=True)\n",
        "mc_jordan=ModelCheckpoint('jordan_bn_best_model.h5', monitor='val_loss', verbose=1, save_best_only=True)"
      ],
      "metadata": {
        "id": "51uAFnXGfFDU"
      },
      "execution_count": null,
      "outputs": []
    },
    {
      "cell_type": "code",
      "source": [
        "# 임베딩 층에 입력될 단어의 수를 지정한다.\n",
        "word_size = 1216 + 1\n",
        "\n",
        "\n",
        "nike_bn_model = keras.models.Sequential([\n",
        "    # 임베딩층\n",
        "    keras.layers.Embedding(word_size, word_size, input_length=18),\n",
        "    # 회귀를 위해 임베딩층의 output값을 1차원의 array로 바꾸어준다. \n",
        "    keras.layers.Flatten(),\n",
        "    keras.layers.Dense(64),\n",
        "    keras.layers.Dropout(0.5),\n",
        "    keras.layers.Dense(32),\n",
        "    keras.layers.Dropout(0.5),\n",
        "    keras.layers.Dense(16),\n",
        "    keras.layers.Dropout(0.5),\n",
        "    keras.layers.Dense(8),\n",
        "    keras.layers.Dropout(0.5),\n",
        "    keras.layers.Dense(4),\n",
        "    keras.layers.Dropout(0.5),\n",
        "\n",
        "    keras.layers.Dense(2),\n",
        "    keras.layers.Dense(1)\n",
        " ])\n",
        "\n",
        "nike_bn_model.compile(optimizer=keras.optimizers.Adam(learning_rate=0.005), loss=tf.keras.losses.Huber(delta=3), metrics= [\"mean_absolute_percentage_error\"])\n",
        "\n",
        "nike_bn_model.fit(nike_train_X, nike_train_y, batch_size=16, epochs=300, validation_data = (nike_valid_X,nike_valid_y),  callbacks=[es, mc_nike])"
      ],
      "metadata": {
        "id": "pu2Po5lUgFTp",
        "colab": {
          "base_uri": "https://localhost:8080/"
        },
        "outputId": "2026b1f2-08f6-4066-9dc1-026bf0b01ebc"
      },
      "execution_count": null,
      "outputs": [
        {
          "output_type": "stream",
          "name": "stdout",
          "text": [
            "Epoch 1/300\n",
            "64/64 [==============================] - ETA: 0s - loss: 68.7139 - mean_absolute_percentage_error: 105.6385\n",
            "Epoch 1: val_loss improved from inf to 39.91072, saving model to nike_bn_best_model.h5\n",
            "64/64 [==============================] - 9s 72ms/step - loss: 68.7139 - mean_absolute_percentage_error: 105.6385 - val_loss: 39.9107 - val_mean_absolute_percentage_error: 42.0693\n",
            "Epoch 2/300\n",
            "64/64 [==============================] - ETA: 0s - loss: 54.9107 - mean_absolute_percentage_error: 80.8010\n",
            "Epoch 2: val_loss improved from 39.91072 to 35.61482, saving model to nike_bn_best_model.h5\n",
            "64/64 [==============================] - 1s 20ms/step - loss: 54.9107 - mean_absolute_percentage_error: 80.8010 - val_loss: 35.6148 - val_mean_absolute_percentage_error: 38.0879\n",
            "Epoch 3/300\n",
            "64/64 [==============================] - ETA: 0s - loss: 50.1308 - mean_absolute_percentage_error: 71.2005\n",
            "Epoch 3: val_loss did not improve from 35.61482\n",
            "64/64 [==============================] - 1s 13ms/step - loss: 50.1308 - mean_absolute_percentage_error: 71.2005 - val_loss: 37.6543 - val_mean_absolute_percentage_error: 40.8763\n",
            "Epoch 4/300\n",
            "64/64 [==============================] - ETA: 0s - loss: 46.3196 - mean_absolute_percentage_error: 67.9561\n",
            "Epoch 4: val_loss did not improve from 35.61482\n",
            "64/64 [==============================] - 1s 16ms/step - loss: 46.3196 - mean_absolute_percentage_error: 67.9561 - val_loss: 38.1685 - val_mean_absolute_percentage_error: 42.2082\n",
            "Epoch 5/300\n",
            "60/64 [===========================>..] - ETA: 0s - loss: 42.0892 - mean_absolute_percentage_error: 60.6917\n",
            "Epoch 5: val_loss improved from 35.61482 to 27.77228, saving model to nike_bn_best_model.h5\n",
            "64/64 [==============================] - 1s 8ms/step - loss: 42.5620 - mean_absolute_percentage_error: 60.5869 - val_loss: 27.7723 - val_mean_absolute_percentage_error: 35.0476\n",
            "Epoch 6/300\n",
            "64/64 [==============================] - ETA: 0s - loss: 40.9005 - mean_absolute_percentage_error: 57.9982\n",
            "Epoch 6: val_loss did not improve from 27.77228\n",
            "64/64 [==============================] - 1s 11ms/step - loss: 40.9005 - mean_absolute_percentage_error: 57.9982 - val_loss: 30.8711 - val_mean_absolute_percentage_error: 33.2787\n",
            "Epoch 7/300\n",
            "64/64 [==============================] - ETA: 0s - loss: 38.2033 - mean_absolute_percentage_error: 53.0943\n",
            "Epoch 7: val_loss did not improve from 27.77228\n",
            "64/64 [==============================] - 1s 14ms/step - loss: 38.2033 - mean_absolute_percentage_error: 53.0943 - val_loss: 32.5326 - val_mean_absolute_percentage_error: 35.3024\n",
            "Epoch 8/300\n",
            "62/64 [============================>.] - ETA: 0s - loss: 36.8008 - mean_absolute_percentage_error: 49.3409\n",
            "Epoch 8: val_loss improved from 27.77228 to 26.00365, saving model to nike_bn_best_model.h5\n",
            "64/64 [==============================] - 1s 8ms/step - loss: 36.8877 - mean_absolute_percentage_error: 49.1437 - val_loss: 26.0037 - val_mean_absolute_percentage_error: 29.8014\n",
            "Epoch 9/300\n",
            "64/64 [==============================] - ETA: 0s - loss: 34.2193 - mean_absolute_percentage_error: 48.0150\n",
            "Epoch 9: val_loss did not improve from 26.00365\n",
            "64/64 [==============================] - 1s 19ms/step - loss: 34.2193 - mean_absolute_percentage_error: 48.0150 - val_loss: 30.4578 - val_mean_absolute_percentage_error: 32.7165\n",
            "Epoch 10/300\n",
            "64/64 [==============================] - ETA: 0s - loss: 33.2242 - mean_absolute_percentage_error: 44.5569\n",
            "Epoch 10: val_loss did not improve from 26.00365\n",
            "64/64 [==============================] - 1s 9ms/step - loss: 33.2242 - mean_absolute_percentage_error: 44.5569 - val_loss: 32.7963 - val_mean_absolute_percentage_error: 34.6031\n",
            "Epoch 11/300\n",
            "60/64 [===========================>..] - ETA: 0s - loss: 32.5997 - mean_absolute_percentage_error: 44.1886\n",
            "Epoch 11: val_loss did not improve from 26.00365\n",
            "64/64 [==============================] - 1s 9ms/step - loss: 32.7571 - mean_absolute_percentage_error: 44.4308 - val_loss: 26.9543 - val_mean_absolute_percentage_error: 29.6026\n",
            "Epoch 12/300\n",
            "64/64 [==============================] - ETA: 0s - loss: 29.8210 - mean_absolute_percentage_error: 39.0217\n",
            "Epoch 12: val_loss improved from 26.00365 to 25.62606, saving model to nike_bn_best_model.h5\n",
            "64/64 [==============================] - 1s 15ms/step - loss: 29.8210 - mean_absolute_percentage_error: 39.0217 - val_loss: 25.6261 - val_mean_absolute_percentage_error: 28.9321\n",
            "Epoch 13/300\n",
            "64/64 [==============================] - ETA: 0s - loss: 30.2411 - mean_absolute_percentage_error: 38.2754\n",
            "Epoch 13: val_loss did not improve from 25.62606\n",
            "64/64 [==============================] - 1s 12ms/step - loss: 30.2411 - mean_absolute_percentage_error: 38.2754 - val_loss: 25.7023 - val_mean_absolute_percentage_error: 32.1083\n",
            "Epoch 14/300\n",
            "56/64 [=========================>....] - ETA: 0s - loss: 27.8195 - mean_absolute_percentage_error: 37.0592\n",
            "Epoch 14: val_loss did not improve from 25.62606\n",
            "64/64 [==============================] - 1s 9ms/step - loss: 27.4871 - mean_absolute_percentage_error: 36.3645 - val_loss: 27.9462 - val_mean_absolute_percentage_error: 30.2087\n",
            "Epoch 15/300\n",
            "59/64 [==========================>...] - ETA: 0s - loss: 27.1270 - mean_absolute_percentage_error: 34.3015\n",
            "Epoch 15: val_loss did not improve from 25.62606\n",
            "64/64 [==============================] - 1s 9ms/step - loss: 26.7273 - mean_absolute_percentage_error: 34.2287 - val_loss: 28.1359 - val_mean_absolute_percentage_error: 30.5821\n",
            "Epoch 16/300\n",
            "63/64 [============================>.] - ETA: 0s - loss: 27.3799 - mean_absolute_percentage_error: 34.4333\n",
            "Epoch 16: val_loss did not improve from 25.62606\n",
            "64/64 [==============================] - 0s 7ms/step - loss: 27.3800 - mean_absolute_percentage_error: 34.3811 - val_loss: 26.0713 - val_mean_absolute_percentage_error: 29.5002\n",
            "Epoch 17/300\n",
            "60/64 [===========================>..] - ETA: 0s - loss: 23.7231 - mean_absolute_percentage_error: 31.5222\n",
            "Epoch 17: val_loss improved from 25.62606 to 25.33160, saving model to nike_bn_best_model.h5\n",
            "64/64 [==============================] - 1s 8ms/step - loss: 23.7108 - mean_absolute_percentage_error: 31.7142 - val_loss: 25.3316 - val_mean_absolute_percentage_error: 31.8956\n",
            "Epoch 18/300\n",
            "59/64 [==========================>...] - ETA: 0s - loss: 24.8462 - mean_absolute_percentage_error: 33.1383\n",
            "Epoch 18: val_loss did not improve from 25.33160\n",
            "64/64 [==============================] - 0s 6ms/step - loss: 24.9872 - mean_absolute_percentage_error: 32.9247 - val_loss: 30.4580 - val_mean_absolute_percentage_error: 32.1090\n",
            "Epoch 19/300\n",
            "59/64 [==========================>...] - ETA: 0s - loss: 23.5119 - mean_absolute_percentage_error: 30.1722\n",
            "Epoch 19: val_loss did not improve from 25.33160\n",
            "64/64 [==============================] - 0s 7ms/step - loss: 23.1615 - mean_absolute_percentage_error: 30.0763 - val_loss: 28.2353 - val_mean_absolute_percentage_error: 30.8417\n",
            "Epoch 20/300\n",
            "64/64 [==============================] - ETA: 0s - loss: 22.4486 - mean_absolute_percentage_error: 29.8765\n",
            "Epoch 20: val_loss did not improve from 25.33160\n",
            "64/64 [==============================] - 1s 8ms/step - loss: 22.4486 - mean_absolute_percentage_error: 29.8765 - val_loss: 27.0116 - val_mean_absolute_percentage_error: 29.7279\n",
            "Epoch 21/300\n",
            "60/64 [===========================>..] - ETA: 0s - loss: 22.2782 - mean_absolute_percentage_error: 28.8932\n",
            "Epoch 21: val_loss improved from 25.33160 to 23.77357, saving model to nike_bn_best_model.h5\n",
            "64/64 [==============================] - 1s 11ms/step - loss: 22.4477 - mean_absolute_percentage_error: 29.3502 - val_loss: 23.7736 - val_mean_absolute_percentage_error: 28.9246\n",
            "Epoch 22/300\n",
            "58/64 [==========================>...] - ETA: 0s - loss: 22.2135 - mean_absolute_percentage_error: 30.0465\n",
            "Epoch 22: val_loss did not improve from 23.77357\n",
            "64/64 [==============================] - 0s 7ms/step - loss: 22.5080 - mean_absolute_percentage_error: 30.4166 - val_loss: 26.2461 - val_mean_absolute_percentage_error: 29.1106\n",
            "Epoch 23/300\n",
            "58/64 [==========================>...] - ETA: 0s - loss: 21.3550 - mean_absolute_percentage_error: 28.5566\n",
            "Epoch 23: val_loss did not improve from 23.77357\n",
            "64/64 [==============================] - 0s 6ms/step - loss: 21.4254 - mean_absolute_percentage_error: 28.8136 - val_loss: 24.7491 - val_mean_absolute_percentage_error: 31.0546\n",
            "Epoch 24/300\n",
            "64/64 [==============================] - ETA: 0s - loss: 22.0316 - mean_absolute_percentage_error: 29.5543\n",
            "Epoch 24: val_loss did not improve from 23.77357\n",
            "64/64 [==============================] - 1s 9ms/step - loss: 22.0316 - mean_absolute_percentage_error: 29.5543 - val_loss: 26.0277 - val_mean_absolute_percentage_error: 29.6431\n",
            "Epoch 25/300\n",
            "61/64 [===========================>..] - ETA: 0s - loss: 22.0368 - mean_absolute_percentage_error: 30.6460\n",
            "Epoch 25: val_loss did not improve from 23.77357\n",
            "64/64 [==============================] - 0s 6ms/step - loss: 22.1769 - mean_absolute_percentage_error: 30.7343 - val_loss: 28.0519 - val_mean_absolute_percentage_error: 32.4511\n",
            "Epoch 26/300\n",
            "64/64 [==============================] - ETA: 0s - loss: 22.1129 - mean_absolute_percentage_error: 31.0621\n",
            "Epoch 26: val_loss did not improve from 23.77357\n",
            "64/64 [==============================] - 1s 9ms/step - loss: 22.1129 - mean_absolute_percentage_error: 31.0621 - val_loss: 28.4400 - val_mean_absolute_percentage_error: 32.2521\n",
            "Epoch 27/300\n",
            "59/64 [==========================>...] - ETA: 0s - loss: 21.2250 - mean_absolute_percentage_error: 29.3432\n",
            "Epoch 27: val_loss did not improve from 23.77357\n",
            "64/64 [==============================] - 0s 7ms/step - loss: 20.9073 - mean_absolute_percentage_error: 29.6632 - val_loss: 24.5378 - val_mean_absolute_percentage_error: 33.3602\n",
            "Epoch 28/300\n",
            "64/64 [==============================] - ETA: 0s - loss: 19.7465 - mean_absolute_percentage_error: 29.5461\n",
            "Epoch 28: val_loss did not improve from 23.77357\n",
            "64/64 [==============================] - 1s 9ms/step - loss: 19.7465 - mean_absolute_percentage_error: 29.5461 - val_loss: 26.3308 - val_mean_absolute_percentage_error: 32.2012\n",
            "Epoch 29/300\n",
            "59/64 [==========================>...] - ETA: 0s - loss: 20.4364 - mean_absolute_percentage_error: 29.9101\n",
            "Epoch 29: val_loss did not improve from 23.77357\n",
            "64/64 [==============================] - 0s 6ms/step - loss: 20.3231 - mean_absolute_percentage_error: 29.7489 - val_loss: 26.1658 - val_mean_absolute_percentage_error: 31.7031\n",
            "Epoch 30/300\n",
            "64/64 [==============================] - ETA: 0s - loss: 21.1861 - mean_absolute_percentage_error: 30.0613\n",
            "Epoch 30: val_loss did not improve from 23.77357\n",
            "64/64 [==============================] - 1s 9ms/step - loss: 21.1861 - mean_absolute_percentage_error: 30.0613 - val_loss: 26.9751 - val_mean_absolute_percentage_error: 32.1877\n",
            "Epoch 31/300\n",
            "59/64 [==========================>...] - ETA: 0s - loss: 21.6990 - mean_absolute_percentage_error: 33.2295\n",
            "Epoch 31: val_loss did not improve from 23.77357\n",
            "64/64 [==============================] - 0s 6ms/step - loss: 22.1363 - mean_absolute_percentage_error: 33.2796 - val_loss: 24.1279 - val_mean_absolute_percentage_error: 32.9737\n",
            "Epoch 32/300\n",
            "60/64 [===========================>..] - ETA: 0s - loss: 21.8765 - mean_absolute_percentage_error: 31.2381\n",
            "Epoch 32: val_loss did not improve from 23.77357\n",
            "64/64 [==============================] - 0s 7ms/step - loss: 21.8825 - mean_absolute_percentage_error: 31.2623 - val_loss: 25.1966 - val_mean_absolute_percentage_error: 29.8674\n",
            "Epoch 33/300\n",
            "62/64 [============================>.] - ETA: 0s - loss: 20.0251 - mean_absolute_percentage_error: 30.2710\n",
            "Epoch 33: val_loss did not improve from 23.77357\n",
            "64/64 [==============================] - 1s 8ms/step - loss: 19.9997 - mean_absolute_percentage_error: 30.2754 - val_loss: 26.7372 - val_mean_absolute_percentage_error: 31.9825\n",
            "Epoch 34/300\n",
            "61/64 [===========================>..] - ETA: 0s - loss: 19.0628 - mean_absolute_percentage_error: 29.5541\n",
            "Epoch 34: val_loss did not improve from 23.77357\n",
            "64/64 [==============================] - 1s 11ms/step - loss: 19.7326 - mean_absolute_percentage_error: 29.4703 - val_loss: 25.6415 - val_mean_absolute_percentage_error: 31.4569\n",
            "Epoch 35/300\n",
            "61/64 [===========================>..] - ETA: 0s - loss: 20.5042 - mean_absolute_percentage_error: 30.9768\n",
            "Epoch 35: val_loss did not improve from 23.77357\n",
            "64/64 [==============================] - 1s 10ms/step - loss: 20.5112 - mean_absolute_percentage_error: 30.9457 - val_loss: 25.1493 - val_mean_absolute_percentage_error: 35.5685\n",
            "Epoch 36/300\n",
            "64/64 [==============================] - ETA: 0s - loss: 21.0713 - mean_absolute_percentage_error: 32.1761\n",
            "Epoch 36: val_loss did not improve from 23.77357\n",
            "64/64 [==============================] - 1s 10ms/step - loss: 21.0713 - mean_absolute_percentage_error: 32.1761 - val_loss: 25.0853 - val_mean_absolute_percentage_error: 35.8655\n",
            "Epoch 37/300\n",
            "63/64 [============================>.] - ETA: 0s - loss: 20.7647 - mean_absolute_percentage_error: 32.6085\n",
            "Epoch 37: val_loss did not improve from 23.77357\n",
            "64/64 [==============================] - 1s 9ms/step - loss: 20.8395 - mean_absolute_percentage_error: 32.5634 - val_loss: 24.9714 - val_mean_absolute_percentage_error: 33.6949\n",
            "Epoch 38/300\n",
            "64/64 [==============================] - ETA: 0s - loss: 20.8530 - mean_absolute_percentage_error: 31.5166\n",
            "Epoch 38: val_loss did not improve from 23.77357\n",
            "64/64 [==============================] - 1s 13ms/step - loss: 20.8530 - mean_absolute_percentage_error: 31.5166 - val_loss: 26.3654 - val_mean_absolute_percentage_error: 32.6010\n",
            "Epoch 39/300\n",
            "59/64 [==========================>...] - ETA: 0s - loss: 20.1766 - mean_absolute_percentage_error: 31.6218\n",
            "Epoch 39: val_loss did not improve from 23.77357\n",
            "64/64 [==============================] - 1s 11ms/step - loss: 20.3064 - mean_absolute_percentage_error: 31.4904 - val_loss: 26.0228 - val_mean_absolute_percentage_error: 35.0234\n",
            "Epoch 40/300\n",
            "64/64 [==============================] - ETA: 0s - loss: 20.0264 - mean_absolute_percentage_error: 30.5903\n",
            "Epoch 40: val_loss did not improve from 23.77357\n",
            "64/64 [==============================] - 1s 9ms/step - loss: 20.0264 - mean_absolute_percentage_error: 30.5903 - val_loss: 25.5001 - val_mean_absolute_percentage_error: 34.1445\n",
            "Epoch 41/300\n",
            "62/64 [============================>.] - ETA: 0s - loss: 21.3427 - mean_absolute_percentage_error: 31.4420\n",
            "Epoch 41: val_loss did not improve from 23.77357\n",
            "64/64 [==============================] - 0s 6ms/step - loss: 21.3434 - mean_absolute_percentage_error: 31.6011 - val_loss: 26.6803 - val_mean_absolute_percentage_error: 33.9216\n",
            "Epoch 42/300\n",
            "57/64 [=========================>....] - ETA: 0s - loss: 22.6952 - mean_absolute_percentage_error: 33.3440\n",
            "Epoch 42: val_loss did not improve from 23.77357\n",
            "64/64 [==============================] - 1s 9ms/step - loss: 21.7260 - mean_absolute_percentage_error: 32.9660 - val_loss: 28.0626 - val_mean_absolute_percentage_error: 34.9588\n",
            "Epoch 43/300\n",
            "62/64 [============================>.] - ETA: 0s - loss: 20.8363 - mean_absolute_percentage_error: 31.8664\n",
            "Epoch 43: val_loss did not improve from 23.77357\n",
            "64/64 [==============================] - 0s 6ms/step - loss: 20.5067 - mean_absolute_percentage_error: 31.5935 - val_loss: 26.8369 - val_mean_absolute_percentage_error: 33.9605\n",
            "Epoch 44/300\n",
            "61/64 [===========================>..] - ETA: 0s - loss: 20.6227 - mean_absolute_percentage_error: 32.0225\n",
            "Epoch 44: val_loss did not improve from 23.77357\n",
            "64/64 [==============================] - 0s 7ms/step - loss: 20.6098 - mean_absolute_percentage_error: 32.2604 - val_loss: 24.7228 - val_mean_absolute_percentage_error: 33.8339\n",
            "Epoch 45/300\n",
            "64/64 [==============================] - ETA: 0s - loss: 19.5168 - mean_absolute_percentage_error: 31.3516\n",
            "Epoch 45: val_loss did not improve from 23.77357\n",
            "64/64 [==============================] - 1s 10ms/step - loss: 19.5168 - mean_absolute_percentage_error: 31.3516 - val_loss: 24.6077 - val_mean_absolute_percentage_error: 35.6586\n",
            "Epoch 46/300\n",
            "61/64 [===========================>..] - ETA: 0s - loss: 19.2085 - mean_absolute_percentage_error: 31.7621\n",
            "Epoch 46: val_loss did not improve from 23.77357\n",
            "64/64 [==============================] - 1s 8ms/step - loss: 19.7721 - mean_absolute_percentage_error: 31.6326 - val_loss: 24.8235 - val_mean_absolute_percentage_error: 33.7175\n",
            "Epoch 47/300\n",
            "58/64 [==========================>...] - ETA: 0s - loss: 22.1301 - mean_absolute_percentage_error: 33.4019\n",
            "Epoch 47: val_loss did not improve from 23.77357\n",
            "64/64 [==============================] - 0s 6ms/step - loss: 21.6864 - mean_absolute_percentage_error: 33.5171 - val_loss: 26.8647 - val_mean_absolute_percentage_error: 33.6621\n",
            "Epoch 48/300\n",
            "64/64 [==============================] - ETA: 0s - loss: 19.9246 - mean_absolute_percentage_error: 32.2845\n",
            "Epoch 48: val_loss did not improve from 23.77357\n",
            "64/64 [==============================] - 1s 9ms/step - loss: 19.9246 - mean_absolute_percentage_error: 32.2845 - val_loss: 29.5810 - val_mean_absolute_percentage_error: 38.5085\n",
            "Epoch 49/300\n",
            "62/64 [============================>.] - ETA: 0s - loss: 20.8923 - mean_absolute_percentage_error: 33.0501\n",
            "Epoch 49: val_loss did not improve from 23.77357\n",
            "64/64 [==============================] - 0s 7ms/step - loss: 20.6302 - mean_absolute_percentage_error: 32.9349 - val_loss: 26.3334 - val_mean_absolute_percentage_error: 36.4976\n",
            "Epoch 50/300\n",
            "56/64 [=========================>....] - ETA: 0s - loss: 21.4563 - mean_absolute_percentage_error: 33.5948\n",
            "Epoch 50: val_loss did not improve from 23.77357\n",
            "64/64 [==============================] - 0s 6ms/step - loss: 20.6750 - mean_absolute_percentage_error: 33.0353 - val_loss: 25.8606 - val_mean_absolute_percentage_error: 36.2132\n",
            "Epoch 51/300\n",
            "59/64 [==========================>...] - ETA: 0s - loss: 19.0590 - mean_absolute_percentage_error: 31.7558\n",
            "Epoch 51: val_loss did not improve from 23.77357\n",
            "64/64 [==============================] - 0s 7ms/step - loss: 20.2080 - mean_absolute_percentage_error: 31.8146 - val_loss: 27.8274 - val_mean_absolute_percentage_error: 35.1087\n",
            "Epoch 51: early stopping\n"
          ]
        },
        {
          "output_type": "execute_result",
          "data": {
            "text/plain": [
              "<keras.callbacks.History at 0x7f0aeee44c70>"
            ]
          },
          "metadata": {},
          "execution_count": 110
        }
      ]
    },
    {
      "cell_type": "code",
      "source": [
        "model = keras.models.load_model('nike_bn_best_model.h5', custom_objects=None, compile=True)\n",
        "\n",
        "model.evaluate(nike_test_X, nike_test_y)"
      ],
      "metadata": {
        "colab": {
          "base_uri": "https://localhost:8080/"
        },
        "id": "Hyp8fCC4VZpI",
        "outputId": "3f389cd9-7f8e-4aa2-8152-660517149e67"
      },
      "execution_count": null,
      "outputs": [
        {
          "output_type": "stream",
          "name": "stdout",
          "text": [
            "7/7 [==============================] - 0s 5ms/step - loss: 23.1847 - mean_absolute_percentage_error: 33.5715\n"
          ]
        },
        {
          "output_type": "execute_result",
          "data": {
            "text/plain": [
              "[23.184724807739258, 33.571495056152344]"
            ]
          },
          "metadata": {},
          "execution_count": 111
        }
      ]
    },
    {
      "cell_type": "code",
      "source": [
        "# 임베딩 층에 입력될 단어의 수를 지정한다.\n",
        "word_size = 967 + 1\n",
        "\n",
        "\n",
        "nike_bn_model = keras.models.Sequential([\n",
        "    # 임베딩층\n",
        "    keras.layers.Embedding(word_size, word_size, input_length=16),\n",
        "    # 회귀를 위해 임베딩층의 output값을 1차원의 array로 바꾸어준다. \n",
        "    keras.layers.Flatten(),\n",
        "    keras.layers.Dense(64),\n",
        "    keras.layers.Dropout(0.5),\n",
        "    keras.layers.Dense(32),\n",
        "    keras.layers.Dropout(0.5),\n",
        "    keras.layers.Dense(16),\n",
        "    keras.layers.Dropout(0.5),\n",
        "    keras.layers.Dense(8),\n",
        "    keras.layers.Dropout(0.5),\n",
        "    keras.layers.Dense(4),\n",
        "    keras.layers.Dropout(0.5),\n",
        "\n",
        "    keras.layers.Dense(2),\n",
        "    keras.layers.Dense(1)\n",
        " ])\n",
        "\n",
        "nike_bn_model.compile(optimizer=keras.optimizers.Adam(learning_rate=0.005), loss=tf.keras.losses.Huber(delta=3), metrics= [\"mean_absolute_percentage_error\"])\n",
        "\n",
        "nike_bn_model.fit(jordan_train_X, jordan_train_y, batch_size=16, epochs=300, validation_data = (jordan_valid_X,jordan_valid_y),  callbacks=[es, mc_jordan])"
      ],
      "metadata": {
        "colab": {
          "base_uri": "https://localhost:8080/"
        },
        "id": "G7d1YFvRVxF_",
        "outputId": "0b6deec5-0250-4be7-fdb1-49f66d868b87"
      },
      "execution_count": null,
      "outputs": [
        {
          "output_type": "stream",
          "name": "stdout",
          "text": [
            "Epoch 1/300\n",
            "61/61 [==============================] - ETA: 0s - loss: 86.4137 - mean_absolute_percentage_error: 93.1777\n",
            "Epoch 1: val_loss improved from inf to 68.49728, saving model to jordan_bn_best_model.h5\n",
            "61/61 [==============================] - 9s 100ms/step - loss: 86.4137 - mean_absolute_percentage_error: 93.1777 - val_loss: 68.4973 - val_mean_absolute_percentage_error: 53.0362\n",
            "Epoch 2/300\n",
            "61/61 [==============================] - ETA: 0s - loss: 75.9544 - mean_absolute_percentage_error: 79.0654\n",
            "Epoch 2: val_loss improved from 68.49728 to 57.07859, saving model to jordan_bn_best_model.h5\n",
            "61/61 [==============================] - 3s 43ms/step - loss: 75.9544 - mean_absolute_percentage_error: 79.0654 - val_loss: 57.0786 - val_mean_absolute_percentage_error: 41.1503\n",
            "Epoch 3/300\n",
            "61/61 [==============================] - ETA: 0s - loss: 72.4266 - mean_absolute_percentage_error: 73.8354\n",
            "Epoch 3: val_loss did not improve from 57.07859\n",
            "61/61 [==============================] - 1s 10ms/step - loss: 72.4266 - mean_absolute_percentage_error: 73.8354 - val_loss: 71.8115 - val_mean_absolute_percentage_error: 60.5967\n",
            "Epoch 4/300\n",
            "61/61 [==============================] - ETA: 0s - loss: 69.0436 - mean_absolute_percentage_error: 69.2994\n",
            "Epoch 4: val_loss improved from 57.07859 to 49.95757, saving model to jordan_bn_best_model.h5\n",
            "61/61 [==============================] - 1s 15ms/step - loss: 69.0436 - mean_absolute_percentage_error: 69.2994 - val_loss: 49.9576 - val_mean_absolute_percentage_error: 38.3540\n",
            "Epoch 5/300\n",
            "61/61 [==============================] - ETA: 0s - loss: 68.0214 - mean_absolute_percentage_error: 67.9889\n",
            "Epoch 5: val_loss did not improve from 49.95757\n",
            "61/61 [==============================] - 1s 10ms/step - loss: 68.0214 - mean_absolute_percentage_error: 67.9889 - val_loss: 53.4840 - val_mean_absolute_percentage_error: 39.9560\n",
            "Epoch 6/300\n",
            "53/61 [=========================>....] - ETA: 0s - loss: 65.6523 - mean_absolute_percentage_error: 65.8568\n",
            "Epoch 6: val_loss did not improve from 49.95757\n",
            "61/61 [==============================] - 0s 6ms/step - loss: 64.7452 - mean_absolute_percentage_error: 64.9902 - val_loss: 54.7803 - val_mean_absolute_percentage_error: 41.5243\n",
            "Epoch 7/300\n",
            "57/61 [===========================>..] - ETA: 0s - loss: 63.6004 - mean_absolute_percentage_error: 61.4382\n",
            "Epoch 7: val_loss did not improve from 49.95757\n",
            "61/61 [==============================] - 1s 13ms/step - loss: 63.5267 - mean_absolute_percentage_error: 61.1729 - val_loss: 61.2496 - val_mean_absolute_percentage_error: 47.2598\n",
            "Epoch 8/300\n",
            "61/61 [==============================] - ETA: 0s - loss: 61.1528 - mean_absolute_percentage_error: 59.2773\n",
            "Epoch 8: val_loss improved from 49.95757 to 48.55151, saving model to jordan_bn_best_model.h5\n",
            "61/61 [==============================] - 1s 19ms/step - loss: 61.1528 - mean_absolute_percentage_error: 59.2773 - val_loss: 48.5515 - val_mean_absolute_percentage_error: 34.5636\n",
            "Epoch 9/300\n",
            "61/61 [==============================] - ETA: 0s - loss: 61.4673 - mean_absolute_percentage_error: 58.6456\n",
            "Epoch 9: val_loss did not improve from 48.55151\n",
            "61/61 [==============================] - 1s 10ms/step - loss: 61.4673 - mean_absolute_percentage_error: 58.6456 - val_loss: 53.4308 - val_mean_absolute_percentage_error: 37.0812\n",
            "Epoch 10/300\n",
            "59/61 [============================>.] - ETA: 0s - loss: 59.9956 - mean_absolute_percentage_error: 56.3963\n",
            "Epoch 10: val_loss did not improve from 48.55151\n",
            "61/61 [==============================] - 0s 6ms/step - loss: 60.2490 - mean_absolute_percentage_error: 56.4713 - val_loss: 48.9645 - val_mean_absolute_percentage_error: 35.8233\n",
            "Epoch 11/300\n",
            "61/61 [==============================] - ETA: 0s - loss: 58.6325 - mean_absolute_percentage_error: 56.5341\n",
            "Epoch 11: val_loss did not improve from 48.55151\n",
            "61/61 [==============================] - 1s 10ms/step - loss: 58.6325 - mean_absolute_percentage_error: 56.5341 - val_loss: 60.7029 - val_mean_absolute_percentage_error: 46.9386\n",
            "Epoch 12/300\n",
            "59/61 [============================>.] - ETA: 0s - loss: 57.6253 - mean_absolute_percentage_error: 54.4120\n",
            "Epoch 12: val_loss did not improve from 48.55151\n",
            "61/61 [==============================] - 0s 7ms/step - loss: 56.9786 - mean_absolute_percentage_error: 54.3378 - val_loss: 49.1667 - val_mean_absolute_percentage_error: 35.3802\n",
            "Epoch 13/300\n",
            "53/61 [=========================>....] - ETA: 0s - loss: 57.6484 - mean_absolute_percentage_error: 52.8655\n",
            "Epoch 13: val_loss improved from 48.55151 to 47.23617, saving model to jordan_bn_best_model.h5\n",
            "61/61 [==============================] - 0s 8ms/step - loss: 58.2870 - mean_absolute_percentage_error: 54.0496 - val_loss: 47.2362 - val_mean_absolute_percentage_error: 33.0846\n",
            "Epoch 14/300\n",
            "54/61 [=========================>....] - ETA: 0s - loss: 59.0997 - mean_absolute_percentage_error: 52.2177\n",
            "Epoch 14: val_loss improved from 47.23617 to 46.58334, saving model to jordan_bn_best_model.h5\n",
            "61/61 [==============================] - 0s 8ms/step - loss: 57.3315 - mean_absolute_percentage_error: 52.1932 - val_loss: 46.5833 - val_mean_absolute_percentage_error: 34.9698\n",
            "Epoch 15/300\n",
            "60/61 [============================>.] - ETA: 0s - loss: 54.5245 - mean_absolute_percentage_error: 52.9052\n",
            "Epoch 15: val_loss did not improve from 46.58334\n",
            "61/61 [==============================] - 0s 7ms/step - loss: 54.4321 - mean_absolute_percentage_error: 52.8939 - val_loss: 50.5161 - val_mean_absolute_percentage_error: 36.1606\n",
            "Epoch 16/300\n",
            "53/61 [=========================>....] - ETA: 0s - loss: 53.0034 - mean_absolute_percentage_error: 51.2411\n",
            "Epoch 16: val_loss did not improve from 46.58334\n",
            "61/61 [==============================] - 0s 6ms/step - loss: 55.0782 - mean_absolute_percentage_error: 51.9568 - val_loss: 51.5939 - val_mean_absolute_percentage_error: 37.5789\n",
            "Epoch 17/300\n",
            "54/61 [=========================>....] - ETA: 0s - loss: 57.3134 - mean_absolute_percentage_error: 52.2094\n",
            "Epoch 17: val_loss improved from 46.58334 to 46.31990, saving model to jordan_bn_best_model.h5\n",
            "61/61 [==============================] - 1s 8ms/step - loss: 56.0503 - mean_absolute_percentage_error: 52.0627 - val_loss: 46.3199 - val_mean_absolute_percentage_error: 34.7292\n",
            "Epoch 18/300\n",
            "61/61 [==============================] - ETA: 0s - loss: 52.6969 - mean_absolute_percentage_error: 48.6620\n",
            "Epoch 18: val_loss improved from 46.31990 to 44.77528, saving model to jordan_bn_best_model.h5\n",
            "61/61 [==============================] - 1s 11ms/step - loss: 52.6969 - mean_absolute_percentage_error: 48.6620 - val_loss: 44.7753 - val_mean_absolute_percentage_error: 34.8205\n",
            "Epoch 19/300\n",
            "58/61 [===========================>..] - ETA: 0s - loss: 53.8042 - mean_absolute_percentage_error: 51.7585\n",
            "Epoch 19: val_loss did not improve from 44.77528\n",
            "61/61 [==============================] - 1s 9ms/step - loss: 53.7771 - mean_absolute_percentage_error: 52.1877 - val_loss: 46.6127 - val_mean_absolute_percentage_error: 38.2011\n",
            "Epoch 20/300\n",
            "57/61 [===========================>..] - ETA: 0s - loss: 53.3858 - mean_absolute_percentage_error: 48.4256\n",
            "Epoch 20: val_loss did not improve from 44.77528\n",
            "61/61 [==============================] - 1s 9ms/step - loss: 52.6043 - mean_absolute_percentage_error: 48.9188 - val_loss: 47.0122 - val_mean_absolute_percentage_error: 37.2679\n",
            "Epoch 21/300\n",
            "61/61 [==============================] - ETA: 0s - loss: 50.7728 - mean_absolute_percentage_error: 48.2995\n",
            "Epoch 21: val_loss did not improve from 44.77528\n",
            "61/61 [==============================] - 1s 15ms/step - loss: 50.7728 - mean_absolute_percentage_error: 48.2995 - val_loss: 50.7924 - val_mean_absolute_percentage_error: 36.5160\n",
            "Epoch 22/300\n",
            "59/61 [============================>.] - ETA: 0s - loss: 50.5952 - mean_absolute_percentage_error: 45.9244\n",
            "Epoch 22: val_loss did not improve from 44.77528\n",
            "61/61 [==============================] - 1s 15ms/step - loss: 50.6899 - mean_absolute_percentage_error: 45.9057 - val_loss: 52.7472 - val_mean_absolute_percentage_error: 37.7296\n",
            "Epoch 23/300\n",
            "56/61 [==========================>...] - ETA: 0s - loss: 50.4853 - mean_absolute_percentage_error: 44.9915\n",
            "Epoch 23: val_loss did not improve from 44.77528\n",
            "61/61 [==============================] - 1s 9ms/step - loss: 51.0545 - mean_absolute_percentage_error: 45.2632 - val_loss: 46.5463 - val_mean_absolute_percentage_error: 36.5714\n",
            "Epoch 24/300\n",
            "54/61 [=========================>....] - ETA: 0s - loss: 50.3463 - mean_absolute_percentage_error: 43.4218\n",
            "Epoch 24: val_loss did not improve from 44.77528\n",
            "61/61 [==============================] - 0s 7ms/step - loss: 50.1084 - mean_absolute_percentage_error: 44.0938 - val_loss: 49.5508 - val_mean_absolute_percentage_error: 37.0021\n",
            "Epoch 25/300\n",
            "52/61 [========================>.....] - ETA: 0s - loss: 50.5335 - mean_absolute_percentage_error: 45.4368\n",
            "Epoch 25: val_loss did not improve from 44.77528\n",
            "61/61 [==============================] - 0s 6ms/step - loss: 49.1151 - mean_absolute_percentage_error: 46.0703 - val_loss: 54.1560 - val_mean_absolute_percentage_error: 40.5997\n",
            "Epoch 26/300\n",
            "51/61 [========================>.....] - ETA: 0s - loss: 50.3520 - mean_absolute_percentage_error: 43.0277\n",
            "Epoch 26: val_loss did not improve from 44.77528\n",
            "61/61 [==============================] - 0s 6ms/step - loss: 49.5680 - mean_absolute_percentage_error: 43.5142 - val_loss: 46.8494 - val_mean_absolute_percentage_error: 39.1174\n",
            "Epoch 27/300\n",
            "58/61 [===========================>..] - ETA: 0s - loss: 49.2701 - mean_absolute_percentage_error: 42.3402\n",
            "Epoch 27: val_loss did not improve from 44.77528\n",
            "61/61 [==============================] - 0s 7ms/step - loss: 48.8815 - mean_absolute_percentage_error: 41.9413 - val_loss: 47.0767 - val_mean_absolute_percentage_error: 38.2234\n",
            "Epoch 28/300\n",
            "54/61 [=========================>....] - ETA: 0s - loss: 49.7695 - mean_absolute_percentage_error: 42.0345\n",
            "Epoch 28: val_loss did not improve from 44.77528\n",
            "61/61 [==============================] - 0s 6ms/step - loss: 49.6264 - mean_absolute_percentage_error: 41.6638 - val_loss: 50.2228 - val_mean_absolute_percentage_error: 36.8154\n",
            "Epoch 29/300\n",
            "56/61 [==========================>...] - ETA: 0s - loss: 46.3777 - mean_absolute_percentage_error: 41.4213\n",
            "Epoch 29: val_loss did not improve from 44.77528\n",
            "61/61 [==============================] - 0s 6ms/step - loss: 47.1370 - mean_absolute_percentage_error: 41.1868 - val_loss: 46.7411 - val_mean_absolute_percentage_error: 43.9702\n",
            "Epoch 30/300\n",
            "52/61 [========================>.....] - ETA: 0s - loss: 50.1417 - mean_absolute_percentage_error: 40.6433\n",
            "Epoch 30: val_loss did not improve from 44.77528\n",
            "61/61 [==============================] - 0s 6ms/step - loss: 47.7929 - mean_absolute_percentage_error: 40.7122 - val_loss: 46.2019 - val_mean_absolute_percentage_error: 39.4172\n",
            "Epoch 31/300\n",
            "51/61 [========================>.....] - ETA: 0s - loss: 47.0934 - mean_absolute_percentage_error: 39.0803\n",
            "Epoch 31: val_loss did not improve from 44.77528\n",
            "61/61 [==============================] - 0s 6ms/step - loss: 46.8828 - mean_absolute_percentage_error: 39.6958 - val_loss: 46.3397 - val_mean_absolute_percentage_error: 36.4292\n",
            "Epoch 32/300\n",
            "61/61 [==============================] - ETA: 0s - loss: 45.9187 - mean_absolute_percentage_error: 37.9048\n",
            "Epoch 32: val_loss did not improve from 44.77528\n",
            "61/61 [==============================] - 0s 6ms/step - loss: 45.9187 - mean_absolute_percentage_error: 37.9048 - val_loss: 46.0000 - val_mean_absolute_percentage_error: 38.8379\n",
            "Epoch 33/300\n",
            "58/61 [===========================>..] - ETA: 0s - loss: 43.3436 - mean_absolute_percentage_error: 36.9710\n",
            "Epoch 33: val_loss did not improve from 44.77528\n",
            "61/61 [==============================] - 0s 6ms/step - loss: 42.7508 - mean_absolute_percentage_error: 36.8195 - val_loss: 47.8157 - val_mean_absolute_percentage_error: 37.6453\n",
            "Epoch 34/300\n",
            "59/61 [============================>.] - ETA: 0s - loss: 41.7678 - mean_absolute_percentage_error: 33.5777\n",
            "Epoch 34: val_loss did not improve from 44.77528\n",
            "61/61 [==============================] - 0s 8ms/step - loss: 41.5932 - mean_absolute_percentage_error: 33.7258 - val_loss: 45.7468 - val_mean_absolute_percentage_error: 41.9628\n",
            "Epoch 35/300\n",
            "61/61 [==============================] - ETA: 0s - loss: 43.1969 - mean_absolute_percentage_error: 37.0672\n",
            "Epoch 35: val_loss did not improve from 44.77528\n",
            "61/61 [==============================] - 0s 7ms/step - loss: 43.1969 - mean_absolute_percentage_error: 37.0672 - val_loss: 47.7211 - val_mean_absolute_percentage_error: 36.4844\n",
            "Epoch 36/300\n",
            "61/61 [==============================] - ETA: 0s - loss: 41.2429 - mean_absolute_percentage_error: 34.5446\n",
            "Epoch 36: val_loss did not improve from 44.77528\n",
            "61/61 [==============================] - 1s 9ms/step - loss: 41.2429 - mean_absolute_percentage_error: 34.5446 - val_loss: 46.3950 - val_mean_absolute_percentage_error: 38.2630\n",
            "Epoch 37/300\n",
            "60/61 [============================>.] - ETA: 0s - loss: 41.3460 - mean_absolute_percentage_error: 34.2858\n",
            "Epoch 37: val_loss did not improve from 44.77528\n",
            "61/61 [==============================] - 1s 10ms/step - loss: 41.2647 - mean_absolute_percentage_error: 34.2934 - val_loss: 45.8699 - val_mean_absolute_percentage_error: 41.0036\n",
            "Epoch 38/300\n",
            "59/61 [============================>.] - ETA: 0s - loss: 40.2962 - mean_absolute_percentage_error: 32.8818\n",
            "Epoch 38: val_loss did not improve from 44.77528\n",
            "61/61 [==============================] - 0s 6ms/step - loss: 39.7491 - mean_absolute_percentage_error: 32.6512 - val_loss: 46.6003 - val_mean_absolute_percentage_error: 36.9145\n",
            "Epoch 39/300\n",
            "52/61 [========================>.....] - ETA: 0s - loss: 40.2820 - mean_absolute_percentage_error: 31.7789\n",
            "Epoch 39: val_loss did not improve from 44.77528\n",
            "61/61 [==============================] - 1s 11ms/step - loss: 39.1831 - mean_absolute_percentage_error: 32.1893 - val_loss: 46.1338 - val_mean_absolute_percentage_error: 36.8978\n",
            "Epoch 40/300\n",
            "57/61 [===========================>..] - ETA: 0s - loss: 37.0985 - mean_absolute_percentage_error: 30.0673\n",
            "Epoch 40: val_loss did not improve from 44.77528\n",
            "61/61 [==============================] - 0s 7ms/step - loss: 37.9029 - mean_absolute_percentage_error: 30.8135 - val_loss: 46.7381 - val_mean_absolute_percentage_error: 40.5789\n",
            "Epoch 41/300\n",
            "56/61 [==========================>...] - ETA: 0s - loss: 37.3883 - mean_absolute_percentage_error: 31.2696\n",
            "Epoch 41: val_loss did not improve from 44.77528\n",
            "61/61 [==============================] - 0s 7ms/step - loss: 37.2920 - mean_absolute_percentage_error: 31.3048 - val_loss: 45.5391 - val_mean_absolute_percentage_error: 36.7003\n",
            "Epoch 42/300\n",
            "56/61 [==========================>...] - ETA: 0s - loss: 38.0300 - mean_absolute_percentage_error: 32.1249\n",
            "Epoch 42: val_loss did not improve from 44.77528\n",
            "61/61 [==============================] - 0s 7ms/step - loss: 37.2081 - mean_absolute_percentage_error: 31.9614 - val_loss: 46.3291 - val_mean_absolute_percentage_error: 38.5024\n",
            "Epoch 43/300\n",
            "54/61 [=========================>....] - ETA: 0s - loss: 30.7091 - mean_absolute_percentage_error: 31.0998\n",
            "Epoch 43: val_loss did not improve from 44.77528\n",
            "61/61 [==============================] - 0s 6ms/step - loss: 36.1818 - mean_absolute_percentage_error: 32.0519 - val_loss: 45.9667 - val_mean_absolute_percentage_error: 36.3154\n",
            "Epoch 44/300\n",
            "60/61 [============================>.] - ETA: 0s - loss: 35.5597 - mean_absolute_percentage_error: 33.1857\n",
            "Epoch 44: val_loss did not improve from 44.77528\n",
            "61/61 [==============================] - 0s 6ms/step - loss: 35.4628 - mean_absolute_percentage_error: 33.1121 - val_loss: 46.0512 - val_mean_absolute_percentage_error: 41.0791\n",
            "Epoch 45/300\n",
            "57/61 [===========================>..] - ETA: 0s - loss: 37.8235 - mean_absolute_percentage_error: 31.1029\n",
            "Epoch 45: val_loss did not improve from 44.77528\n",
            "61/61 [==============================] - 0s 7ms/step - loss: 36.9605 - mean_absolute_percentage_error: 30.9543 - val_loss: 46.1595 - val_mean_absolute_percentage_error: 36.8779\n",
            "Epoch 46/300\n",
            "52/61 [========================>.....] - ETA: 0s - loss: 43.7808 - mean_absolute_percentage_error: 36.3655\n",
            "Epoch 46: val_loss did not improve from 44.77528\n",
            "61/61 [==============================] - 0s 7ms/step - loss: 44.1020 - mean_absolute_percentage_error: 35.9716 - val_loss: 45.9124 - val_mean_absolute_percentage_error: 38.3383\n",
            "Epoch 47/300\n",
            "61/61 [==============================] - ETA: 0s - loss: 36.7947 - mean_absolute_percentage_error: 32.1343\n",
            "Epoch 47: val_loss did not improve from 44.77528\n",
            "61/61 [==============================] - 1s 15ms/step - loss: 36.7947 - mean_absolute_percentage_error: 32.1343 - val_loss: 46.4159 - val_mean_absolute_percentage_error: 38.4625\n",
            "Epoch 48/300\n",
            "55/61 [==========================>...] - ETA: 0s - loss: 36.6521 - mean_absolute_percentage_error: 31.3323\n",
            "Epoch 48: val_loss did not improve from 44.77528\n",
            "61/61 [==============================] - 1s 9ms/step - loss: 37.6362 - mean_absolute_percentage_error: 31.4614 - val_loss: 46.8445 - val_mean_absolute_percentage_error: 38.2066\n",
            "Epoch 48: early stopping\n"
          ]
        },
        {
          "output_type": "execute_result",
          "data": {
            "text/plain": [
              "<keras.callbacks.History at 0x7f0acc7f6110>"
            ]
          },
          "metadata": {},
          "execution_count": 113
        }
      ]
    },
    {
      "cell_type": "code",
      "source": [
        "model = keras.models.load_model('jordan_bn_best_model.h5', custom_objects=None, compile=True)\n",
        "\n",
        "model.evaluate(jordan_test_X, jordan_test_y)"
      ],
      "metadata": {
        "colab": {
          "base_uri": "https://localhost:8080/"
        },
        "id": "_5ieI0YqrgmX",
        "outputId": "c70805c0-e7d7-40c8-cddd-3a5dc3b25971"
      },
      "execution_count": null,
      "outputs": [
        {
          "output_type": "stream",
          "name": "stdout",
          "text": [
            "7/7 [==============================] - 0s 3ms/step - loss: 33.6640 - mean_absolute_percentage_error: 34.7648\n"
          ]
        },
        {
          "output_type": "execute_result",
          "data": {
            "text/plain": [
              "[33.664039611816406, 34.764766693115234]"
            ]
          },
          "metadata": {},
          "execution_count": 114
        }
      ]
    },
    {
      "cell_type": "code",
      "source": [],
      "metadata": {
        "id": "hJhJC0Lyszn9"
      },
      "execution_count": null,
      "outputs": []
    }
  ]
}