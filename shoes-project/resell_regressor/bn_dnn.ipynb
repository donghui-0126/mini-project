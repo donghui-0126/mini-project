{
  "nbformat": 4,
  "nbformat_minor": 0,
  "metadata": {
    "colab": {
      "provenance": []
    },
    "kernelspec": {
      "name": "python3",
      "display_name": "Python 3"
    },
    "language_info": {
      "name": "python"
    },
    "accelerator": "GPU",
    "gpuClass": "standard"
  },
  "cells": [
    {
      "cell_type": "markdown",
      "metadata": {
        "id": "view-in-github"
      },
      "source": [
        "<a href=\"https://colab.research.google.com/github/donghui-0126/mini-project/blob/main/shoes-project/resell_regressor/bn_dnn.ipynb\" target=\"_parent\"><img src=\"https://colab.research.google.com/assets/colab-badge.svg\" alt=\"Open In Colab\"/></a>"
      ]
    },
    {
      "cell_type": "code",
      "execution_count": 1,
      "metadata": {
        "id": "XZI9iwXXP8pI"
      },
      "outputs": [],
      "source": [
        "import numpy as np\n",
        "import pandas as pd\n",
        "import tensorflow as tf\n",
        "from tensorflow import keras\n",
        "from sklearn.linear_model import LinearRegression\n",
        "import warnings\n",
        "from sklearn.decomposition import PCA\n",
        "from sklearn.model_selection import KFold\n",
        "from sklearn.metrics import mean_squared_error\n",
        "\n",
        "warnings.filterwarnings('ignore')"
      ]
    },
    {
      "cell_type": "code",
      "source": [
        "from google.colab import drive\n",
        "drive.mount('/content/drive')"
      ],
      "metadata": {
        "id": "7BJG3hF3QCPq",
        "colab": {
          "base_uri": "https://localhost:8080/"
        },
        "outputId": "b9f28293-1d7e-4962-f440-57efa446752a"
      },
      "execution_count": 2,
      "outputs": [
        {
          "output_type": "stream",
          "name": "stdout",
          "text": [
            "Mounted at /content/drive\n"
          ]
        }
      ]
    },
    {
      "cell_type": "code",
      "source": [
        "df = pd.read_csv('/content/drive/MyDrive/kream_data/product_data_dpp.csv')\n",
        "df.head(3)"
      ],
      "metadata": {
        "colab": {
          "base_uri": "https://localhost:8080/",
          "height": 187
        },
        "id": "Ye8vahO3RjfV",
        "outputId": "30f971d3-a22e-469c-9509-fe70251140e3"
      },
      "execution_count": 3,
      "outputs": [
        {
          "output_type": "execute_result",
          "data": {
            "text/plain": [
              "   Unnamed: 0 product_id                                   img_path brand  \\\n",
              "0           0      28029  crawling\\product_crawling\\image\\28029.jpg  Nike   \n",
              "1           1      12831  crawling\\product_crawling\\image\\12831.jpg  Nike   \n",
              "2           2      21935  crawling\\product_crawling\\image\\21935.jpg  Nike   \n",
              "\n",
              "                             name color1 color2  price_og  price_resell  \\\n",
              "0       Nike Dunk Low Retro Black  WHITE  BLACK    129000        152800   \n",
              "1  Nike Air Force 1 '07 Low White  WHITE  WHITE    139000        136200   \n",
              "2    Nike Air Force 1 '07 WB Flax   FLAX    GUM    169000        173200   \n",
              "\n",
              "    n_scrap  +price                              tokenized_color  \\\n",
              "0  123000.0   23800                [0 0 0 0 0 0 0 0 0 0 2 4 3 5]   \n",
              "1  151000.0   -2800                [0 0 0 0 0 0 0 0 0 0 2 4 3 4]   \n",
              "2   69000.0    4200  [ 0  0  0  0  0  0  0  0  0  0  2 82  3 51]   \n",
              "\n",
              "                                        tokenized_bn  \\\n",
              "0  [ 0  0  0  0  0  0  0  0  0  0  0  0  0  2  4 ...   \n",
              "1  [ 0  0  0  0  0  0  0  0  0  0  0  2  4  3  4 ...   \n",
              "2  [   0    0    0    0    0    0    0    0    0 ...   \n",
              "\n",
              "                                      drive_img_path  \\\n",
              "0  /content/drive/MyDrive/kream_data/image/28029.jpg   \n",
              "1  /content/drive/MyDrive/kream_data/image/12831.jpg   \n",
              "2  /content/drive/MyDrive/kream_data/image/21935.jpg   \n",
              "\n",
              "                                               pixel  \n",
              "0  [[0 0 0 ... 0 0 0]\\n [0 0 0 ... 0 0 0]\\n [0 0 ...  \n",
              "1  [[255 255 255 ... 255 255 255]\\n [255 255 255 ...  \n",
              "2  [[255 255 255 ... 255 255 255]\\n [255 255 255 ...  "
            ],
            "text/html": [
              "\n",
              "  <div id=\"df-c47dd473-15cf-4fa2-9823-4cabe1db7849\">\n",
              "    <div class=\"colab-df-container\">\n",
              "      <div>\n",
              "<style scoped>\n",
              "    .dataframe tbody tr th:only-of-type {\n",
              "        vertical-align: middle;\n",
              "    }\n",
              "\n",
              "    .dataframe tbody tr th {\n",
              "        vertical-align: top;\n",
              "    }\n",
              "\n",
              "    .dataframe thead th {\n",
              "        text-align: right;\n",
              "    }\n",
              "</style>\n",
              "<table border=\"1\" class=\"dataframe\">\n",
              "  <thead>\n",
              "    <tr style=\"text-align: right;\">\n",
              "      <th></th>\n",
              "      <th>Unnamed: 0</th>\n",
              "      <th>product_id</th>\n",
              "      <th>img_path</th>\n",
              "      <th>brand</th>\n",
              "      <th>name</th>\n",
              "      <th>color1</th>\n",
              "      <th>color2</th>\n",
              "      <th>price_og</th>\n",
              "      <th>price_resell</th>\n",
              "      <th>n_scrap</th>\n",
              "      <th>+price</th>\n",
              "      <th>tokenized_color</th>\n",
              "      <th>tokenized_bn</th>\n",
              "      <th>drive_img_path</th>\n",
              "      <th>pixel</th>\n",
              "    </tr>\n",
              "  </thead>\n",
              "  <tbody>\n",
              "    <tr>\n",
              "      <th>0</th>\n",
              "      <td>0</td>\n",
              "      <td>28029</td>\n",
              "      <td>crawling\\product_crawling\\image\\28029.jpg</td>\n",
              "      <td>Nike</td>\n",
              "      <td>Nike Dunk Low Retro Black</td>\n",
              "      <td>WHITE</td>\n",
              "      <td>BLACK</td>\n",
              "      <td>129000</td>\n",
              "      <td>152800</td>\n",
              "      <td>123000.0</td>\n",
              "      <td>23800</td>\n",
              "      <td>[0 0 0 0 0 0 0 0 0 0 2 4 3 5]</td>\n",
              "      <td>[ 0  0  0  0  0  0  0  0  0  0  0  0  0  2  4 ...</td>\n",
              "      <td>/content/drive/MyDrive/kream_data/image/28029.jpg</td>\n",
              "      <td>[[0 0 0 ... 0 0 0]\\n [0 0 0 ... 0 0 0]\\n [0 0 ...</td>\n",
              "    </tr>\n",
              "    <tr>\n",
              "      <th>1</th>\n",
              "      <td>1</td>\n",
              "      <td>12831</td>\n",
              "      <td>crawling\\product_crawling\\image\\12831.jpg</td>\n",
              "      <td>Nike</td>\n",
              "      <td>Nike Air Force 1 '07 Low White</td>\n",
              "      <td>WHITE</td>\n",
              "      <td>WHITE</td>\n",
              "      <td>139000</td>\n",
              "      <td>136200</td>\n",
              "      <td>151000.0</td>\n",
              "      <td>-2800</td>\n",
              "      <td>[0 0 0 0 0 0 0 0 0 0 2 4 3 4]</td>\n",
              "      <td>[ 0  0  0  0  0  0  0  0  0  0  0  2  4  3  4 ...</td>\n",
              "      <td>/content/drive/MyDrive/kream_data/image/12831.jpg</td>\n",
              "      <td>[[255 255 255 ... 255 255 255]\\n [255 255 255 ...</td>\n",
              "    </tr>\n",
              "    <tr>\n",
              "      <th>2</th>\n",
              "      <td>2</td>\n",
              "      <td>21935</td>\n",
              "      <td>crawling\\product_crawling\\image\\21935.jpg</td>\n",
              "      <td>Nike</td>\n",
              "      <td>Nike Air Force 1 '07 WB Flax</td>\n",
              "      <td>FLAX</td>\n",
              "      <td>GUM</td>\n",
              "      <td>169000</td>\n",
              "      <td>173200</td>\n",
              "      <td>69000.0</td>\n",
              "      <td>4200</td>\n",
              "      <td>[ 0  0  0  0  0  0  0  0  0  0  2 82  3 51]</td>\n",
              "      <td>[   0    0    0    0    0    0    0    0    0 ...</td>\n",
              "      <td>/content/drive/MyDrive/kream_data/image/21935.jpg</td>\n",
              "      <td>[[255 255 255 ... 255 255 255]\\n [255 255 255 ...</td>\n",
              "    </tr>\n",
              "  </tbody>\n",
              "</table>\n",
              "</div>\n",
              "      <button class=\"colab-df-convert\" onclick=\"convertToInteractive('df-c47dd473-15cf-4fa2-9823-4cabe1db7849')\"\n",
              "              title=\"Convert this dataframe to an interactive table.\"\n",
              "              style=\"display:none;\">\n",
              "        \n",
              "  <svg xmlns=\"http://www.w3.org/2000/svg\" height=\"24px\"viewBox=\"0 0 24 24\"\n",
              "       width=\"24px\">\n",
              "    <path d=\"M0 0h24v24H0V0z\" fill=\"none\"/>\n",
              "    <path d=\"M18.56 5.44l.94 2.06.94-2.06 2.06-.94-2.06-.94-.94-2.06-.94 2.06-2.06.94zm-11 1L8.5 8.5l.94-2.06 2.06-.94-2.06-.94L8.5 2.5l-.94 2.06-2.06.94zm10 10l.94 2.06.94-2.06 2.06-.94-2.06-.94-.94-2.06-.94 2.06-2.06.94z\"/><path d=\"M17.41 7.96l-1.37-1.37c-.4-.4-.92-.59-1.43-.59-.52 0-1.04.2-1.43.59L10.3 9.45l-7.72 7.72c-.78.78-.78 2.05 0 2.83L4 21.41c.39.39.9.59 1.41.59.51 0 1.02-.2 1.41-.59l7.78-7.78 2.81-2.81c.8-.78.8-2.07 0-2.86zM5.41 20L4 18.59l7.72-7.72 1.47 1.35L5.41 20z\"/>\n",
              "  </svg>\n",
              "      </button>\n",
              "      \n",
              "  <style>\n",
              "    .colab-df-container {\n",
              "      display:flex;\n",
              "      flex-wrap:wrap;\n",
              "      gap: 12px;\n",
              "    }\n",
              "\n",
              "    .colab-df-convert {\n",
              "      background-color: #E8F0FE;\n",
              "      border: none;\n",
              "      border-radius: 50%;\n",
              "      cursor: pointer;\n",
              "      display: none;\n",
              "      fill: #1967D2;\n",
              "      height: 32px;\n",
              "      padding: 0 0 0 0;\n",
              "      width: 32px;\n",
              "    }\n",
              "\n",
              "    .colab-df-convert:hover {\n",
              "      background-color: #E2EBFA;\n",
              "      box-shadow: 0px 1px 2px rgba(60, 64, 67, 0.3), 0px 1px 3px 1px rgba(60, 64, 67, 0.15);\n",
              "      fill: #174EA6;\n",
              "    }\n",
              "\n",
              "    [theme=dark] .colab-df-convert {\n",
              "      background-color: #3B4455;\n",
              "      fill: #D2E3FC;\n",
              "    }\n",
              "\n",
              "    [theme=dark] .colab-df-convert:hover {\n",
              "      background-color: #434B5C;\n",
              "      box-shadow: 0px 1px 3px 1px rgba(0, 0, 0, 0.15);\n",
              "      filter: drop-shadow(0px 1px 2px rgba(0, 0, 0, 0.3));\n",
              "      fill: #FFFFFF;\n",
              "    }\n",
              "  </style>\n",
              "\n",
              "      <script>\n",
              "        const buttonEl =\n",
              "          document.querySelector('#df-c47dd473-15cf-4fa2-9823-4cabe1db7849 button.colab-df-convert');\n",
              "        buttonEl.style.display =\n",
              "          google.colab.kernel.accessAllowed ? 'block' : 'none';\n",
              "\n",
              "        async function convertToInteractive(key) {\n",
              "          const element = document.querySelector('#df-c47dd473-15cf-4fa2-9823-4cabe1db7849');\n",
              "          const dataTable =\n",
              "            await google.colab.kernel.invokeFunction('convertToInteractive',\n",
              "                                                     [key], {});\n",
              "          if (!dataTable) return;\n",
              "\n",
              "          const docLinkHtml = 'Like what you see? Visit the ' +\n",
              "            '<a target=\"_blank\" href=https://colab.research.google.com/notebooks/data_table.ipynb>data table notebook</a>'\n",
              "            + ' to learn more about interactive tables.';\n",
              "          element.innerHTML = '';\n",
              "          dataTable['output_type'] = 'display_data';\n",
              "          await google.colab.output.renderOutput(dataTable, element);\n",
              "          const docLink = document.createElement('div');\n",
              "          docLink.innerHTML = docLinkHtml;\n",
              "          element.appendChild(docLink);\n",
              "        }\n",
              "      </script>\n",
              "    </div>\n",
              "  </div>\n",
              "  "
            ]
          },
          "metadata": {},
          "execution_count": 3
        }
      ]
    },
    {
      "cell_type": "code",
      "source": [
        "df.shape"
      ],
      "metadata": {
        "colab": {
          "base_uri": "https://localhost:8080/"
        },
        "id": "Z7BKiN23gB2u",
        "outputId": "b1de9ea4-83f4-47b3-b067-c073ba4f98db"
      },
      "execution_count": 4,
      "outputs": [
        {
          "output_type": "execute_result",
          "data": {
            "text/plain": [
              "(6103, 15)"
            ]
          },
          "metadata": {},
          "execution_count": 4
        }
      ]
    },
    {
      "cell_type": "code",
      "source": [
        "bn_input_data = np.array([])\n",
        "\n",
        "for val in df['tokenized_bn'].values:\n",
        "    val = [int(x) for x in val.strip('[]').split()]\n",
        "    bn_input_data = np.append(bn_input_data, val)\n",
        "\n",
        "bn_input_data = bn_input_data.reshape([6103, 21])\n",
        "bn_input_data = bn_input_data.astype(int)"
      ],
      "metadata": {
        "id": "QZcQryxWcXXJ"
      },
      "execution_count": 5,
      "outputs": []
    },
    {
      "cell_type": "code",
      "source": [
        "bn_input_data.shape"
      ],
      "metadata": {
        "colab": {
          "base_uri": "https://localhost:8080/"
        },
        "id": "VqUG9IPVf43w",
        "outputId": "7569c759-a580-462c-82ed-9df3dd6809d2"
      },
      "execution_count": 6,
      "outputs": [
        {
          "output_type": "execute_result",
          "data": {
            "text/plain": [
              "(6103, 21)"
            ]
          },
          "metadata": {},
          "execution_count": 6
        }
      ]
    },
    {
      "cell_type": "code",
      "source": [
        "columns = [x for x in range(3000)]\n",
        "index = [y for y in range(bn_input_data.shape[0])]\n",
        "\n",
        "\n",
        "bn_input_df = pd.DataFrame(index=index, columns=columns)\n",
        "bn_input_df = bn_input_df.fillna(0)\n",
        "\n",
        "for index, line in enumerate(bn_input_data):\n",
        "    for elem in set(line):\n",
        "        if elem < 100:\n",
        "            bn_input_df.iloc[index,elem] = 1\n",
        "        else:\n",
        "            bn_input_df.iloc[index,0] = 1"
      ],
      "metadata": {
        "id": "WW3rsSaAeNCs"
      },
      "execution_count": 7,
      "outputs": []
    },
    {
      "cell_type": "code",
      "source": [
        "# 정가를 피처에 추가해준다.\n",
        "\n",
        "bn_input_df = pd.concat([bn_input_df, df[\"price_og\"]], axis=1)"
      ],
      "metadata": {
        "id": "45bEursTXRvT"
      },
      "execution_count": 8,
      "outputs": []
    },
    {
      "cell_type": "code",
      "source": [
        "bn_input_df.head(3)"
      ],
      "metadata": {
        "colab": {
          "base_uri": "https://localhost:8080/",
          "height": 173
        },
        "id": "_sn9B9b5XhHj",
        "outputId": "3a347d52-63eb-4807-fe1b-8bd9041a1c4f"
      },
      "execution_count": 9,
      "outputs": [
        {
          "output_type": "execute_result",
          "data": {
            "text/plain": [
              "   0  1  2  3  4  5  6  7  8  9  ...  2991  2992  2993  2994  2995  2996  \\\n",
              "0  1  0  1  1  1  0  0  0  0  0  ...     0     0     0     0     0     0   \n",
              "1  1  0  1  1  1  0  0  0  0  0  ...     0     0     0     0     0     0   \n",
              "2  1  0  1  1  1  0  0  0  0  0  ...     0     0     0     0     0     0   \n",
              "\n",
              "   2997  2998  2999  price_og  \n",
              "0     0     0     0    129000  \n",
              "1     0     0     0    139000  \n",
              "2     0     0     0    169000  \n",
              "\n",
              "[3 rows x 3001 columns]"
            ],
            "text/html": [
              "\n",
              "  <div id=\"df-10888c12-f7aa-4f90-9fc3-8c6a2da32e13\">\n",
              "    <div class=\"colab-df-container\">\n",
              "      <div>\n",
              "<style scoped>\n",
              "    .dataframe tbody tr th:only-of-type {\n",
              "        vertical-align: middle;\n",
              "    }\n",
              "\n",
              "    .dataframe tbody tr th {\n",
              "        vertical-align: top;\n",
              "    }\n",
              "\n",
              "    .dataframe thead th {\n",
              "        text-align: right;\n",
              "    }\n",
              "</style>\n",
              "<table border=\"1\" class=\"dataframe\">\n",
              "  <thead>\n",
              "    <tr style=\"text-align: right;\">\n",
              "      <th></th>\n",
              "      <th>0</th>\n",
              "      <th>1</th>\n",
              "      <th>2</th>\n",
              "      <th>3</th>\n",
              "      <th>4</th>\n",
              "      <th>5</th>\n",
              "      <th>6</th>\n",
              "      <th>7</th>\n",
              "      <th>8</th>\n",
              "      <th>9</th>\n",
              "      <th>...</th>\n",
              "      <th>2991</th>\n",
              "      <th>2992</th>\n",
              "      <th>2993</th>\n",
              "      <th>2994</th>\n",
              "      <th>2995</th>\n",
              "      <th>2996</th>\n",
              "      <th>2997</th>\n",
              "      <th>2998</th>\n",
              "      <th>2999</th>\n",
              "      <th>price_og</th>\n",
              "    </tr>\n",
              "  </thead>\n",
              "  <tbody>\n",
              "    <tr>\n",
              "      <th>0</th>\n",
              "      <td>1</td>\n",
              "      <td>0</td>\n",
              "      <td>1</td>\n",
              "      <td>1</td>\n",
              "      <td>1</td>\n",
              "      <td>0</td>\n",
              "      <td>0</td>\n",
              "      <td>0</td>\n",
              "      <td>0</td>\n",
              "      <td>0</td>\n",
              "      <td>...</td>\n",
              "      <td>0</td>\n",
              "      <td>0</td>\n",
              "      <td>0</td>\n",
              "      <td>0</td>\n",
              "      <td>0</td>\n",
              "      <td>0</td>\n",
              "      <td>0</td>\n",
              "      <td>0</td>\n",
              "      <td>0</td>\n",
              "      <td>129000</td>\n",
              "    </tr>\n",
              "    <tr>\n",
              "      <th>1</th>\n",
              "      <td>1</td>\n",
              "      <td>0</td>\n",
              "      <td>1</td>\n",
              "      <td>1</td>\n",
              "      <td>1</td>\n",
              "      <td>0</td>\n",
              "      <td>0</td>\n",
              "      <td>0</td>\n",
              "      <td>0</td>\n",
              "      <td>0</td>\n",
              "      <td>...</td>\n",
              "      <td>0</td>\n",
              "      <td>0</td>\n",
              "      <td>0</td>\n",
              "      <td>0</td>\n",
              "      <td>0</td>\n",
              "      <td>0</td>\n",
              "      <td>0</td>\n",
              "      <td>0</td>\n",
              "      <td>0</td>\n",
              "      <td>139000</td>\n",
              "    </tr>\n",
              "    <tr>\n",
              "      <th>2</th>\n",
              "      <td>1</td>\n",
              "      <td>0</td>\n",
              "      <td>1</td>\n",
              "      <td>1</td>\n",
              "      <td>1</td>\n",
              "      <td>0</td>\n",
              "      <td>0</td>\n",
              "      <td>0</td>\n",
              "      <td>0</td>\n",
              "      <td>0</td>\n",
              "      <td>...</td>\n",
              "      <td>0</td>\n",
              "      <td>0</td>\n",
              "      <td>0</td>\n",
              "      <td>0</td>\n",
              "      <td>0</td>\n",
              "      <td>0</td>\n",
              "      <td>0</td>\n",
              "      <td>0</td>\n",
              "      <td>0</td>\n",
              "      <td>169000</td>\n",
              "    </tr>\n",
              "  </tbody>\n",
              "</table>\n",
              "<p>3 rows × 3001 columns</p>\n",
              "</div>\n",
              "      <button class=\"colab-df-convert\" onclick=\"convertToInteractive('df-10888c12-f7aa-4f90-9fc3-8c6a2da32e13')\"\n",
              "              title=\"Convert this dataframe to an interactive table.\"\n",
              "              style=\"display:none;\">\n",
              "        \n",
              "  <svg xmlns=\"http://www.w3.org/2000/svg\" height=\"24px\"viewBox=\"0 0 24 24\"\n",
              "       width=\"24px\">\n",
              "    <path d=\"M0 0h24v24H0V0z\" fill=\"none\"/>\n",
              "    <path d=\"M18.56 5.44l.94 2.06.94-2.06 2.06-.94-2.06-.94-.94-2.06-.94 2.06-2.06.94zm-11 1L8.5 8.5l.94-2.06 2.06-.94-2.06-.94L8.5 2.5l-.94 2.06-2.06.94zm10 10l.94 2.06.94-2.06 2.06-.94-2.06-.94-.94-2.06-.94 2.06-2.06.94z\"/><path d=\"M17.41 7.96l-1.37-1.37c-.4-.4-.92-.59-1.43-.59-.52 0-1.04.2-1.43.59L10.3 9.45l-7.72 7.72c-.78.78-.78 2.05 0 2.83L4 21.41c.39.39.9.59 1.41.59.51 0 1.02-.2 1.41-.59l7.78-7.78 2.81-2.81c.8-.78.8-2.07 0-2.86zM5.41 20L4 18.59l7.72-7.72 1.47 1.35L5.41 20z\"/>\n",
              "  </svg>\n",
              "      </button>\n",
              "      \n",
              "  <style>\n",
              "    .colab-df-container {\n",
              "      display:flex;\n",
              "      flex-wrap:wrap;\n",
              "      gap: 12px;\n",
              "    }\n",
              "\n",
              "    .colab-df-convert {\n",
              "      background-color: #E8F0FE;\n",
              "      border: none;\n",
              "      border-radius: 50%;\n",
              "      cursor: pointer;\n",
              "      display: none;\n",
              "      fill: #1967D2;\n",
              "      height: 32px;\n",
              "      padding: 0 0 0 0;\n",
              "      width: 32px;\n",
              "    }\n",
              "\n",
              "    .colab-df-convert:hover {\n",
              "      background-color: #E2EBFA;\n",
              "      box-shadow: 0px 1px 2px rgba(60, 64, 67, 0.3), 0px 1px 3px 1px rgba(60, 64, 67, 0.15);\n",
              "      fill: #174EA6;\n",
              "    }\n",
              "\n",
              "    [theme=dark] .colab-df-convert {\n",
              "      background-color: #3B4455;\n",
              "      fill: #D2E3FC;\n",
              "    }\n",
              "\n",
              "    [theme=dark] .colab-df-convert:hover {\n",
              "      background-color: #434B5C;\n",
              "      box-shadow: 0px 1px 3px 1px rgba(0, 0, 0, 0.15);\n",
              "      filter: drop-shadow(0px 1px 2px rgba(0, 0, 0, 0.3));\n",
              "      fill: #FFFFFF;\n",
              "    }\n",
              "  </style>\n",
              "\n",
              "      <script>\n",
              "        const buttonEl =\n",
              "          document.querySelector('#df-10888c12-f7aa-4f90-9fc3-8c6a2da32e13 button.colab-df-convert');\n",
              "        buttonEl.style.display =\n",
              "          google.colab.kernel.accessAllowed ? 'block' : 'none';\n",
              "\n",
              "        async function convertToInteractive(key) {\n",
              "          const element = document.querySelector('#df-10888c12-f7aa-4f90-9fc3-8c6a2da32e13');\n",
              "          const dataTable =\n",
              "            await google.colab.kernel.invokeFunction('convertToInteractive',\n",
              "                                                     [key], {});\n",
              "          if (!dataTable) return;\n",
              "\n",
              "          const docLinkHtml = 'Like what you see? Visit the ' +\n",
              "            '<a target=\"_blank\" href=https://colab.research.google.com/notebooks/data_table.ipynb>data table notebook</a>'\n",
              "            + ' to learn more about interactive tables.';\n",
              "          element.innerHTML = '';\n",
              "          dataTable['output_type'] = 'display_data';\n",
              "          await google.colab.output.renderOutput(dataTable, element);\n",
              "          const docLink = document.createElement('div');\n",
              "          docLink.innerHTML = docLinkHtml;\n",
              "          element.appendChild(docLink);\n",
              "        }\n",
              "      </script>\n",
              "    </div>\n",
              "  </div>\n",
              "  "
            ]
          },
          "metadata": {},
          "execution_count": 9
        }
      ]
    },
    {
      "cell_type": "code",
      "source": [
        "bn_input_df.shape"
      ],
      "metadata": {
        "colab": {
          "base_uri": "https://localhost:8080/"
        },
        "id": "qGfRWtw6liiB",
        "outputId": "e6634255-d20c-4adc-8b9e-e16705f8ca90"
      },
      "execution_count": 10,
      "outputs": [
        {
          "output_type": "execute_result",
          "data": {
            "text/plain": [
              "(6103, 3001)"
            ]
          },
          "metadata": {},
          "execution_count": 10
        }
      ]
    },
    {
      "cell_type": "code",
      "source": [
        "# 신발의 브랜드와 이름은 리셀가격(신발의 본래 가치??)와 관련이 클 것 같아서 target데이터를 price_resell 로 설정함. \n",
        "\n",
        "target_data = np.array(df['price_resell'])\n",
        "print(target_data.shape)"
      ],
      "metadata": {
        "colab": {
          "base_uri": "https://localhost:8080/"
        },
        "id": "pD-bO2RWeG2y",
        "outputId": "dc5d6063-d860-48b6-9950-fb1821e136d1"
      },
      "execution_count": 11,
      "outputs": [
        {
          "output_type": "stream",
          "name": "stdout",
          "text": [
            "(6103,)\n"
          ]
        }
      ]
    },
    {
      "cell_type": "code",
      "source": [
        "target_data.astype(int)"
      ],
      "metadata": {
        "colab": {
          "base_uri": "https://localhost:8080/"
        },
        "id": "JRKyTwC8e_A_",
        "outputId": "5ffec71b-1ac1-46ef-f90c-4c42df5dfec8"
      },
      "execution_count": 12,
      "outputs": [
        {
          "output_type": "execute_result",
          "data": {
            "text/plain": [
              "array([152800, 136200, 173200, ..., 450000, 457500, 400000])"
            ]
          },
          "metadata": {},
          "execution_count": 12
        }
      ]
    },
    {
      "cell_type": "code",
      "source": [
        "for n in [10,30, 50]:\n",
        "    pca = PCA(n_components=n)\n",
        "    bn_pca = pca.fit_transform(bn_input_df)\n",
        "    bn_pca_df = pd.DataFrame(bn_pca)\n",
        "    print(sum(pca.explained_variance_ratio_))"
      ],
      "metadata": {
        "colab": {
          "base_uri": "https://localhost:8080/"
        },
        "id": "K44goIVOnt7I",
        "outputId": "36b9d0ad-1032-4d55-98a2-8f1f3a2aeb84"
      },
      "execution_count": 13,
      "outputs": [
        {
          "output_type": "stream",
          "name": "stdout",
          "text": [
            "0.9999999999293424\n",
            "0.9999999999692717\n",
            "0.999999999984787\n"
          ]
        }
      ]
    },
    {
      "cell_type": "code",
      "source": [
        "for n in [100,300,600]:\n",
        "    pca = PCA(n_components=n)\n",
        "    bn_pca = pca.fit_transform(bn_input_df)\n",
        "    bn_pca_df = pd.DataFrame(bn_pca)\n",
        "    print(sum(pca.explained_variance_ratio_))"
      ],
      "metadata": {
        "colab": {
          "base_uri": "https://localhost:8080/"
        },
        "id": "JfArPfyTnhbx",
        "outputId": "099d700b-1642-4017-f811-b848a89d3504"
      },
      "execution_count": 14,
      "outputs": [
        {
          "output_type": "stream",
          "name": "stdout",
          "text": [
            "1.0000000000000002\n",
            "1.0000000000000002\n",
            "1.0000000000000002\n"
          ]
        }
      ]
    },
    {
      "cell_type": "code",
      "source": [
        "# PCA의 차원을 늘리면서  K-fold를 사용해서 어떤 모델이 가장 효율적인지 살펴보겠다. \n",
        "\n",
        "for n in [30, 50]:\n",
        "    pca = PCA(n_components=n)\n",
        "    bn_pca = pca.fit_transform(bn_input_df)\n",
        "    bn_pca_df = pd.DataFrame(bn_pca)\n",
        "\n",
        "    kf = KFold(n_splits = 5)\n",
        "    \n",
        "    rmse_list = []\n",
        "    for train_index, test_index in kf.split(target_data):\n",
        "        bn_pca_df_train, bn_pca_df_test = bn_pca_df.loc[train_index], bn_pca_df.loc[test_index]\n",
        "        target_data_train, target_data_test  = target_data[train_index], target_data[test_index]\n",
        "\n",
        "        reg = LinearRegression().fit(bn_pca_df_train, target_data_train)\n",
        "\n",
        "        pred = reg.predict(bn_pca_df_test)\n",
        "        rmse = mean_squared_error(pred, target_data_test, squared=False)\n",
        "        rmse_list.append(rmse)\n",
        "        # print(rmse)\n",
        "        \n",
        "    print(\"PCA:\", n, \"rmse:\", round(np.mean(rmse_list)))"
      ],
      "metadata": {
        "colab": {
          "base_uri": "https://localhost:8080/"
        },
        "id": "YV7sCLJpGh0X",
        "outputId": "1e31a9df-810b-4fd8-99f2-0b97ab9b0761"
      },
      "execution_count": 15,
      "outputs": [
        {
          "output_type": "stream",
          "name": "stdout",
          "text": [
            "PCA: 30 rmse: 316788\n",
            "PCA: 50 rmse: 474753\n"
          ]
        }
      ]
    },
    {
      "cell_type": "code",
      "source": [
        "# PCA의 차원을 늘리면서  K-fold를 사용해서 어떤 모델이 가장 효율적인지 살펴보겠다. \n",
        "\n",
        "from lightgbm import LGBMRegressor\n",
        "\n",
        "for n in (10, 30, 50, 100):\n",
        "    pca = PCA(n_components=n)\n",
        "    bn_pca = pca.fit_transform(bn_input_df)\n",
        "    bn_pca_df = pd.DataFrame(bn_pca)\n",
        "\n",
        "    kf = KFold(n_splits = 5)\n",
        "    \n",
        "    rmse_list = []\n",
        "    for train_index, test_index in kf.split(target_data):\n",
        "        bn_pca_df_train, bn_pca_df_test = bn_pca_df.loc[train_index], bn_pca_df.loc[test_index]\n",
        "        target_data_train, target_data_test  = target_data[train_index], target_data[test_index]\n",
        "        \n",
        "        lgbm_reg = LGBMRegressor().fit(bn_pca_df_train, target_data_train)\n",
        "\n",
        "        pred = lgbm_reg.predict(bn_pca_df_test)\n",
        "        rmse = mean_squared_error(pred, target_data_test, squared=False)\n",
        "        rmse_list.append(rmse)\n",
        "        # print(rmse)\n",
        "        \n",
        "    print(\"PCA:\", n, \"rmse:\", round(np.mean(rmse_list)))"
      ],
      "metadata": {
        "colab": {
          "base_uri": "https://localhost:8080/"
        },
        "id": "CD8MGzJicNlS",
        "outputId": "c2805d4d-af30-4dd5-ab44-ab3e8d20689c"
      },
      "execution_count": 16,
      "outputs": [
        {
          "output_type": "stream",
          "name": "stdout",
          "text": [
            "PCA: 10 rmse: 282420\n",
            "PCA: 30 rmse: 282747\n",
            "PCA: 50 rmse: 286422\n",
            "PCA: 100 rmse: 293577\n"
          ]
        }
      ]
    },
    {
      "cell_type": "code",
      "source": [
        "for n in [32,64]:\n",
        "    pca = PCA(n_components=n)\n",
        "    bn_pca = pca.fit_transform(bn_input_df)\n",
        "    bn_pca_df = pd.DataFrame(bn_pca)\n",
        "\n",
        "    kf = KFold(n_splits = 5)\n",
        "\n",
        "    rmse_list = []\n",
        "    for train_index, test_index in kf.split(target_data):\n",
        "        bn_pca_df_train, bn_pca_df_test = bn_pca_df.loc[train_index], bn_pca_df.loc[test_index]\n",
        "        target_data_train, target_data_test  = target_data[train_index], target_data[test_index]\n",
        "\n",
        "        model = keras.models.Sequential([\n",
        "                keras.layers.Dense(16),\n",
        "                keras.layers.Dense(8),\n",
        "                keras.layers.Dense(1)\n",
        "        ])\n",
        "\n",
        "        model.compile(loss=\"mse\")\n",
        "        model.fit(bn_pca_df_train,target_data_train, epochs=20, verbose=0)\n",
        "        pred = model.predict(bn_pca_df_test, verbose=0)\n",
        "        rmse = mean_squared_error(target_data_test,pred, squared= False)\n",
        "\n",
        "        rmse_list.append(rmse)\n",
        "    print(\"PCA:\", n, \"rmse:\", round(np.mean(rmse_list)))"
      ],
      "metadata": {
        "colab": {
          "base_uri": "https://localhost:8080/"
        },
        "id": "B--B4m8kj74F",
        "outputId": "d1bfe46f-c53a-4149-bae4-9e445d1d170e"
      },
      "execution_count": 17,
      "outputs": [
        {
          "output_type": "stream",
          "name": "stdout",
          "text": [
            "PCA: 32 rmse: 378857\n",
            "PCA: 64 rmse: 381714\n"
          ]
        }
      ]
    },
    {
      "cell_type": "markdown",
      "source": [
        "여러 가지를 실험해봤는데....\n",
        "\n",
        "- 주성분을 30개~50개로 축소한 lgbm 모델이 적절할듯 하다."
      ],
      "metadata": {
        "id": "5HgVyhRkcHWd"
      }
    },
    {
      "cell_type": "code",
      "source": [
        "df['price_resell'] /= 10000.0\n",
        "target_data = df['price_resell']"
      ],
      "metadata": {
        "id": "7ngp18rnDJtJ"
      },
      "execution_count": 18,
      "outputs": []
    },
    {
      "cell_type": "code",
      "source": [
        "from keras.models import Sequential\n",
        "from tensorflow import keras\n",
        "\n",
        "model1 = Sequential([\n",
        "    keras.layers.Dense(64),\n",
        "    keras.layers.Dense(32),\n",
        "    keras.layers.Dense(16),\n",
        "    keras.layers.Dense(8),\n",
        "    keras.layers.Dense(4),\n",
        "    keras.layers.Dense(2),\n",
        "    keras.layers.Dense(1)\n",
        " ])\n",
        "\n",
        "model1.compile(optimizer=keras.optimizers.Adam(learning_rate=0.005), loss=tf.keras.losses.Huber(delta=3))\n",
        "checkpoint_cb = keras.callbacks.ModelCheckpoint(\"/content/drive/MyDrive/kream_data/model/bn_dnn.h5\")\n",
        "\n",
        "model1.fit(bn_pca_df, target_data, epochs=100, callbacks=[checkpoint_cb])"
      ],
      "metadata": {
        "id": "pu2Po5lUgFTp",
        "colab": {
          "base_uri": "https://localhost:8080/"
        },
        "outputId": "b63a65e6-443a-4f24-8e92-dc871d224f3f"
      },
      "execution_count": 19,
      "outputs": [
        {
          "output_type": "stream",
          "name": "stdout",
          "text": [
            "Epoch 1/100\n",
            "191/191 [==============================] - 4s 6ms/step - loss: 3632.3196\n",
            "Epoch 2/100\n",
            "191/191 [==============================] - 1s 5ms/step - loss: 302.1929\n",
            "Epoch 3/100\n",
            "191/191 [==============================] - 1s 5ms/step - loss: 101.8357\n",
            "Epoch 4/100\n",
            "191/191 [==============================] - 1s 5ms/step - loss: 53.8996\n",
            "Epoch 5/100\n",
            "191/191 [==============================] - 1s 4ms/step - loss: 45.9320\n",
            "Epoch 6/100\n",
            "191/191 [==============================] - 1s 4ms/step - loss: 43.1070\n",
            "Epoch 7/100\n",
            "191/191 [==============================] - 1s 4ms/step - loss: 47.9868\n",
            "Epoch 8/100\n",
            "191/191 [==============================] - 1s 4ms/step - loss: 31.9021\n",
            "Epoch 9/100\n",
            "191/191 [==============================] - 1s 4ms/step - loss: 35.4440\n",
            "Epoch 10/100\n",
            "191/191 [==============================] - 1s 4ms/step - loss: 67.9524\n",
            "Epoch 11/100\n",
            "191/191 [==============================] - 1s 4ms/step - loss: 91.2738\n",
            "Epoch 12/100\n",
            "191/191 [==============================] - 1s 4ms/step - loss: 30.3036\n",
            "Epoch 13/100\n",
            "191/191 [==============================] - 1s 4ms/step - loss: 33.6168\n",
            "Epoch 14/100\n",
            "191/191 [==============================] - 1s 4ms/step - loss: 30.8804\n",
            "Epoch 15/100\n",
            "191/191 [==============================] - 1s 4ms/step - loss: 43.1850\n",
            "Epoch 16/100\n",
            "191/191 [==============================] - 1s 4ms/step - loss: 34.0528\n",
            "Epoch 17/100\n",
            "191/191 [==============================] - 1s 4ms/step - loss: 44.3500\n",
            "Epoch 18/100\n",
            "191/191 [==============================] - 1s 4ms/step - loss: 30.1616\n",
            "Epoch 19/100\n",
            "191/191 [==============================] - 1s 5ms/step - loss: 30.6243\n",
            "Epoch 20/100\n",
            "191/191 [==============================] - 1s 5ms/step - loss: 39.3418\n",
            "Epoch 21/100\n",
            "191/191 [==============================] - 1s 5ms/step - loss: 30.6520\n",
            "Epoch 22/100\n",
            "191/191 [==============================] - 1s 4ms/step - loss: 31.4158\n",
            "Epoch 23/100\n",
            "191/191 [==============================] - 1s 4ms/step - loss: 30.0181\n",
            "Epoch 24/100\n",
            "191/191 [==============================] - 1s 4ms/step - loss: 34.7790\n",
            "Epoch 25/100\n",
            "191/191 [==============================] - 1s 4ms/step - loss: 39.1219\n",
            "Epoch 26/100\n",
            "191/191 [==============================] - 1s 4ms/step - loss: 30.8182\n",
            "Epoch 27/100\n",
            "191/191 [==============================] - 1s 4ms/step - loss: 33.4706\n",
            "Epoch 28/100\n",
            "191/191 [==============================] - 1s 4ms/step - loss: 33.7659\n",
            "Epoch 29/100\n",
            "191/191 [==============================] - 1s 4ms/step - loss: 33.3666\n",
            "Epoch 30/100\n",
            "191/191 [==============================] - 1s 4ms/step - loss: 34.4825\n",
            "Epoch 31/100\n",
            "191/191 [==============================] - 1s 4ms/step - loss: 31.9183\n",
            "Epoch 32/100\n",
            "191/191 [==============================] - 1s 4ms/step - loss: 31.8286\n",
            "Epoch 33/100\n",
            "191/191 [==============================] - 1s 4ms/step - loss: 30.5861\n",
            "Epoch 34/100\n",
            "191/191 [==============================] - 1s 4ms/step - loss: 31.6967\n",
            "Epoch 35/100\n",
            "191/191 [==============================] - 1s 4ms/step - loss: 30.5751\n",
            "Epoch 36/100\n",
            "191/191 [==============================] - 1s 5ms/step - loss: 30.5080\n",
            "Epoch 37/100\n",
            "191/191 [==============================] - 1s 5ms/step - loss: 31.8596\n",
            "Epoch 38/100\n",
            "191/191 [==============================] - 1s 5ms/step - loss: 31.8571\n",
            "Epoch 39/100\n",
            "191/191 [==============================] - 1s 5ms/step - loss: 30.4858\n",
            "Epoch 40/100\n",
            "191/191 [==============================] - 1s 4ms/step - loss: 29.8772\n",
            "Epoch 41/100\n",
            "191/191 [==============================] - 1s 4ms/step - loss: 30.3507\n",
            "Epoch 42/100\n",
            "191/191 [==============================] - 1s 4ms/step - loss: 29.8690\n",
            "Epoch 43/100\n",
            "191/191 [==============================] - 1s 4ms/step - loss: 30.4216\n",
            "Epoch 44/100\n",
            "191/191 [==============================] - 1s 4ms/step - loss: 30.3003\n",
            "Epoch 45/100\n",
            "191/191 [==============================] - 1s 4ms/step - loss: 30.4128\n",
            "Epoch 46/100\n",
            "191/191 [==============================] - 1s 4ms/step - loss: 30.2274\n",
            "Epoch 47/100\n",
            "191/191 [==============================] - 1s 4ms/step - loss: 31.2491\n",
            "Epoch 48/100\n",
            "191/191 [==============================] - 1s 4ms/step - loss: 30.4928\n",
            "Epoch 49/100\n",
            "191/191 [==============================] - 1s 4ms/step - loss: 31.3665\n",
            "Epoch 50/100\n",
            "191/191 [==============================] - 1s 4ms/step - loss: 30.1450\n",
            "Epoch 51/100\n",
            "191/191 [==============================] - 1s 4ms/step - loss: 29.8044\n",
            "Epoch 52/100\n",
            "191/191 [==============================] - 1s 4ms/step - loss: 30.4317\n",
            "Epoch 53/100\n",
            "191/191 [==============================] - 1s 5ms/step - loss: 29.8835\n",
            "Epoch 54/100\n",
            "191/191 [==============================] - 1s 5ms/step - loss: 29.7316\n",
            "Epoch 55/100\n",
            "191/191 [==============================] - 1s 5ms/step - loss: 29.9078\n",
            "Epoch 56/100\n",
            "191/191 [==============================] - 1s 5ms/step - loss: 30.0430\n",
            "Epoch 57/100\n",
            "191/191 [==============================] - 1s 4ms/step - loss: 31.0687\n",
            "Epoch 58/100\n",
            "191/191 [==============================] - 1s 4ms/step - loss: 35.4866\n",
            "Epoch 59/100\n",
            "191/191 [==============================] - 1s 4ms/step - loss: 30.1457\n",
            "Epoch 60/100\n",
            "191/191 [==============================] - 1s 4ms/step - loss: 30.0963\n",
            "Epoch 61/100\n",
            "191/191 [==============================] - 1s 4ms/step - loss: 29.9264\n",
            "Epoch 62/100\n",
            "191/191 [==============================] - 1s 5ms/step - loss: 30.4510\n",
            "Epoch 63/100\n",
            "191/191 [==============================] - 1s 7ms/step - loss: 29.9770\n",
            "Epoch 64/100\n",
            "191/191 [==============================] - 1s 7ms/step - loss: 30.8097\n",
            "Epoch 65/100\n",
            "191/191 [==============================] - 1s 7ms/step - loss: 29.7507\n",
            "Epoch 66/100\n",
            "191/191 [==============================] - 1s 4ms/step - loss: 29.9170\n",
            "Epoch 67/100\n",
            "191/191 [==============================] - 1s 5ms/step - loss: 29.7807\n",
            "Epoch 68/100\n",
            "191/191 [==============================] - 1s 5ms/step - loss: 29.8340\n",
            "Epoch 69/100\n",
            "191/191 [==============================] - 1s 5ms/step - loss: 30.0039\n",
            "Epoch 70/100\n",
            "191/191 [==============================] - 1s 5ms/step - loss: 29.8219\n",
            "Epoch 71/100\n",
            "191/191 [==============================] - 1s 4ms/step - loss: 30.3094\n",
            "Epoch 72/100\n",
            "191/191 [==============================] - 1s 4ms/step - loss: 30.1754\n",
            "Epoch 73/100\n",
            "191/191 [==============================] - 1s 4ms/step - loss: 29.8962\n",
            "Epoch 74/100\n",
            "191/191 [==============================] - 1s 4ms/step - loss: 30.7382\n",
            "Epoch 75/100\n",
            "191/191 [==============================] - 1s 4ms/step - loss: 30.4857\n",
            "Epoch 76/100\n",
            "191/191 [==============================] - 1s 4ms/step - loss: 30.1390\n",
            "Epoch 77/100\n",
            "191/191 [==============================] - 1s 4ms/step - loss: 30.4623\n",
            "Epoch 78/100\n",
            "191/191 [==============================] - 1s 4ms/step - loss: 31.2430\n",
            "Epoch 79/100\n",
            "191/191 [==============================] - 1s 4ms/step - loss: 30.5208\n",
            "Epoch 80/100\n",
            "191/191 [==============================] - 1s 4ms/step - loss: 30.4476\n",
            "Epoch 81/100\n",
            "191/191 [==============================] - 1s 4ms/step - loss: 29.8629\n",
            "Epoch 82/100\n",
            "191/191 [==============================] - 1s 4ms/step - loss: 30.1838\n",
            "Epoch 83/100\n",
            "191/191 [==============================] - 1s 4ms/step - loss: 30.4306\n",
            "Epoch 84/100\n",
            "191/191 [==============================] - 1s 5ms/step - loss: 30.0936\n",
            "Epoch 85/100\n",
            "191/191 [==============================] - 1s 5ms/step - loss: 30.0608\n",
            "Epoch 86/100\n",
            "191/191 [==============================] - 1s 5ms/step - loss: 29.8104\n",
            "Epoch 87/100\n",
            "191/191 [==============================] - 1s 5ms/step - loss: 30.0165\n",
            "Epoch 88/100\n",
            "191/191 [==============================] - 1s 4ms/step - loss: 29.8268\n",
            "Epoch 89/100\n",
            "191/191 [==============================] - 1s 4ms/step - loss: 30.5830\n",
            "Epoch 90/100\n",
            "191/191 [==============================] - 1s 4ms/step - loss: 30.1801\n",
            "Epoch 91/100\n",
            "191/191 [==============================] - 1s 4ms/step - loss: 30.4464\n",
            "Epoch 92/100\n",
            "191/191 [==============================] - 1s 4ms/step - loss: 30.8165\n",
            "Epoch 93/100\n",
            "191/191 [==============================] - 1s 4ms/step - loss: 31.0400\n",
            "Epoch 94/100\n",
            "191/191 [==============================] - 1s 4ms/step - loss: 30.8246\n",
            "Epoch 95/100\n",
            "191/191 [==============================] - 1s 4ms/step - loss: 31.1114\n",
            "Epoch 96/100\n",
            "191/191 [==============================] - 1s 4ms/step - loss: 30.4692\n",
            "Epoch 97/100\n",
            "191/191 [==============================] - 1s 4ms/step - loss: 30.6909\n",
            "Epoch 98/100\n",
            "191/191 [==============================] - 1s 4ms/step - loss: 30.3871\n",
            "Epoch 99/100\n",
            "191/191 [==============================] - 1s 4ms/step - loss: 30.7342\n",
            "Epoch 100/100\n",
            "191/191 [==============================] - 1s 4ms/step - loss: 30.9958\n"
          ]
        },
        {
          "output_type": "execute_result",
          "data": {
            "text/plain": [
              "<keras.callbacks.History at 0x7ff5cce65a30>"
            ]
          },
          "metadata": {},
          "execution_count": 19
        }
      ]
    }
  ]
}