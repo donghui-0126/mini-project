{
  "nbformat": 4,
  "nbformat_minor": 0,
  "metadata": {
    "colab": {
      "provenance": []
    },
    "kernelspec": {
      "name": "python3",
      "display_name": "Python 3"
    },
    "language_info": {
      "name": "python"
    }
  },
  "cells": [
    {
      "cell_type": "code",
      "execution_count": 1,
      "metadata": {
        "id": "XZI9iwXXP8pI"
      },
      "outputs": [],
      "source": [
        "import numpy as np\n",
        "import pandas as pd\n",
        "import tensorflow as tf\n",
        "from tensorflow import keras\n",
        "from sklearn.linear_model import LinearRegression\n",
        "import warnings\n",
        "\n",
        "\n",
        "warnings.filterwarnings('ignore')"
      ]
    },
    {
      "cell_type": "code",
      "source": [
        "from google.colab import drive\n",
        "drive.mount('/content/drive')"
      ],
      "metadata": {
        "id": "7BJG3hF3QCPq",
        "colab": {
          "base_uri": "https://localhost:8080/"
        },
        "outputId": "257eefbe-52a2-40c5-98a1-3aa30b0460de"
      },
      "execution_count": 2,
      "outputs": [
        {
          "output_type": "stream",
          "name": "stdout",
          "text": [
            "Drive already mounted at /content/drive; to attempt to forcibly remount, call drive.mount(\"/content/drive\", force_remount=True).\n"
          ]
        }
      ]
    },
    {
      "cell_type": "code",
      "source": [
        "df = pd.read_csv('/content/drive/MyDrive/kream_data/product_data_dpp.csv')\n",
        "df.head(3)"
      ],
      "metadata": {
        "colab": {
          "base_uri": "https://localhost:8080/",
          "height": 450
        },
        "id": "Ye8vahO3RjfV",
        "outputId": "32e9f64a-2f83-4b72-b700-7c6d0dd56e2f"
      },
      "execution_count": 3,
      "outputs": [
        {
          "output_type": "execute_result",
          "data": {
            "text/plain": [
              "  product_id                                   img_path brand  \\\n",
              "0      28029  crawling\\product_crawling\\image\\28029.jpg  Nike   \n",
              "1      12831  crawling\\product_crawling\\image\\12831.jpg  Nike   \n",
              "2      21935  crawling\\product_crawling\\image\\21935.jpg  Nike   \n",
              "\n",
              "                             name color1 color2  price_og  price_resell  \\\n",
              "0       Nike Dunk Low Retro Black  WHITE  BLACK    129000        152800   \n",
              "1  Nike Air Force 1 '07 Low White  WHITE  WHITE    139000        136200   \n",
              "2    Nike Air Force 1 '07 WB Flax   FLAX    GUM    169000        173200   \n",
              "\n",
              "    n_scrap  +price                              tokenized_color  \\\n",
              "0  123000.0   23800                [0 0 0 0 0 0 0 0 0 0 2 4 3 5]   \n",
              "1  151000.0   -2800                [0 0 0 0 0 0 0 0 0 0 2 4 3 4]   \n",
              "2   69000.0    4200  [ 0  0  0  0  0  0  0  0  0  0  2 82  3 51]   \n",
              "\n",
              "                                        tokenized_bn  \n",
              "0  [ 0  0  0  0  0  0  0  0  0  0  0  0  0  2  4 ...  \n",
              "1  [ 0  0  0  0  0  0  0  0  0  0  0  2  4  3  4 ...  \n",
              "2  [   0    0    0    0    0    0    0    0    0 ...  "
            ],
            "text/html": [
              "\n",
              "  <div id=\"df-01218254-c385-4b2f-bba9-aade8947c57d\">\n",
              "    <div class=\"colab-df-container\">\n",
              "      <div>\n",
              "<style scoped>\n",
              "    .dataframe tbody tr th:only-of-type {\n",
              "        vertical-align: middle;\n",
              "    }\n",
              "\n",
              "    .dataframe tbody tr th {\n",
              "        vertical-align: top;\n",
              "    }\n",
              "\n",
              "    .dataframe thead th {\n",
              "        text-align: right;\n",
              "    }\n",
              "</style>\n",
              "<table border=\"1\" class=\"dataframe\">\n",
              "  <thead>\n",
              "    <tr style=\"text-align: right;\">\n",
              "      <th></th>\n",
              "      <th>product_id</th>\n",
              "      <th>img_path</th>\n",
              "      <th>brand</th>\n",
              "      <th>name</th>\n",
              "      <th>color1</th>\n",
              "      <th>color2</th>\n",
              "      <th>price_og</th>\n",
              "      <th>price_resell</th>\n",
              "      <th>n_scrap</th>\n",
              "      <th>+price</th>\n",
              "      <th>tokenized_color</th>\n",
              "      <th>tokenized_bn</th>\n",
              "    </tr>\n",
              "  </thead>\n",
              "  <tbody>\n",
              "    <tr>\n",
              "      <th>0</th>\n",
              "      <td>28029</td>\n",
              "      <td>crawling\\product_crawling\\image\\28029.jpg</td>\n",
              "      <td>Nike</td>\n",
              "      <td>Nike Dunk Low Retro Black</td>\n",
              "      <td>WHITE</td>\n",
              "      <td>BLACK</td>\n",
              "      <td>129000</td>\n",
              "      <td>152800</td>\n",
              "      <td>123000.0</td>\n",
              "      <td>23800</td>\n",
              "      <td>[0 0 0 0 0 0 0 0 0 0 2 4 3 5]</td>\n",
              "      <td>[ 0  0  0  0  0  0  0  0  0  0  0  0  0  2  4 ...</td>\n",
              "    </tr>\n",
              "    <tr>\n",
              "      <th>1</th>\n",
              "      <td>12831</td>\n",
              "      <td>crawling\\product_crawling\\image\\12831.jpg</td>\n",
              "      <td>Nike</td>\n",
              "      <td>Nike Air Force 1 '07 Low White</td>\n",
              "      <td>WHITE</td>\n",
              "      <td>WHITE</td>\n",
              "      <td>139000</td>\n",
              "      <td>136200</td>\n",
              "      <td>151000.0</td>\n",
              "      <td>-2800</td>\n",
              "      <td>[0 0 0 0 0 0 0 0 0 0 2 4 3 4]</td>\n",
              "      <td>[ 0  0  0  0  0  0  0  0  0  0  0  2  4  3  4 ...</td>\n",
              "    </tr>\n",
              "    <tr>\n",
              "      <th>2</th>\n",
              "      <td>21935</td>\n",
              "      <td>crawling\\product_crawling\\image\\21935.jpg</td>\n",
              "      <td>Nike</td>\n",
              "      <td>Nike Air Force 1 '07 WB Flax</td>\n",
              "      <td>FLAX</td>\n",
              "      <td>GUM</td>\n",
              "      <td>169000</td>\n",
              "      <td>173200</td>\n",
              "      <td>69000.0</td>\n",
              "      <td>4200</td>\n",
              "      <td>[ 0  0  0  0  0  0  0  0  0  0  2 82  3 51]</td>\n",
              "      <td>[   0    0    0    0    0    0    0    0    0 ...</td>\n",
              "    </tr>\n",
              "  </tbody>\n",
              "</table>\n",
              "</div>\n",
              "      <button class=\"colab-df-convert\" onclick=\"convertToInteractive('df-01218254-c385-4b2f-bba9-aade8947c57d')\"\n",
              "              title=\"Convert this dataframe to an interactive table.\"\n",
              "              style=\"display:none;\">\n",
              "        \n",
              "  <svg xmlns=\"http://www.w3.org/2000/svg\" height=\"24px\"viewBox=\"0 0 24 24\"\n",
              "       width=\"24px\">\n",
              "    <path d=\"M0 0h24v24H0V0z\" fill=\"none\"/>\n",
              "    <path d=\"M18.56 5.44l.94 2.06.94-2.06 2.06-.94-2.06-.94-.94-2.06-.94 2.06-2.06.94zm-11 1L8.5 8.5l.94-2.06 2.06-.94-2.06-.94L8.5 2.5l-.94 2.06-2.06.94zm10 10l.94 2.06.94-2.06 2.06-.94-2.06-.94-.94-2.06-.94 2.06-2.06.94z\"/><path d=\"M17.41 7.96l-1.37-1.37c-.4-.4-.92-.59-1.43-.59-.52 0-1.04.2-1.43.59L10.3 9.45l-7.72 7.72c-.78.78-.78 2.05 0 2.83L4 21.41c.39.39.9.59 1.41.59.51 0 1.02-.2 1.41-.59l7.78-7.78 2.81-2.81c.8-.78.8-2.07 0-2.86zM5.41 20L4 18.59l7.72-7.72 1.47 1.35L5.41 20z\"/>\n",
              "  </svg>\n",
              "      </button>\n",
              "      \n",
              "  <style>\n",
              "    .colab-df-container {\n",
              "      display:flex;\n",
              "      flex-wrap:wrap;\n",
              "      gap: 12px;\n",
              "    }\n",
              "\n",
              "    .colab-df-convert {\n",
              "      background-color: #E8F0FE;\n",
              "      border: none;\n",
              "      border-radius: 50%;\n",
              "      cursor: pointer;\n",
              "      display: none;\n",
              "      fill: #1967D2;\n",
              "      height: 32px;\n",
              "      padding: 0 0 0 0;\n",
              "      width: 32px;\n",
              "    }\n",
              "\n",
              "    .colab-df-convert:hover {\n",
              "      background-color: #E2EBFA;\n",
              "      box-shadow: 0px 1px 2px rgba(60, 64, 67, 0.3), 0px 1px 3px 1px rgba(60, 64, 67, 0.15);\n",
              "      fill: #174EA6;\n",
              "    }\n",
              "\n",
              "    [theme=dark] .colab-df-convert {\n",
              "      background-color: #3B4455;\n",
              "      fill: #D2E3FC;\n",
              "    }\n",
              "\n",
              "    [theme=dark] .colab-df-convert:hover {\n",
              "      background-color: #434B5C;\n",
              "      box-shadow: 0px 1px 3px 1px rgba(0, 0, 0, 0.15);\n",
              "      filter: drop-shadow(0px 1px 2px rgba(0, 0, 0, 0.3));\n",
              "      fill: #FFFFFF;\n",
              "    }\n",
              "  </style>\n",
              "\n",
              "      <script>\n",
              "        const buttonEl =\n",
              "          document.querySelector('#df-01218254-c385-4b2f-bba9-aade8947c57d button.colab-df-convert');\n",
              "        buttonEl.style.display =\n",
              "          google.colab.kernel.accessAllowed ? 'block' : 'none';\n",
              "\n",
              "        async function convertToInteractive(key) {\n",
              "          const element = document.querySelector('#df-01218254-c385-4b2f-bba9-aade8947c57d');\n",
              "          const dataTable =\n",
              "            await google.colab.kernel.invokeFunction('convertToInteractive',\n",
              "                                                     [key], {});\n",
              "          if (!dataTable) return;\n",
              "\n",
              "          const docLinkHtml = 'Like what you see? Visit the ' +\n",
              "            '<a target=\"_blank\" href=https://colab.research.google.com/notebooks/data_table.ipynb>data table notebook</a>'\n",
              "            + ' to learn more about interactive tables.';\n",
              "          element.innerHTML = '';\n",
              "          dataTable['output_type'] = 'display_data';\n",
              "          await google.colab.output.renderOutput(dataTable, element);\n",
              "          const docLink = document.createElement('div');\n",
              "          docLink.innerHTML = docLinkHtml;\n",
              "          element.appendChild(docLink);\n",
              "        }\n",
              "      </script>\n",
              "    </div>\n",
              "  </div>\n",
              "  "
            ]
          },
          "metadata": {},
          "execution_count": 3
        }
      ]
    },
    {
      "cell_type": "code",
      "source": [
        "df.shape"
      ],
      "metadata": {
        "colab": {
          "base_uri": "https://localhost:8080/"
        },
        "id": "Z7BKiN23gB2u",
        "outputId": "83561ab5-ddff-49b6-971d-9754461fbb2f"
      },
      "execution_count": 4,
      "outputs": [
        {
          "output_type": "execute_result",
          "data": {
            "text/plain": [
              "(6103, 12)"
            ]
          },
          "metadata": {},
          "execution_count": 4
        }
      ]
    },
    {
      "cell_type": "markdown",
      "source": [
        "https://swlock.blogspot.com/2019/04/keras-lstm-understanding-input-and.html\n",
        "\n",
        "링크를 참조함."
      ],
      "metadata": {
        "id": "aTjCg0DUa0VU"
      }
    },
    {
      "cell_type": "code",
      "source": [
        "bn_input_data = np.array([])\n",
        "\n",
        "for val in df['tokenized_bn'].values:\n",
        "    val = [int(x) for x in val.strip('[]').split()]\n",
        "    bn_input_data = np.append(bn_input_data, val)\n",
        "\n",
        "bn_input_data = bn_input_data.reshape([6103, 21])"
      ],
      "metadata": {
        "id": "QZcQryxWcXXJ"
      },
      "execution_count": 5,
      "outputs": []
    },
    {
      "cell_type": "code",
      "source": [
        "bn_input_data.shape"
      ],
      "metadata": {
        "colab": {
          "base_uri": "https://localhost:8080/"
        },
        "id": "VqUG9IPVf43w",
        "outputId": "7bb11c9d-adc2-49d7-a918-c9f32a8dcbb0"
      },
      "execution_count": 6,
      "outputs": [
        {
          "output_type": "execute_result",
          "data": {
            "text/plain": [
              "(6103, 21)"
            ]
          },
          "metadata": {},
          "execution_count": 6
        }
      ]
    },
    {
      "cell_type": "code",
      "source": [
        "bn_input_data"
      ],
      "metadata": {
        "colab": {
          "base_uri": "https://localhost:8080/"
        },
        "id": "WW3rsSaAeNCs",
        "outputId": "a0f46851-1ea1-47a3-e392-2a7f83e02021"
      },
      "execution_count": 7,
      "outputs": [
        {
          "output_type": "execute_result",
          "data": {
            "text/plain": [
              "array([[   0.,    0.,    0., ...,   14.,   15.,   10.],\n",
              "       [   0.,    0.,    0., ...,   42.,   14.,   11.],\n",
              "       [   0.,    0.,    0., ...,   42., 1100.,  399.],\n",
              "       ...,\n",
              "       [   0.,    0.,    0., ...,  740.,   31.,   10.],\n",
              "       [   0.,    0.,    0., ...,  263.,   31.,   11.],\n",
              "       [   0.,    0.,    0., ...,  740.,   31.,   11.]])"
            ]
          },
          "metadata": {},
          "execution_count": 7
        }
      ]
    },
    {
      "cell_type": "code",
      "source": [
        "target_data = np.array(df['+price'])\n",
        "print(target_data.shape)"
      ],
      "metadata": {
        "colab": {
          "base_uri": "https://localhost:8080/"
        },
        "id": "pD-bO2RWeG2y",
        "outputId": "79cae2fc-4e3f-47c0-95ed-550cf2775a80"
      },
      "execution_count": 8,
      "outputs": [
        {
          "output_type": "stream",
          "name": "stdout",
          "text": [
            "(6103,)\n"
          ]
        }
      ]
    },
    {
      "cell_type": "code",
      "source": [
        "target_data"
      ],
      "metadata": {
        "colab": {
          "base_uri": "https://localhost:8080/"
        },
        "id": "JRKyTwC8e_A_",
        "outputId": "cb22feb1-c23d-406c-b5e4-ac9e19090d43"
      },
      "execution_count": 9,
      "outputs": [
        {
          "output_type": "execute_result",
          "data": {
            "text/plain": [
              "array([ 23800,  -2800,   4200, ..., 115600, 144000,  86500])"
            ]
          },
          "metadata": {},
          "execution_count": 9
        }
      ]
    },
    {
      "cell_type": "markdown",
      "source": [
        "input data의 크기는 \n",
        "(6103, 21) 이다."
      ],
      "metadata": {
        "id": "Vkb6JeexcZFg"
      }
    },
    {
      "cell_type": "code",
      "source": [
        "np.random.seed(42)\n",
        "tf.random.set_seed(42)\n",
        "\n",
        "bn_model = keras.models.Sequential([\n",
        "    keras.layers.Dense(21),\n",
        "    keras.layers.Dense(10),\n",
        "    keras.layers.Dense(5),\n",
        "    keras.layers.Dense(1)    \n",
        "])\n",
        "\n",
        "bn_model.compile(loss=\"mse\")\n",
        "history = bn_model.fit(bn_input_data, target_data, epochs=20)"
      ],
      "metadata": {
        "colab": {
          "base_uri": "https://localhost:8080/"
        },
        "id": "x4KFiHKoR43F",
        "outputId": "ab0a9889-3a4c-4824-a354-a1fa254498ac"
      },
      "execution_count": 10,
      "outputs": [
        {
          "output_type": "stream",
          "name": "stdout",
          "text": [
            "Epoch 1/20\n",
            "191/191 [==============================] - 1s 2ms/step - loss: 94255185920.0000\n",
            "Epoch 2/20\n",
            "191/191 [==============================] - 0s 2ms/step - loss: 93900038144.0000\n",
            "Epoch 3/20\n",
            "191/191 [==============================] - 0s 2ms/step - loss: 93291798528.0000\n",
            "Epoch 4/20\n",
            "191/191 [==============================] - 0s 2ms/step - loss: 92857237504.0000\n",
            "Epoch 5/20\n",
            "191/191 [==============================] - 0s 2ms/step - loss: 92682133504.0000\n",
            "Epoch 6/20\n",
            "191/191 [==============================] - 0s 2ms/step - loss: 92619161600.0000\n",
            "Epoch 7/20\n",
            "191/191 [==============================] - 0s 2ms/step - loss: 92522602496.0000\n",
            "Epoch 8/20\n",
            "191/191 [==============================] - 0s 2ms/step - loss: 92466692096.0000\n",
            "Epoch 9/20\n",
            "191/191 [==============================] - 0s 2ms/step - loss: 92499058688.0000\n",
            "Epoch 10/20\n",
            "191/191 [==============================] - 0s 2ms/step - loss: 92430106624.0000\n",
            "Epoch 11/20\n",
            "191/191 [==============================] - 0s 2ms/step - loss: 92408037376.0000\n",
            "Epoch 12/20\n",
            "191/191 [==============================] - 0s 2ms/step - loss: 92389056512.0000\n",
            "Epoch 13/20\n",
            "191/191 [==============================] - 0s 2ms/step - loss: 92350111744.0000\n",
            "Epoch 14/20\n",
            "191/191 [==============================] - 0s 2ms/step - loss: 92343910400.0000\n",
            "Epoch 15/20\n",
            "191/191 [==============================] - 0s 2ms/step - loss: 92341256192.0000\n",
            "Epoch 16/20\n",
            "191/191 [==============================] - 0s 2ms/step - loss: 92316073984.0000\n",
            "Epoch 17/20\n",
            "191/191 [==============================] - 0s 2ms/step - loss: 92298199040.0000\n",
            "Epoch 18/20\n",
            "191/191 [==============================] - 0s 2ms/step - loss: 92234440704.0000\n",
            "Epoch 19/20\n",
            "191/191 [==============================] - 0s 2ms/step - loss: 92347154432.0000\n",
            "Epoch 20/20\n",
            "191/191 [==============================] - 0s 2ms/step - loss: 92302884864.0000\n"
          ]
        }
      ]
    },
    {
      "cell_type": "code",
      "source": [
        "bn_model.predict(bn_input_data[0].reshape(1,21))"
      ],
      "metadata": {
        "colab": {
          "base_uri": "https://localhost:8080/"
        },
        "id": "Yt1lszCYeE17",
        "outputId": "b1abda9b-dd9d-4b6c-af9f-c334c5d75595"
      },
      "execution_count": 11,
      "outputs": [
        {
          "output_type": "stream",
          "name": "stdout",
          "text": [
            "1/1 [==============================] - 0s 107ms/step\n"
          ]
        },
        {
          "output_type": "execute_result",
          "data": {
            "text/plain": [
              "array([[816.1173]], dtype=float32)"
            ]
          },
          "metadata": {},
          "execution_count": 11
        }
      ]
    },
    {
      "cell_type": "code",
      "source": [
        "bn_input_data[0].reshape(1,21).shape"
      ],
      "metadata": {
        "colab": {
          "base_uri": "https://localhost:8080/"
        },
        "id": "B--B4m8kj74F",
        "outputId": "baa12e2a-adb9-40a9-af4f-d044657ddc3f"
      },
      "execution_count": 12,
      "outputs": [
        {
          "output_type": "execute_result",
          "data": {
            "text/plain": [
              "(1, 21)"
            ]
          },
          "metadata": {},
          "execution_count": 12
        }
      ]
    },
    {
      "cell_type": "code",
      "source": [
        ", sqrt\n",
        "# create and fit the model\n",
        "reg = LinearRegression().fit(bn_input_data, target_data)\n",
        "\n",
        "# make predictions using the model\n",
        "predictions = reg.predict(bn_input_data)\n",
        "\n",
        "# print the prediction\n",
        "print(\"mse:\", sum(abs((predictions-target_data)))/6013)"
      ],
      "metadata": {
        "colab": {
          "base_uri": "https://localhost:8080/"
        },
        "id": "2dkj8ddql1S-",
        "outputId": "8c7f0ccb-e7e8-4445-d34d-c4651e531809"
      },
      "execution_count": 19,
      "outputs": [
        {
          "output_type": "stream",
          "name": "stdout",
          "text": [
            "mse: 120958.66920233499\n"
          ]
        }
      ]
    }
  ]
}