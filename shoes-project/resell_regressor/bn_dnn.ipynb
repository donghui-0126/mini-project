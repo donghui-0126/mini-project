{
  "nbformat": 4,
  "nbformat_minor": 0,
  "metadata": {
    "colab": {
      "provenance": [],
      "toc_visible": true,
      "authorship_tag": "ABX9TyOG3P28Bxrg/xPfdb7Dl8cZ",
      "include_colab_link": true
    },
    "kernelspec": {
      "name": "python3",
      "display_name": "Python 3"
    },
    "language_info": {
      "name": "python"
    },
    "accelerator": "GPU",
    "gpuClass": "standard"
  },
  "cells": [
    {
      "cell_type": "markdown",
      "metadata": {
        "id": "view-in-github",
        "colab_type": "text"
      },
      "source": [
        "<a href=\"https://colab.research.google.com/github/donghui-0126/mini-project/blob/main/shoes-project/resell_regressor/bn_dnn.ipynb\" target=\"_parent\"><img src=\"https://colab.research.google.com/assets/colab-badge.svg\" alt=\"Open In Colab\"/></a>"
      ]
    },
    {
      "cell_type": "code",
      "execution_count": 43,
      "metadata": {
        "id": "XZI9iwXXP8pI"
      },
      "outputs": [],
      "source": [
        "import numpy as np\n",
        "import pandas as pd\n",
        "import tensorflow as tf\n",
        "from tensorflow import keras\n",
        "from sklearn.linear_model import LinearRegression\n",
        "import warnings\n",
        "from sklearn.decomposition import PCA\n",
        "from sklearn.model_selection import KFold\n",
        "from sklearn.metrics import mean_squared_error\n",
        "\n",
        "warnings.filterwarnings('ignore')"
      ]
    },
    {
      "cell_type": "code",
      "source": [
        "from google.colab import drive\n",
        "drive.mount('/content/drive')"
      ],
      "metadata": {
        "id": "7BJG3hF3QCPq",
        "colab": {
          "base_uri": "https://localhost:8080/"
        },
        "outputId": "f142cf8c-799d-4e55-c75d-47d0048a0fb9"
      },
      "execution_count": 44,
      "outputs": [
        {
          "output_type": "stream",
          "name": "stdout",
          "text": [
            "Drive already mounted at /content/drive; to attempt to forcibly remount, call drive.mount(\"/content/drive\", force_remount=True).\n"
          ]
        }
      ]
    },
    {
      "cell_type": "code",
      "source": [
        "df = pd.read_csv('/content/drive/MyDrive/kream_data/product_data_dpp.csv')\n",
        "df.head(3)"
      ],
      "metadata": {
        "colab": {
          "base_uri": "https://localhost:8080/",
          "height": 450
        },
        "id": "Ye8vahO3RjfV",
        "outputId": "2a0b482e-421b-4bbd-8b1c-b05766232ff5"
      },
      "execution_count": 45,
      "outputs": [
        {
          "output_type": "execute_result",
          "data": {
            "text/plain": [
              "  product_id                                   img_path brand  \\\n",
              "0      28029  crawling\\product_crawling\\image\\28029.jpg  Nike   \n",
              "1      12831  crawling\\product_crawling\\image\\12831.jpg  Nike   \n",
              "2      21935  crawling\\product_crawling\\image\\21935.jpg  Nike   \n",
              "\n",
              "                             name color1 color2  price_og  price_resell  \\\n",
              "0       Nike Dunk Low Retro Black  WHITE  BLACK    129000        152800   \n",
              "1  Nike Air Force 1 '07 Low White  WHITE  WHITE    139000        136200   \n",
              "2    Nike Air Force 1 '07 WB Flax   FLAX    GUM    169000        173200   \n",
              "\n",
              "    n_scrap  +price                              tokenized_color  \\\n",
              "0  123000.0   23800                [0 0 0 0 0 0 0 0 0 0 2 4 3 5]   \n",
              "1  151000.0   -2800                [0 0 0 0 0 0 0 0 0 0 2 4 3 4]   \n",
              "2   69000.0    4200  [ 0  0  0  0  0  0  0  0  0  0  2 82  3 51]   \n",
              "\n",
              "                                        tokenized_bn  \n",
              "0  [ 0  0  0  0  0  0  0  0  0  0  0  0  0  2  4 ...  \n",
              "1  [ 0  0  0  0  0  0  0  0  0  0  0  2  4  3  4 ...  \n",
              "2  [   0    0    0    0    0    0    0    0    0 ...  "
            ],
            "text/html": [
              "\n",
              "  <div id=\"df-e962a7b5-6b4b-4253-8f61-203c8ea663ea\">\n",
              "    <div class=\"colab-df-container\">\n",
              "      <div>\n",
              "<style scoped>\n",
              "    .dataframe tbody tr th:only-of-type {\n",
              "        vertical-align: middle;\n",
              "    }\n",
              "\n",
              "    .dataframe tbody tr th {\n",
              "        vertical-align: top;\n",
              "    }\n",
              "\n",
              "    .dataframe thead th {\n",
              "        text-align: right;\n",
              "    }\n",
              "</style>\n",
              "<table border=\"1\" class=\"dataframe\">\n",
              "  <thead>\n",
              "    <tr style=\"text-align: right;\">\n",
              "      <th></th>\n",
              "      <th>product_id</th>\n",
              "      <th>img_path</th>\n",
              "      <th>brand</th>\n",
              "      <th>name</th>\n",
              "      <th>color1</th>\n",
              "      <th>color2</th>\n",
              "      <th>price_og</th>\n",
              "      <th>price_resell</th>\n",
              "      <th>n_scrap</th>\n",
              "      <th>+price</th>\n",
              "      <th>tokenized_color</th>\n",
              "      <th>tokenized_bn</th>\n",
              "    </tr>\n",
              "  </thead>\n",
              "  <tbody>\n",
              "    <tr>\n",
              "      <th>0</th>\n",
              "      <td>28029</td>\n",
              "      <td>crawling\\product_crawling\\image\\28029.jpg</td>\n",
              "      <td>Nike</td>\n",
              "      <td>Nike Dunk Low Retro Black</td>\n",
              "      <td>WHITE</td>\n",
              "      <td>BLACK</td>\n",
              "      <td>129000</td>\n",
              "      <td>152800</td>\n",
              "      <td>123000.0</td>\n",
              "      <td>23800</td>\n",
              "      <td>[0 0 0 0 0 0 0 0 0 0 2 4 3 5]</td>\n",
              "      <td>[ 0  0  0  0  0  0  0  0  0  0  0  0  0  2  4 ...</td>\n",
              "    </tr>\n",
              "    <tr>\n",
              "      <th>1</th>\n",
              "      <td>12831</td>\n",
              "      <td>crawling\\product_crawling\\image\\12831.jpg</td>\n",
              "      <td>Nike</td>\n",
              "      <td>Nike Air Force 1 '07 Low White</td>\n",
              "      <td>WHITE</td>\n",
              "      <td>WHITE</td>\n",
              "      <td>139000</td>\n",
              "      <td>136200</td>\n",
              "      <td>151000.0</td>\n",
              "      <td>-2800</td>\n",
              "      <td>[0 0 0 0 0 0 0 0 0 0 2 4 3 4]</td>\n",
              "      <td>[ 0  0  0  0  0  0  0  0  0  0  0  2  4  3  4 ...</td>\n",
              "    </tr>\n",
              "    <tr>\n",
              "      <th>2</th>\n",
              "      <td>21935</td>\n",
              "      <td>crawling\\product_crawling\\image\\21935.jpg</td>\n",
              "      <td>Nike</td>\n",
              "      <td>Nike Air Force 1 '07 WB Flax</td>\n",
              "      <td>FLAX</td>\n",
              "      <td>GUM</td>\n",
              "      <td>169000</td>\n",
              "      <td>173200</td>\n",
              "      <td>69000.0</td>\n",
              "      <td>4200</td>\n",
              "      <td>[ 0  0  0  0  0  0  0  0  0  0  2 82  3 51]</td>\n",
              "      <td>[   0    0    0    0    0    0    0    0    0 ...</td>\n",
              "    </tr>\n",
              "  </tbody>\n",
              "</table>\n",
              "</div>\n",
              "      <button class=\"colab-df-convert\" onclick=\"convertToInteractive('df-e962a7b5-6b4b-4253-8f61-203c8ea663ea')\"\n",
              "              title=\"Convert this dataframe to an interactive table.\"\n",
              "              style=\"display:none;\">\n",
              "        \n",
              "  <svg xmlns=\"http://www.w3.org/2000/svg\" height=\"24px\"viewBox=\"0 0 24 24\"\n",
              "       width=\"24px\">\n",
              "    <path d=\"M0 0h24v24H0V0z\" fill=\"none\"/>\n",
              "    <path d=\"M18.56 5.44l.94 2.06.94-2.06 2.06-.94-2.06-.94-.94-2.06-.94 2.06-2.06.94zm-11 1L8.5 8.5l.94-2.06 2.06-.94-2.06-.94L8.5 2.5l-.94 2.06-2.06.94zm10 10l.94 2.06.94-2.06 2.06-.94-2.06-.94-.94-2.06-.94 2.06-2.06.94z\"/><path d=\"M17.41 7.96l-1.37-1.37c-.4-.4-.92-.59-1.43-.59-.52 0-1.04.2-1.43.59L10.3 9.45l-7.72 7.72c-.78.78-.78 2.05 0 2.83L4 21.41c.39.39.9.59 1.41.59.51 0 1.02-.2 1.41-.59l7.78-7.78 2.81-2.81c.8-.78.8-2.07 0-2.86zM5.41 20L4 18.59l7.72-7.72 1.47 1.35L5.41 20z\"/>\n",
              "  </svg>\n",
              "      </button>\n",
              "      \n",
              "  <style>\n",
              "    .colab-df-container {\n",
              "      display:flex;\n",
              "      flex-wrap:wrap;\n",
              "      gap: 12px;\n",
              "    }\n",
              "\n",
              "    .colab-df-convert {\n",
              "      background-color: #E8F0FE;\n",
              "      border: none;\n",
              "      border-radius: 50%;\n",
              "      cursor: pointer;\n",
              "      display: none;\n",
              "      fill: #1967D2;\n",
              "      height: 32px;\n",
              "      padding: 0 0 0 0;\n",
              "      width: 32px;\n",
              "    }\n",
              "\n",
              "    .colab-df-convert:hover {\n",
              "      background-color: #E2EBFA;\n",
              "      box-shadow: 0px 1px 2px rgba(60, 64, 67, 0.3), 0px 1px 3px 1px rgba(60, 64, 67, 0.15);\n",
              "      fill: #174EA6;\n",
              "    }\n",
              "\n",
              "    [theme=dark] .colab-df-convert {\n",
              "      background-color: #3B4455;\n",
              "      fill: #D2E3FC;\n",
              "    }\n",
              "\n",
              "    [theme=dark] .colab-df-convert:hover {\n",
              "      background-color: #434B5C;\n",
              "      box-shadow: 0px 1px 3px 1px rgba(0, 0, 0, 0.15);\n",
              "      filter: drop-shadow(0px 1px 2px rgba(0, 0, 0, 0.3));\n",
              "      fill: #FFFFFF;\n",
              "    }\n",
              "  </style>\n",
              "\n",
              "      <script>\n",
              "        const buttonEl =\n",
              "          document.querySelector('#df-e962a7b5-6b4b-4253-8f61-203c8ea663ea button.colab-df-convert');\n",
              "        buttonEl.style.display =\n",
              "          google.colab.kernel.accessAllowed ? 'block' : 'none';\n",
              "\n",
              "        async function convertToInteractive(key) {\n",
              "          const element = document.querySelector('#df-e962a7b5-6b4b-4253-8f61-203c8ea663ea');\n",
              "          const dataTable =\n",
              "            await google.colab.kernel.invokeFunction('convertToInteractive',\n",
              "                                                     [key], {});\n",
              "          if (!dataTable) return;\n",
              "\n",
              "          const docLinkHtml = 'Like what you see? Visit the ' +\n",
              "            '<a target=\"_blank\" href=https://colab.research.google.com/notebooks/data_table.ipynb>data table notebook</a>'\n",
              "            + ' to learn more about interactive tables.';\n",
              "          element.innerHTML = '';\n",
              "          dataTable['output_type'] = 'display_data';\n",
              "          await google.colab.output.renderOutput(dataTable, element);\n",
              "          const docLink = document.createElement('div');\n",
              "          docLink.innerHTML = docLinkHtml;\n",
              "          element.appendChild(docLink);\n",
              "        }\n",
              "      </script>\n",
              "    </div>\n",
              "  </div>\n",
              "  "
            ]
          },
          "metadata": {},
          "execution_count": 45
        }
      ]
    },
    {
      "cell_type": "code",
      "source": [
        "df.shape"
      ],
      "metadata": {
        "colab": {
          "base_uri": "https://localhost:8080/"
        },
        "id": "Z7BKiN23gB2u",
        "outputId": "7794e159-6dfa-4ab8-ce2c-412ab087ac0b"
      },
      "execution_count": 46,
      "outputs": [
        {
          "output_type": "execute_result",
          "data": {
            "text/plain": [
              "(6103, 12)"
            ]
          },
          "metadata": {},
          "execution_count": 46
        }
      ]
    },
    {
      "cell_type": "code",
      "source": [
        "bn_input_data = np.array([])\n",
        "\n",
        "for val in df['tokenized_bn'].values:\n",
        "    val = [int(x) for x in val.strip('[]').split()]\n",
        "    bn_input_data = np.append(bn_input_data, val)\n",
        "\n",
        "bn_input_data = bn_input_data.reshape([6103, 21])\n",
        "bn_input_data = bn_input_data.astype(int)"
      ],
      "metadata": {
        "id": "QZcQryxWcXXJ"
      },
      "execution_count": 47,
      "outputs": []
    },
    {
      "cell_type": "code",
      "source": [
        "bn_input_data.shape"
      ],
      "metadata": {
        "colab": {
          "base_uri": "https://localhost:8080/"
        },
        "id": "VqUG9IPVf43w",
        "outputId": "52763d64-52fb-4237-d1a9-bbcbb29d336f"
      },
      "execution_count": 48,
      "outputs": [
        {
          "output_type": "execute_result",
          "data": {
            "text/plain": [
              "(6103, 21)"
            ]
          },
          "metadata": {},
          "execution_count": 48
        }
      ]
    },
    {
      "cell_type": "code",
      "source": [
        "columns = [x for x in range(3000)]\n",
        "index = [y for y in range(bn_input_data.shape[0])]\n",
        "\n",
        "\n",
        "bn_input_df = pd.DataFrame(index=index, columns=columns)\n",
        "bn_input_df = bn_input_df.fillna(0)\n",
        "\n",
        "for index, line in enumerate(bn_input_data):\n",
        "    for elem in set(line):\n",
        "        if elem < 100:\n",
        "            bn_input_df.iloc[index,elem] = 1\n",
        "        else:\n",
        "            bn_input_df.iloc[index,0] = 1"
      ],
      "metadata": {
        "id": "WW3rsSaAeNCs"
      },
      "execution_count": 49,
      "outputs": []
    },
    {
      "cell_type": "code",
      "source": [
        "# 정가를 피처에 추가해준다.\n",
        "\n",
        "bn_input_df = pd.concat([bn_input_df, df[\"price_og\"]], axis=1)"
      ],
      "metadata": {
        "id": "45bEursTXRvT"
      },
      "execution_count": 50,
      "outputs": []
    },
    {
      "cell_type": "code",
      "source": [
        "bn_input_df.head(3)"
      ],
      "metadata": {
        "colab": {
          "base_uri": "https://localhost:8080/",
          "height": 173
        },
        "id": "_sn9B9b5XhHj",
        "outputId": "328ced48-bffd-4427-ea22-0f8ae9fa6a07"
      },
      "execution_count": 62,
      "outputs": [
        {
          "output_type": "execute_result",
          "data": {
            "text/plain": [
              "   0  1  2  3  4  5  6  7  8  9  ...  2991  2992  2993  2994  2995  2996  \\\n",
              "0  1  0  1  1  1  0  0  0  0  0  ...     0     0     0     0     0     0   \n",
              "1  1  0  1  1  1  0  0  0  0  0  ...     0     0     0     0     0     0   \n",
              "2  1  0  1  1  1  0  0  0  0  0  ...     0     0     0     0     0     0   \n",
              "\n",
              "   2997  2998  2999  price_og  \n",
              "0     0     0     0    129000  \n",
              "1     0     0     0    139000  \n",
              "2     0     0     0    169000  \n",
              "\n",
              "[3 rows x 3001 columns]"
            ],
            "text/html": [
              "\n",
              "  <div id=\"df-1ecfb3ed-a46a-4d45-9458-69dac6970a08\">\n",
              "    <div class=\"colab-df-container\">\n",
              "      <div>\n",
              "<style scoped>\n",
              "    .dataframe tbody tr th:only-of-type {\n",
              "        vertical-align: middle;\n",
              "    }\n",
              "\n",
              "    .dataframe tbody tr th {\n",
              "        vertical-align: top;\n",
              "    }\n",
              "\n",
              "    .dataframe thead th {\n",
              "        text-align: right;\n",
              "    }\n",
              "</style>\n",
              "<table border=\"1\" class=\"dataframe\">\n",
              "  <thead>\n",
              "    <tr style=\"text-align: right;\">\n",
              "      <th></th>\n",
              "      <th>0</th>\n",
              "      <th>1</th>\n",
              "      <th>2</th>\n",
              "      <th>3</th>\n",
              "      <th>4</th>\n",
              "      <th>5</th>\n",
              "      <th>6</th>\n",
              "      <th>7</th>\n",
              "      <th>8</th>\n",
              "      <th>9</th>\n",
              "      <th>...</th>\n",
              "      <th>2991</th>\n",
              "      <th>2992</th>\n",
              "      <th>2993</th>\n",
              "      <th>2994</th>\n",
              "      <th>2995</th>\n",
              "      <th>2996</th>\n",
              "      <th>2997</th>\n",
              "      <th>2998</th>\n",
              "      <th>2999</th>\n",
              "      <th>price_og</th>\n",
              "    </tr>\n",
              "  </thead>\n",
              "  <tbody>\n",
              "    <tr>\n",
              "      <th>0</th>\n",
              "      <td>1</td>\n",
              "      <td>0</td>\n",
              "      <td>1</td>\n",
              "      <td>1</td>\n",
              "      <td>1</td>\n",
              "      <td>0</td>\n",
              "      <td>0</td>\n",
              "      <td>0</td>\n",
              "      <td>0</td>\n",
              "      <td>0</td>\n",
              "      <td>...</td>\n",
              "      <td>0</td>\n",
              "      <td>0</td>\n",
              "      <td>0</td>\n",
              "      <td>0</td>\n",
              "      <td>0</td>\n",
              "      <td>0</td>\n",
              "      <td>0</td>\n",
              "      <td>0</td>\n",
              "      <td>0</td>\n",
              "      <td>129000</td>\n",
              "    </tr>\n",
              "    <tr>\n",
              "      <th>1</th>\n",
              "      <td>1</td>\n",
              "      <td>0</td>\n",
              "      <td>1</td>\n",
              "      <td>1</td>\n",
              "      <td>1</td>\n",
              "      <td>0</td>\n",
              "      <td>0</td>\n",
              "      <td>0</td>\n",
              "      <td>0</td>\n",
              "      <td>0</td>\n",
              "      <td>...</td>\n",
              "      <td>0</td>\n",
              "      <td>0</td>\n",
              "      <td>0</td>\n",
              "      <td>0</td>\n",
              "      <td>0</td>\n",
              "      <td>0</td>\n",
              "      <td>0</td>\n",
              "      <td>0</td>\n",
              "      <td>0</td>\n",
              "      <td>139000</td>\n",
              "    </tr>\n",
              "    <tr>\n",
              "      <th>2</th>\n",
              "      <td>1</td>\n",
              "      <td>0</td>\n",
              "      <td>1</td>\n",
              "      <td>1</td>\n",
              "      <td>1</td>\n",
              "      <td>0</td>\n",
              "      <td>0</td>\n",
              "      <td>0</td>\n",
              "      <td>0</td>\n",
              "      <td>0</td>\n",
              "      <td>...</td>\n",
              "      <td>0</td>\n",
              "      <td>0</td>\n",
              "      <td>0</td>\n",
              "      <td>0</td>\n",
              "      <td>0</td>\n",
              "      <td>0</td>\n",
              "      <td>0</td>\n",
              "      <td>0</td>\n",
              "      <td>0</td>\n",
              "      <td>169000</td>\n",
              "    </tr>\n",
              "  </tbody>\n",
              "</table>\n",
              "<p>3 rows × 3001 columns</p>\n",
              "</div>\n",
              "      <button class=\"colab-df-convert\" onclick=\"convertToInteractive('df-1ecfb3ed-a46a-4d45-9458-69dac6970a08')\"\n",
              "              title=\"Convert this dataframe to an interactive table.\"\n",
              "              style=\"display:none;\">\n",
              "        \n",
              "  <svg xmlns=\"http://www.w3.org/2000/svg\" height=\"24px\"viewBox=\"0 0 24 24\"\n",
              "       width=\"24px\">\n",
              "    <path d=\"M0 0h24v24H0V0z\" fill=\"none\"/>\n",
              "    <path d=\"M18.56 5.44l.94 2.06.94-2.06 2.06-.94-2.06-.94-.94-2.06-.94 2.06-2.06.94zm-11 1L8.5 8.5l.94-2.06 2.06-.94-2.06-.94L8.5 2.5l-.94 2.06-2.06.94zm10 10l.94 2.06.94-2.06 2.06-.94-2.06-.94-.94-2.06-.94 2.06-2.06.94z\"/><path d=\"M17.41 7.96l-1.37-1.37c-.4-.4-.92-.59-1.43-.59-.52 0-1.04.2-1.43.59L10.3 9.45l-7.72 7.72c-.78.78-.78 2.05 0 2.83L4 21.41c.39.39.9.59 1.41.59.51 0 1.02-.2 1.41-.59l7.78-7.78 2.81-2.81c.8-.78.8-2.07 0-2.86zM5.41 20L4 18.59l7.72-7.72 1.47 1.35L5.41 20z\"/>\n",
              "  </svg>\n",
              "      </button>\n",
              "      \n",
              "  <style>\n",
              "    .colab-df-container {\n",
              "      display:flex;\n",
              "      flex-wrap:wrap;\n",
              "      gap: 12px;\n",
              "    }\n",
              "\n",
              "    .colab-df-convert {\n",
              "      background-color: #E8F0FE;\n",
              "      border: none;\n",
              "      border-radius: 50%;\n",
              "      cursor: pointer;\n",
              "      display: none;\n",
              "      fill: #1967D2;\n",
              "      height: 32px;\n",
              "      padding: 0 0 0 0;\n",
              "      width: 32px;\n",
              "    }\n",
              "\n",
              "    .colab-df-convert:hover {\n",
              "      background-color: #E2EBFA;\n",
              "      box-shadow: 0px 1px 2px rgba(60, 64, 67, 0.3), 0px 1px 3px 1px rgba(60, 64, 67, 0.15);\n",
              "      fill: #174EA6;\n",
              "    }\n",
              "\n",
              "    [theme=dark] .colab-df-convert {\n",
              "      background-color: #3B4455;\n",
              "      fill: #D2E3FC;\n",
              "    }\n",
              "\n",
              "    [theme=dark] .colab-df-convert:hover {\n",
              "      background-color: #434B5C;\n",
              "      box-shadow: 0px 1px 3px 1px rgba(0, 0, 0, 0.15);\n",
              "      filter: drop-shadow(0px 1px 2px rgba(0, 0, 0, 0.3));\n",
              "      fill: #FFFFFF;\n",
              "    }\n",
              "  </style>\n",
              "\n",
              "      <script>\n",
              "        const buttonEl =\n",
              "          document.querySelector('#df-1ecfb3ed-a46a-4d45-9458-69dac6970a08 button.colab-df-convert');\n",
              "        buttonEl.style.display =\n",
              "          google.colab.kernel.accessAllowed ? 'block' : 'none';\n",
              "\n",
              "        async function convertToInteractive(key) {\n",
              "          const element = document.querySelector('#df-1ecfb3ed-a46a-4d45-9458-69dac6970a08');\n",
              "          const dataTable =\n",
              "            await google.colab.kernel.invokeFunction('convertToInteractive',\n",
              "                                                     [key], {});\n",
              "          if (!dataTable) return;\n",
              "\n",
              "          const docLinkHtml = 'Like what you see? Visit the ' +\n",
              "            '<a target=\"_blank\" href=https://colab.research.google.com/notebooks/data_table.ipynb>data table notebook</a>'\n",
              "            + ' to learn more about interactive tables.';\n",
              "          element.innerHTML = '';\n",
              "          dataTable['output_type'] = 'display_data';\n",
              "          await google.colab.output.renderOutput(dataTable, element);\n",
              "          const docLink = document.createElement('div');\n",
              "          docLink.innerHTML = docLinkHtml;\n",
              "          element.appendChild(docLink);\n",
              "        }\n",
              "      </script>\n",
              "    </div>\n",
              "  </div>\n",
              "  "
            ]
          },
          "metadata": {},
          "execution_count": 62
        }
      ]
    },
    {
      "cell_type": "code",
      "source": [
        "bn_input_df.shape"
      ],
      "metadata": {
        "colab": {
          "base_uri": "https://localhost:8080/"
        },
        "id": "qGfRWtw6liiB",
        "outputId": "2204f715-92c5-48e6-c264-3f1b8812c08a"
      },
      "execution_count": 51,
      "outputs": [
        {
          "output_type": "execute_result",
          "data": {
            "text/plain": [
              "(6103, 3001)"
            ]
          },
          "metadata": {},
          "execution_count": 51
        }
      ]
    },
    {
      "cell_type": "code",
      "source": [
        "# 신발의 브랜드와 이름은 리셀가격(신발의 본래 가치??)와 관련이 클 것 같아서 target데이터를 price_resell 로 설정함. \n",
        "\n",
        "target_data = np.array(df['price_resell'])\n",
        "print(target_data.shape)"
      ],
      "metadata": {
        "colab": {
          "base_uri": "https://localhost:8080/"
        },
        "id": "pD-bO2RWeG2y",
        "outputId": "4920e5cc-a57d-4d00-9c89-e1e572177f18"
      },
      "execution_count": 52,
      "outputs": [
        {
          "output_type": "stream",
          "name": "stdout",
          "text": [
            "(6103,)\n"
          ]
        }
      ]
    },
    {
      "cell_type": "code",
      "source": [
        "target_data.astype(int)"
      ],
      "metadata": {
        "colab": {
          "base_uri": "https://localhost:8080/"
        },
        "id": "JRKyTwC8e_A_",
        "outputId": "95224650-63aa-45c7-9765-c4e3a44718c0"
      },
      "execution_count": 53,
      "outputs": [
        {
          "output_type": "execute_result",
          "data": {
            "text/plain": [
              "array([152800, 136200, 173200, ..., 450000, 457500, 400000])"
            ]
          },
          "metadata": {},
          "execution_count": 53
        }
      ]
    },
    {
      "cell_type": "code",
      "source": [
        "for n in [10,30, 50]:\n",
        "    pca = PCA(n_components=n)\n",
        "    bn_pca = pca.fit_transform(bn_input_df)\n",
        "    bn_pca_df = pd.DataFrame(bn_pca)\n",
        "    print(sum(pca.explained_variance_ratio_))"
      ],
      "metadata": {
        "colab": {
          "base_uri": "https://localhost:8080/"
        },
        "id": "K44goIVOnt7I",
        "outputId": "562b0816-daf6-4415-b2b1-c3c1a08c14b5"
      },
      "execution_count": 54,
      "outputs": [
        {
          "output_type": "stream",
          "name": "stdout",
          "text": [
            "0.9999999999293424\n",
            "0.9999999999692845\n",
            "0.9999999999847982\n"
          ]
        }
      ]
    },
    {
      "cell_type": "code",
      "source": [
        "for n in [100,300,600]:\n",
        "    pca = PCA(n_components=n)\n",
        "    bn_pca = pca.fit_transform(bn_input_df)\n",
        "    bn_pca_df = pd.DataFrame(bn_pca)\n",
        "    print(sum(pca.explained_variance_ratio_))"
      ],
      "metadata": {
        "colab": {
          "base_uri": "https://localhost:8080/"
        },
        "id": "JfArPfyTnhbx",
        "outputId": "4f141f61-002a-4f9c-a8f8-9a5c96abbb8c"
      },
      "execution_count": 55,
      "outputs": [
        {
          "output_type": "stream",
          "name": "stdout",
          "text": [
            "0.9999999999999996\n",
            "0.9999999999999996\n",
            "0.9999999999999996\n"
          ]
        }
      ]
    },
    {
      "cell_type": "code",
      "source": [
        "# PCA의 차원을 늘리면서  K-fold를 사용해서 어떤 모델이 가장 효율적인지 살펴보겠다. \n",
        "\n",
        "for n in [30, 50]:\n",
        "    pca = PCA(n_components=n)\n",
        "    bn_pca = pca.fit_transform(bn_input_df)\n",
        "    bn_pca_df = pd.DataFrame(bn_pca)\n",
        "\n",
        "    kf = KFold(n_splits = 5)\n",
        "    \n",
        "    rmse_list = []\n",
        "    for train_index, test_index in kf.split(target_data):\n",
        "        bn_pca_df_train, bn_pca_df_test = bn_pca_df.loc[train_index], bn_pca_df.loc[test_index]\n",
        "        target_data_train, target_data_test  = target_data[train_index], target_data[test_index]\n",
        "\n",
        "        reg = LinearRegression().fit(bn_pca_df_train, target_data_train)\n",
        "\n",
        "        pred = reg.predict(bn_pca_df_test)\n",
        "        rmse = mean_squared_error(pred, target_data_test, squared=False)\n",
        "        rmse_list.append(rmse)\n",
        "        # print(rmse)\n",
        "        \n",
        "    print(\"PCA:\", n, \"rmse:\", round(np.mean(rmse_list)))"
      ],
      "metadata": {
        "colab": {
          "base_uri": "https://localhost:8080/"
        },
        "id": "YV7sCLJpGh0X",
        "outputId": "d9085d84-d5b7-4143-af24-f71e5c12bed0"
      },
      "execution_count": 56,
      "outputs": [
        {
          "output_type": "stream",
          "name": "stdout",
          "text": [
            "PCA: 30 rmse: 308766\n",
            "PCA: 50 rmse: 458043\n"
          ]
        }
      ]
    },
    {
      "cell_type": "code",
      "source": [
        "# PCA의 차원을 늘리면서  K-fold를 사용해서 어떤 모델이 가장 효율적인지 살펴보겠다. \n",
        "\n",
        "from lightgbm import LGBMRegressor\n",
        "\n",
        "for n in (10, 30, 50, 100):\n",
        "    pca = PCA(n_components=n)\n",
        "    bn_pca = pca.fit_transform(bn_input_df)\n",
        "    bn_pca_df = pd.DataFrame(bn_pca)\n",
        "\n",
        "    kf = KFold(n_splits = 5)\n",
        "    \n",
        "    rmse_list = []\n",
        "    for train_index, test_index in kf.split(target_data):\n",
        "        bn_pca_df_train, bn_pca_df_test = bn_pca_df.loc[train_index], bn_pca_df.loc[test_index]\n",
        "        target_data_train, target_data_test  = target_data[train_index], target_data[test_index]\n",
        "        \n",
        "        lgbm_reg = LGBMRegressor().fit(bn_pca_df_train, target_data_train)\n",
        "\n",
        "        pred = lgbm_reg.predict(bn_pca_df_test)\n",
        "        rmse = mean_squared_error(pred, target_data_test, squared=False)\n",
        "        rmse_list.append(rmse)\n",
        "        # print(rmse)\n",
        "        \n",
        "    print(\"PCA:\", n, \"rmse:\", round(np.mean(rmse_list)))"
      ],
      "metadata": {
        "colab": {
          "base_uri": "https://localhost:8080/"
        },
        "id": "CD8MGzJicNlS",
        "outputId": "9419ec73-9e57-42a7-f040-7479c3a5dfc8"
      },
      "execution_count": 61,
      "outputs": [
        {
          "output_type": "stream",
          "name": "stdout",
          "text": [
            "PCA: 10 rmse: 282859\n",
            "PCA: 30 rmse: 286216\n",
            "PCA: 50 rmse: 290094\n",
            "PCA: 100 rmse: 286127\n"
          ]
        }
      ]
    },
    {
      "cell_type": "code",
      "source": [
        "for n in [32,64]:\n",
        "    pca = PCA(n_components=n)\n",
        "    bn_pca = pca.fit_transform(bn_input_df)\n",
        "    bn_pca_df = pd.DataFrame(bn_pca)\n",
        "\n",
        "    kf = KFold(n_splits = 5)\n",
        "\n",
        "    rmse_list = []\n",
        "    for train_index, test_index in kf.split(target_data):\n",
        "        bn_pca_df_train, bn_pca_df_test = bn_pca_df.loc[train_index], bn_pca_df.loc[test_index]\n",
        "        target_data_train, target_data_test  = target_data[train_index], target_data[test_index]\n",
        "\n",
        "        model = keras.models.Sequential([\n",
        "                keras.layers.Dense(16),\n",
        "                keras.layers.Dense(8),\n",
        "                keras.layers.Dense(1)\n",
        "        ])\n",
        "\n",
        "        model.compile(loss=\"mse\")\n",
        "        model.fit(bn_pca_df_train,target_data_train, epochs=20, verbose=0)\n",
        "        pred = model.predict(bn_pca_df_test, verbose=0)\n",
        "        rmse = mean_squared_error(target_data_test,pred, squared= False)\n",
        "\n",
        "        rmse_list.append(rmse)\n",
        "    print(\"PCA:\", n, \"rmse:\", round(np.mean(rmse_list)))"
      ],
      "metadata": {
        "colab": {
          "base_uri": "https://localhost:8080/"
        },
        "id": "B--B4m8kj74F",
        "outputId": "a338841f-1010-4c5e-997d-2aeb4693dd44"
      },
      "execution_count": 58,
      "outputs": [
        {
          "output_type": "stream",
          "name": "stdout",
          "text": [
            "PCA: 32 rmse: 380003\n",
            "PCA: 64 rmse: 380571\n"
          ]
        }
      ]
    },
    {
      "cell_type": "markdown",
      "source": [
        "여러 가지를 실험해봤는데....\n",
        "\n",
        "- 주성분을 30개~50개로 축소한 lgbm 모델이 적절할듯 하다."
      ],
      "metadata": {
        "id": "5HgVyhRkcHWd"
      }
    },
    {
      "cell_type": "code",
      "source": [],
      "metadata": {
        "id": "pu2Po5lUgFTp"
      },
      "execution_count": null,
      "outputs": []
    }
  ]
}