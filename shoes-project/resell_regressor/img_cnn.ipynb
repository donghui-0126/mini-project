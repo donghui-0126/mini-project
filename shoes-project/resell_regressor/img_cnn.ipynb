{
  "nbformat": 4,
  "nbformat_minor": 0,
  "metadata": {
    "colab": {
      "provenance": [],
      "gpuType": "T4"
    },
    "kernelspec": {
      "name": "python3",
      "display_name": "Python 3"
    },
    "language_info": {
      "name": "python"
    },
    "accelerator": "GPU"
  },
  "cells": [
    {
      "cell_type": "markdown",
      "metadata": {
        "id": "view-in-github"
      },
      "source": [
        "<a href=\"https://colab.research.google.com/github/donghui-0126/mini-project/blob/main/shoes-project/resell_regressor/img_CNN.ipynb\" target=\"_parent\"><img src=\"https://colab.research.google.com/assets/colab-badge.svg\" alt=\"Open In Colab\"/></a>"
      ]
    },
    {
      "cell_type": "code",
      "source": [
        "pip install Pillow"
      ],
      "metadata": {
        "colab": {
          "base_uri": "https://localhost:8080/"
        },
        "id": "uLNVpSntjR-8",
        "outputId": "fb1e84e4-91e4-43f1-89e7-e0dbd2778c1f"
      },
      "execution_count": 1,
      "outputs": [
        {
          "output_type": "stream",
          "name": "stdout",
          "text": [
            "Looking in indexes: https://pypi.org/simple, https://us-python.pkg.dev/colab-wheels/public/simple/\n",
            "Requirement already satisfied: Pillow in /usr/local/lib/python3.10/dist-packages (8.4.0)\n"
          ]
        }
      ]
    },
    {
      "cell_type": "code",
      "source": [
        "pip install opencv-python"
      ],
      "metadata": {
        "colab": {
          "base_uri": "https://localhost:8080/"
        },
        "id": "wB0_lqNziEEK",
        "outputId": "e1e504c7-3124-4e7f-aa58-ba7ff93ed4a0"
      },
      "execution_count": 2,
      "outputs": [
        {
          "output_type": "stream",
          "name": "stdout",
          "text": [
            "Looking in indexes: https://pypi.org/simple, https://us-python.pkg.dev/colab-wheels/public/simple/\n",
            "Requirement already satisfied: opencv-python in /usr/local/lib/python3.10/dist-packages (4.7.0.72)\n",
            "Requirement already satisfied: numpy>=1.21.2 in /usr/local/lib/python3.10/dist-packages (from opencv-python) (1.22.4)\n"
          ]
        }
      ]
    },
    {
      "cell_type": "code",
      "source": [],
      "metadata": {
        "id": "9jKM7JaKKjx1"
      },
      "execution_count": null,
      "outputs": []
    },
    {
      "cell_type": "code",
      "execution_count": 3,
      "metadata": {
        "id": "uxAT1Bw-Xpy5"
      },
      "outputs": [],
      "source": [
        "from PIL import Image\n",
        "import cv2\n",
        "import numpy as np\n",
        "import pandas as pd\n",
        "import tensorflow as tf\n",
        "from tensorflow import keras\n",
        "from sklearn.linear_model import LinearRegression\n",
        "import warnings\n",
        "from sklearn.decomposition import PCA\n",
        "from sklearn.model_selection import KFold\n",
        "from sklearn.metrics import mean_squared_error\n",
        "from sklearn.model_selection import KFold\n",
        "\n",
        "\n",
        "warnings.filterwarnings('ignore')     "
      ]
    },
    {
      "cell_type": "code",
      "source": [
        "from google.colab import drive\n",
        "drive.mount('/content/drive')"
      ],
      "metadata": {
        "colab": {
          "base_uri": "https://localhost:8080/"
        },
        "id": "Nt0Rnsj-dYGu",
        "outputId": "5d874112-7983-4979-af0f-320cf6014318"
      },
      "execution_count": 4,
      "outputs": [
        {
          "output_type": "stream",
          "name": "stdout",
          "text": [
            "Mounted at /content/drive\n"
          ]
        }
      ]
    },
    {
      "cell_type": "code",
      "source": [
        "df = pd.read_csv('/content/drive/MyDrive/kream_data/product_data_dpp.csv')\n",
        "df = df[['img_path', 'brand', 'price_resell']]\n",
        "df.head()"
      ],
      "metadata": {
        "colab": {
          "base_uri": "https://localhost:8080/",
          "height": 206
        },
        "id": "z4jAxuzFdYaS",
        "outputId": "b7d388e3-1e94-4bac-9904-92384f1a95e0"
      },
      "execution_count": 55,
      "outputs": [
        {
          "output_type": "execute_result",
          "data": {
            "text/plain": [
              "                                    img_path brand  price_resell\n",
              "0  crawling\\product_crawling\\image\\28029.jpg  Nike        152800\n",
              "1  crawling\\product_crawling\\image\\12831.jpg  Nike        136200\n",
              "2  crawling\\product_crawling\\image\\21935.jpg  Nike        173200\n",
              "3  crawling\\product_crawling\\image\\44653.jpg  Nike        281400\n",
              "4  crawling\\product_crawling\\image\\89548.jpg  Nike        258000"
            ],
            "text/html": [
              "\n",
              "  <div id=\"df-15e4017a-71ba-4d16-9876-be637e0451de\">\n",
              "    <div class=\"colab-df-container\">\n",
              "      <div>\n",
              "<style scoped>\n",
              "    .dataframe tbody tr th:only-of-type {\n",
              "        vertical-align: middle;\n",
              "    }\n",
              "\n",
              "    .dataframe tbody tr th {\n",
              "        vertical-align: top;\n",
              "    }\n",
              "\n",
              "    .dataframe thead th {\n",
              "        text-align: right;\n",
              "    }\n",
              "</style>\n",
              "<table border=\"1\" class=\"dataframe\">\n",
              "  <thead>\n",
              "    <tr style=\"text-align: right;\">\n",
              "      <th></th>\n",
              "      <th>img_path</th>\n",
              "      <th>brand</th>\n",
              "      <th>price_resell</th>\n",
              "    </tr>\n",
              "  </thead>\n",
              "  <tbody>\n",
              "    <tr>\n",
              "      <th>0</th>\n",
              "      <td>crawling\\product_crawling\\image\\28029.jpg</td>\n",
              "      <td>Nike</td>\n",
              "      <td>152800</td>\n",
              "    </tr>\n",
              "    <tr>\n",
              "      <th>1</th>\n",
              "      <td>crawling\\product_crawling\\image\\12831.jpg</td>\n",
              "      <td>Nike</td>\n",
              "      <td>136200</td>\n",
              "    </tr>\n",
              "    <tr>\n",
              "      <th>2</th>\n",
              "      <td>crawling\\product_crawling\\image\\21935.jpg</td>\n",
              "      <td>Nike</td>\n",
              "      <td>173200</td>\n",
              "    </tr>\n",
              "    <tr>\n",
              "      <th>3</th>\n",
              "      <td>crawling\\product_crawling\\image\\44653.jpg</td>\n",
              "      <td>Nike</td>\n",
              "      <td>281400</td>\n",
              "    </tr>\n",
              "    <tr>\n",
              "      <th>4</th>\n",
              "      <td>crawling\\product_crawling\\image\\89548.jpg</td>\n",
              "      <td>Nike</td>\n",
              "      <td>258000</td>\n",
              "    </tr>\n",
              "  </tbody>\n",
              "</table>\n",
              "</div>\n",
              "      <button class=\"colab-df-convert\" onclick=\"convertToInteractive('df-15e4017a-71ba-4d16-9876-be637e0451de')\"\n",
              "              title=\"Convert this dataframe to an interactive table.\"\n",
              "              style=\"display:none;\">\n",
              "        \n",
              "  <svg xmlns=\"http://www.w3.org/2000/svg\" height=\"24px\"viewBox=\"0 0 24 24\"\n",
              "       width=\"24px\">\n",
              "    <path d=\"M0 0h24v24H0V0z\" fill=\"none\"/>\n",
              "    <path d=\"M18.56 5.44l.94 2.06.94-2.06 2.06-.94-2.06-.94-.94-2.06-.94 2.06-2.06.94zm-11 1L8.5 8.5l.94-2.06 2.06-.94-2.06-.94L8.5 2.5l-.94 2.06-2.06.94zm10 10l.94 2.06.94-2.06 2.06-.94-2.06-.94-.94-2.06-.94 2.06-2.06.94z\"/><path d=\"M17.41 7.96l-1.37-1.37c-.4-.4-.92-.59-1.43-.59-.52 0-1.04.2-1.43.59L10.3 9.45l-7.72 7.72c-.78.78-.78 2.05 0 2.83L4 21.41c.39.39.9.59 1.41.59.51 0 1.02-.2 1.41-.59l7.78-7.78 2.81-2.81c.8-.78.8-2.07 0-2.86zM5.41 20L4 18.59l7.72-7.72 1.47 1.35L5.41 20z\"/>\n",
              "  </svg>\n",
              "      </button>\n",
              "      \n",
              "  <style>\n",
              "    .colab-df-container {\n",
              "      display:flex;\n",
              "      flex-wrap:wrap;\n",
              "      gap: 12px;\n",
              "    }\n",
              "\n",
              "    .colab-df-convert {\n",
              "      background-color: #E8F0FE;\n",
              "      border: none;\n",
              "      border-radius: 50%;\n",
              "      cursor: pointer;\n",
              "      display: none;\n",
              "      fill: #1967D2;\n",
              "      height: 32px;\n",
              "      padding: 0 0 0 0;\n",
              "      width: 32px;\n",
              "    }\n",
              "\n",
              "    .colab-df-convert:hover {\n",
              "      background-color: #E2EBFA;\n",
              "      box-shadow: 0px 1px 2px rgba(60, 64, 67, 0.3), 0px 1px 3px 1px rgba(60, 64, 67, 0.15);\n",
              "      fill: #174EA6;\n",
              "    }\n",
              "\n",
              "    [theme=dark] .colab-df-convert {\n",
              "      background-color: #3B4455;\n",
              "      fill: #D2E3FC;\n",
              "    }\n",
              "\n",
              "    [theme=dark] .colab-df-convert:hover {\n",
              "      background-color: #434B5C;\n",
              "      box-shadow: 0px 1px 3px 1px rgba(0, 0, 0, 0.15);\n",
              "      filter: drop-shadow(0px 1px 2px rgba(0, 0, 0, 0.3));\n",
              "      fill: #FFFFFF;\n",
              "    }\n",
              "  </style>\n",
              "\n",
              "      <script>\n",
              "        const buttonEl =\n",
              "          document.querySelector('#df-15e4017a-71ba-4d16-9876-be637e0451de button.colab-df-convert');\n",
              "        buttonEl.style.display =\n",
              "          google.colab.kernel.accessAllowed ? 'block' : 'none';\n",
              "\n",
              "        async function convertToInteractive(key) {\n",
              "          const element = document.querySelector('#df-15e4017a-71ba-4d16-9876-be637e0451de');\n",
              "          const dataTable =\n",
              "            await google.colab.kernel.invokeFunction('convertToInteractive',\n",
              "                                                     [key], {});\n",
              "          if (!dataTable) return;\n",
              "\n",
              "          const docLinkHtml = 'Like what you see? Visit the ' +\n",
              "            '<a target=\"_blank\" href=https://colab.research.google.com/notebooks/data_table.ipynb>data table notebook</a>'\n",
              "            + ' to learn more about interactive tables.';\n",
              "          element.innerHTML = '';\n",
              "          dataTable['output_type'] = 'display_data';\n",
              "          await google.colab.output.renderOutput(dataTable, element);\n",
              "          const docLink = document.createElement('div');\n",
              "          docLink.innerHTML = docLinkHtml;\n",
              "          element.appendChild(docLink);\n",
              "        }\n",
              "      </script>\n",
              "    </div>\n",
              "  </div>\n",
              "  "
            ]
          },
          "metadata": {},
          "execution_count": 55
        }
      ]
    },
    {
      "cell_type": "code",
      "source": [
        "drive_img_path_list = []\n",
        "\n",
        "for index,data in enumerate(df['img_path']):\n",
        "    drive_img_path = \"/content/drive/MyDrive/kream_data/image/\" + (data.split(\"\\\\\")[-1])\n",
        "    drive_img_path_list.append(drive_img_path)"
      ],
      "metadata": {
        "id": "FgP8RrEEd_oD"
      },
      "execution_count": 7,
      "outputs": []
    },
    {
      "cell_type": "code",
      "source": [
        "df[\"drive_img_path\"] = drive_img_path_list"
      ],
      "metadata": {
        "id": "wxGefZBshCA_"
      },
      "execution_count": 8,
      "outputs": []
    },
    {
      "cell_type": "code",
      "source": [
        "df.head(3)"
      ],
      "metadata": {
        "colab": {
          "base_uri": "https://localhost:8080/",
          "height": 143
        },
        "id": "1U-sOBvDdkCF",
        "outputId": "f52a4847-a513-43b3-cef5-70dea80442ee"
      },
      "execution_count": 9,
      "outputs": [
        {
          "output_type": "execute_result",
          "data": {
            "text/plain": [
              "                                    img_path brand  price_resell  \\\n",
              "0  crawling\\product_crawling\\image\\28029.jpg  Nike        152800   \n",
              "1  crawling\\product_crawling\\image\\12831.jpg  Nike        136200   \n",
              "2  crawling\\product_crawling\\image\\21935.jpg  Nike        173200   \n",
              "\n",
              "                                      drive_img_path  \n",
              "0  /content/drive/MyDrive/kream_data/image/28029.jpg  \n",
              "1  /content/drive/MyDrive/kream_data/image/12831.jpg  \n",
              "2  /content/drive/MyDrive/kream_data/image/21935.jpg  "
            ],
            "text/html": [
              "\n",
              "  <div id=\"df-b09ec270-9698-4c72-866b-a0c49b9f83a3\">\n",
              "    <div class=\"colab-df-container\">\n",
              "      <div>\n",
              "<style scoped>\n",
              "    .dataframe tbody tr th:only-of-type {\n",
              "        vertical-align: middle;\n",
              "    }\n",
              "\n",
              "    .dataframe tbody tr th {\n",
              "        vertical-align: top;\n",
              "    }\n",
              "\n",
              "    .dataframe thead th {\n",
              "        text-align: right;\n",
              "    }\n",
              "</style>\n",
              "<table border=\"1\" class=\"dataframe\">\n",
              "  <thead>\n",
              "    <tr style=\"text-align: right;\">\n",
              "      <th></th>\n",
              "      <th>img_path</th>\n",
              "      <th>brand</th>\n",
              "      <th>price_resell</th>\n",
              "      <th>drive_img_path</th>\n",
              "    </tr>\n",
              "  </thead>\n",
              "  <tbody>\n",
              "    <tr>\n",
              "      <th>0</th>\n",
              "      <td>crawling\\product_crawling\\image\\28029.jpg</td>\n",
              "      <td>Nike</td>\n",
              "      <td>152800</td>\n",
              "      <td>/content/drive/MyDrive/kream_data/image/28029.jpg</td>\n",
              "    </tr>\n",
              "    <tr>\n",
              "      <th>1</th>\n",
              "      <td>crawling\\product_crawling\\image\\12831.jpg</td>\n",
              "      <td>Nike</td>\n",
              "      <td>136200</td>\n",
              "      <td>/content/drive/MyDrive/kream_data/image/12831.jpg</td>\n",
              "    </tr>\n",
              "    <tr>\n",
              "      <th>2</th>\n",
              "      <td>crawling\\product_crawling\\image\\21935.jpg</td>\n",
              "      <td>Nike</td>\n",
              "      <td>173200</td>\n",
              "      <td>/content/drive/MyDrive/kream_data/image/21935.jpg</td>\n",
              "    </tr>\n",
              "  </tbody>\n",
              "</table>\n",
              "</div>\n",
              "      <button class=\"colab-df-convert\" onclick=\"convertToInteractive('df-b09ec270-9698-4c72-866b-a0c49b9f83a3')\"\n",
              "              title=\"Convert this dataframe to an interactive table.\"\n",
              "              style=\"display:none;\">\n",
              "        \n",
              "  <svg xmlns=\"http://www.w3.org/2000/svg\" height=\"24px\"viewBox=\"0 0 24 24\"\n",
              "       width=\"24px\">\n",
              "    <path d=\"M0 0h24v24H0V0z\" fill=\"none\"/>\n",
              "    <path d=\"M18.56 5.44l.94 2.06.94-2.06 2.06-.94-2.06-.94-.94-2.06-.94 2.06-2.06.94zm-11 1L8.5 8.5l.94-2.06 2.06-.94-2.06-.94L8.5 2.5l-.94 2.06-2.06.94zm10 10l.94 2.06.94-2.06 2.06-.94-2.06-.94-.94-2.06-.94 2.06-2.06.94z\"/><path d=\"M17.41 7.96l-1.37-1.37c-.4-.4-.92-.59-1.43-.59-.52 0-1.04.2-1.43.59L10.3 9.45l-7.72 7.72c-.78.78-.78 2.05 0 2.83L4 21.41c.39.39.9.59 1.41.59.51 0 1.02-.2 1.41-.59l7.78-7.78 2.81-2.81c.8-.78.8-2.07 0-2.86zM5.41 20L4 18.59l7.72-7.72 1.47 1.35L5.41 20z\"/>\n",
              "  </svg>\n",
              "      </button>\n",
              "      \n",
              "  <style>\n",
              "    .colab-df-container {\n",
              "      display:flex;\n",
              "      flex-wrap:wrap;\n",
              "      gap: 12px;\n",
              "    }\n",
              "\n",
              "    .colab-df-convert {\n",
              "      background-color: #E8F0FE;\n",
              "      border: none;\n",
              "      border-radius: 50%;\n",
              "      cursor: pointer;\n",
              "      display: none;\n",
              "      fill: #1967D2;\n",
              "      height: 32px;\n",
              "      padding: 0 0 0 0;\n",
              "      width: 32px;\n",
              "    }\n",
              "\n",
              "    .colab-df-convert:hover {\n",
              "      background-color: #E2EBFA;\n",
              "      box-shadow: 0px 1px 2px rgba(60, 64, 67, 0.3), 0px 1px 3px 1px rgba(60, 64, 67, 0.15);\n",
              "      fill: #174EA6;\n",
              "    }\n",
              "\n",
              "    [theme=dark] .colab-df-convert {\n",
              "      background-color: #3B4455;\n",
              "      fill: #D2E3FC;\n",
              "    }\n",
              "\n",
              "    [theme=dark] .colab-df-convert:hover {\n",
              "      background-color: #434B5C;\n",
              "      box-shadow: 0px 1px 3px 1px rgba(0, 0, 0, 0.15);\n",
              "      filter: drop-shadow(0px 1px 2px rgba(0, 0, 0, 0.3));\n",
              "      fill: #FFFFFF;\n",
              "    }\n",
              "  </style>\n",
              "\n",
              "      <script>\n",
              "        const buttonEl =\n",
              "          document.querySelector('#df-b09ec270-9698-4c72-866b-a0c49b9f83a3 button.colab-df-convert');\n",
              "        buttonEl.style.display =\n",
              "          google.colab.kernel.accessAllowed ? 'block' : 'none';\n",
              "\n",
              "        async function convertToInteractive(key) {\n",
              "          const element = document.querySelector('#df-b09ec270-9698-4c72-866b-a0c49b9f83a3');\n",
              "          const dataTable =\n",
              "            await google.colab.kernel.invokeFunction('convertToInteractive',\n",
              "                                                     [key], {});\n",
              "          if (!dataTable) return;\n",
              "\n",
              "          const docLinkHtml = 'Like what you see? Visit the ' +\n",
              "            '<a target=\"_blank\" href=https://colab.research.google.com/notebooks/data_table.ipynb>data table notebook</a>'\n",
              "            + ' to learn more about interactive tables.';\n",
              "          element.innerHTML = '';\n",
              "          dataTable['output_type'] = 'display_data';\n",
              "          await google.colab.output.renderOutput(dataTable, element);\n",
              "          const docLink = document.createElement('div');\n",
              "          docLink.innerHTML = docLinkHtml;\n",
              "          element.appendChild(docLink);\n",
              "        }\n",
              "      </script>\n",
              "    </div>\n",
              "  </div>\n",
              "  "
            ]
          },
          "metadata": {},
          "execution_count": 9
        }
      ]
    },
    {
      "cell_type": "code",
      "source": [
        "pixel_list = []\n",
        "for n,url in enumerate(df['drive_img_path']):\n",
        "    img_name = (url)\n",
        "    im = Image.open(img_name)\n",
        "    pix = np.array(im)\n",
        "\n",
        "    print(\"\\r{}\".format(n), end=\"\")\n",
        "\n",
        "    pixel_list.append(pix)\n",
        "df['pixel'] = pixel_list"
      ],
      "metadata": {
        "id": "JvFHPkHIidgo"
      },
      "execution_count": null,
      "outputs": []
    },
    {
      "cell_type": "code",
      "source": [
        "df[\"pixel\"].head()"
      ],
      "metadata": {
        "colab": {
          "base_uri": "https://localhost:8080/"
        },
        "id": "QXEoJH5QCNsG",
        "outputId": "3c4922b2-b82f-4140-e602-2ae2b8808ada"
      },
      "execution_count": null,
      "outputs": [
        {
          "output_type": "execute_result",
          "data": {
            "text/plain": [
              "0    [[0 0 0 ... 0 0 0]\\n [0 0 0 ... 0 0 0]\\n [0 0 ...\n",
              "1    [[255 255 255 ... 255 255 255]\\n [255 255 255 ...\n",
              "2    [[255 255 255 ... 255 255 255]\\n [255 255 255 ...\n",
              "3    [[255 255 255 ... 255 255 255]\\n [255 255 255 ...\n",
              "4    [[255 255 255 ... 255 255 255]\\n [255 255 255 ...\n",
              "Name: pixel, dtype: object"
            ]
          },
          "metadata": {},
          "execution_count": 11
        }
      ]
    },
    {
      "cell_type": "code",
      "source": [
        "df.head(3)"
      ],
      "metadata": {
        "id": "BkpP8oyiCNtZ"
      },
      "execution_count": null,
      "outputs": []
    },
    {
      "cell_type": "code",
      "source": [
        "# df.to_csv(\"/content/drive/MyDrive/kream_data/product_data_dpp.csv\")"
      ],
      "metadata": {
        "id": "D5DZFoFAGqV1"
      },
      "execution_count": null,
      "outputs": []
    },
    {
      "cell_type": "code",
      "source": [
        "# pixel_data= np.array(df[\"pixel\"])"
      ],
      "metadata": {
        "id": "BjgbO-9uLEdn"
      },
      "execution_count": 13,
      "outputs": []
    },
    {
      "cell_type": "code",
      "source": [
        "# pd.DataFrame(pixel_data).head()"
      ],
      "metadata": {
        "id": "7GPKO-yvOLdu"
      },
      "execution_count": null,
      "outputs": []
    },
    {
      "cell_type": "code",
      "source": [
        "# pixel = np.concatenate(pixel_data, axis=0).reshape((6103,256,256,1))"
      ],
      "metadata": {
        "id": "2_n2ZcsCK33Z"
      },
      "execution_count": null,
      "outputs": []
    },
    {
      "cell_type": "code",
      "source": [
        "# pixel.shape"
      ],
      "metadata": {
        "id": "zux6wvYzJ5vY"
      },
      "execution_count": null,
      "outputs": []
    },
    {
      "cell_type": "code",
      "source": [
        "# np.save('/content/drive/MyDrive/kream_data/pixel_data', pixel)"
      ],
      "metadata": {
        "id": "j0orBLp0ROyY"
      },
      "execution_count": null,
      "outputs": []
    },
    {
      "cell_type": "code",
      "source": [
        "df = pd.read_csv(\"/content/drive/MyDrive/kream_data/product_data_dpp.csv\")"
      ],
      "metadata": {
        "id": "tXy_Ldx0JDDV"
      },
      "execution_count": 148,
      "outputs": []
    },
    {
      "cell_type": "code",
      "source": [
        "pixel = np.load('/content/drive/MyDrive/kream_data/pixel_data.npy')\n",
        "pixel.shape"
      ],
      "metadata": {
        "colab": {
          "base_uri": "https://localhost:8080/"
        },
        "id": "nGizpQxARuPc",
        "outputId": "54bfe6b4-c98b-4bea-8006-9b7e63d585d2"
      },
      "execution_count": 149,
      "outputs": [
        {
          "output_type": "execute_result",
          "data": {
            "text/plain": [
              "(6103, 256, 256, 1)"
            ]
          },
          "metadata": {},
          "execution_count": 149
        }
      ]
    },
    {
      "cell_type": "code",
      "source": [
        "pixel = pixel/255."
      ],
      "metadata": {
        "id": "K0JzGG8Jle30"
      },
      "execution_count": 150,
      "outputs": []
    },
    {
      "cell_type": "code",
      "source": [
        "pixel = pixel.astype(np.float32)"
      ],
      "metadata": {
        "id": "EEgMUwMRmB7a"
      },
      "execution_count": 151,
      "outputs": []
    },
    {
      "cell_type": "code",
      "source": [
        "nike_index = df[df['brand']=='Nike'].index\n",
        "Jordan_index = df[df['brand']=='Jordan'].index"
      ],
      "metadata": {
        "id": "V13AUjicBRdK"
      },
      "execution_count": 152,
      "outputs": []
    },
    {
      "cell_type": "code",
      "source": [
        "nike_X = pixel[nike_index]\n",
        "Jordan_X = pixel[Jordan_index]\n",
        "\n",
        "nike_y = df.loc[nike_index,'price_resell'] / 10000\n",
        "Jordan_y = df.loc[Jordan_index,'price_resell'] / 10000\n"
      ],
      "metadata": {
        "id": "rRDvCv-2BRtg"
      },
      "execution_count": 159,
      "outputs": []
    },
    {
      "cell_type": "code",
      "source": [
        "from sklearn.model_selection import train_test_split\n",
        "\n",
        "nike_train_X, nike_test_X, nike_train_y, nike_test_y = train_test_split(nike_X, nike_y, test_size=0.3, shuffle=True)\n",
        "nike_valid_X, nike_test_X, nike_valid_y, nike_test_y = train_test_split(nike_test_X, nike_test_y, test_size=0.5)\n",
        "\n",
        "jordan_train_X, jordan_test_X, jordan_train_y, jordan_test_y = train_test_split(Jordan_X, Jordan_y, test_size=0.3, shuffle=True)\n",
        "jordan_valid_X, jordan_test_X, jordan_valid_y, jordan_test_y = train_test_split(jordan_test_X, jordan_test_y, test_size=0.5)"
      ],
      "metadata": {
        "id": "PrxUI2mnBSAL"
      },
      "execution_count": 160,
      "outputs": []
    },
    {
      "cell_type": "code",
      "source": [
        "%cd /content/drive/MyDrive/kream_data/model"
      ],
      "metadata": {
        "colab": {
          "base_uri": "https://localhost:8080/"
        },
        "id": "SoOEbvyxfR48",
        "outputId": "f1a9c62e-38c7-486b-fcd2-941b6430a1ed"
      },
      "execution_count": 161,
      "outputs": [
        {
          "output_type": "stream",
          "name": "stdout",
          "text": [
            "/content/drive/MyDrive/kream_data/model\n"
          ]
        }
      ]
    },
    {
      "cell_type": "code",
      "source": [
        "from tensorflow.keras.callbacks import EarlyStopping, ModelCheckpoint\n",
        "\n",
        "es=EarlyStopping(monitor='val_loss', mode='min', verbose=1, patience=30)\n",
        "mc_nike=ModelCheckpoint('nike_img_best_model.h5', monitor='val_loss', verbose=1, save_best_only=True)\n",
        "mc_jordan=ModelCheckpoint('jordan_img_best_model.h5', monitor='val_loss', verbose=1, save_best_only=True)"
      ],
      "metadata": {
        "id": "51uAFnXGfFDU"
      },
      "execution_count": 162,
      "outputs": []
    },
    {
      "cell_type": "code",
      "source": [
        "input_shape=(256,256, 1)\n",
        "\n",
        "nike_img_model = keras.models.Sequential([\n",
        "    (keras.layers.Conv2D(32, (3, 3), input_shape=input_shape))\n",
        "    ,(keras.layers.Activation('relu'))\n",
        "    ,(keras.layers.MaxPooling2D(pool_size=(2, 2)))\n",
        "    ,(keras.layers.Conv2D(32, (3, 3)))\n",
        "    ,(keras.layers.Activation('relu'))\n",
        "    ,(keras.layers.MaxPooling2D(pool_size=(2, 2)))\n",
        "    ,(keras.layers.Conv2D(64, (3, 3)))\n",
        "    ,(keras.layers.Activation('relu'))\n",
        "    ,(keras.layers.MaxPooling2D(pool_size=(2, 2)))\n",
        "    ,(keras.layers.Flatten())\n",
        "    ,(keras.layers.Dense(64))\n",
        "    ,(keras.layers.Activation('relu'))\n",
        "    ,(keras.layers.Dropout(0.5))\n",
        "    ,(keras.layers.Dense(1))\n",
        "    ])\n",
        "\n",
        "nike_img_model.compile(optimizer=keras.optimizers.Adam(learning_rate=0.005), loss=tf.keras.losses.Huber(delta=3), metrics= [\"mean_absolute_percentage_error\"])\n",
        "\n",
        "nike_img_model.fit(nike_train_X, nike_train_y, batch_size=16, epochs=300, validation_data = (nike_valid_X,nike_valid_y),  callbacks=[es, mc_nike])"
      ],
      "metadata": {
        "id": "Ea38UzOUtGwj",
        "colab": {
          "base_uri": "https://localhost:8080/"
        },
        "outputId": "39f77948-7541-4003-b6f2-8b908bcf4641"
      },
      "execution_count": 163,
      "outputs": [
        {
          "output_type": "stream",
          "name": "stdout",
          "text": [
            "Epoch 1/300\n",
            "64/64 [==============================] - ETA: 0s - loss: 73.0467 - mean_absolute_percentage_error: 104.2977\n",
            "Epoch 1: val_loss improved from inf to 64.87867, saving model to nike_img_best_model.h5\n",
            "64/64 [==============================] - 9s 115ms/step - loss: 73.0467 - mean_absolute_percentage_error: 104.2977 - val_loss: 64.8787 - val_mean_absolute_percentage_error: 89.3609\n",
            "Epoch 2/300\n",
            "63/64 [============================>.] - ETA: 0s - loss: 59.6832 - mean_absolute_percentage_error: 78.3190\n",
            "Epoch 2: val_loss improved from 64.87867 to 50.05983, saving model to nike_img_best_model.h5\n",
            "64/64 [==============================] - 2s 30ms/step - loss: 59.5230 - mean_absolute_percentage_error: 78.0881 - val_loss: 50.0598 - val_mean_absolute_percentage_error: 61.9152\n",
            "Epoch 3/300\n",
            "64/64 [==============================] - ETA: 0s - loss: 40.9000 - mean_absolute_percentage_error: 47.2555\n",
            "Epoch 3: val_loss improved from 50.05983 to 32.47134, saving model to nike_img_best_model.h5\n",
            "64/64 [==============================] - 2s 26ms/step - loss: 40.9000 - mean_absolute_percentage_error: 47.2555 - val_loss: 32.4713 - val_mean_absolute_percentage_error: 38.0694\n",
            "Epoch 4/300\n",
            "64/64 [==============================] - ETA: 0s - loss: 34.0511 - mean_absolute_percentage_error: 44.4057\n",
            "Epoch 4: val_loss improved from 32.47134 to 30.11540, saving model to nike_img_best_model.h5\n",
            "64/64 [==============================] - 5s 77ms/step - loss: 34.0511 - mean_absolute_percentage_error: 44.4057 - val_loss: 30.1154 - val_mean_absolute_percentage_error: 41.4040\n",
            "Epoch 5/300\n",
            "63/64 [============================>.] - ETA: 0s - loss: 33.4203 - mean_absolute_percentage_error: 46.2526\n",
            "Epoch 5: val_loss improved from 30.11540 to 29.96683, saving model to nike_img_best_model.h5\n",
            "64/64 [==============================] - 2s 28ms/step - loss: 33.2647 - mean_absolute_percentage_error: 46.4200 - val_loss: 29.9668 - val_mean_absolute_percentage_error: 43.2762\n",
            "Epoch 6/300\n",
            "64/64 [==============================] - ETA: 0s - loss: 32.7973 - mean_absolute_percentage_error: 46.7480\n",
            "Epoch 6: val_loss improved from 29.96683 to 29.95839, saving model to nike_img_best_model.h5\n",
            "64/64 [==============================] - 3s 50ms/step - loss: 32.7973 - mean_absolute_percentage_error: 46.7480 - val_loss: 29.9584 - val_mean_absolute_percentage_error: 43.7736\n",
            "Epoch 7/300\n",
            "62/64 [============================>.] - ETA: 0s - loss: 32.8833 - mean_absolute_percentage_error: 46.3794\n",
            "Epoch 7: val_loss did not improve from 29.95839\n",
            "64/64 [==============================] - 2s 25ms/step - loss: 32.5384 - mean_absolute_percentage_error: 45.8796 - val_loss: 29.9597 - val_mean_absolute_percentage_error: 43.6358\n",
            "Epoch 8/300\n",
            "62/64 [============================>.] - ETA: 0s - loss: 32.9202 - mean_absolute_percentage_error: 46.6708\n",
            "Epoch 8: val_loss did not improve from 29.95839\n",
            "64/64 [==============================] - 2s 26ms/step - loss: 32.7380 - mean_absolute_percentage_error: 46.3814 - val_loss: 29.9841 - val_mean_absolute_percentage_error: 42.8411\n",
            "Epoch 9/300\n",
            "63/64 [============================>.] - ETA: 0s - loss: 32.5092 - mean_absolute_percentage_error: 44.8536\n",
            "Epoch 9: val_loss did not improve from 29.95839\n",
            "64/64 [==============================] - 2s 24ms/step - loss: 32.7037 - mean_absolute_percentage_error: 44.9411 - val_loss: 29.9602 - val_mean_absolute_percentage_error: 43.5919\n",
            "Epoch 10/300\n",
            "64/64 [==============================] - ETA: 0s - loss: 31.7890 - mean_absolute_percentage_error: 45.7636\n",
            "Epoch 10: val_loss did not improve from 29.95839\n",
            "64/64 [==============================] - 1s 23ms/step - loss: 31.7890 - mean_absolute_percentage_error: 45.7636 - val_loss: 29.9602 - val_mean_absolute_percentage_error: 44.2599\n",
            "Epoch 11/300\n",
            "64/64 [==============================] - ETA: 0s - loss: 32.0763 - mean_absolute_percentage_error: 43.9963\n",
            "Epoch 11: val_loss did not improve from 29.95839\n",
            "64/64 [==============================] - 2s 26ms/step - loss: 32.0763 - mean_absolute_percentage_error: 43.9963 - val_loss: 29.9597 - val_mean_absolute_percentage_error: 44.2131\n",
            "Epoch 12/300\n",
            "64/64 [==============================] - ETA: 0s - loss: 31.8588 - mean_absolute_percentage_error: 45.4811\n",
            "Epoch 12: val_loss improved from 29.95839 to 29.95806, saving model to nike_img_best_model.h5\n",
            "64/64 [==============================] - 4s 60ms/step - loss: 31.8588 - mean_absolute_percentage_error: 45.4811 - val_loss: 29.9581 - val_mean_absolute_percentage_error: 43.8429\n",
            "Epoch 13/300\n",
            "62/64 [============================>.] - ETA: 0s - loss: 32.4571 - mean_absolute_percentage_error: 44.8821\n",
            "Epoch 13: val_loss did not improve from 29.95806\n",
            "64/64 [==============================] - 2s 27ms/step - loss: 32.5122 - mean_absolute_percentage_error: 44.9404 - val_loss: 29.9875 - val_mean_absolute_percentage_error: 42.7765\n",
            "Epoch 14/300\n",
            "64/64 [==============================] - ETA: 0s - loss: 31.8770 - mean_absolute_percentage_error: 45.0931\n",
            "Epoch 14: val_loss did not improve from 29.95806\n",
            "64/64 [==============================] - 2s 26ms/step - loss: 31.8770 - mean_absolute_percentage_error: 45.0931 - val_loss: 29.9641 - val_mean_absolute_percentage_error: 43.3804\n",
            "Epoch 15/300\n",
            "63/64 [============================>.] - ETA: 0s - loss: 32.5114 - mean_absolute_percentage_error: 46.0839\n",
            "Epoch 15: val_loss did not improve from 29.95806\n",
            "64/64 [==============================] - 2s 29ms/step - loss: 32.5612 - mean_absolute_percentage_error: 46.0183 - val_loss: 29.9645 - val_mean_absolute_percentage_error: 43.3629\n",
            "Epoch 16/300\n",
            "64/64 [==============================] - ETA: 0s - loss: 32.1691 - mean_absolute_percentage_error: 45.2156\n",
            "Epoch 16: val_loss did not improve from 29.95806\n",
            "64/64 [==============================] - 2s 24ms/step - loss: 32.1691 - mean_absolute_percentage_error: 45.2156 - val_loss: 29.9591 - val_mean_absolute_percentage_error: 43.6904\n",
            "Epoch 17/300\n",
            "62/64 [============================>.] - ETA: 0s - loss: 32.5129 - mean_absolute_percentage_error: 46.4943\n",
            "Epoch 17: val_loss did not improve from 29.95806\n",
            "64/64 [==============================] - 2s 24ms/step - loss: 32.0743 - mean_absolute_percentage_error: 46.3718 - val_loss: 29.9581 - val_mean_absolute_percentage_error: 44.0112\n",
            "Epoch 18/300\n",
            "64/64 [==============================] - ETA: 0s - loss: 32.2479 - mean_absolute_percentage_error: 44.8915\n",
            "Epoch 18: val_loss improved from 29.95806 to 29.95802, saving model to nike_img_best_model.h5\n",
            "64/64 [==============================] - 2s 33ms/step - loss: 32.2479 - mean_absolute_percentage_error: 44.8915 - val_loss: 29.9580 - val_mean_absolute_percentage_error: 43.8560\n",
            "Epoch 19/300\n",
            "64/64 [==============================] - ETA: 0s - loss: 31.9369 - mean_absolute_percentage_error: 45.8824\n",
            "Epoch 19: val_loss did not improve from 29.95802\n",
            "64/64 [==============================] - 2s 26ms/step - loss: 31.9369 - mean_absolute_percentage_error: 45.8824 - val_loss: 29.9607 - val_mean_absolute_percentage_error: 43.5625\n",
            "Epoch 20/300\n",
            "64/64 [==============================] - ETA: 0s - loss: 32.2369 - mean_absolute_percentage_error: 44.5449\n",
            "Epoch 20: val_loss did not improve from 29.95802\n",
            "64/64 [==============================] - 2s 32ms/step - loss: 32.2369 - mean_absolute_percentage_error: 44.5449 - val_loss: 29.9581 - val_mean_absolute_percentage_error: 43.8205\n",
            "Epoch 21/300\n",
            "63/64 [============================>.] - ETA: 0s - loss: 32.2524 - mean_absolute_percentage_error: 45.0165\n",
            "Epoch 21: val_loss did not improve from 29.95802\n",
            "64/64 [==============================] - 2s 28ms/step - loss: 32.0529 - mean_absolute_percentage_error: 44.9522 - val_loss: 29.9672 - val_mean_absolute_percentage_error: 43.2632\n",
            "Epoch 22/300\n",
            "63/64 [============================>.] - ETA: 0s - loss: 31.8696 - mean_absolute_percentage_error: 45.0748\n",
            "Epoch 22: val_loss did not improve from 29.95802\n",
            "64/64 [==============================] - 2s 31ms/step - loss: 32.0232 - mean_absolute_percentage_error: 45.0660 - val_loss: 29.9705 - val_mean_absolute_percentage_error: 43.1593\n",
            "Epoch 23/300\n",
            "63/64 [============================>.] - ETA: 0s - loss: 32.5593 - mean_absolute_percentage_error: 44.9321\n",
            "Epoch 23: val_loss did not improve from 29.95802\n",
            "64/64 [==============================] - 2s 24ms/step - loss: 32.3885 - mean_absolute_percentage_error: 44.7967 - val_loss: 29.9581 - val_mean_absolute_percentage_error: 43.8330\n",
            "Epoch 24/300\n",
            "63/64 [============================>.] - ETA: 0s - loss: 31.5587 - mean_absolute_percentage_error: 43.7981\n",
            "Epoch 24: val_loss did not improve from 29.95802\n",
            "64/64 [==============================] - 2s 24ms/step - loss: 31.8803 - mean_absolute_percentage_error: 44.0764 - val_loss: 29.9922 - val_mean_absolute_percentage_error: 42.6926\n",
            "Epoch 25/300\n",
            "64/64 [==============================] - ETA: 0s - loss: 32.0032 - mean_absolute_percentage_error: 43.9924\n",
            "Epoch 25: val_loss did not improve from 29.95802\n",
            "64/64 [==============================] - 1s 23ms/step - loss: 32.0032 - mean_absolute_percentage_error: 43.9924 - val_loss: 29.9794 - val_mean_absolute_percentage_error: 42.9389\n",
            "Epoch 26/300\n",
            "62/64 [============================>.] - ETA: 0s - loss: 32.8596 - mean_absolute_percentage_error: 45.9814\n",
            "Epoch 26: val_loss did not improve from 29.95802\n",
            "64/64 [==============================] - 2s 26ms/step - loss: 32.4857 - mean_absolute_percentage_error: 45.8493 - val_loss: 29.9674 - val_mean_absolute_percentage_error: 43.2554\n",
            "Epoch 27/300\n",
            "62/64 [============================>.] - ETA: 0s - loss: 31.9020 - mean_absolute_percentage_error: 44.4981\n",
            "Epoch 27: val_loss did not improve from 29.95802\n",
            "64/64 [==============================] - 2s 24ms/step - loss: 31.7973 - mean_absolute_percentage_error: 44.7346 - val_loss: 29.9616 - val_mean_absolute_percentage_error: 43.5074\n",
            "Epoch 28/300\n",
            "62/64 [============================>.] - ETA: 0s - loss: 31.5633 - mean_absolute_percentage_error: 44.2928\n",
            "Epoch 28: val_loss did not improve from 29.95802\n",
            "64/64 [==============================] - 2s 25ms/step - loss: 31.8331 - mean_absolute_percentage_error: 44.2506 - val_loss: 29.9592 - val_mean_absolute_percentage_error: 43.6812\n",
            "Epoch 29/300\n",
            "63/64 [============================>.] - ETA: 0s - loss: 31.5573 - mean_absolute_percentage_error: 44.3636\n",
            "Epoch 29: val_loss did not improve from 29.95802\n",
            "64/64 [==============================] - 2s 25ms/step - loss: 31.6732 - mean_absolute_percentage_error: 44.2897 - val_loss: 29.9815 - val_mean_absolute_percentage_error: 42.8930\n",
            "Epoch 30/300\n",
            "62/64 [============================>.] - ETA: 0s - loss: 31.9131 - mean_absolute_percentage_error: 43.9444\n",
            "Epoch 30: val_loss did not improve from 29.95802\n",
            "64/64 [==============================] - 2s 28ms/step - loss: 31.7717 - mean_absolute_percentage_error: 43.7585 - val_loss: 29.9660 - val_mean_absolute_percentage_error: 43.3037\n",
            "Epoch 31/300\n",
            "64/64 [==============================] - ETA: 0s - loss: 31.5491 - mean_absolute_percentage_error: 43.8269\n",
            "Epoch 31: val_loss did not improve from 29.95802\n",
            "64/64 [==============================] - 2s 30ms/step - loss: 31.5491 - mean_absolute_percentage_error: 43.8269 - val_loss: 29.9783 - val_mean_absolute_percentage_error: 42.9622\n",
            "Epoch 32/300\n",
            "63/64 [============================>.] - ETA: 0s - loss: 32.1443 - mean_absolute_percentage_error: 44.2985\n",
            "Epoch 32: val_loss did not improve from 29.95802\n",
            "64/64 [==============================] - 2s 24ms/step - loss: 31.9734 - mean_absolute_percentage_error: 44.1810 - val_loss: 29.9593 - val_mean_absolute_percentage_error: 44.1784\n",
            "Epoch 33/300\n",
            "64/64 [==============================] - ETA: 0s - loss: 31.7119 - mean_absolute_percentage_error: 44.9997\n",
            "Epoch 33: val_loss did not improve from 29.95802\n",
            "64/64 [==============================] - 1s 23ms/step - loss: 31.7119 - mean_absolute_percentage_error: 44.9997 - val_loss: 29.9745 - val_mean_absolute_percentage_error: 43.0516\n",
            "Epoch 34/300\n",
            "64/64 [==============================] - ETA: 0s - loss: 32.0412 - mean_absolute_percentage_error: 45.2884\n",
            "Epoch 34: val_loss did not improve from 29.95802\n",
            "64/64 [==============================] - 2s 24ms/step - loss: 32.0412 - mean_absolute_percentage_error: 45.2884 - val_loss: 29.9662 - val_mean_absolute_percentage_error: 43.2987\n",
            "Epoch 35/300\n",
            "64/64 [==============================] - ETA: 0s - loss: 31.4298 - mean_absolute_percentage_error: 43.1783\n",
            "Epoch 35: val_loss did not improve from 29.95802\n",
            "64/64 [==============================] - 2s 24ms/step - loss: 31.4298 - mean_absolute_percentage_error: 43.1783 - val_loss: 29.9693 - val_mean_absolute_percentage_error: 44.6898\n",
            "Epoch 36/300\n",
            "63/64 [============================>.] - ETA: 0s - loss: 31.7094 - mean_absolute_percentage_error: 44.2599\n",
            "Epoch 36: val_loss did not improve from 29.95802\n",
            "64/64 [==============================] - 2s 24ms/step - loss: 31.7639 - mean_absolute_percentage_error: 44.3805 - val_loss: 29.9614 - val_mean_absolute_percentage_error: 43.5190\n",
            "Epoch 37/300\n",
            "64/64 [==============================] - ETA: 0s - loss: 31.4360 - mean_absolute_percentage_error: 44.4691\n",
            "Epoch 37: val_loss did not improve from 29.95802\n",
            "64/64 [==============================] - 2s 24ms/step - loss: 31.4360 - mean_absolute_percentage_error: 44.4691 - val_loss: 29.9590 - val_mean_absolute_percentage_error: 43.6996\n",
            "Epoch 38/300\n",
            "64/64 [==============================] - ETA: 0s - loss: 31.3965 - mean_absolute_percentage_error: 43.1227\n",
            "Epoch 38: val_loss did not improve from 29.95802\n",
            "64/64 [==============================] - 2s 26ms/step - loss: 31.3965 - mean_absolute_percentage_error: 43.1227 - val_loss: 29.9716 - val_mean_absolute_percentage_error: 44.7655\n",
            "Epoch 39/300\n",
            "63/64 [============================>.] - ETA: 0s - loss: 32.3752 - mean_absolute_percentage_error: 45.8375\n",
            "Epoch 39: val_loss did not improve from 29.95802\n",
            "64/64 [==============================] - 2s 26ms/step - loss: 32.1550 - mean_absolute_percentage_error: 45.6458 - val_loss: 29.9728 - val_mean_absolute_percentage_error: 44.8023\n",
            "Epoch 40/300\n",
            "64/64 [==============================] - ETA: 0s - loss: 31.8823 - mean_absolute_percentage_error: 45.4295\n",
            "Epoch 40: val_loss did not improve from 29.95802\n",
            "64/64 [==============================] - 2s 24ms/step - loss: 31.8823 - mean_absolute_percentage_error: 45.4295 - val_loss: 30.0025 - val_mean_absolute_percentage_error: 42.5254\n",
            "Epoch 41/300\n",
            "64/64 [==============================] - ETA: 0s - loss: 31.6226 - mean_absolute_percentage_error: 44.2005\n",
            "Epoch 41: val_loss did not improve from 29.95802\n",
            "64/64 [==============================] - 1s 23ms/step - loss: 31.6226 - mean_absolute_percentage_error: 44.2005 - val_loss: 29.9923 - val_mean_absolute_percentage_error: 42.6901\n",
            "Epoch 42/300\n",
            "64/64 [==============================] - ETA: 0s - loss: 32.1249 - mean_absolute_percentage_error: 44.4540\n",
            "Epoch 42: val_loss did not improve from 29.95802\n",
            "64/64 [==============================] - 2s 24ms/step - loss: 32.1249 - mean_absolute_percentage_error: 44.4540 - val_loss: 29.9901 - val_mean_absolute_percentage_error: 42.7283\n",
            "Epoch 43/300\n",
            "64/64 [==============================] - ETA: 0s - loss: 32.2732 - mean_absolute_percentage_error: 44.7869\n",
            "Epoch 43: val_loss did not improve from 29.95802\n",
            "64/64 [==============================] - 2s 24ms/step - loss: 32.2732 - mean_absolute_percentage_error: 44.7869 - val_loss: 29.9622 - val_mean_absolute_percentage_error: 43.4739\n",
            "Epoch 44/300\n",
            "64/64 [==============================] - ETA: 0s - loss: 31.8370 - mean_absolute_percentage_error: 44.5068\n",
            "Epoch 44: val_loss did not improve from 29.95802\n",
            "64/64 [==============================] - 2s 24ms/step - loss: 31.8370 - mean_absolute_percentage_error: 44.5068 - val_loss: 29.9990 - val_mean_absolute_percentage_error: 42.5797\n",
            "Epoch 45/300\n",
            "63/64 [============================>.] - ETA: 0s - loss: 31.7916 - mean_absolute_percentage_error: 42.9654\n",
            "Epoch 45: val_loss did not improve from 29.95802\n",
            "64/64 [==============================] - 2s 24ms/step - loss: 31.6394 - mean_absolute_percentage_error: 42.8788 - val_loss: 29.9728 - val_mean_absolute_percentage_error: 43.0970\n",
            "Epoch 46/300\n",
            "63/64 [============================>.] - ETA: 0s - loss: 31.7374 - mean_absolute_percentage_error: 44.8990\n",
            "Epoch 46: val_loss did not improve from 29.95802\n",
            "64/64 [==============================] - 2s 25ms/step - loss: 32.1094 - mean_absolute_percentage_error: 44.9780 - val_loss: 30.0335 - val_mean_absolute_percentage_error: 42.1205\n",
            "Epoch 47/300\n",
            "62/64 [============================>.] - ETA: 0s - loss: 31.9902 - mean_absolute_percentage_error: 44.4579\n",
            "Epoch 47: val_loss did not improve from 29.95802\n",
            "64/64 [==============================] - 2s 26ms/step - loss: 32.0167 - mean_absolute_percentage_error: 44.4307 - val_loss: 29.9592 - val_mean_absolute_percentage_error: 43.6734\n",
            "Epoch 48/300\n",
            "64/64 [==============================] - ETA: 0s - loss: 31.4757 - mean_absolute_percentage_error: 43.6027\n",
            "Epoch 48: val_loss did not improve from 29.95802\n",
            "64/64 [==============================] - 2s 26ms/step - loss: 31.4757 - mean_absolute_percentage_error: 43.6027 - val_loss: 30.0119 - val_mean_absolute_percentage_error: 45.6559\n",
            "Epoch 48: early stopping\n"
          ]
        },
        {
          "output_type": "execute_result",
          "data": {
            "text/plain": [
              "<keras.callbacks.History at 0x7f700a3b9b10>"
            ]
          },
          "metadata": {},
          "execution_count": 163
        }
      ]
    },
    {
      "cell_type": "code",
      "source": [
        "model = keras.models.load_model('nike_img_best_model.h5', custom_objects=None, compile=True)\n",
        "\n",
        "model.evaluate(nike_test_X, nike_test_y)"
      ],
      "metadata": {
        "colab": {
          "base_uri": "https://localhost:8080/"
        },
        "id": "lCuR5yu7na7Q",
        "outputId": "5305ce7e-7a32-43d1-b818-407144c7e304"
      },
      "execution_count": 164,
      "outputs": [
        {
          "output_type": "stream",
          "name": "stdout",
          "text": [
            "7/7 [==============================] - 1s 61ms/step - loss: 38.5838 - mean_absolute_percentage_error: 42.0992\n"
          ]
        },
        {
          "output_type": "execute_result",
          "data": {
            "text/plain": [
              "[38.583770751953125, 42.0992431640625]"
            ]
          },
          "metadata": {},
          "execution_count": 164
        }
      ]
    },
    {
      "cell_type": "code",
      "source": [
        "input_shape=(256,256, 1)\n",
        "\n",
        "nike_img_model = keras.models.Sequential([\n",
        "    (keras.layers.Conv2D(32, (3, 3), input_shape=input_shape))\n",
        "    ,(keras.layers.Activation('relu'))\n",
        "    ,(keras.layers.MaxPooling2D(pool_size=(2, 2)))\n",
        "    ,(keras.layers.Conv2D(32, (3, 3)))\n",
        "    ,(keras.layers.Activation('relu'))\n",
        "    ,(keras.layers.MaxPooling2D(pool_size=(2, 2)))\n",
        "    ,(keras.layers.Conv2D(64, (3, 3)))\n",
        "    ,(keras.layers.Activation('relu'))\n",
        "    ,(keras.layers.MaxPooling2D(pool_size=(2, 2)))\n",
        "    ,(keras.layers.Flatten())\n",
        "    ,(keras.layers.Dense(64))\n",
        "    ,(keras.layers.Activation('relu'))\n",
        "    ,(keras.layers.Dropout(0.5))\n",
        "    ,(keras.layers.Dense(1))\n",
        "    ])\n",
        "\n",
        "nike_img_model.compile(optimizer=keras.optimizers.Adam(learning_rate=0.005), loss=tf.keras.losses.Huber(delta=3), metrics= [\"mean_absolute_percentage_error\"])\n",
        "\n",
        "nike_img_model.fit(jordan_train_X, jordan_train_y, batch_size=16, epochs=300, validation_data = (jordan_valid_X,jordan_valid_y),  callbacks=[es, mc_jordan])"
      ],
      "metadata": {
        "id": "mbpkEschmpDo",
        "colab": {
          "base_uri": "https://localhost:8080/"
        },
        "outputId": "b5d72fec-d5f8-4c9e-8ce5-67088b8b7e0d"
      },
      "execution_count": 165,
      "outputs": [
        {
          "output_type": "stream",
          "name": "stdout",
          "text": [
            "Epoch 1/300\n",
            "61/61 [==============================] - ETA: 0s - loss: 59.6094 - mean_absolute_percentage_error: 56.5363\n",
            "Epoch 1: val_loss improved from inf to 46.45196, saving model to jordan_img_best_model.h5\n",
            "61/61 [==============================] - 5s 46ms/step - loss: 59.6094 - mean_absolute_percentage_error: 56.5363 - val_loss: 46.4520 - val_mean_absolute_percentage_error: 50.6816\n",
            "Epoch 2/300\n",
            "58/61 [===========================>..] - ETA: 0s - loss: 51.9162 - mean_absolute_percentage_error: 46.2538\n",
            "Epoch 2: val_loss did not improve from 46.45196\n",
            "61/61 [==============================] - 1s 23ms/step - loss: 52.9868 - mean_absolute_percentage_error: 46.1074 - val_loss: 48.1928 - val_mean_absolute_percentage_error: 57.0675\n",
            "Epoch 3/300\n",
            "60/61 [============================>.] - ETA: 0s - loss: 53.3441 - mean_absolute_percentage_error: 47.1060\n",
            "Epoch 3: val_loss improved from 46.45196 to 45.62363, saving model to jordan_img_best_model.h5\n",
            "61/61 [==============================] - 3s 45ms/step - loss: 53.2620 - mean_absolute_percentage_error: 47.0580 - val_loss: 45.6236 - val_mean_absolute_percentage_error: 46.2531\n",
            "Epoch 4/300\n",
            "60/61 [============================>.] - ETA: 0s - loss: 53.6894 - mean_absolute_percentage_error: 47.9556\n",
            "Epoch 4: val_loss did not improve from 45.62363\n",
            "61/61 [==============================] - 2s 25ms/step - loss: 53.5992 - mean_absolute_percentage_error: 47.9155 - val_loss: 47.8599 - val_mean_absolute_percentage_error: 56.0624\n",
            "Epoch 5/300\n",
            "58/61 [===========================>..] - ETA: 0s - loss: 54.5588 - mean_absolute_percentage_error: 49.3927\n",
            "Epoch 5: val_loss did not improve from 45.62363\n",
            "61/61 [==============================] - 1s 24ms/step - loss: 53.3844 - mean_absolute_percentage_error: 48.8873 - val_loss: 50.3834 - val_mean_absolute_percentage_error: 39.7635\n",
            "Epoch 6/300\n",
            "61/61 [==============================] - ETA: 0s - loss: 53.2077 - mean_absolute_percentage_error: 47.4194\n",
            "Epoch 6: val_loss did not improve from 45.62363\n",
            "61/61 [==============================] - 1s 24ms/step - loss: 53.2077 - mean_absolute_percentage_error: 47.4194 - val_loss: 47.0482 - val_mean_absolute_percentage_error: 53.3395\n",
            "Epoch 7/300\n",
            "61/61 [==============================] - ETA: 0s - loss: 53.8465 - mean_absolute_percentage_error: 48.8098\n",
            "Epoch 7: val_loss did not improve from 45.62363\n",
            "61/61 [==============================] - 1s 23ms/step - loss: 53.8465 - mean_absolute_percentage_error: 48.8098 - val_loss: 46.8646 - val_mean_absolute_percentage_error: 52.2185\n",
            "Epoch 8/300\n",
            "60/61 [============================>.] - ETA: 0s - loss: 53.7696 - mean_absolute_percentage_error: 47.0677\n",
            "Epoch 8: val_loss did not improve from 45.62363\n",
            "61/61 [==============================] - 1s 24ms/step - loss: 53.6755 - mean_absolute_percentage_error: 47.0435 - val_loss: 45.6323 - val_mean_absolute_percentage_error: 41.8371\n",
            "Epoch 9/300\n",
            "58/61 [===========================>..] - ETA: 0s - loss: 52.6303 - mean_absolute_percentage_error: 46.5791\n",
            "Epoch 9: val_loss did not improve from 45.62363\n",
            "61/61 [==============================] - 1s 24ms/step - loss: 52.0972 - mean_absolute_percentage_error: 46.4866 - val_loss: 45.7279 - val_mean_absolute_percentage_error: 44.9545\n",
            "Epoch 10/300\n",
            "60/61 [============================>.] - ETA: 0s - loss: 54.9861 - mean_absolute_percentage_error: 48.6193\n",
            "Epoch 10: val_loss did not improve from 45.62363\n",
            "61/61 [==============================] - 1s 23ms/step - loss: 54.9838 - mean_absolute_percentage_error: 48.5895 - val_loss: 50.5373 - val_mean_absolute_percentage_error: 60.9364\n",
            "Epoch 11/300\n",
            "60/61 [============================>.] - ETA: 0s - loss: 53.5760 - mean_absolute_percentage_error: 49.2287\n",
            "Epoch 11: val_loss did not improve from 45.62363\n",
            "61/61 [==============================] - 2s 25ms/step - loss: 53.5805 - mean_absolute_percentage_error: 49.2324 - val_loss: 45.6884 - val_mean_absolute_percentage_error: 42.3669\n",
            "Epoch 12/300\n",
            "59/61 [============================>.] - ETA: 0s - loss: 53.7945 - mean_absolute_percentage_error: 48.1725\n",
            "Epoch 12: val_loss did not improve from 45.62363\n",
            "61/61 [==============================] - 2s 26ms/step - loss: 53.4714 - mean_absolute_percentage_error: 47.9376 - val_loss: 46.8726 - val_mean_absolute_percentage_error: 39.9939\n",
            "Epoch 13/300\n",
            "61/61 [==============================] - ETA: 0s - loss: 53.8627 - mean_absolute_percentage_error: 47.5803\n",
            "Epoch 13: val_loss did not improve from 45.62363\n",
            "61/61 [==============================] - 1s 24ms/step - loss: 53.8627 - mean_absolute_percentage_error: 47.5803 - val_loss: 46.0685 - val_mean_absolute_percentage_error: 48.4533\n",
            "Epoch 14/300\n",
            "61/61 [==============================] - ETA: 0s - loss: 52.8070 - mean_absolute_percentage_error: 46.6085\n",
            "Epoch 14: val_loss did not improve from 45.62363\n",
            "61/61 [==============================] - 1s 24ms/step - loss: 52.8070 - mean_absolute_percentage_error: 46.6085 - val_loss: 47.7455 - val_mean_absolute_percentage_error: 55.3135\n",
            "Epoch 15/300\n",
            "61/61 [==============================] - ETA: 0s - loss: 52.7625 - mean_absolute_percentage_error: 46.3975\n",
            "Epoch 15: val_loss did not improve from 45.62363\n",
            "61/61 [==============================] - 1s 24ms/step - loss: 52.7625 - mean_absolute_percentage_error: 46.3975 - val_loss: 46.1488 - val_mean_absolute_percentage_error: 48.9231\n",
            "Epoch 16/300\n",
            "58/61 [===========================>..] - ETA: 0s - loss: 53.7133 - mean_absolute_percentage_error: 47.7184\n",
            "Epoch 16: val_loss did not improve from 45.62363\n",
            "61/61 [==============================] - 1s 24ms/step - loss: 53.0616 - mean_absolute_percentage_error: 47.4687 - val_loss: 45.7274 - val_mean_absolute_percentage_error: 45.9928\n",
            "Epoch 17/300\n",
            "58/61 [===========================>..] - ETA: 0s - loss: 51.0438 - mean_absolute_percentage_error: 45.2454\n",
            "Epoch 17: val_loss did not improve from 45.62363\n",
            "61/61 [==============================] - 1s 23ms/step - loss: 51.0611 - mean_absolute_percentage_error: 45.0206 - val_loss: 45.8754 - val_mean_absolute_percentage_error: 47.2037\n",
            "Epoch 18/300\n",
            "58/61 [===========================>..] - ETA: 0s - loss: 52.8009 - mean_absolute_percentage_error: 46.4894\n",
            "Epoch 18: val_loss did not improve from 45.62363\n",
            "61/61 [==============================] - 1s 24ms/step - loss: 52.5578 - mean_absolute_percentage_error: 46.0619 - val_loss: 45.6560 - val_mean_absolute_percentage_error: 42.6327\n",
            "Epoch 19/300\n",
            "58/61 [===========================>..] - ETA: 0s - loss: 52.7963 - mean_absolute_percentage_error: 46.0659\n",
            "Epoch 19: val_loss improved from 45.62363 to 45.59703, saving model to jordan_img_best_model.h5\n",
            "61/61 [==============================] - 4s 69ms/step - loss: 52.1722 - mean_absolute_percentage_error: 46.0178 - val_loss: 45.5970 - val_mean_absolute_percentage_error: 43.5131\n",
            "Epoch 20/300\n",
            "60/61 [============================>.] - ETA: 0s - loss: 53.1843 - mean_absolute_percentage_error: 47.5979\n",
            "Epoch 20: val_loss did not improve from 45.59703\n",
            "61/61 [==============================] - 2s 25ms/step - loss: 53.1720 - mean_absolute_percentage_error: 47.5516 - val_loss: 45.9217 - val_mean_absolute_percentage_error: 47.5112\n",
            "Epoch 21/300\n",
            "59/61 [============================>.] - ETA: 0s - loss: 53.5446 - mean_absolute_percentage_error: 47.8561\n",
            "Epoch 21: val_loss did not improve from 45.59703\n",
            "61/61 [==============================] - 1s 24ms/step - loss: 53.0510 - mean_absolute_percentage_error: 47.8396 - val_loss: 47.3390 - val_mean_absolute_percentage_error: 39.4940\n",
            "Epoch 22/300\n",
            "61/61 [==============================] - ETA: 0s - loss: 53.0828 - mean_absolute_percentage_error: 46.4747\n",
            "Epoch 22: val_loss did not improve from 45.59703\n",
            "61/61 [==============================] - 1s 24ms/step - loss: 53.0828 - mean_absolute_percentage_error: 46.4747 - val_loss: 46.1184 - val_mean_absolute_percentage_error: 40.8450\n",
            "Epoch 23/300\n",
            "58/61 [===========================>..] - ETA: 0s - loss: 51.4300 - mean_absolute_percentage_error: 44.9435\n",
            "Epoch 23: val_loss did not improve from 45.59703\n",
            "61/61 [==============================] - 1s 24ms/step - loss: 51.8949 - mean_absolute_percentage_error: 44.9343 - val_loss: 45.8075 - val_mean_absolute_percentage_error: 41.7481\n",
            "Epoch 24/300\n",
            "58/61 [===========================>..] - ETA: 0s - loss: 53.6007 - mean_absolute_percentage_error: 46.3151\n",
            "Epoch 24: val_loss did not improve from 45.59703\n",
            "61/61 [==============================] - 1s 24ms/step - loss: 53.3410 - mean_absolute_percentage_error: 46.5752 - val_loss: 45.9843 - val_mean_absolute_percentage_error: 47.9301\n",
            "Epoch 25/300\n",
            "58/61 [===========================>..] - ETA: 0s - loss: 53.3256 - mean_absolute_percentage_error: 45.5779\n",
            "Epoch 25: val_loss did not improve from 45.59703\n",
            "61/61 [==============================] - 1s 24ms/step - loss: 52.7101 - mean_absolute_percentage_error: 45.7622 - val_loss: 46.8784 - val_mean_absolute_percentage_error: 52.2766\n",
            "Epoch 26/300\n",
            "58/61 [===========================>..] - ETA: 0s - loss: 53.1054 - mean_absolute_percentage_error: 47.4222\n",
            "Epoch 26: val_loss did not improve from 45.59703\n",
            "61/61 [==============================] - 1s 24ms/step - loss: 52.9057 - mean_absolute_percentage_error: 47.7861 - val_loss: 46.5431 - val_mean_absolute_percentage_error: 50.8772\n",
            "Epoch 27/300\n",
            "60/61 [============================>.] - ETA: 0s - loss: 52.5321 - mean_absolute_percentage_error: 45.7174\n",
            "Epoch 27: val_loss did not improve from 45.59703\n",
            "61/61 [==============================] - 2s 25ms/step - loss: 52.4490 - mean_absolute_percentage_error: 45.8427 - val_loss: 45.9897 - val_mean_absolute_percentage_error: 41.1403\n",
            "Epoch 28/300\n",
            "60/61 [============================>.] - ETA: 0s - loss: 52.5535 - mean_absolute_percentage_error: 45.8440\n",
            "Epoch 28: val_loss did not improve from 45.59703\n",
            "61/61 [==============================] - 2s 26ms/step - loss: 52.4174 - mean_absolute_percentage_error: 45.7700 - val_loss: 46.0622 - val_mean_absolute_percentage_error: 40.9687\n",
            "Epoch 29/300\n",
            "60/61 [============================>.] - ETA: 0s - loss: 52.5455 - mean_absolute_percentage_error: 46.4518\n",
            "Epoch 29: val_loss did not improve from 45.59703\n",
            "61/61 [==============================] - 1s 24ms/step - loss: 52.4645 - mean_absolute_percentage_error: 46.4123 - val_loss: 46.4878 - val_mean_absolute_percentage_error: 50.6238\n",
            "Epoch 30/300\n",
            "58/61 [===========================>..] - ETA: 0s - loss: 52.1112 - mean_absolute_percentage_error: 45.6375\n",
            "Epoch 30: val_loss did not improve from 45.59703\n",
            "61/61 [==============================] - 1s 24ms/step - loss: 52.2817 - mean_absolute_percentage_error: 45.9670 - val_loss: 45.6749 - val_mean_absolute_percentage_error: 42.5079\n",
            "Epoch 31/300\n",
            "60/61 [============================>.] - ETA: 0s - loss: 52.9594 - mean_absolute_percentage_error: 45.4445\n",
            "Epoch 31: val_loss did not improve from 45.59703\n",
            "61/61 [==============================] - 1s 23ms/step - loss: 52.8853 - mean_absolute_percentage_error: 45.5143 - val_loss: 48.5353 - val_mean_absolute_percentage_error: 57.8018\n",
            "Epoch 32/300\n",
            "58/61 [===========================>..] - ETA: 0s - loss: 53.0691 - mean_absolute_percentage_error: 46.0522\n",
            "Epoch 32: val_loss did not improve from 45.59703\n",
            "61/61 [==============================] - 1s 23ms/step - loss: 52.6046 - mean_absolute_percentage_error: 46.1897 - val_loss: 46.3873 - val_mean_absolute_percentage_error: 40.3501\n",
            "Epoch 33/300\n",
            "58/61 [===========================>..] - ETA: 0s - loss: 52.0495 - mean_absolute_percentage_error: 46.2746\n",
            "Epoch 33: val_loss did not improve from 45.59703\n",
            "61/61 [==============================] - 1s 24ms/step - loss: 51.9991 - mean_absolute_percentage_error: 46.1891 - val_loss: 46.4856 - val_mean_absolute_percentage_error: 40.2052\n",
            "Epoch 34/300\n",
            "58/61 [===========================>..] - ETA: 0s - loss: 51.9109 - mean_absolute_percentage_error: 44.5424\n",
            "Epoch 34: val_loss did not improve from 45.59703\n",
            "61/61 [==============================] - 1s 23ms/step - loss: 51.6141 - mean_absolute_percentage_error: 44.6396 - val_loss: 45.7093 - val_mean_absolute_percentage_error: 42.2548\n",
            "Epoch 35/300\n",
            "60/61 [============================>.] - ETA: 0s - loss: 49.5888 - mean_absolute_percentage_error: 45.8929\n",
            "Epoch 35: val_loss did not improve from 45.59703\n",
            "61/61 [==============================] - 1s 24ms/step - loss: 52.0380 - mean_absolute_percentage_error: 45.9525 - val_loss: 47.5843 - val_mean_absolute_percentage_error: 39.4035\n",
            "Epoch 36/300\n",
            "60/61 [============================>.] - ETA: 0s - loss: 52.1024 - mean_absolute_percentage_error: 45.4785\n",
            "Epoch 36: val_loss did not improve from 45.59703\n",
            "61/61 [==============================] - 2s 25ms/step - loss: 52.0109 - mean_absolute_percentage_error: 45.5210 - val_loss: 46.0662 - val_mean_absolute_percentage_error: 48.4387\n",
            "Epoch 37/300\n",
            "61/61 [==============================] - ETA: 0s - loss: 52.7336 - mean_absolute_percentage_error: 45.7860\n",
            "Epoch 37: val_loss did not improve from 45.59703\n",
            "61/61 [==============================] - 2s 26ms/step - loss: 52.7336 - mean_absolute_percentage_error: 45.7860 - val_loss: 46.1501 - val_mean_absolute_percentage_error: 48.9192\n",
            "Epoch 38/300\n",
            "61/61 [==============================] - ETA: 0s - loss: 53.0550 - mean_absolute_percentage_error: 47.1018\n",
            "Epoch 38: val_loss did not improve from 45.59703\n",
            "61/61 [==============================] - 2s 25ms/step - loss: 53.0550 - mean_absolute_percentage_error: 47.1018 - val_loss: 46.1984 - val_mean_absolute_percentage_error: 49.1846\n",
            "Epoch 39/300\n",
            "60/61 [============================>.] - ETA: 0s - loss: 54.0904 - mean_absolute_percentage_error: 47.7533\n",
            "Epoch 39: val_loss did not improve from 45.59703\n",
            "61/61 [==============================] - 1s 24ms/step - loss: 54.0076 - mean_absolute_percentage_error: 47.8866 - val_loss: 45.8917 - val_mean_absolute_percentage_error: 47.3002\n",
            "Epoch 40/300\n",
            "60/61 [============================>.] - ETA: 0s - loss: 52.4023 - mean_absolute_percentage_error: 45.7343\n",
            "Epoch 40: val_loss did not improve from 45.59703\n",
            "61/61 [==============================] - 1s 23ms/step - loss: 52.2762 - mean_absolute_percentage_error: 45.6575 - val_loss: 46.0532 - val_mean_absolute_percentage_error: 40.9892\n",
            "Epoch 41/300\n",
            "61/61 [==============================] - ETA: 0s - loss: 51.8769 - mean_absolute_percentage_error: 45.3073\n",
            "Epoch 41: val_loss did not improve from 45.59703\n",
            "61/61 [==============================] - 1s 24ms/step - loss: 51.8769 - mean_absolute_percentage_error: 45.3073 - val_loss: 46.7253 - val_mean_absolute_percentage_error: 39.9082\n",
            "Epoch 42/300\n",
            "61/61 [==============================] - ETA: 0s - loss: 52.6307 - mean_absolute_percentage_error: 45.9915\n",
            "Epoch 42: val_loss did not improve from 45.59703\n",
            "61/61 [==============================] - 1s 23ms/step - loss: 52.6307 - mean_absolute_percentage_error: 45.9915 - val_loss: 45.9836 - val_mean_absolute_percentage_error: 41.1555\n",
            "Epoch 43/300\n",
            "60/61 [============================>.] - ETA: 0s - loss: 52.3517 - mean_absolute_percentage_error: 44.9856\n",
            "Epoch 43: val_loss did not improve from 45.59703\n",
            "61/61 [==============================] - 1s 23ms/step - loss: 52.2551 - mean_absolute_percentage_error: 45.0274 - val_loss: 45.6784 - val_mean_absolute_percentage_error: 42.4790\n",
            "Epoch 44/300\n",
            "61/61 [==============================] - ETA: 0s - loss: 52.1555 - mean_absolute_percentage_error: 45.3791\n",
            "Epoch 44: val_loss did not improve from 45.59703\n",
            "61/61 [==============================] - 1s 23ms/step - loss: 52.1555 - mean_absolute_percentage_error: 45.3791 - val_loss: 46.0148 - val_mean_absolute_percentage_error: 41.0793\n",
            "Epoch 45/300\n",
            "60/61 [============================>.] - ETA: 0s - loss: 52.2152 - mean_absolute_percentage_error: 45.3678\n",
            "Epoch 45: val_loss did not improve from 45.59703\n",
            "61/61 [==============================] - 2s 25ms/step - loss: 52.0579 - mean_absolute_percentage_error: 45.2483 - val_loss: 46.1452 - val_mean_absolute_percentage_error: 40.7906\n",
            "Epoch 46/300\n",
            "60/61 [============================>.] - ETA: 0s - loss: 52.6101 - mean_absolute_percentage_error: 46.4679\n",
            "Epoch 46: val_loss did not improve from 45.59703\n",
            "61/61 [==============================] - 2s 26ms/step - loss: 52.9034 - mean_absolute_percentage_error: 46.4683 - val_loss: 45.8210 - val_mean_absolute_percentage_error: 46.7731\n",
            "Epoch 47/300\n",
            "61/61 [==============================] - ETA: 0s - loss: 52.1836 - mean_absolute_percentage_error: 45.6774\n",
            "Epoch 47: val_loss did not improve from 45.59703\n",
            "61/61 [==============================] - 1s 24ms/step - loss: 52.1836 - mean_absolute_percentage_error: 45.6774 - val_loss: 45.6697 - val_mean_absolute_percentage_error: 42.5534\n",
            "Epoch 48/300\n",
            "61/61 [==============================] - ETA: 0s - loss: 51.9192 - mean_absolute_percentage_error: 44.3233\n",
            "Epoch 48: val_loss did not improve from 45.59703\n",
            "61/61 [==============================] - 1s 23ms/step - loss: 51.9192 - mean_absolute_percentage_error: 44.3233 - val_loss: 46.4105 - val_mean_absolute_percentage_error: 50.2608\n",
            "Epoch 49/300\n",
            "61/61 [==============================] - ETA: 0s - loss: 51.5315 - mean_absolute_percentage_error: 45.6526\n",
            "Epoch 49: val_loss did not improve from 45.59703\n",
            "61/61 [==============================] - 1s 23ms/step - loss: 51.5315 - mean_absolute_percentage_error: 45.6526 - val_loss: 45.7844 - val_mean_absolute_percentage_error: 46.4751\n",
            "Epoch 49: early stopping\n"
          ]
        },
        {
          "output_type": "execute_result",
          "data": {
            "text/plain": [
              "<keras.callbacks.History at 0x7f6f9d3f3490>"
            ]
          },
          "metadata": {},
          "execution_count": 165
        }
      ]
    },
    {
      "cell_type": "code",
      "source": [
        "model = keras.models.load_model('jordan_img_best_model.h5', custom_objects=None, compile=True)\n",
        "\n",
        "model.evaluate(jordan_test_X, jordan_test_y)"
      ],
      "metadata": {
        "colab": {
          "base_uri": "https://localhost:8080/"
        },
        "id": "RFVVNRnMI2Hh",
        "outputId": "11cb4a63-0dd6-4f84-89a8-8bc96ec234c5"
      },
      "execution_count": 166,
      "outputs": [
        {
          "output_type": "stream",
          "name": "stdout",
          "text": [
            "7/7 [==============================] - 0s 43ms/step - loss: 27.7482 - mean_absolute_percentage_error: 40.7805\n"
          ]
        },
        {
          "output_type": "execute_result",
          "data": {
            "text/plain": [
              "[27.748199462890625, 40.780494689941406]"
            ]
          },
          "metadata": {},
          "execution_count": 166
        }
      ]
    }
  ]
}