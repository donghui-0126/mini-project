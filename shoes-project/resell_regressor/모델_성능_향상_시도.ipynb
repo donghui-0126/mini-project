{
  "nbformat": 4,
  "nbformat_minor": 0,
  "metadata": {
    "colab": {
      "provenance": [],
      "gpuType": "T4"
    },
    "kernelspec": {
      "name": "python3",
      "display_name": "Python 3"
    },
    "language_info": {
      "name": "python"
    },
    "accelerator": "GPU"
  },
  "cells": [
    {
      "cell_type": "markdown",
      "metadata": {
        "id": "view-in-github"
      },
      "source": [
        "<a href=\"https://colab.research.google.com/github/donghui-0126/mini-project/blob/main/shoes-project/resell_regressor/bn_dnn.ipynb\" target=\"_parent\"><img src=\"https://colab.research.google.com/assets/colab-badge.svg\" alt=\"Open In Colab\"/></a>"
      ]
    },
    {
      "cell_type": "code",
      "execution_count": 1,
      "metadata": {
        "id": "XZI9iwXXP8pI"
      },
      "outputs": [],
      "source": [
        "import numpy as np\n",
        "import pandas as pd\n",
        "import tensorflow as tf\n",
        "from tensorflow import keras\n",
        "from sklearn.linear_model import LinearRegression\n",
        "import warnings\n",
        "from sklearn.decomposition import PCA\n",
        "from sklearn.model_selection import KFold\n",
        "from sklearn.metrics import mean_squared_error\n",
        "from tensorflow.keras.preprocessing.text import Tokenizer\n",
        "from tensorflow.keras.preprocessing.sequence import pad_sequences\n",
        "import tensorflow as tf\n",
        "from tensorflow.keras.layers import Dense, Dropout, Embedding, Flatten\n",
        "from tensorflow.keras.models import Model\n",
        "from tensorflow.keras import Input\n",
        "\n",
        "\n",
        "\n",
        "warnings.filterwarnings('ignore')"
      ]
    },
    {
      "cell_type": "code",
      "source": [
        "from google.colab import drive\n",
        "drive.mount('/content/drive')"
      ],
      "metadata": {
        "id": "7BJG3hF3QCPq",
        "colab": {
          "base_uri": "https://localhost:8080/"
        },
        "outputId": "a381c2cf-e346-44b0-98b0-8a1e96ac9125"
      },
      "execution_count": 2,
      "outputs": [
        {
          "output_type": "stream",
          "name": "stdout",
          "text": [
            "Mounted at /content/drive\n"
          ]
        }
      ]
    },
    {
      "cell_type": "code",
      "source": [
        "df = pd.read_csv('/content/drive/MyDrive/kream_data/product_data_dpp.csv')"
      ],
      "metadata": {
        "id": "Ye8vahO3RjfV"
      },
      "execution_count": 3,
      "outputs": []
    },
    {
      "cell_type": "code",
      "source": [
        "df.shape"
      ],
      "metadata": {
        "colab": {
          "base_uri": "https://localhost:8080/"
        },
        "id": "Z7BKiN23gB2u",
        "outputId": "0df57d07-9208-4fb3-fb65-b8f7e286c5ac"
      },
      "execution_count": 4,
      "outputs": [
        {
          "output_type": "execute_result",
          "data": {
            "text/plain": [
              "(6103, 15)"
            ]
          },
          "metadata": {},
          "execution_count": 4
        }
      ]
    },
    {
      "cell_type": "code",
      "source": [
        "df_nike = df[df['brand']=='Nike'][['brand', 'name', 'price_og', 'price_resell']]\n",
        "df_jordan = df[df['brand']=='Jordan'][['brand', 'name', 'price_og', 'price_resell']]\n",
        "df_adidas = df[df['brand']=='Adidas'][['brand', 'name', 'price_og', 'price_resell']]"
      ],
      "metadata": {
        "id": "_9QiqVbixMvv"
      },
      "execution_count": 5,
      "outputs": []
    },
    {
      "cell_type": "code",
      "source": [
        "print(df_nike.shape)\n",
        "df_nike.head()"
      ],
      "metadata": {
        "colab": {
          "base_uri": "https://localhost:8080/",
          "height": 224
        },
        "id": "xCr2RJYyxNFW",
        "outputId": "52ff6a8c-d81d-4791-d650-98e7feda5345"
      },
      "execution_count": 6,
      "outputs": [
        {
          "output_type": "stream",
          "name": "stdout",
          "text": [
            "(1455, 4)\n"
          ]
        },
        {
          "output_type": "execute_result",
          "data": {
            "text/plain": [
              "  brand                                               name  price_og  \\\n",
              "0  Nike                          Nike Dunk Low Retro Black    129000   \n",
              "1  Nike                     Nike Air Force 1 '07 Low White    139000   \n",
              "2  Nike                       Nike Air Force 1 '07 WB Flax    169000   \n",
              "3  Nike                Nike x Supreme Air Force 1 Low Flax    184600   \n",
              "4  Nike  Nike Zoom Vomero 5 PRM Light Iron Ore and Flat...    209000   \n",
              "\n",
              "   price_resell  \n",
              "0        152800  \n",
              "1        136200  \n",
              "2        173200  \n",
              "3        281400  \n",
              "4        258000  "
            ],
            "text/html": [
              "\n",
              "  <div id=\"df-06a506b8-f9ed-403a-86ac-1108d19fcf44\">\n",
              "    <div class=\"colab-df-container\">\n",
              "      <div>\n",
              "<style scoped>\n",
              "    .dataframe tbody tr th:only-of-type {\n",
              "        vertical-align: middle;\n",
              "    }\n",
              "\n",
              "    .dataframe tbody tr th {\n",
              "        vertical-align: top;\n",
              "    }\n",
              "\n",
              "    .dataframe thead th {\n",
              "        text-align: right;\n",
              "    }\n",
              "</style>\n",
              "<table border=\"1\" class=\"dataframe\">\n",
              "  <thead>\n",
              "    <tr style=\"text-align: right;\">\n",
              "      <th></th>\n",
              "      <th>brand</th>\n",
              "      <th>name</th>\n",
              "      <th>price_og</th>\n",
              "      <th>price_resell</th>\n",
              "    </tr>\n",
              "  </thead>\n",
              "  <tbody>\n",
              "    <tr>\n",
              "      <th>0</th>\n",
              "      <td>Nike</td>\n",
              "      <td>Nike Dunk Low Retro Black</td>\n",
              "      <td>129000</td>\n",
              "      <td>152800</td>\n",
              "    </tr>\n",
              "    <tr>\n",
              "      <th>1</th>\n",
              "      <td>Nike</td>\n",
              "      <td>Nike Air Force 1 '07 Low White</td>\n",
              "      <td>139000</td>\n",
              "      <td>136200</td>\n",
              "    </tr>\n",
              "    <tr>\n",
              "      <th>2</th>\n",
              "      <td>Nike</td>\n",
              "      <td>Nike Air Force 1 '07 WB Flax</td>\n",
              "      <td>169000</td>\n",
              "      <td>173200</td>\n",
              "    </tr>\n",
              "    <tr>\n",
              "      <th>3</th>\n",
              "      <td>Nike</td>\n",
              "      <td>Nike x Supreme Air Force 1 Low Flax</td>\n",
              "      <td>184600</td>\n",
              "      <td>281400</td>\n",
              "    </tr>\n",
              "    <tr>\n",
              "      <th>4</th>\n",
              "      <td>Nike</td>\n",
              "      <td>Nike Zoom Vomero 5 PRM Light Iron Ore and Flat...</td>\n",
              "      <td>209000</td>\n",
              "      <td>258000</td>\n",
              "    </tr>\n",
              "  </tbody>\n",
              "</table>\n",
              "</div>\n",
              "      <button class=\"colab-df-convert\" onclick=\"convertToInteractive('df-06a506b8-f9ed-403a-86ac-1108d19fcf44')\"\n",
              "              title=\"Convert this dataframe to an interactive table.\"\n",
              "              style=\"display:none;\">\n",
              "        \n",
              "  <svg xmlns=\"http://www.w3.org/2000/svg\" height=\"24px\"viewBox=\"0 0 24 24\"\n",
              "       width=\"24px\">\n",
              "    <path d=\"M0 0h24v24H0V0z\" fill=\"none\"/>\n",
              "    <path d=\"M18.56 5.44l.94 2.06.94-2.06 2.06-.94-2.06-.94-.94-2.06-.94 2.06-2.06.94zm-11 1L8.5 8.5l.94-2.06 2.06-.94-2.06-.94L8.5 2.5l-.94 2.06-2.06.94zm10 10l.94 2.06.94-2.06 2.06-.94-2.06-.94-.94-2.06-.94 2.06-2.06.94z\"/><path d=\"M17.41 7.96l-1.37-1.37c-.4-.4-.92-.59-1.43-.59-.52 0-1.04.2-1.43.59L10.3 9.45l-7.72 7.72c-.78.78-.78 2.05 0 2.83L4 21.41c.39.39.9.59 1.41.59.51 0 1.02-.2 1.41-.59l7.78-7.78 2.81-2.81c.8-.78.8-2.07 0-2.86zM5.41 20L4 18.59l7.72-7.72 1.47 1.35L5.41 20z\"/>\n",
              "  </svg>\n",
              "      </button>\n",
              "      \n",
              "  <style>\n",
              "    .colab-df-container {\n",
              "      display:flex;\n",
              "      flex-wrap:wrap;\n",
              "      gap: 12px;\n",
              "    }\n",
              "\n",
              "    .colab-df-convert {\n",
              "      background-color: #E8F0FE;\n",
              "      border: none;\n",
              "      border-radius: 50%;\n",
              "      cursor: pointer;\n",
              "      display: none;\n",
              "      fill: #1967D2;\n",
              "      height: 32px;\n",
              "      padding: 0 0 0 0;\n",
              "      width: 32px;\n",
              "    }\n",
              "\n",
              "    .colab-df-convert:hover {\n",
              "      background-color: #E2EBFA;\n",
              "      box-shadow: 0px 1px 2px rgba(60, 64, 67, 0.3), 0px 1px 3px 1px rgba(60, 64, 67, 0.15);\n",
              "      fill: #174EA6;\n",
              "    }\n",
              "\n",
              "    [theme=dark] .colab-df-convert {\n",
              "      background-color: #3B4455;\n",
              "      fill: #D2E3FC;\n",
              "    }\n",
              "\n",
              "    [theme=dark] .colab-df-convert:hover {\n",
              "      background-color: #434B5C;\n",
              "      box-shadow: 0px 1px 3px 1px rgba(0, 0, 0, 0.15);\n",
              "      filter: drop-shadow(0px 1px 2px rgba(0, 0, 0, 0.3));\n",
              "      fill: #FFFFFF;\n",
              "    }\n",
              "  </style>\n",
              "\n",
              "      <script>\n",
              "        const buttonEl =\n",
              "          document.querySelector('#df-06a506b8-f9ed-403a-86ac-1108d19fcf44 button.colab-df-convert');\n",
              "        buttonEl.style.display =\n",
              "          google.colab.kernel.accessAllowed ? 'block' : 'none';\n",
              "\n",
              "        async function convertToInteractive(key) {\n",
              "          const element = document.querySelector('#df-06a506b8-f9ed-403a-86ac-1108d19fcf44');\n",
              "          const dataTable =\n",
              "            await google.colab.kernel.invokeFunction('convertToInteractive',\n",
              "                                                     [key], {});\n",
              "          if (!dataTable) return;\n",
              "\n",
              "          const docLinkHtml = 'Like what you see? Visit the ' +\n",
              "            '<a target=\"_blank\" href=https://colab.research.google.com/notebooks/data_table.ipynb>data table notebook</a>'\n",
              "            + ' to learn more about interactive tables.';\n",
              "          element.innerHTML = '';\n",
              "          dataTable['output_type'] = 'display_data';\n",
              "          await google.colab.output.renderOutput(dataTable, element);\n",
              "          const docLink = document.createElement('div');\n",
              "          docLink.innerHTML = docLinkHtml;\n",
              "          element.appendChild(docLink);\n",
              "        }\n",
              "      </script>\n",
              "    </div>\n",
              "  </div>\n",
              "  "
            ]
          },
          "metadata": {},
          "execution_count": 6
        }
      ]
    },
    {
      "cell_type": "code",
      "source": [
        "print(df_jordan.shape)\n",
        "df_jordan.head()"
      ],
      "metadata": {
        "colab": {
          "base_uri": "https://localhost:8080/",
          "height": 224
        },
        "id": "-Z2FZJxQxNIw",
        "outputId": "06b892e1-8765-41da-c55f-d73afa7c159b"
      },
      "execution_count": 7,
      "outputs": [
        {
          "output_type": "stream",
          "name": "stdout",
          "text": [
            "(1376, 4)\n"
          ]
        },
        {
          "output_type": "execute_result",
          "data": {
            "text/plain": [
              "       brand                                               name  price_og  \\\n",
              "1455  Jordan                Jordan 1 Retro High OG Chicago 2022    209000   \n",
              "1456  Jordan                               Jordan 1 Low Concord    139000   \n",
              "1457  Jordan                     Jordan 1 High Golf White Black    249000   \n",
              "1458  Jordan  Jordan 1 x Travis Scott Retro Low OG SP Black ...    189000   \n",
              "1459  Jordan  Jordan 1 x Travis Scott Retro Low OG SP Sail a...    189000   \n",
              "\n",
              "      price_resell  \n",
              "1455        480800  \n",
              "1456        163600  \n",
              "1457        254400  \n",
              "1458        698000  \n",
              "1459       1417800  "
            ],
            "text/html": [
              "\n",
              "  <div id=\"df-8eda4bac-7d46-40d0-a42a-7c440cfd9ded\">\n",
              "    <div class=\"colab-df-container\">\n",
              "      <div>\n",
              "<style scoped>\n",
              "    .dataframe tbody tr th:only-of-type {\n",
              "        vertical-align: middle;\n",
              "    }\n",
              "\n",
              "    .dataframe tbody tr th {\n",
              "        vertical-align: top;\n",
              "    }\n",
              "\n",
              "    .dataframe thead th {\n",
              "        text-align: right;\n",
              "    }\n",
              "</style>\n",
              "<table border=\"1\" class=\"dataframe\">\n",
              "  <thead>\n",
              "    <tr style=\"text-align: right;\">\n",
              "      <th></th>\n",
              "      <th>brand</th>\n",
              "      <th>name</th>\n",
              "      <th>price_og</th>\n",
              "      <th>price_resell</th>\n",
              "    </tr>\n",
              "  </thead>\n",
              "  <tbody>\n",
              "    <tr>\n",
              "      <th>1455</th>\n",
              "      <td>Jordan</td>\n",
              "      <td>Jordan 1 Retro High OG Chicago 2022</td>\n",
              "      <td>209000</td>\n",
              "      <td>480800</td>\n",
              "    </tr>\n",
              "    <tr>\n",
              "      <th>1456</th>\n",
              "      <td>Jordan</td>\n",
              "      <td>Jordan 1 Low Concord</td>\n",
              "      <td>139000</td>\n",
              "      <td>163600</td>\n",
              "    </tr>\n",
              "    <tr>\n",
              "      <th>1457</th>\n",
              "      <td>Jordan</td>\n",
              "      <td>Jordan 1 High Golf White Black</td>\n",
              "      <td>249000</td>\n",
              "      <td>254400</td>\n",
              "    </tr>\n",
              "    <tr>\n",
              "      <th>1458</th>\n",
              "      <td>Jordan</td>\n",
              "      <td>Jordan 1 x Travis Scott Retro Low OG SP Black ...</td>\n",
              "      <td>189000</td>\n",
              "      <td>698000</td>\n",
              "    </tr>\n",
              "    <tr>\n",
              "      <th>1459</th>\n",
              "      <td>Jordan</td>\n",
              "      <td>Jordan 1 x Travis Scott Retro Low OG SP Sail a...</td>\n",
              "      <td>189000</td>\n",
              "      <td>1417800</td>\n",
              "    </tr>\n",
              "  </tbody>\n",
              "</table>\n",
              "</div>\n",
              "      <button class=\"colab-df-convert\" onclick=\"convertToInteractive('df-8eda4bac-7d46-40d0-a42a-7c440cfd9ded')\"\n",
              "              title=\"Convert this dataframe to an interactive table.\"\n",
              "              style=\"display:none;\">\n",
              "        \n",
              "  <svg xmlns=\"http://www.w3.org/2000/svg\" height=\"24px\"viewBox=\"0 0 24 24\"\n",
              "       width=\"24px\">\n",
              "    <path d=\"M0 0h24v24H0V0z\" fill=\"none\"/>\n",
              "    <path d=\"M18.56 5.44l.94 2.06.94-2.06 2.06-.94-2.06-.94-.94-2.06-.94 2.06-2.06.94zm-11 1L8.5 8.5l.94-2.06 2.06-.94-2.06-.94L8.5 2.5l-.94 2.06-2.06.94zm10 10l.94 2.06.94-2.06 2.06-.94-2.06-.94-.94-2.06-.94 2.06-2.06.94z\"/><path d=\"M17.41 7.96l-1.37-1.37c-.4-.4-.92-.59-1.43-.59-.52 0-1.04.2-1.43.59L10.3 9.45l-7.72 7.72c-.78.78-.78 2.05 0 2.83L4 21.41c.39.39.9.59 1.41.59.51 0 1.02-.2 1.41-.59l7.78-7.78 2.81-2.81c.8-.78.8-2.07 0-2.86zM5.41 20L4 18.59l7.72-7.72 1.47 1.35L5.41 20z\"/>\n",
              "  </svg>\n",
              "      </button>\n",
              "      \n",
              "  <style>\n",
              "    .colab-df-container {\n",
              "      display:flex;\n",
              "      flex-wrap:wrap;\n",
              "      gap: 12px;\n",
              "    }\n",
              "\n",
              "    .colab-df-convert {\n",
              "      background-color: #E8F0FE;\n",
              "      border: none;\n",
              "      border-radius: 50%;\n",
              "      cursor: pointer;\n",
              "      display: none;\n",
              "      fill: #1967D2;\n",
              "      height: 32px;\n",
              "      padding: 0 0 0 0;\n",
              "      width: 32px;\n",
              "    }\n",
              "\n",
              "    .colab-df-convert:hover {\n",
              "      background-color: #E2EBFA;\n",
              "      box-shadow: 0px 1px 2px rgba(60, 64, 67, 0.3), 0px 1px 3px 1px rgba(60, 64, 67, 0.15);\n",
              "      fill: #174EA6;\n",
              "    }\n",
              "\n",
              "    [theme=dark] .colab-df-convert {\n",
              "      background-color: #3B4455;\n",
              "      fill: #D2E3FC;\n",
              "    }\n",
              "\n",
              "    [theme=dark] .colab-df-convert:hover {\n",
              "      background-color: #434B5C;\n",
              "      box-shadow: 0px 1px 3px 1px rgba(0, 0, 0, 0.15);\n",
              "      filter: drop-shadow(0px 1px 2px rgba(0, 0, 0, 0.3));\n",
              "      fill: #FFFFFF;\n",
              "    }\n",
              "  </style>\n",
              "\n",
              "      <script>\n",
              "        const buttonEl =\n",
              "          document.querySelector('#df-8eda4bac-7d46-40d0-a42a-7c440cfd9ded button.colab-df-convert');\n",
              "        buttonEl.style.display =\n",
              "          google.colab.kernel.accessAllowed ? 'block' : 'none';\n",
              "\n",
              "        async function convertToInteractive(key) {\n",
              "          const element = document.querySelector('#df-8eda4bac-7d46-40d0-a42a-7c440cfd9ded');\n",
              "          const dataTable =\n",
              "            await google.colab.kernel.invokeFunction('convertToInteractive',\n",
              "                                                     [key], {});\n",
              "          if (!dataTable) return;\n",
              "\n",
              "          const docLinkHtml = 'Like what you see? Visit the ' +\n",
              "            '<a target=\"_blank\" href=https://colab.research.google.com/notebooks/data_table.ipynb>data table notebook</a>'\n",
              "            + ' to learn more about interactive tables.';\n",
              "          element.innerHTML = '';\n",
              "          dataTable['output_type'] = 'display_data';\n",
              "          await google.colab.output.renderOutput(dataTable, element);\n",
              "          const docLink = document.createElement('div');\n",
              "          docLink.innerHTML = docLinkHtml;\n",
              "          element.appendChild(docLink);\n",
              "        }\n",
              "      </script>\n",
              "    </div>\n",
              "  </div>\n",
              "  "
            ]
          },
          "metadata": {},
          "execution_count": 7
        }
      ]
    },
    {
      "cell_type": "code",
      "source": [
        "df_jordan.loc[1459, 'input']"
      ],
      "metadata": {
        "colab": {
          "base_uri": "https://localhost:8080/",
          "height": 35
        },
        "id": "Jxj4eB6RPT-a",
        "outputId": "11dfb244-85f3-47c1-94b2-1b56cbb9b7a3"
      },
      "execution_count": 42,
      "outputs": [
        {
          "output_type": "execute_result",
          "data": {
            "text/plain": [
              "'Jordan | Jordan 1 x Travis Scott Retro Low OG SP Sail and Ridgerock | 18.9'"
            ],
            "application/vnd.google.colaboratory.intrinsic+json": {
              "type": "string"
            }
          },
          "metadata": {},
          "execution_count": 42
        }
      ]
    },
    {
      "cell_type": "code",
      "source": [
        "df_nike = df_nike.drop(df_nike[df_nike['price_resell']>8000000].index)"
      ],
      "metadata": {
        "id": "YVSTQGvEeRth"
      },
      "execution_count": 12,
      "outputs": []
    },
    {
      "cell_type": "code",
      "source": [
        "df_nike['price_class'] = np.where(df_nike['price_resell'] <1000000,\\\n",
        "                                  df_nike['price_resell']//100000,\\\n",
        "                                  10)"
      ],
      "metadata": {
        "id": "_0v9InrWZQ4O"
      },
      "execution_count": 13,
      "outputs": []
    },
    {
      "cell_type": "markdown",
      "source": [
        "-----"
      ],
      "metadata": {
        "id": "8nk3V6_Lpid6"
      }
    },
    {
      "cell_type": "code",
      "source": [
        "df_jordan = df_jordan.drop(df_nike[df_nike['price_resell']>5000000].index)"
      ],
      "metadata": {
        "id": "9pe0b-IMplEq"
      },
      "execution_count": 14,
      "outputs": []
    },
    {
      "cell_type": "code",
      "source": [
        "df_jordan['price_class'] = np.where(df_jordan['price_resell'] <500000,\\\n",
        "                                  df_jordan['price_resell']//200000,\\\n",
        "                                  13)"
      ],
      "metadata": {
        "id": "S9bUA_rOoDlg"
      },
      "execution_count": 15,
      "outputs": []
    },
    {
      "cell_type": "markdown",
      "source": [
        "---------"
      ],
      "metadata": {
        "id": "Lx1F-olhq8j3"
      }
    },
    {
      "cell_type": "code",
      "source": [
        "def make_input_col(df_list):\n",
        "    for df in df_list:\n",
        "        df['input'] = df['brand'] + \" | \" + df['name'] + \" | \" + (df['price_og']/10000.0).astype(str)\n",
        "        df['target'] = df['price_resell']/10000.0\n",
        "\n",
        "make_input_col([df_nike, df_jordan, df_adidas])"
      ],
      "metadata": {
        "id": "uDhpmJoXx96o"
      },
      "execution_count": 16,
      "outputs": []
    },
    {
      "cell_type": "code",
      "source": [
        "def tokenize_input(df_list, pd_list):\n",
        "    return_list = []\n",
        "\n",
        "    for df, pd in zip(df_list, pd_list):\n",
        "        tokenizer = Tokenizer()\n",
        "        tokenizer.fit_on_texts(df['input'])\n",
        "        word_index = tokenizer.word_index\n",
        "\n",
        "        print(f\"word_index의 크기: {len(word_index)}\")\n",
        "\n",
        "        # 문장을 토큰화 한다.\n",
        "        tokenized_name = tokenizer.texts_to_sequences(df['input'])\n",
        "        padded_name = pad_sequences(tokenized_name)\n",
        "        return_list.append((padded_name))\n",
        "    return return_list\n",
        "\n",
        "df_nike_input_ = pd.DataFrame()\n",
        "df_jordan_input_ = pd.DataFrame()\n",
        "df_adidas_input_ = pd.DataFrame()\n",
        "\n",
        "[df_nike_input, df_jordan_input, df_adidas_input] = tokenize_input([df_nike, df_jordan, df_adidas], [df_nike_input_, df_jordan_input_, df_adidas_input_])"
      ],
      "metadata": {
        "colab": {
          "base_uri": "https://localhost:8080/"
        },
        "id": "ju9d8Odz1Jqc",
        "outputId": "7faba075-b10e-41b1-dabd-65770d77589d"
      },
      "execution_count": 49,
      "outputs": [
        {
          "output_type": "stream",
          "name": "stdout",
          "text": [
            "word_index의 크기: 1215\n",
            "word_index의 크기: 967\n",
            "word_index의 크기: 1046\n"
          ]
        }
      ]
    },
    {
      "cell_type": "code",
      "source": [
        "# # tokenizer 저장\n",
        "# # python 변수(객체)를 pickle 파일로 저장\n",
        "# with open('bn_tokenizer.pickle', 'wb') as f:\n",
        "#     pickle.dump(tokenizer, f)\n",
        "\n",
        "# # tokenizer load 하기\n",
        "# with open('bn_tokenizer.pickle', 'rb') as f:\n",
        "#     tokenizer = pickle.load(f)"
      ],
      "metadata": {
        "id": "8_qBXG-QMiZ1"
      },
      "execution_count": 18,
      "outputs": []
    },
    {
      "cell_type": "code",
      "source": [
        "from sklearn.model_selection import train_test_split"
      ],
      "metadata": {
        "id": "aN5JjGCA0mka"
      },
      "execution_count": 19,
      "outputs": []
    },
    {
      "cell_type": "code",
      "source": [
        "nike_train_X, nike_test_X, nike_train_y, nike_test_y = train_test_split(df_nike_input, df_nike[['target', 'price_class']], test_size=0.3, shuffle=True, stratify=df_nike['price_class'])\n",
        "nike_valid_X, nike_test_X, nike_valid_y, nike_test_y = train_test_split(nike_test_X, nike_test_y, test_size=0.5)\n",
        "\n",
        "jordan_train_X, jordan_test_X, jordan_train_y, jordan_test_y = train_test_split(df_jordan_input, df_jordan[['target', 'price_class']], test_size=0.3, shuffle=True, stratify=df_jordan['price_class'])\n",
        "jordan_valid_X, jordan_test_X, jordan_valid_y, jordan_test_y = train_test_split(jordan_test_X, jordan_test_y, test_size=0.5)"
      ],
      "metadata": {
        "id": "7ngp18rnDJtJ"
      },
      "execution_count": 20,
      "outputs": []
    },
    {
      "cell_type": "code",
      "source": [
        "%cd /content/drive/MyDrive/kream_data/model"
      ],
      "metadata": {
        "colab": {
          "base_uri": "https://localhost:8080/"
        },
        "id": "SoOEbvyxfR48",
        "outputId": "a24265c0-3f02-425e-f458-6a9492202685"
      },
      "execution_count": 21,
      "outputs": [
        {
          "output_type": "stream",
          "name": "stdout",
          "text": [
            "/content/drive/MyDrive/kream_data/model\n"
          ]
        }
      ]
    },
    {
      "cell_type": "markdown",
      "source": [
        "## 클래스, 회귀값 동시 에측"
      ],
      "metadata": {
        "id": "hJhJC0Lyszn9"
      }
    },
    {
      "cell_type": "code",
      "source": [
        "from tensorflow.keras.callbacks import EarlyStopping, ModelCheckpoint\n",
        "\n",
        "es=EarlyStopping(monitor='val_loss', mode='min', verbose=1, patience=30)\n",
        "mc_jordan2=ModelCheckpoint('nike_bn_best_model_2.h5', monitor='val_loss', verbose=1, save_best_only=True)\n",
        "mc_jordan3=ModelCheckpoint('jordan_bn_best_model_3.h5', monitor='val_loss', verbose=1, save_best_only=True)"
      ],
      "metadata": {
        "id": "6xdF_NX17NQw"
      },
      "execution_count": 24,
      "outputs": []
    },
    {
      "cell_type": "code",
      "source": [
        "def focal_loss(gamma=2.0, alpha=0.25):\n",
        "    def focal_loss_fn(y_true, y_pred):\n",
        "        y_true = tf.cast(y_true, tf.float32)\n",
        "        y_pred = tf.cast(y_pred, tf.float32)\n",
        "\n",
        "\n",
        "        y_pred = tf.clip_by_value(y_pred, 1e-7, 1.0 - 1e-7)  # 예측 값 클리핑\n",
        "        pt = y_true * y_pred + (1 - y_true) * (1 - y_pred)  # 실제 클래스와의 일치 여부\n",
        "        focal_loss = -alpha * tf.math.pow(1.0 - pt, gamma) * tf.math.log(pt)  # Focal Loss 계산\n",
        "        return tf.reduce_sum(focal_loss)  # 평균 대신 합계를 계산\n",
        "    return focal_loss_fn"
      ],
      "metadata": {
        "id": "jZY1WoQ86f3T"
      },
      "execution_count": 25,
      "outputs": []
    },
    {
      "cell_type": "code",
      "source": [
        "# 입력 데이터 형태를 정의합니다.\n",
        "input_shape = (16,)  # 입력 데이터의 형태에 맞게 설정합니다.\n",
        "\n",
        "# 클래스 개수 정의\n",
        "num_classes = 13\n",
        "word_size=500\n",
        "# 입력 레이어를 정의합니다.\n",
        "inputs = Input(shape=input_shape)\n",
        "\n",
        "# 임베딩층을 추가합니다.\n",
        "embedding = Embedding(word_size, word_size, input_length=16)(inputs)\n",
        "flatten = Flatten()(embedding)\n",
        "\n",
        "# 중간 레이어를 구성합니다.\n",
        "hidden1 = Dense(64, activation='relu')(flatten)\n",
        "hidden2 = Dense(32, activation='relu')(hidden1)\n",
        "hidden3 = Dense(8, activation='relu')(hidden2)\n",
        "\n",
        "\n",
        "# 첫 번째 출력을 위한 레이어를 정의합니다.\n",
        "output1 = Dense(1, activation='linear', name='output1')(hidden3)  # 특정 값에 대한 출력\n",
        "\n",
        "# 두 번째 출력을 위한 레이어를 정의합니다.\n",
        "output2 = Dense(num_classes, activation='softmax', name='output2')(hidden2)  # 클래스에 대한 출력\n",
        "\n",
        "# 다중 출력 모델을 생성합니다.\n",
        "nike_bn_model = Model(inputs=inputs, outputs=[output1, output2])\n",
        "\n",
        "# 모델을 컴파일합니다.\n",
        "nike_bn_model.compile(optimizer=tf.keras.optimizers.Adam(learning_rate=0.0001),\n",
        "                      loss={'output1': 'mse', 'output2': 'sparse_categorical_crossentropy'},\n",
        "                      metrics={'output1': 'mae', 'output2': 'accuracy'})\n",
        "\n",
        "# 모델을 학습합니다.\n",
        "nike_bn_model.fit(jordan_train_X, [jordan_train_y['target'], jordan_train_y['price_class']], batch_size=64, epochs=10,\n",
        "                  validation_data=(jordan_valid_X, [jordan_valid_y['target'], jordan_valid_y['price_class']]),\n",
        "                  callbacks=[mc_jordan2])\n"
      ],
      "metadata": {
        "id": "7SLp4dHD447E",
        "colab": {
          "base_uri": "https://localhost:8080/"
        },
        "outputId": "cba4f501-6d43-4cef-9c6f-b5d6c02a3ae4"
      },
      "execution_count": 33,
      "outputs": [
        {
          "output_type": "stream",
          "name": "stdout",
          "text": [
            "Epoch 1/10\n",
            "16/16 [==============================] - ETA: 0s - loss: nan - output1_loss: nan - output2_loss: nan - output1_mae: nan - output2_accuracy: 0.3385\n",
            "Epoch 1: val_loss did not improve from inf\n",
            "16/16 [==============================] - 4s 119ms/step - loss: nan - output1_loss: nan - output2_loss: nan - output1_mae: nan - output2_accuracy: 0.3385 - val_loss: nan - val_output1_loss: nan - val_output2_loss: nan - val_output1_mae: nan - val_output2_accuracy: 0.3447\n",
            "Epoch 2/10\n",
            "16/16 [==============================] - ETA: 0s - loss: nan - output1_loss: nan - output2_loss: nan - output1_mae: nan - output2_accuracy: 0.3479\n",
            "Epoch 2: val_loss did not improve from inf\n",
            "16/16 [==============================] - 5s 320ms/step - loss: nan - output1_loss: nan - output2_loss: nan - output1_mae: nan - output2_accuracy: 0.3479 - val_loss: nan - val_output1_loss: nan - val_output2_loss: nan - val_output1_mae: nan - val_output2_accuracy: 0.3447\n",
            "Epoch 3/10\n",
            "15/16 [===========================>..] - ETA: 0s - loss: nan - output1_loss: nan - output2_loss: nan - output1_mae: nan - output2_accuracy: 0.3490\n",
            "Epoch 3: val_loss did not improve from inf\n",
            "16/16 [==============================] - 2s 122ms/step - loss: nan - output1_loss: nan - output2_loss: nan - output1_mae: nan - output2_accuracy: 0.3479 - val_loss: nan - val_output1_loss: nan - val_output2_loss: nan - val_output1_mae: nan - val_output2_accuracy: 0.3447\n",
            "Epoch 4/10\n",
            "15/16 [===========================>..] - ETA: 0s - loss: nan - output1_loss: nan - output2_loss: nan - output1_mae: nan - output2_accuracy: 0.3490\n",
            "Epoch 4: val_loss did not improve from inf\n",
            "16/16 [==============================] - 2s 81ms/step - loss: nan - output1_loss: nan - output2_loss: nan - output1_mae: nan - output2_accuracy: 0.3479 - val_loss: nan - val_output1_loss: nan - val_output2_loss: nan - val_output1_mae: nan - val_output2_accuracy: 0.3447\n",
            "Epoch 5/10\n",
            "10/16 [=================>............] - ETA: 0s - loss: nan - output1_loss: nan - output2_loss: nan - output1_mae: nan - output2_accuracy: 0.3438\n",
            "Epoch 5: val_loss did not improve from inf\n",
            "16/16 [==============================] - 1s 75ms/step - loss: nan - output1_loss: nan - output2_loss: nan - output1_mae: nan - output2_accuracy: 0.3479 - val_loss: nan - val_output1_loss: nan - val_output2_loss: nan - val_output1_mae: nan - val_output2_accuracy: 0.3447\n",
            "Epoch 6/10\n",
            "16/16 [==============================] - ETA: 0s - loss: nan - output1_loss: nan - output2_loss: nan - output1_mae: nan - output2_accuracy: 0.3479\n",
            "Epoch 6: val_loss did not improve from inf\n",
            "16/16 [==============================] - 1s 50ms/step - loss: nan - output1_loss: nan - output2_loss: nan - output1_mae: nan - output2_accuracy: 0.3479 - val_loss: nan - val_output1_loss: nan - val_output2_loss: nan - val_output1_mae: nan - val_output2_accuracy: 0.3447\n",
            "Epoch 7/10\n",
            "14/16 [=========================>....] - ETA: 0s - loss: nan - output1_loss: nan - output2_loss: nan - output1_mae: nan - output2_accuracy: 0.3538\n",
            "Epoch 7: val_loss did not improve from inf\n",
            "16/16 [==============================] - 0s 19ms/step - loss: nan - output1_loss: nan - output2_loss: nan - output1_mae: nan - output2_accuracy: 0.3479 - val_loss: nan - val_output1_loss: nan - val_output2_loss: nan - val_output1_mae: nan - val_output2_accuracy: 0.3447\n",
            "Epoch 8/10\n",
            "16/16 [==============================] - ETA: 0s - loss: nan - output1_loss: nan - output2_loss: nan - output1_mae: nan - output2_accuracy: 0.3479\n",
            "Epoch 8: val_loss did not improve from inf\n",
            "16/16 [==============================] - 0s 28ms/step - loss: nan - output1_loss: nan - output2_loss: nan - output1_mae: nan - output2_accuracy: 0.3479 - val_loss: nan - val_output1_loss: nan - val_output2_loss: nan - val_output1_mae: nan - val_output2_accuracy: 0.3447\n",
            "Epoch 9/10\n",
            "16/16 [==============================] - ETA: 0s - loss: nan - output1_loss: nan - output2_loss: nan - output1_mae: nan - output2_accuracy: 0.3479\n",
            "Epoch 9: val_loss did not improve from inf\n",
            "16/16 [==============================] - 1s 40ms/step - loss: nan - output1_loss: nan - output2_loss: nan - output1_mae: nan - output2_accuracy: 0.3479 - val_loss: nan - val_output1_loss: nan - val_output2_loss: nan - val_output1_mae: nan - val_output2_accuracy: 0.3447\n",
            "Epoch 10/10\n",
            "10/16 [=================>............] - ETA: 0s - loss: nan - output1_loss: nan - output2_loss: nan - output1_mae: nan - output2_accuracy: 0.3547\n",
            "Epoch 10: val_loss did not improve from inf\n",
            "16/16 [==============================] - 0s 9ms/step - loss: nan - output1_loss: nan - output2_loss: nan - output1_mae: nan - output2_accuracy: 0.3479 - val_loss: nan - val_output1_loss: nan - val_output2_loss: nan - val_output1_mae: nan - val_output2_accuracy: 0.3447\n"
          ]
        },
        {
          "output_type": "execute_result",
          "data": {
            "text/plain": [
              "<keras.callbacks.History at 0x7f1062187430>"
            ]
          },
          "metadata": {},
          "execution_count": 33
        }
      ]
    },
    {
      "cell_type": "code",
      "source": [
        "# 입력 데이터 형태를 정의합니다.\n",
        "input_shape = (16,)  # 입력 데이터의 형태에 맞게 설정합니다.\n",
        "\n",
        "# 클래스 개수 정의\n",
        "num_classes = 13\n",
        "word_size=500\n",
        "# 입력 레이어를 정의합니다.\n",
        "inputs = Input(shape=input_shape)\n",
        "\n",
        "# 임베딩층을 추가합니다.\n",
        "embedding = Embedding(word_size, word_size, input_length=16)(inputs)\n",
        "flatten = Flatten()(embedding)\n",
        "\n",
        "# 중간 레이어를 구성합니다.\n",
        "hidden1 = Dense(64, activation='relu')(flatten)\n",
        "hidden2 = Dense(32, activation='relu')(hidden1)\n",
        "hidden3 = Dense(8, activation='relu')(hidden2)\n",
        "\n",
        "\n",
        "# 첫 번째 출력을 위한 레이어를 정의합니다.\n",
        "output1 = Dense(1, activation='linear', name='output1')(hidden3)  # 특정 값에 대한 출력\n",
        "\n",
        "# 두 번째 출력을 위한 레이어를 정의합니다.\n",
        "output2 = Dense(num_classes, activation='softmax', name='output2')(hidden2)  # 클래스에 대한 출력\n",
        "\n",
        "# 다중 출력 모델을 생성합니다.\n",
        "nike_bn_model = Model(inputs=inputs, outputs=[output1, output2])\n",
        "\n",
        "# 모델을 컴파일합니다.\n",
        "nike_bn_model.compile(optimizer=tf.keras.optimizers.Adam(learning_rate=0.0001),\n",
        "                      loss={'output1': 'mse', 'output2': focal_loss(gamma=2.0, alpha=0.25)},\n",
        "                       metrics={'output1': 'mae', 'output2': 'accuracy'})\n",
        "\n",
        "# 모델을 학습합니다.\n",
        "nike_bn_model.fit(jordan_train_X, [jordan_train_y['target'], jordan_train_y['price_class']], batch_size=64, epochs=10,\n",
        "                  validation_data=(jordan_valid_X, [jordan_valid_y['target'], jordan_valid_y['price_class']]),\n",
        "                  callbacks=[mc_jordan3])\n"
      ],
      "metadata": {
        "colab": {
          "base_uri": "https://localhost:8080/"
        },
        "id": "-qE2FNha8z1D",
        "outputId": "1c0d05ed-15a6-4402-be8a-e622a074000d"
      },
      "execution_count": 32,
      "outputs": [
        {
          "output_type": "stream",
          "name": "stdout",
          "text": [
            "Epoch 1/10\n",
            "16/16 [==============================] - ETA: 0s - loss: nan - output1_loss: nan - output2_loss: nan - output1_mae: nan - output2_accuracy: 0.3240\n",
            "Epoch 1: val_loss did not improve from inf\n",
            "16/16 [==============================] - 5s 168ms/step - loss: nan - output1_loss: nan - output2_loss: nan - output1_mae: nan - output2_accuracy: 0.3240 - val_loss: nan - val_output1_loss: nan - val_output2_loss: nan - val_output1_mae: nan - val_output2_accuracy: 0.3447\n",
            "Epoch 2/10\n",
            "16/16 [==============================] - ETA: 0s - loss: nan - output1_loss: nan - output2_loss: nan - output1_mae: nan - output2_accuracy: 0.3479\n",
            "Epoch 2: val_loss did not improve from inf\n",
            "16/16 [==============================] - 3s 159ms/step - loss: nan - output1_loss: nan - output2_loss: nan - output1_mae: nan - output2_accuracy: 0.3479 - val_loss: nan - val_output1_loss: nan - val_output2_loss: nan - val_output1_mae: nan - val_output2_accuracy: 0.3447\n",
            "Epoch 3/10\n",
            "14/16 [=========================>....] - ETA: 0s - loss: nan - output1_loss: nan - output2_loss: nan - output1_mae: nan - output2_accuracy: 0.3426\n",
            "Epoch 3: val_loss did not improve from inf\n",
            "16/16 [==============================] - 2s 123ms/step - loss: nan - output1_loss: nan - output2_loss: nan - output1_mae: nan - output2_accuracy: 0.3479 - val_loss: nan - val_output1_loss: nan - val_output2_loss: nan - val_output1_mae: nan - val_output2_accuracy: 0.3447\n",
            "Epoch 4/10\n",
            "15/16 [===========================>..] - ETA: 0s - loss: nan - output1_loss: nan - output2_loss: nan - output1_mae: nan - output2_accuracy: 0.3490\n",
            "Epoch 4: val_loss did not improve from inf\n",
            "16/16 [==============================] - 2s 139ms/step - loss: nan - output1_loss: nan - output2_loss: nan - output1_mae: nan - output2_accuracy: 0.3479 - val_loss: nan - val_output1_loss: nan - val_output2_loss: nan - val_output1_mae: nan - val_output2_accuracy: 0.3447\n",
            "Epoch 5/10\n",
            "16/16 [==============================] - ETA: 0s - loss: nan - output1_loss: nan - output2_loss: nan - output1_mae: nan - output2_accuracy: 0.3479\n",
            "Epoch 5: val_loss did not improve from inf\n",
            "16/16 [==============================] - 1s 78ms/step - loss: nan - output1_loss: nan - output2_loss: nan - output1_mae: nan - output2_accuracy: 0.3479 - val_loss: nan - val_output1_loss: nan - val_output2_loss: nan - val_output1_mae: nan - val_output2_accuracy: 0.3447\n",
            "Epoch 6/10\n",
            "12/16 [=====================>........] - ETA: 0s - loss: nan - output1_loss: nan - output2_loss: nan - output1_mae: nan - output2_accuracy: 0.3581\n",
            "Epoch 6: val_loss did not improve from inf\n",
            "16/16 [==============================] - 0s 17ms/step - loss: nan - output1_loss: nan - output2_loss: nan - output1_mae: nan - output2_accuracy: 0.3479 - val_loss: nan - val_output1_loss: nan - val_output2_loss: nan - val_output1_mae: nan - val_output2_accuracy: 0.3447\n",
            "Epoch 7/10\n",
            "16/16 [==============================] - ETA: 0s - loss: nan - output1_loss: nan - output2_loss: nan - output1_mae: nan - output2_accuracy: 0.3479\n",
            "Epoch 7: val_loss did not improve from inf\n",
            "16/16 [==============================] - 0s 18ms/step - loss: nan - output1_loss: nan - output2_loss: nan - output1_mae: nan - output2_accuracy: 0.3479 - val_loss: nan - val_output1_loss: nan - val_output2_loss: nan - val_output1_mae: nan - val_output2_accuracy: 0.3447\n",
            "Epoch 8/10\n",
            "16/16 [==============================] - ETA: 0s - loss: nan - output1_loss: nan - output2_loss: nan - output1_mae: nan - output2_accuracy: 0.3479\n",
            "Epoch 8: val_loss did not improve from inf\n",
            "16/16 [==============================] - 0s 33ms/step - loss: nan - output1_loss: nan - output2_loss: nan - output1_mae: nan - output2_accuracy: 0.3479 - val_loss: nan - val_output1_loss: nan - val_output2_loss: nan - val_output1_mae: nan - val_output2_accuracy: 0.3447\n",
            "Epoch 9/10\n",
            "16/16 [==============================] - ETA: 0s - loss: nan - output1_loss: nan - output2_loss: nan - output1_mae: nan - output2_accuracy: 0.3479\n",
            "Epoch 9: val_loss did not improve from inf\n",
            "16/16 [==============================] - 1s 51ms/step - loss: nan - output1_loss: nan - output2_loss: nan - output1_mae: nan - output2_accuracy: 0.3479 - val_loss: nan - val_output1_loss: nan - val_output2_loss: nan - val_output1_mae: nan - val_output2_accuracy: 0.3447\n",
            "Epoch 10/10\n",
            "11/16 [===================>..........] - ETA: 0s - loss: nan - output1_loss: nan - output2_loss: nan - output1_mae: nan - output2_accuracy: 0.3423\n",
            "Epoch 10: val_loss did not improve from inf\n",
            "16/16 [==============================] - 0s 21ms/step - loss: nan - output1_loss: nan - output2_loss: nan - output1_mae: nan - output2_accuracy: 0.3479 - val_loss: nan - val_output1_loss: nan - val_output2_loss: nan - val_output1_mae: nan - val_output2_accuracy: 0.3447\n"
          ]
        },
        {
          "output_type": "execute_result",
          "data": {
            "text/plain": [
              "<keras.callbacks.History at 0x7f10622a91b0>"
            ]
          },
          "metadata": {},
          "execution_count": 32
        }
      ]
    },
    {
      "cell_type": "code",
      "source": [
        "from sklearn.metrics import mean_squared_error"
      ],
      "metadata": {
        "id": "w_8PZ_TwS9T2"
      },
      "execution_count": null,
      "outputs": []
    },
    {
      "cell_type": "code",
      "source": [
        "import lightgbm as lgbm\n",
        "from sklearn.metrics import confusion_matrix, accuracy_score, precision_score, recall_score, f1_score, roc_auc_score\n",
        "\n",
        "\n",
        "lgbm_model = lgbm.LGBMRegressor(n_estimators=1000, num_leaves=64, n_jobs=-1, boost_from_average=True)\n",
        "\n",
        "# 모델 학습\n",
        "lgbm_model.fit(jordan_train_X, jordan_train_y['price_class'])\n",
        "\n",
        "model = lgbm.LGBMRegressor(random_state=32)\n",
        "model.fit(\n",
        "    jordan_train_X,\n",
        "    jordan_train_y['target'],\n",
        "    eval_set=[(jordan_train_X, jordan_train_y['target']),(jordan_valid_X, jordan_valid_y['target'])],\n",
        "    eval_metric='rmse',\n",
        "    verbose=0\n",
        "    )\n",
        "\n",
        "pred = model.predict(jordan_test_X)\n",
        "\n",
        "mean_squared_error(pred, jordan_test_y['target'])**0.5"
      ],
      "metadata": {
        "colab": {
          "base_uri": "https://localhost:8080/"
        },
        "id": "GLHbcbDUCytz",
        "outputId": "0190882b-c0ae-4f88-c59c-bf0458ecf24c"
      },
      "execution_count": 73,
      "outputs": [
        {
          "output_type": "execute_result",
          "data": {
            "text/plain": [
              "78.22185548153341"
            ]
          },
          "metadata": {},
          "execution_count": 73
        }
      ]
    },
    {
      "cell_type": "code",
      "source": [
        "import pickle"
      ],
      "metadata": {
        "id": "cUtbwpB1TiCH"
      },
      "execution_count": null,
      "outputs": []
    },
    {
      "cell_type": "code",
      "source": [
        "with open('tokenizer/bn_jordan_tokenizer.pickle', 'rb') as f:\n",
        "    bn_tokenizer = pickle.load(f)\n",
        "\n",
        "BN = 'Jordan | Jordan 1 CHICAGO TRAVIS'\n",
        "\n",
        "bn_tokenized_name = bn_tokenizer.texts_to_sequences(pd.Series(BN))\n",
        "bn_padded_name = pd.DataFrame(pad_sequences(bn_tokenized_name, maxlen=16))\n",
        "\n",
        "bn_pred = pd.DataFrame(model.predict(bn_padded_name))\n",
        "\n",
        "print(bn_pred[0])"
      ],
      "metadata": {
        "colab": {
          "base_uri": "https://localhost:8080/"
        },
        "id": "6ata-5zqPMgR",
        "outputId": "997f81c9-7567-4098-8b5f-9eef83708c3b"
      },
      "execution_count": 81,
      "outputs": [
        {
          "output_type": "stream",
          "name": "stdout",
          "text": [
            "0    85.272124\n",
            "Name: 0, dtype: float64\n"
          ]
        }
      ]
    },
    {
      "cell_type": "code",
      "source": [],
      "metadata": {
        "id": "Edmq15grZPFf"
      },
      "execution_count": null,
      "outputs": []
    },
    {
      "cell_type": "code",
      "source": [
        "bn_tokenized_name"
      ],
      "metadata": {
        "colab": {
          "base_uri": "https://localhost:8080/"
        },
        "id": "hcPipZ1ZRHWN",
        "outputId": "cee5f2ad-1442-4f63-d751-444b80ac0438"
      },
      "execution_count": 58,
      "outputs": [
        {
          "output_type": "execute_result",
          "data": {
            "text/plain": [
              "[[1, 1, 3, 16, 134, 135, 2, 5, 18, 43, 66, 55, 537, 35, 4], [7, 11]]"
            ]
          },
          "metadata": {},
          "execution_count": 58
        }
      ]
    }
  ]
}