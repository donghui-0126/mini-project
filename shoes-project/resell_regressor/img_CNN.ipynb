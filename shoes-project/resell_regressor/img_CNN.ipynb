{
  "nbformat": 4,
  "nbformat_minor": 0,
  "metadata": {
    "colab": {
      "provenance": []
    },
    "kernelspec": {
      "name": "python3",
      "display_name": "Python 3"
    },
    "language_info": {
      "name": "python"
    },
    "accelerator": "GPU",
    "gpuClass": "standard"
  },
  "cells": [
    {
      "cell_type": "markdown",
      "metadata": {
        "id": "view-in-github"
      },
      "source": [
        "<a href=\"https://colab.research.google.com/github/donghui-0126/mini-project/blob/main/shoes-project/resell_regressor/img_CNN.ipynb\" target=\"_parent\"><img src=\"https://colab.research.google.com/assets/colab-badge.svg\" alt=\"Open In Colab\"/></a>"
      ]
    },
    {
      "cell_type": "code",
      "source": [
        "pip install Pillow"
      ],
      "metadata": {
        "colab": {
          "base_uri": "https://localhost:8080/"
        },
        "id": "uLNVpSntjR-8",
        "outputId": "f12d7bea-127b-44f1-92f7-92b37fc242a4"
      },
      "execution_count": 2,
      "outputs": [
        {
          "output_type": "stream",
          "name": "stdout",
          "text": [
            "Looking in indexes: https://pypi.org/simple, https://us-python.pkg.dev/colab-wheels/public/simple/\n",
            "Requirement already satisfied: Pillow in /usr/local/lib/python3.8/dist-packages (7.1.2)\n"
          ]
        }
      ]
    },
    {
      "cell_type": "code",
      "source": [
        "pip install opencv-python"
      ],
      "metadata": {
        "colab": {
          "base_uri": "https://localhost:8080/"
        },
        "id": "wB0_lqNziEEK",
        "outputId": "070c0fbe-cada-45d6-fe0a-eab9f29c7ec3"
      },
      "execution_count": 3,
      "outputs": [
        {
          "output_type": "stream",
          "name": "stdout",
          "text": [
            "Looking in indexes: https://pypi.org/simple, https://us-python.pkg.dev/colab-wheels/public/simple/\n",
            "Requirement already satisfied: opencv-python in /usr/local/lib/python3.8/dist-packages (4.6.0.66)\n",
            "Requirement already satisfied: numpy>=1.17.3 in /usr/local/lib/python3.8/dist-packages (from opencv-python) (1.21.6)\n"
          ]
        }
      ]
    },
    {
      "cell_type": "code",
      "execution_count": 4,
      "metadata": {
        "id": "uxAT1Bw-Xpy5"
      },
      "outputs": [],
      "source": [
        "from PIL import Image\n",
        "import cv2\n",
        "import numpy as np\n",
        "import pandas as pd\n",
        "import tensorflow as tf\n",
        "from tensorflow import keras\n",
        "from sklearn.linear_model import LinearRegression\n",
        "import warnings\n",
        "from sklearn.decomposition import PCA\n",
        "from sklearn.model_selection import KFold\n",
        "from sklearn.metrics import mean_squared_error\n",
        "from sklearn.model_selection import KFold\n",
        "\n",
        "\n",
        "warnings.filterwarnings('ignore')     "
      ]
    },
    {
      "cell_type": "code",
      "source": [
        "from google.colab import drive\n",
        "drive.mount('/content/drive')"
      ],
      "metadata": {
        "colab": {
          "base_uri": "https://localhost:8080/"
        },
        "id": "Nt0Rnsj-dYGu",
        "outputId": "b3d967ac-72ea-4aa2-a420-c5ad6703807e"
      },
      "execution_count": 5,
      "outputs": [
        {
          "output_type": "stream",
          "name": "stdout",
          "text": [
            "Drive already mounted at /content/drive; to attempt to forcibly remount, call drive.mount(\"/content/drive\", force_remount=True).\n"
          ]
        }
      ]
    },
    {
      "cell_type": "code",
      "source": [
        "df = pd.read_csv('/content/drive/MyDrive/kream_data/product_data_dpp.csv')\n",
        "df.head(3)"
      ],
      "metadata": {
        "colab": {
          "base_uri": "https://localhost:8080/",
          "height": 187
        },
        "id": "z4jAxuzFdYaS",
        "outputId": "760a67a9-e75d-44f9-ecbe-43bd2fa1beb9"
      },
      "execution_count": 6,
      "outputs": [
        {
          "output_type": "execute_result",
          "data": {
            "text/plain": [
              "   Unnamed: 0 product_id                                   img_path brand  \\\n",
              "0           0      28029  crawling\\product_crawling\\image\\28029.jpg  Nike   \n",
              "1           1      12831  crawling\\product_crawling\\image\\12831.jpg  Nike   \n",
              "2           2      21935  crawling\\product_crawling\\image\\21935.jpg  Nike   \n",
              "\n",
              "                             name color1 color2  price_og  price_resell  \\\n",
              "0       Nike Dunk Low Retro Black  WHITE  BLACK    129000        152800   \n",
              "1  Nike Air Force 1 '07 Low White  WHITE  WHITE    139000        136200   \n",
              "2    Nike Air Force 1 '07 WB Flax   FLAX    GUM    169000        173200   \n",
              "\n",
              "    n_scrap  +price                              tokenized_color  \\\n",
              "0  123000.0   23800                [0 0 0 0 0 0 0 0 0 0 2 4 3 5]   \n",
              "1  151000.0   -2800                [0 0 0 0 0 0 0 0 0 0 2 4 3 4]   \n",
              "2   69000.0    4200  [ 0  0  0  0  0  0  0  0  0  0  2 82  3 51]   \n",
              "\n",
              "                                        tokenized_bn  \\\n",
              "0  [ 0  0  0  0  0  0  0  0  0  0  0  0  0  2  4 ...   \n",
              "1  [ 0  0  0  0  0  0  0  0  0  0  0  2  4  3  4 ...   \n",
              "2  [   0    0    0    0    0    0    0    0    0 ...   \n",
              "\n",
              "                                      drive_img_path  \\\n",
              "0  /content/drive/MyDrive/kream_data/image/28029.jpg   \n",
              "1  /content/drive/MyDrive/kream_data/image/12831.jpg   \n",
              "2  /content/drive/MyDrive/kream_data/image/21935.jpg   \n",
              "\n",
              "                                               pixel  \n",
              "0  [[0 0 0 ... 0 0 0]\\n [0 0 0 ... 0 0 0]\\n [0 0 ...  \n",
              "1  [[255 255 255 ... 255 255 255]\\n [255 255 255 ...  \n",
              "2  [[255 255 255 ... 255 255 255]\\n [255 255 255 ...  "
            ],
            "text/html": [
              "\n",
              "  <div id=\"df-650011a8-a00a-49ce-ae1d-b0c9b0ad3171\">\n",
              "    <div class=\"colab-df-container\">\n",
              "      <div>\n",
              "<style scoped>\n",
              "    .dataframe tbody tr th:only-of-type {\n",
              "        vertical-align: middle;\n",
              "    }\n",
              "\n",
              "    .dataframe tbody tr th {\n",
              "        vertical-align: top;\n",
              "    }\n",
              "\n",
              "    .dataframe thead th {\n",
              "        text-align: right;\n",
              "    }\n",
              "</style>\n",
              "<table border=\"1\" class=\"dataframe\">\n",
              "  <thead>\n",
              "    <tr style=\"text-align: right;\">\n",
              "      <th></th>\n",
              "      <th>Unnamed: 0</th>\n",
              "      <th>product_id</th>\n",
              "      <th>img_path</th>\n",
              "      <th>brand</th>\n",
              "      <th>name</th>\n",
              "      <th>color1</th>\n",
              "      <th>color2</th>\n",
              "      <th>price_og</th>\n",
              "      <th>price_resell</th>\n",
              "      <th>n_scrap</th>\n",
              "      <th>+price</th>\n",
              "      <th>tokenized_color</th>\n",
              "      <th>tokenized_bn</th>\n",
              "      <th>drive_img_path</th>\n",
              "      <th>pixel</th>\n",
              "    </tr>\n",
              "  </thead>\n",
              "  <tbody>\n",
              "    <tr>\n",
              "      <th>0</th>\n",
              "      <td>0</td>\n",
              "      <td>28029</td>\n",
              "      <td>crawling\\product_crawling\\image\\28029.jpg</td>\n",
              "      <td>Nike</td>\n",
              "      <td>Nike Dunk Low Retro Black</td>\n",
              "      <td>WHITE</td>\n",
              "      <td>BLACK</td>\n",
              "      <td>129000</td>\n",
              "      <td>152800</td>\n",
              "      <td>123000.0</td>\n",
              "      <td>23800</td>\n",
              "      <td>[0 0 0 0 0 0 0 0 0 0 2 4 3 5]</td>\n",
              "      <td>[ 0  0  0  0  0  0  0  0  0  0  0  0  0  2  4 ...</td>\n",
              "      <td>/content/drive/MyDrive/kream_data/image/28029.jpg</td>\n",
              "      <td>[[0 0 0 ... 0 0 0]\\n [0 0 0 ... 0 0 0]\\n [0 0 ...</td>\n",
              "    </tr>\n",
              "    <tr>\n",
              "      <th>1</th>\n",
              "      <td>1</td>\n",
              "      <td>12831</td>\n",
              "      <td>crawling\\product_crawling\\image\\12831.jpg</td>\n",
              "      <td>Nike</td>\n",
              "      <td>Nike Air Force 1 '07 Low White</td>\n",
              "      <td>WHITE</td>\n",
              "      <td>WHITE</td>\n",
              "      <td>139000</td>\n",
              "      <td>136200</td>\n",
              "      <td>151000.0</td>\n",
              "      <td>-2800</td>\n",
              "      <td>[0 0 0 0 0 0 0 0 0 0 2 4 3 4]</td>\n",
              "      <td>[ 0  0  0  0  0  0  0  0  0  0  0  2  4  3  4 ...</td>\n",
              "      <td>/content/drive/MyDrive/kream_data/image/12831.jpg</td>\n",
              "      <td>[[255 255 255 ... 255 255 255]\\n [255 255 255 ...</td>\n",
              "    </tr>\n",
              "    <tr>\n",
              "      <th>2</th>\n",
              "      <td>2</td>\n",
              "      <td>21935</td>\n",
              "      <td>crawling\\product_crawling\\image\\21935.jpg</td>\n",
              "      <td>Nike</td>\n",
              "      <td>Nike Air Force 1 '07 WB Flax</td>\n",
              "      <td>FLAX</td>\n",
              "      <td>GUM</td>\n",
              "      <td>169000</td>\n",
              "      <td>173200</td>\n",
              "      <td>69000.0</td>\n",
              "      <td>4200</td>\n",
              "      <td>[ 0  0  0  0  0  0  0  0  0  0  2 82  3 51]</td>\n",
              "      <td>[   0    0    0    0    0    0    0    0    0 ...</td>\n",
              "      <td>/content/drive/MyDrive/kream_data/image/21935.jpg</td>\n",
              "      <td>[[255 255 255 ... 255 255 255]\\n [255 255 255 ...</td>\n",
              "    </tr>\n",
              "  </tbody>\n",
              "</table>\n",
              "</div>\n",
              "      <button class=\"colab-df-convert\" onclick=\"convertToInteractive('df-650011a8-a00a-49ce-ae1d-b0c9b0ad3171')\"\n",
              "              title=\"Convert this dataframe to an interactive table.\"\n",
              "              style=\"display:none;\">\n",
              "        \n",
              "  <svg xmlns=\"http://www.w3.org/2000/svg\" height=\"24px\"viewBox=\"0 0 24 24\"\n",
              "       width=\"24px\">\n",
              "    <path d=\"M0 0h24v24H0V0z\" fill=\"none\"/>\n",
              "    <path d=\"M18.56 5.44l.94 2.06.94-2.06 2.06-.94-2.06-.94-.94-2.06-.94 2.06-2.06.94zm-11 1L8.5 8.5l.94-2.06 2.06-.94-2.06-.94L8.5 2.5l-.94 2.06-2.06.94zm10 10l.94 2.06.94-2.06 2.06-.94-2.06-.94-.94-2.06-.94 2.06-2.06.94z\"/><path d=\"M17.41 7.96l-1.37-1.37c-.4-.4-.92-.59-1.43-.59-.52 0-1.04.2-1.43.59L10.3 9.45l-7.72 7.72c-.78.78-.78 2.05 0 2.83L4 21.41c.39.39.9.59 1.41.59.51 0 1.02-.2 1.41-.59l7.78-7.78 2.81-2.81c.8-.78.8-2.07 0-2.86zM5.41 20L4 18.59l7.72-7.72 1.47 1.35L5.41 20z\"/>\n",
              "  </svg>\n",
              "      </button>\n",
              "      \n",
              "  <style>\n",
              "    .colab-df-container {\n",
              "      display:flex;\n",
              "      flex-wrap:wrap;\n",
              "      gap: 12px;\n",
              "    }\n",
              "\n",
              "    .colab-df-convert {\n",
              "      background-color: #E8F0FE;\n",
              "      border: none;\n",
              "      border-radius: 50%;\n",
              "      cursor: pointer;\n",
              "      display: none;\n",
              "      fill: #1967D2;\n",
              "      height: 32px;\n",
              "      padding: 0 0 0 0;\n",
              "      width: 32px;\n",
              "    }\n",
              "\n",
              "    .colab-df-convert:hover {\n",
              "      background-color: #E2EBFA;\n",
              "      box-shadow: 0px 1px 2px rgba(60, 64, 67, 0.3), 0px 1px 3px 1px rgba(60, 64, 67, 0.15);\n",
              "      fill: #174EA6;\n",
              "    }\n",
              "\n",
              "    [theme=dark] .colab-df-convert {\n",
              "      background-color: #3B4455;\n",
              "      fill: #D2E3FC;\n",
              "    }\n",
              "\n",
              "    [theme=dark] .colab-df-convert:hover {\n",
              "      background-color: #434B5C;\n",
              "      box-shadow: 0px 1px 3px 1px rgba(0, 0, 0, 0.15);\n",
              "      filter: drop-shadow(0px 1px 2px rgba(0, 0, 0, 0.3));\n",
              "      fill: #FFFFFF;\n",
              "    }\n",
              "  </style>\n",
              "\n",
              "      <script>\n",
              "        const buttonEl =\n",
              "          document.querySelector('#df-650011a8-a00a-49ce-ae1d-b0c9b0ad3171 button.colab-df-convert');\n",
              "        buttonEl.style.display =\n",
              "          google.colab.kernel.accessAllowed ? 'block' : 'none';\n",
              "\n",
              "        async function convertToInteractive(key) {\n",
              "          const element = document.querySelector('#df-650011a8-a00a-49ce-ae1d-b0c9b0ad3171');\n",
              "          const dataTable =\n",
              "            await google.colab.kernel.invokeFunction('convertToInteractive',\n",
              "                                                     [key], {});\n",
              "          if (!dataTable) return;\n",
              "\n",
              "          const docLinkHtml = 'Like what you see? Visit the ' +\n",
              "            '<a target=\"_blank\" href=https://colab.research.google.com/notebooks/data_table.ipynb>data table notebook</a>'\n",
              "            + ' to learn more about interactive tables.';\n",
              "          element.innerHTML = '';\n",
              "          dataTable['output_type'] = 'display_data';\n",
              "          await google.colab.output.renderOutput(dataTable, element);\n",
              "          const docLink = document.createElement('div');\n",
              "          docLink.innerHTML = docLinkHtml;\n",
              "          element.appendChild(docLink);\n",
              "        }\n",
              "      </script>\n",
              "    </div>\n",
              "  </div>\n",
              "  "
            ]
          },
          "metadata": {},
          "execution_count": 6
        }
      ]
    },
    {
      "cell_type": "code",
      "source": [
        "drive_img_path_list = []\n",
        "\n",
        "for index,data in enumerate(df['img_path']):\n",
        "    drive_img_path = \"/content/drive/MyDrive/kream_data/image/\" + (data.split(\"\\\\\")[-1])\n",
        "    drive_img_path_list.append(drive_img_path)"
      ],
      "metadata": {
        "id": "FgP8RrEEd_oD"
      },
      "execution_count": 7,
      "outputs": []
    },
    {
      "cell_type": "code",
      "source": [
        "df[\"drive_img_path\"] = drive_img_path_list"
      ],
      "metadata": {
        "id": "wxGefZBshCA_"
      },
      "execution_count": 8,
      "outputs": []
    },
    {
      "cell_type": "code",
      "source": [
        "df.head(3)"
      ],
      "metadata": {
        "colab": {
          "base_uri": "https://localhost:8080/",
          "height": 187
        },
        "id": "1U-sOBvDdkCF",
        "outputId": "167898ae-dab3-4692-b0c7-619c4273d57a"
      },
      "execution_count": 9,
      "outputs": [
        {
          "output_type": "execute_result",
          "data": {
            "text/plain": [
              "   Unnamed: 0 product_id                                   img_path brand  \\\n",
              "0           0      28029  crawling\\product_crawling\\image\\28029.jpg  Nike   \n",
              "1           1      12831  crawling\\product_crawling\\image\\12831.jpg  Nike   \n",
              "2           2      21935  crawling\\product_crawling\\image\\21935.jpg  Nike   \n",
              "\n",
              "                             name color1 color2  price_og  price_resell  \\\n",
              "0       Nike Dunk Low Retro Black  WHITE  BLACK    129000        152800   \n",
              "1  Nike Air Force 1 '07 Low White  WHITE  WHITE    139000        136200   \n",
              "2    Nike Air Force 1 '07 WB Flax   FLAX    GUM    169000        173200   \n",
              "\n",
              "    n_scrap  +price                              tokenized_color  \\\n",
              "0  123000.0   23800                [0 0 0 0 0 0 0 0 0 0 2 4 3 5]   \n",
              "1  151000.0   -2800                [0 0 0 0 0 0 0 0 0 0 2 4 3 4]   \n",
              "2   69000.0    4200  [ 0  0  0  0  0  0  0  0  0  0  2 82  3 51]   \n",
              "\n",
              "                                        tokenized_bn  \\\n",
              "0  [ 0  0  0  0  0  0  0  0  0  0  0  0  0  2  4 ...   \n",
              "1  [ 0  0  0  0  0  0  0  0  0  0  0  2  4  3  4 ...   \n",
              "2  [   0    0    0    0    0    0    0    0    0 ...   \n",
              "\n",
              "                                      drive_img_path  \\\n",
              "0  /content/drive/MyDrive/kream_data/image/28029.jpg   \n",
              "1  /content/drive/MyDrive/kream_data/image/12831.jpg   \n",
              "2  /content/drive/MyDrive/kream_data/image/21935.jpg   \n",
              "\n",
              "                                               pixel  \n",
              "0  [[0 0 0 ... 0 0 0]\\n [0 0 0 ... 0 0 0]\\n [0 0 ...  \n",
              "1  [[255 255 255 ... 255 255 255]\\n [255 255 255 ...  \n",
              "2  [[255 255 255 ... 255 255 255]\\n [255 255 255 ...  "
            ],
            "text/html": [
              "\n",
              "  <div id=\"df-a7584942-b087-49a2-9056-f2cd828cf236\">\n",
              "    <div class=\"colab-df-container\">\n",
              "      <div>\n",
              "<style scoped>\n",
              "    .dataframe tbody tr th:only-of-type {\n",
              "        vertical-align: middle;\n",
              "    }\n",
              "\n",
              "    .dataframe tbody tr th {\n",
              "        vertical-align: top;\n",
              "    }\n",
              "\n",
              "    .dataframe thead th {\n",
              "        text-align: right;\n",
              "    }\n",
              "</style>\n",
              "<table border=\"1\" class=\"dataframe\">\n",
              "  <thead>\n",
              "    <tr style=\"text-align: right;\">\n",
              "      <th></th>\n",
              "      <th>Unnamed: 0</th>\n",
              "      <th>product_id</th>\n",
              "      <th>img_path</th>\n",
              "      <th>brand</th>\n",
              "      <th>name</th>\n",
              "      <th>color1</th>\n",
              "      <th>color2</th>\n",
              "      <th>price_og</th>\n",
              "      <th>price_resell</th>\n",
              "      <th>n_scrap</th>\n",
              "      <th>+price</th>\n",
              "      <th>tokenized_color</th>\n",
              "      <th>tokenized_bn</th>\n",
              "      <th>drive_img_path</th>\n",
              "      <th>pixel</th>\n",
              "    </tr>\n",
              "  </thead>\n",
              "  <tbody>\n",
              "    <tr>\n",
              "      <th>0</th>\n",
              "      <td>0</td>\n",
              "      <td>28029</td>\n",
              "      <td>crawling\\product_crawling\\image\\28029.jpg</td>\n",
              "      <td>Nike</td>\n",
              "      <td>Nike Dunk Low Retro Black</td>\n",
              "      <td>WHITE</td>\n",
              "      <td>BLACK</td>\n",
              "      <td>129000</td>\n",
              "      <td>152800</td>\n",
              "      <td>123000.0</td>\n",
              "      <td>23800</td>\n",
              "      <td>[0 0 0 0 0 0 0 0 0 0 2 4 3 5]</td>\n",
              "      <td>[ 0  0  0  0  0  0  0  0  0  0  0  0  0  2  4 ...</td>\n",
              "      <td>/content/drive/MyDrive/kream_data/image/28029.jpg</td>\n",
              "      <td>[[0 0 0 ... 0 0 0]\\n [0 0 0 ... 0 0 0]\\n [0 0 ...</td>\n",
              "    </tr>\n",
              "    <tr>\n",
              "      <th>1</th>\n",
              "      <td>1</td>\n",
              "      <td>12831</td>\n",
              "      <td>crawling\\product_crawling\\image\\12831.jpg</td>\n",
              "      <td>Nike</td>\n",
              "      <td>Nike Air Force 1 '07 Low White</td>\n",
              "      <td>WHITE</td>\n",
              "      <td>WHITE</td>\n",
              "      <td>139000</td>\n",
              "      <td>136200</td>\n",
              "      <td>151000.0</td>\n",
              "      <td>-2800</td>\n",
              "      <td>[0 0 0 0 0 0 0 0 0 0 2 4 3 4]</td>\n",
              "      <td>[ 0  0  0  0  0  0  0  0  0  0  0  2  4  3  4 ...</td>\n",
              "      <td>/content/drive/MyDrive/kream_data/image/12831.jpg</td>\n",
              "      <td>[[255 255 255 ... 255 255 255]\\n [255 255 255 ...</td>\n",
              "    </tr>\n",
              "    <tr>\n",
              "      <th>2</th>\n",
              "      <td>2</td>\n",
              "      <td>21935</td>\n",
              "      <td>crawling\\product_crawling\\image\\21935.jpg</td>\n",
              "      <td>Nike</td>\n",
              "      <td>Nike Air Force 1 '07 WB Flax</td>\n",
              "      <td>FLAX</td>\n",
              "      <td>GUM</td>\n",
              "      <td>169000</td>\n",
              "      <td>173200</td>\n",
              "      <td>69000.0</td>\n",
              "      <td>4200</td>\n",
              "      <td>[ 0  0  0  0  0  0  0  0  0  0  2 82  3 51]</td>\n",
              "      <td>[   0    0    0    0    0    0    0    0    0 ...</td>\n",
              "      <td>/content/drive/MyDrive/kream_data/image/21935.jpg</td>\n",
              "      <td>[[255 255 255 ... 255 255 255]\\n [255 255 255 ...</td>\n",
              "    </tr>\n",
              "  </tbody>\n",
              "</table>\n",
              "</div>\n",
              "      <button class=\"colab-df-convert\" onclick=\"convertToInteractive('df-a7584942-b087-49a2-9056-f2cd828cf236')\"\n",
              "              title=\"Convert this dataframe to an interactive table.\"\n",
              "              style=\"display:none;\">\n",
              "        \n",
              "  <svg xmlns=\"http://www.w3.org/2000/svg\" height=\"24px\"viewBox=\"0 0 24 24\"\n",
              "       width=\"24px\">\n",
              "    <path d=\"M0 0h24v24H0V0z\" fill=\"none\"/>\n",
              "    <path d=\"M18.56 5.44l.94 2.06.94-2.06 2.06-.94-2.06-.94-.94-2.06-.94 2.06-2.06.94zm-11 1L8.5 8.5l.94-2.06 2.06-.94-2.06-.94L8.5 2.5l-.94 2.06-2.06.94zm10 10l.94 2.06.94-2.06 2.06-.94-2.06-.94-.94-2.06-.94 2.06-2.06.94z\"/><path d=\"M17.41 7.96l-1.37-1.37c-.4-.4-.92-.59-1.43-.59-.52 0-1.04.2-1.43.59L10.3 9.45l-7.72 7.72c-.78.78-.78 2.05 0 2.83L4 21.41c.39.39.9.59 1.41.59.51 0 1.02-.2 1.41-.59l7.78-7.78 2.81-2.81c.8-.78.8-2.07 0-2.86zM5.41 20L4 18.59l7.72-7.72 1.47 1.35L5.41 20z\"/>\n",
              "  </svg>\n",
              "      </button>\n",
              "      \n",
              "  <style>\n",
              "    .colab-df-container {\n",
              "      display:flex;\n",
              "      flex-wrap:wrap;\n",
              "      gap: 12px;\n",
              "    }\n",
              "\n",
              "    .colab-df-convert {\n",
              "      background-color: #E8F0FE;\n",
              "      border: none;\n",
              "      border-radius: 50%;\n",
              "      cursor: pointer;\n",
              "      display: none;\n",
              "      fill: #1967D2;\n",
              "      height: 32px;\n",
              "      padding: 0 0 0 0;\n",
              "      width: 32px;\n",
              "    }\n",
              "\n",
              "    .colab-df-convert:hover {\n",
              "      background-color: #E2EBFA;\n",
              "      box-shadow: 0px 1px 2px rgba(60, 64, 67, 0.3), 0px 1px 3px 1px rgba(60, 64, 67, 0.15);\n",
              "      fill: #174EA6;\n",
              "    }\n",
              "\n",
              "    [theme=dark] .colab-df-convert {\n",
              "      background-color: #3B4455;\n",
              "      fill: #D2E3FC;\n",
              "    }\n",
              "\n",
              "    [theme=dark] .colab-df-convert:hover {\n",
              "      background-color: #434B5C;\n",
              "      box-shadow: 0px 1px 3px 1px rgba(0, 0, 0, 0.15);\n",
              "      filter: drop-shadow(0px 1px 2px rgba(0, 0, 0, 0.3));\n",
              "      fill: #FFFFFF;\n",
              "    }\n",
              "  </style>\n",
              "\n",
              "      <script>\n",
              "        const buttonEl =\n",
              "          document.querySelector('#df-a7584942-b087-49a2-9056-f2cd828cf236 button.colab-df-convert');\n",
              "        buttonEl.style.display =\n",
              "          google.colab.kernel.accessAllowed ? 'block' : 'none';\n",
              "\n",
              "        async function convertToInteractive(key) {\n",
              "          const element = document.querySelector('#df-a7584942-b087-49a2-9056-f2cd828cf236');\n",
              "          const dataTable =\n",
              "            await google.colab.kernel.invokeFunction('convertToInteractive',\n",
              "                                                     [key], {});\n",
              "          if (!dataTable) return;\n",
              "\n",
              "          const docLinkHtml = 'Like what you see? Visit the ' +\n",
              "            '<a target=\"_blank\" href=https://colab.research.google.com/notebooks/data_table.ipynb>data table notebook</a>'\n",
              "            + ' to learn more about interactive tables.';\n",
              "          element.innerHTML = '';\n",
              "          dataTable['output_type'] = 'display_data';\n",
              "          await google.colab.output.renderOutput(dataTable, element);\n",
              "          const docLink = document.createElement('div');\n",
              "          docLink.innerHTML = docLinkHtml;\n",
              "          element.appendChild(docLink);\n",
              "        }\n",
              "      </script>\n",
              "    </div>\n",
              "  </div>\n",
              "  "
            ]
          },
          "metadata": {},
          "execution_count": 9
        }
      ]
    },
    {
      "cell_type": "code",
      "source": [
        "# pixel_list = []\n",
        "# for n,url in enumerate(df['drive_img_path']):\n",
        "#     img_name = (url)\n",
        "#     im = Image.open(img_name)\n",
        "#     pix = np.array(im)\n",
        "\n",
        "#     print(\"\\r{}\".format(n), end=\"\")\n",
        "\n",
        "#     pixel_list.append(pix)\n",
        "# df['pixel'] = pixel_list"
      ],
      "metadata": {
        "id": "JvFHPkHIidgo"
      },
      "execution_count": 10,
      "outputs": []
    },
    {
      "cell_type": "code",
      "source": [
        "df[\"pixel\"].head()"
      ],
      "metadata": {
        "colab": {
          "base_uri": "https://localhost:8080/"
        },
        "id": "QXEoJH5QCNsG",
        "outputId": "3c4922b2-b82f-4140-e602-2ae2b8808ada"
      },
      "execution_count": 11,
      "outputs": [
        {
          "output_type": "execute_result",
          "data": {
            "text/plain": [
              "0    [[0 0 0 ... 0 0 0]\\n [0 0 0 ... 0 0 0]\\n [0 0 ...\n",
              "1    [[255 255 255 ... 255 255 255]\\n [255 255 255 ...\n",
              "2    [[255 255 255 ... 255 255 255]\\n [255 255 255 ...\n",
              "3    [[255 255 255 ... 255 255 255]\\n [255 255 255 ...\n",
              "4    [[255 255 255 ... 255 255 255]\\n [255 255 255 ...\n",
              "Name: pixel, dtype: object"
            ]
          },
          "metadata": {},
          "execution_count": 11
        }
      ]
    },
    {
      "cell_type": "code",
      "source": [
        "df.head(3)"
      ],
      "metadata": {
        "colab": {
          "base_uri": "https://localhost:8080/",
          "height": 187
        },
        "id": "BkpP8oyiCNtZ",
        "outputId": "bf600c4f-346b-4eaa-bfba-ec0e46cf594f"
      },
      "execution_count": 12,
      "outputs": [
        {
          "output_type": "execute_result",
          "data": {
            "text/plain": [
              "   Unnamed: 0 product_id                                   img_path brand  \\\n",
              "0           0      28029  crawling\\product_crawling\\image\\28029.jpg  Nike   \n",
              "1           1      12831  crawling\\product_crawling\\image\\12831.jpg  Nike   \n",
              "2           2      21935  crawling\\product_crawling\\image\\21935.jpg  Nike   \n",
              "\n",
              "                             name color1 color2  price_og  price_resell  \\\n",
              "0       Nike Dunk Low Retro Black  WHITE  BLACK    129000        152800   \n",
              "1  Nike Air Force 1 '07 Low White  WHITE  WHITE    139000        136200   \n",
              "2    Nike Air Force 1 '07 WB Flax   FLAX    GUM    169000        173200   \n",
              "\n",
              "    n_scrap  +price                              tokenized_color  \\\n",
              "0  123000.0   23800                [0 0 0 0 0 0 0 0 0 0 2 4 3 5]   \n",
              "1  151000.0   -2800                [0 0 0 0 0 0 0 0 0 0 2 4 3 4]   \n",
              "2   69000.0    4200  [ 0  0  0  0  0  0  0  0  0  0  2 82  3 51]   \n",
              "\n",
              "                                        tokenized_bn  \\\n",
              "0  [ 0  0  0  0  0  0  0  0  0  0  0  0  0  2  4 ...   \n",
              "1  [ 0  0  0  0  0  0  0  0  0  0  0  2  4  3  4 ...   \n",
              "2  [   0    0    0    0    0    0    0    0    0 ...   \n",
              "\n",
              "                                      drive_img_path  \\\n",
              "0  /content/drive/MyDrive/kream_data/image/28029.jpg   \n",
              "1  /content/drive/MyDrive/kream_data/image/12831.jpg   \n",
              "2  /content/drive/MyDrive/kream_data/image/21935.jpg   \n",
              "\n",
              "                                               pixel  \n",
              "0  [[0 0 0 ... 0 0 0]\\n [0 0 0 ... 0 0 0]\\n [0 0 ...  \n",
              "1  [[255 255 255 ... 255 255 255]\\n [255 255 255 ...  \n",
              "2  [[255 255 255 ... 255 255 255]\\n [255 255 255 ...  "
            ],
            "text/html": [
              "\n",
              "  <div id=\"df-e0780564-9654-4c2c-a329-24ed112ce978\">\n",
              "    <div class=\"colab-df-container\">\n",
              "      <div>\n",
              "<style scoped>\n",
              "    .dataframe tbody tr th:only-of-type {\n",
              "        vertical-align: middle;\n",
              "    }\n",
              "\n",
              "    .dataframe tbody tr th {\n",
              "        vertical-align: top;\n",
              "    }\n",
              "\n",
              "    .dataframe thead th {\n",
              "        text-align: right;\n",
              "    }\n",
              "</style>\n",
              "<table border=\"1\" class=\"dataframe\">\n",
              "  <thead>\n",
              "    <tr style=\"text-align: right;\">\n",
              "      <th></th>\n",
              "      <th>Unnamed: 0</th>\n",
              "      <th>product_id</th>\n",
              "      <th>img_path</th>\n",
              "      <th>brand</th>\n",
              "      <th>name</th>\n",
              "      <th>color1</th>\n",
              "      <th>color2</th>\n",
              "      <th>price_og</th>\n",
              "      <th>price_resell</th>\n",
              "      <th>n_scrap</th>\n",
              "      <th>+price</th>\n",
              "      <th>tokenized_color</th>\n",
              "      <th>tokenized_bn</th>\n",
              "      <th>drive_img_path</th>\n",
              "      <th>pixel</th>\n",
              "    </tr>\n",
              "  </thead>\n",
              "  <tbody>\n",
              "    <tr>\n",
              "      <th>0</th>\n",
              "      <td>0</td>\n",
              "      <td>28029</td>\n",
              "      <td>crawling\\product_crawling\\image\\28029.jpg</td>\n",
              "      <td>Nike</td>\n",
              "      <td>Nike Dunk Low Retro Black</td>\n",
              "      <td>WHITE</td>\n",
              "      <td>BLACK</td>\n",
              "      <td>129000</td>\n",
              "      <td>152800</td>\n",
              "      <td>123000.0</td>\n",
              "      <td>23800</td>\n",
              "      <td>[0 0 0 0 0 0 0 0 0 0 2 4 3 5]</td>\n",
              "      <td>[ 0  0  0  0  0  0  0  0  0  0  0  0  0  2  4 ...</td>\n",
              "      <td>/content/drive/MyDrive/kream_data/image/28029.jpg</td>\n",
              "      <td>[[0 0 0 ... 0 0 0]\\n [0 0 0 ... 0 0 0]\\n [0 0 ...</td>\n",
              "    </tr>\n",
              "    <tr>\n",
              "      <th>1</th>\n",
              "      <td>1</td>\n",
              "      <td>12831</td>\n",
              "      <td>crawling\\product_crawling\\image\\12831.jpg</td>\n",
              "      <td>Nike</td>\n",
              "      <td>Nike Air Force 1 '07 Low White</td>\n",
              "      <td>WHITE</td>\n",
              "      <td>WHITE</td>\n",
              "      <td>139000</td>\n",
              "      <td>136200</td>\n",
              "      <td>151000.0</td>\n",
              "      <td>-2800</td>\n",
              "      <td>[0 0 0 0 0 0 0 0 0 0 2 4 3 4]</td>\n",
              "      <td>[ 0  0  0  0  0  0  0  0  0  0  0  2  4  3  4 ...</td>\n",
              "      <td>/content/drive/MyDrive/kream_data/image/12831.jpg</td>\n",
              "      <td>[[255 255 255 ... 255 255 255]\\n [255 255 255 ...</td>\n",
              "    </tr>\n",
              "    <tr>\n",
              "      <th>2</th>\n",
              "      <td>2</td>\n",
              "      <td>21935</td>\n",
              "      <td>crawling\\product_crawling\\image\\21935.jpg</td>\n",
              "      <td>Nike</td>\n",
              "      <td>Nike Air Force 1 '07 WB Flax</td>\n",
              "      <td>FLAX</td>\n",
              "      <td>GUM</td>\n",
              "      <td>169000</td>\n",
              "      <td>173200</td>\n",
              "      <td>69000.0</td>\n",
              "      <td>4200</td>\n",
              "      <td>[ 0  0  0  0  0  0  0  0  0  0  2 82  3 51]</td>\n",
              "      <td>[   0    0    0    0    0    0    0    0    0 ...</td>\n",
              "      <td>/content/drive/MyDrive/kream_data/image/21935.jpg</td>\n",
              "      <td>[[255 255 255 ... 255 255 255]\\n [255 255 255 ...</td>\n",
              "    </tr>\n",
              "  </tbody>\n",
              "</table>\n",
              "</div>\n",
              "      <button class=\"colab-df-convert\" onclick=\"convertToInteractive('df-e0780564-9654-4c2c-a329-24ed112ce978')\"\n",
              "              title=\"Convert this dataframe to an interactive table.\"\n",
              "              style=\"display:none;\">\n",
              "        \n",
              "  <svg xmlns=\"http://www.w3.org/2000/svg\" height=\"24px\"viewBox=\"0 0 24 24\"\n",
              "       width=\"24px\">\n",
              "    <path d=\"M0 0h24v24H0V0z\" fill=\"none\"/>\n",
              "    <path d=\"M18.56 5.44l.94 2.06.94-2.06 2.06-.94-2.06-.94-.94-2.06-.94 2.06-2.06.94zm-11 1L8.5 8.5l.94-2.06 2.06-.94-2.06-.94L8.5 2.5l-.94 2.06-2.06.94zm10 10l.94 2.06.94-2.06 2.06-.94-2.06-.94-.94-2.06-.94 2.06-2.06.94z\"/><path d=\"M17.41 7.96l-1.37-1.37c-.4-.4-.92-.59-1.43-.59-.52 0-1.04.2-1.43.59L10.3 9.45l-7.72 7.72c-.78.78-.78 2.05 0 2.83L4 21.41c.39.39.9.59 1.41.59.51 0 1.02-.2 1.41-.59l7.78-7.78 2.81-2.81c.8-.78.8-2.07 0-2.86zM5.41 20L4 18.59l7.72-7.72 1.47 1.35L5.41 20z\"/>\n",
              "  </svg>\n",
              "      </button>\n",
              "      \n",
              "  <style>\n",
              "    .colab-df-container {\n",
              "      display:flex;\n",
              "      flex-wrap:wrap;\n",
              "      gap: 12px;\n",
              "    }\n",
              "\n",
              "    .colab-df-convert {\n",
              "      background-color: #E8F0FE;\n",
              "      border: none;\n",
              "      border-radius: 50%;\n",
              "      cursor: pointer;\n",
              "      display: none;\n",
              "      fill: #1967D2;\n",
              "      height: 32px;\n",
              "      padding: 0 0 0 0;\n",
              "      width: 32px;\n",
              "    }\n",
              "\n",
              "    .colab-df-convert:hover {\n",
              "      background-color: #E2EBFA;\n",
              "      box-shadow: 0px 1px 2px rgba(60, 64, 67, 0.3), 0px 1px 3px 1px rgba(60, 64, 67, 0.15);\n",
              "      fill: #174EA6;\n",
              "    }\n",
              "\n",
              "    [theme=dark] .colab-df-convert {\n",
              "      background-color: #3B4455;\n",
              "      fill: #D2E3FC;\n",
              "    }\n",
              "\n",
              "    [theme=dark] .colab-df-convert:hover {\n",
              "      background-color: #434B5C;\n",
              "      box-shadow: 0px 1px 3px 1px rgba(0, 0, 0, 0.15);\n",
              "      filter: drop-shadow(0px 1px 2px rgba(0, 0, 0, 0.3));\n",
              "      fill: #FFFFFF;\n",
              "    }\n",
              "  </style>\n",
              "\n",
              "      <script>\n",
              "        const buttonEl =\n",
              "          document.querySelector('#df-e0780564-9654-4c2c-a329-24ed112ce978 button.colab-df-convert');\n",
              "        buttonEl.style.display =\n",
              "          google.colab.kernel.accessAllowed ? 'block' : 'none';\n",
              "\n",
              "        async function convertToInteractive(key) {\n",
              "          const element = document.querySelector('#df-e0780564-9654-4c2c-a329-24ed112ce978');\n",
              "          const dataTable =\n",
              "            await google.colab.kernel.invokeFunction('convertToInteractive',\n",
              "                                                     [key], {});\n",
              "          if (!dataTable) return;\n",
              "\n",
              "          const docLinkHtml = 'Like what you see? Visit the ' +\n",
              "            '<a target=\"_blank\" href=https://colab.research.google.com/notebooks/data_table.ipynb>data table notebook</a>'\n",
              "            + ' to learn more about interactive tables.';\n",
              "          element.innerHTML = '';\n",
              "          dataTable['output_type'] = 'display_data';\n",
              "          await google.colab.output.renderOutput(dataTable, element);\n",
              "          const docLink = document.createElement('div');\n",
              "          docLink.innerHTML = docLinkHtml;\n",
              "          element.appendChild(docLink);\n",
              "        }\n",
              "      </script>\n",
              "    </div>\n",
              "  </div>\n",
              "  "
            ]
          },
          "metadata": {},
          "execution_count": 12
        }
      ]
    },
    {
      "cell_type": "code",
      "source": [
        "# df.to_csv(\"/content/drive/MyDrive/kream_data/product_data_dpp.csv\")"
      ],
      "metadata": {
        "id": "D5DZFoFAGqV1"
      },
      "execution_count": 13,
      "outputs": []
    },
    {
      "cell_type": "code",
      "source": [
        "# df = pd.read_csv(\"/content/drive/MyDrive/kream_data/product_data_dpp.csv\")"
      ],
      "metadata": {
        "id": "tXy_Ldx0JDDV"
      },
      "execution_count": 14,
      "outputs": []
    },
    {
      "cell_type": "code",
      "source": [
        "# pixel_data= np.array(df[\"pixel\"])"
      ],
      "metadata": {
        "id": "BjgbO-9uLEdn"
      },
      "execution_count": 15,
      "outputs": []
    },
    {
      "cell_type": "code",
      "source": [
        "# pixel_data.shape"
      ],
      "metadata": {
        "id": "7GPKO-yvOLdu"
      },
      "execution_count": 16,
      "outputs": []
    },
    {
      "cell_type": "code",
      "source": [
        "# pixel = np.concatenate(pixel_data, axis=0).reshape((6103,256,256,1))"
      ],
      "metadata": {
        "id": "2_n2ZcsCK33Z"
      },
      "execution_count": 17,
      "outputs": []
    },
    {
      "cell_type": "code",
      "source": [
        "# pixel.shape"
      ],
      "metadata": {
        "id": "zux6wvYzJ5vY"
      },
      "execution_count": 18,
      "outputs": []
    },
    {
      "cell_type": "code",
      "source": [
        "# np.save('/content/drive/MyDrive/kream_data/pixel_data', pixel)"
      ],
      "metadata": {
        "id": "j0orBLp0ROyY"
      },
      "execution_count": 19,
      "outputs": []
    },
    {
      "cell_type": "code",
      "source": [
        "pixel = np.load('/content/drive/MyDrive/kream_data/pixel_data.npy')\n",
        "pixel.shape"
      ],
      "metadata": {
        "colab": {
          "base_uri": "https://localhost:8080/"
        },
        "id": "nGizpQxARuPc",
        "outputId": "7b250696-01bf-4a96-967d-5caef2410a8d"
      },
      "execution_count": 20,
      "outputs": [
        {
          "output_type": "execute_result",
          "data": {
            "text/plain": [
              "(6103, 256, 256, 1)"
            ]
          },
          "metadata": {},
          "execution_count": 20
        }
      ]
    },
    {
      "cell_type": "code",
      "source": [
        "pixel = pixel/255."
      ],
      "metadata": {
        "id": "K0JzGG8Jle30"
      },
      "execution_count": 21,
      "outputs": []
    },
    {
      "cell_type": "code",
      "source": [
        "pixel = pixel.astype('float32')"
      ],
      "metadata": {
        "id": "EEgMUwMRmB7a"
      },
      "execution_count": 22,
      "outputs": []
    },
    {
      "cell_type": "code",
      "source": [
        "df['price_resell'] /= 10000 "
      ],
      "metadata": {
        "id": "BNxZtIdBnbrI"
      },
      "execution_count": 23,
      "outputs": []
    },
    {
      "cell_type": "code",
      "source": [
        "from keras.models import Sequential\n",
        "from keras.layers import Conv2D, Activation, MaxPooling2D, Flatten, Dense, Dropout\n",
        "\n",
        "\n",
        "# kfold = KFold(n_splits=5, shuffle=True)\n",
        "\n",
        "# input_shape=(256,256, 1)\n",
        "\n",
        "# model1_error = []\n",
        "# model2_error = []\n",
        "# model3_error = []\n",
        "\n",
        "# for train_index, test_index in kfold.split(pixel):\n",
        "#     train_X, train_y, test_X, test_y = pixel[train_index],df['price_resell'].iloc[train_index],\\\n",
        "#                                             pixel[test_index], df['price_resell'].iloc[test_index]\n",
        "    \n",
        "#     print(train_X.shape)\n",
        "#     print(train_y.shape)\n",
        "#     print(test_X.shape)\n",
        "#     print(test_y.shape)\n",
        "#     model1 = Sequential()\n",
        "#     model1.add(Conv2D(32, (3, 3), input_shape=input_shape))\n",
        "#     model1.add(Activation('relu'))\n",
        "#     model1.add(MaxPooling2D(pool_size=(2, 2)))\n",
        "\n",
        "#     model1.add(Conv2D(32, (3, 3)))\n",
        "#     model1.add(Activation('relu'))\n",
        "#     model1.add(MaxPooling2D(pool_size=(2, 2)))\n",
        "\n",
        "#     model1.add(Conv2D(64, (3, 3)))\n",
        "#     model1.add(Activation('relu'))\n",
        "#     model1.add(MaxPooling2D(pool_size=(2, 2)))\n",
        "\n",
        "#     model1.add(Flatten())\n",
        "#     model1.add(Dense(64))\n",
        "#     model1.add(Activation('relu'))\n",
        "#     model1.add(Dropout(0.5))\n",
        "#     model1.add(Dense(1))\n",
        "\n",
        "#     sgd = keras.optimizers.SGD(learning_rate=0.001)    \n",
        "#     model1.compile(optimizer= sgd, loss=tf.keras.losses.Huber(delta=50000))\n",
        "#     model1.fit(train_X, train_y, epochs=20, validation_data=(test_X,test_y))\n",
        "\n",
        "#     pred1 = model1.predict(test_X)\n",
        "#     mse1 = mean_squared_error(pred1, test_y, squared=False) \n",
        "\n",
        "# print(f\"MSE:{np.mean(model1_error)}\")"
      ],
      "metadata": {
        "id": "VvDH2cn5Gxr-"
      },
      "execution_count": 24,
      "outputs": []
    },
    {
      "cell_type": "code",
      "source": [
        "# model1 = Sequential()\n",
        "\n",
        "# input_shape=(256,256, 1)\n",
        "\n",
        "# model1.add(Conv2D(32, (3, 3), input_shape=input_shape))\n",
        "# model1.add(Activation('relu'))\n",
        "# model1.add(MaxPooling2D(pool_size=(2, 2)))\n",
        "\n",
        "# model1.add(Conv2D(32, (3, 3)))\n",
        "# model1.add(Activation('relu'))\n",
        "# model1.add(MaxPooling2D(pool_size=(2, 2)))\n",
        "\n",
        "# model1.add(Conv2D(64, (3, 3)))\n",
        "# model1.add(Activation('relu'))\n",
        "# model1.add(MaxPooling2D(pool_size=(2, 2)))\n",
        "\n",
        "# model1.add(Flatten())\n",
        "# model1.add(Dense(64))\n",
        "# model1.add(Activation('relu'))\n",
        "# model1.add(Dropout(0.5))\n",
        "# model1.add(Dense(1))\n",
        "\n",
        "# sgd = keras.optimizers.SGD(learning_rate=0.001)    \n",
        "# checkpoint_cb = keras.callbacks.ModelCheckpoint(\"/content/drive/MyDrive/kream_data/model/img_cnn.h5\")\n",
        "# model1.compile(optimizer= sgd, loss=tf.keras.losses.Huber(delta=5))\n",
        "# model1.fit(pixel, df['price_resell'], epochs=120, callbacks=[checkpoint_cb])\n",
        "\n",
        "# pred1 = model1.predict(pixel)\n",
        "# mse1 = mean_squared_error(pred1, df['price_resell'], squared=False) \n",
        "\n",
        "# mse1"
      ],
      "metadata": {
        "id": "Ea38UzOUtGwj"
      },
      "execution_count": 25,
      "outputs": []
    },
    {
      "cell_type": "code",
      "source": [
        "model = keras.models.load_model(\"/content/drive/MyDrive/kream_data/model/img_cnn.h5\") \n",
        "model.evaluate(pixel, df['price_resell'])"
      ],
      "metadata": {
        "colab": {
          "base_uri": "https://localhost:8080/"
        },
        "id": "lCuR5yu7na7Q",
        "outputId": "a8d2ec01-3fed-4d9c-ee7c-58c9190640e6"
      },
      "execution_count": 26,
      "outputs": [
        {
          "output_type": "stream",
          "name": "stdout",
          "text": [
            "191/191 [==============================] - 9s 14ms/step - loss: 30.8932\n"
          ]
        },
        {
          "output_type": "execute_result",
          "data": {
            "text/plain": [
              "30.8931884765625"
            ]
          },
          "metadata": {},
          "execution_count": 26
        }
      ]
    },
    {
      "cell_type": "code",
      "source": [],
      "metadata": {
        "id": "mbpkEschmpDo"
      },
      "execution_count": 26,
      "outputs": []
    }
  ]
}